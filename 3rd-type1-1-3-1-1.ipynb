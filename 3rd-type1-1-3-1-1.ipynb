{
 "cells": [
  {
   "cell_type": "markdown",
   "id": "fd9d9a24",
   "metadata": {
    "papermill": {
     "duration": 0.003359,
     "end_time": "2022-12-01T11:16:53.539465",
     "exception": false,
     "start_time": "2022-12-01T11:16:53.536106",
     "status": "completed"
    },
    "tags": []
   },
   "source": [
    "### 풀이 영상: https://youtu.be/QpNufh_ZV7A"
   ]
  },
  {
   "cell_type": "markdown",
   "id": "14a77a29",
   "metadata": {
    "papermill": {
     "duration": 0.002093,
     "end_time": "2022-12-01T11:16:53.544065",
     "exception": false,
     "start_time": "2022-12-01T11:16:53.541972",
     "status": "completed"
    },
    "tags": []
   },
   "source": [
    "# Q. 2022년 데이터 중 2022년 중앙값보다 큰 값의 데이터 수\n",
    "- data: t1-data2.csv"
   ]
  },
  {
   "cell_type": "code",
   "execution_count": 1,
   "id": "cb035d60",
   "metadata": {
    "_cell_guid": "b1076dfc-b9ad-4769-8c92-a6c4dae69d19",
    "_uuid": "8f2839f25d086af736a60e9eeb907d3b93b6e0e5",
    "execution": {
     "iopub.execute_input": "2022-12-01T11:16:53.551301Z",
     "iopub.status.busy": "2022-12-01T11:16:53.550364Z",
     "iopub.status.idle": "2022-12-01T11:16:53.606850Z",
     "shell.execute_reply": "2022-12-01T11:16:53.605867Z"
    },
    "papermill": {
     "duration": 0.062745,
     "end_time": "2022-12-01T11:16:53.609084",
     "exception": false,
     "start_time": "2022-12-01T11:16:53.546339",
     "status": "completed"
    },
    "tags": []
   },
   "outputs": [
    {
     "data": {
      "text/html": [
       "<div>\n",
       "<style scoped>\n",
       "    .dataframe tbody tr th:only-of-type {\n",
       "        vertical-align: middle;\n",
       "    }\n",
       "\n",
       "    .dataframe tbody tr th {\n",
       "        vertical-align: top;\n",
       "    }\n",
       "\n",
       "    .dataframe thead th {\n",
       "        text-align: right;\n",
       "    }\n",
       "</style>\n",
       "<table border=\"1\" class=\"dataframe\">\n",
       "  <thead>\n",
       "    <tr style=\"text-align: right;\">\n",
       "      <th></th>\n",
       "      <th>0</th>\n",
       "      <th>1</th>\n",
       "      <th>2</th>\n",
       "      <th>3</th>\n",
       "      <th>4</th>\n",
       "      <th>5</th>\n",
       "      <th>6</th>\n",
       "      <th>7</th>\n",
       "      <th>8</th>\n",
       "      <th>9</th>\n",
       "      <th>...</th>\n",
       "      <th>90</th>\n",
       "      <th>91</th>\n",
       "      <th>92</th>\n",
       "      <th>93</th>\n",
       "      <th>94</th>\n",
       "      <th>95</th>\n",
       "      <th>96</th>\n",
       "      <th>97</th>\n",
       "      <th>98</th>\n",
       "      <th>99</th>\n",
       "    </tr>\n",
       "    <tr>\n",
       "      <th>year</th>\n",
       "      <th></th>\n",
       "      <th></th>\n",
       "      <th></th>\n",
       "      <th></th>\n",
       "      <th></th>\n",
       "      <th></th>\n",
       "      <th></th>\n",
       "      <th></th>\n",
       "      <th></th>\n",
       "      <th></th>\n",
       "      <th></th>\n",
       "      <th></th>\n",
       "      <th></th>\n",
       "      <th></th>\n",
       "      <th></th>\n",
       "      <th></th>\n",
       "      <th></th>\n",
       "      <th></th>\n",
       "      <th></th>\n",
       "      <th></th>\n",
       "      <th></th>\n",
       "    </tr>\n",
       "  </thead>\n",
       "  <tbody>\n",
       "    <tr>\n",
       "      <th>2022년</th>\n",
       "      <td>69</td>\n",
       "      <td>37</td>\n",
       "      <td>57</td>\n",
       "      <td>70</td>\n",
       "      <td>40</td>\n",
       "      <td>75</td>\n",
       "      <td>8</td>\n",
       "      <td>67</td>\n",
       "      <td>89</td>\n",
       "      <td>91</td>\n",
       "      <td>...</td>\n",
       "      <td>79</td>\n",
       "      <td>56</td>\n",
       "      <td>98</td>\n",
       "      <td>21</td>\n",
       "      <td>14</td>\n",
       "      <td>25</td>\n",
       "      <td>17</td>\n",
       "      <td>10</td>\n",
       "      <td>60</td>\n",
       "      <td>17</td>\n",
       "    </tr>\n",
       "    <tr>\n",
       "      <th>2023년</th>\n",
       "      <td>52</td>\n",
       "      <td>13</td>\n",
       "      <td>22</td>\n",
       "      <td>70</td>\n",
       "      <td>92</td>\n",
       "      <td>80</td>\n",
       "      <td>8</td>\n",
       "      <td>56</td>\n",
       "      <td>17</td>\n",
       "      <td>96</td>\n",
       "      <td>...</td>\n",
       "      <td>62</td>\n",
       "      <td>47</td>\n",
       "      <td>59</td>\n",
       "      <td>6</td>\n",
       "      <td>25</td>\n",
       "      <td>96</td>\n",
       "      <td>69</td>\n",
       "      <td>87</td>\n",
       "      <td>28</td>\n",
       "      <td>64</td>\n",
       "    </tr>\n",
       "    <tr>\n",
       "      <th>2024년</th>\n",
       "      <td>88</td>\n",
       "      <td>44</td>\n",
       "      <td>32</td>\n",
       "      <td>55</td>\n",
       "      <td>64</td>\n",
       "      <td>8</td>\n",
       "      <td>4</td>\n",
       "      <td>2</td>\n",
       "      <td>62</td>\n",
       "      <td>44</td>\n",
       "      <td>...</td>\n",
       "      <td>98</td>\n",
       "      <td>95</td>\n",
       "      <td>40</td>\n",
       "      <td>59</td>\n",
       "      <td>69</td>\n",
       "      <td>71</td>\n",
       "      <td>86</td>\n",
       "      <td>53</td>\n",
       "      <td>93</td>\n",
       "      <td>64</td>\n",
       "    </tr>\n",
       "    <tr>\n",
       "      <th>2025년</th>\n",
       "      <td>80</td>\n",
       "      <td>97</td>\n",
       "      <td>15</td>\n",
       "      <td>4</td>\n",
       "      <td>74</td>\n",
       "      <td>12</td>\n",
       "      <td>100</td>\n",
       "      <td>60</td>\n",
       "      <td>47</td>\n",
       "      <td>47</td>\n",
       "      <td>...</td>\n",
       "      <td>30</td>\n",
       "      <td>11</td>\n",
       "      <td>2</td>\n",
       "      <td>54</td>\n",
       "      <td>9</td>\n",
       "      <td>52</td>\n",
       "      <td>51</td>\n",
       "      <td>81</td>\n",
       "      <td>78</td>\n",
       "      <td>22</td>\n",
       "    </tr>\n",
       "    <tr>\n",
       "      <th>2026년</th>\n",
       "      <td>64</td>\n",
       "      <td>66</td>\n",
       "      <td>62</td>\n",
       "      <td>56</td>\n",
       "      <td>67</td>\n",
       "      <td>80</td>\n",
       "      <td>90</td>\n",
       "      <td>24</td>\n",
       "      <td>58</td>\n",
       "      <td>78</td>\n",
       "      <td>...</td>\n",
       "      <td>93</td>\n",
       "      <td>15</td>\n",
       "      <td>88</td>\n",
       "      <td>67</td>\n",
       "      <td>7</td>\n",
       "      <td>82</td>\n",
       "      <td>5</td>\n",
       "      <td>61</td>\n",
       "      <td>15</td>\n",
       "      <td>63</td>\n",
       "    </tr>\n",
       "  </tbody>\n",
       "</table>\n",
       "<p>5 rows × 100 columns</p>\n",
       "</div>"
      ],
      "text/plain": [
       "        0   1   2   3   4   5    6   7   8   9  ...  90  91  92  93  94  95  \\\n",
       "year                                            ...                           \n",
       "2022년  69  37  57  70  40  75    8  67  89  91  ...  79  56  98  21  14  25   \n",
       "2023년  52  13  22  70  92  80    8  56  17  96  ...  62  47  59   6  25  96   \n",
       "2024년  88  44  32  55  64   8    4   2  62  44  ...  98  95  40  59  69  71   \n",
       "2025년  80  97  15   4  74  12  100  60  47  47  ...  30  11   2  54   9  52   \n",
       "2026년  64  66  62  56  67  80   90  24  58  78  ...  93  15  88  67   7  82   \n",
       "\n",
       "       96  97  98  99  \n",
       "year                   \n",
       "2022년  17  10  60  17  \n",
       "2023년  69  87  28  64  \n",
       "2024년  86  53  93  64  \n",
       "2025년  51  81  78  22  \n",
       "2026년   5  61  15  63  \n",
       "\n",
       "[5 rows x 100 columns]"
      ]
     },
     "execution_count": 1,
     "metadata": {},
     "output_type": "execute_result"
    }
   ],
   "source": [
    "import pandas as pd\n",
    "df = pd.read_csv(\"../input/big-data-analytics-certification/t1-data2.csv\", index_col='year')\n",
    "df"
   ]
  },
  {
   "cell_type": "markdown",
   "id": "d7de2bc8",
   "metadata": {
    "papermill": {
     "duration": 0.002375,
     "end_time": "2022-12-01T11:16:53.614344",
     "exception": false,
     "start_time": "2022-12-01T11:16:53.611969",
     "status": "completed"
    },
    "tags": []
   },
   "source": [
    "# Your Code"
   ]
  },
  {
   "cell_type": "code",
   "execution_count": 2,
   "id": "73f5055d",
   "metadata": {
    "execution": {
     "iopub.execute_input": "2022-12-01T11:16:53.621308Z",
     "iopub.status.busy": "2022-12-01T11:16:53.620376Z",
     "iopub.status.idle": "2022-12-01T11:16:53.637375Z",
     "shell.execute_reply": "2022-12-01T11:16:53.636422Z"
    },
    "papermill": {
     "duration": 0.024281,
     "end_time": "2022-12-01T11:16:53.641202",
     "exception": false,
     "start_time": "2022-12-01T11:16:53.616921",
     "status": "completed"
    },
    "tags": []
   },
   "outputs": [
    {
     "name": "stdout",
     "output_type": "stream",
     "text": [
      "50\n"
     ]
    }
   ],
   "source": [
    "import pandas as pd\n",
    "\n",
    "df = pd.read_csv(\"../input/big-data-analytics-certification/t1-data2.csv\", index_col='year')\n",
    "df=df.T # df.T를 통해 index와 columns의 위치를 바꿔 '2022년' 컬럼 기준 중앙값을 구하고자 함\n",
    "print((df['2022년']>df['2022년'].median()).sum())"
   ]
  },
  {
   "cell_type": "markdown",
   "id": "773a14cb",
   "metadata": {
    "papermill": {
     "duration": 0.002342,
     "end_time": "2022-12-01T11:16:53.646275",
     "exception": false,
     "start_time": "2022-12-01T11:16:53.643933",
     "status": "completed"
    },
    "tags": []
   },
   "source": [
    "# solution"
   ]
  },
  {
   "cell_type": "code",
   "execution_count": 3,
   "id": "ab476567",
   "metadata": {
    "execution": {
     "iopub.execute_input": "2022-12-01T11:16:53.652958Z",
     "iopub.status.busy": "2022-12-01T11:16:53.652539Z",
     "iopub.status.idle": "2022-12-01T11:16:53.666182Z",
     "shell.execute_reply": "2022-12-01T11:16:53.664951Z"
    },
    "papermill": {
     "duration": 0.019527,
     "end_time": "2022-12-01T11:16:53.668323",
     "exception": false,
     "start_time": "2022-12-01T11:16:53.648796",
     "status": "completed"
    },
    "tags": []
   },
   "outputs": [
    {
     "name": "stdout",
     "output_type": "stream",
     "text": [
      "50\n"
     ]
    }
   ],
   "source": [
    "# solution\n",
    "import pandas as pd\n",
    "df = pd.read_csv(\"../input/big-data-analytics-certification/t1-data2.csv\", index_col='year')\n",
    "m = df.loc[\"2022년\"].median()\n",
    "print(sum(df.loc[\"2022년\",:] > m))"
   ]
  }
 ],
 "metadata": {
  "kernelspec": {
   "display_name": "Python 3",
   "language": "python",
   "name": "python3"
  },
  "language_info": {
   "codemirror_mode": {
    "name": "ipython",
    "version": 3
   },
   "file_extension": ".py",
   "mimetype": "text/x-python",
   "name": "python",
   "nbconvert_exporter": "python",
   "pygments_lexer": "ipython3",
   "version": "3.7.12"
  },
  "papermill": {
   "default_parameters": {},
   "duration": 9.716667,
   "end_time": "2022-12-01T11:16:54.291466",
   "environment_variables": {},
   "exception": null,
   "input_path": "__notebook__.ipynb",
   "output_path": "__notebook__.ipynb",
   "parameters": {},
   "start_time": "2022-12-01T11:16:44.574799",
   "version": "2.3.4"
  }
 },
 "nbformat": 4,
 "nbformat_minor": 5
}
