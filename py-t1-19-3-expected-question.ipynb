{
 "cells": [
  {
   "cell_type": "markdown",
   "id": "e4ef841a",
   "metadata": {
    "papermill": {
     "duration": 0.013238,
     "end_time": "2022-11-18T11:06:41.470550",
     "exception": false,
     "start_time": "2022-11-18T11:06:41.457312",
     "status": "completed"
    },
    "tags": []
   },
   "source": [
    "### 주어진 데이터에서 2022년 월별 Sales 합계 중 가장 큰 금액과 \n",
    "### 2023년 월별 Sales 합계 중 가장 큰 금액의 차이를 절대값으로 구하시오. \n",
    "### 단 Events컬럼이 '1'인경우 80%의 Salse값만 반영함 \n",
    "### (최종값은 소수점 반올림 후 정수 출력)\n",
    "- 데이터셋 : basic2.csv\n",
    "- 오른쪽 상단 copy&edit 클릭 -> 예상문제 풀이 시작"
   ]
  },
  {
   "cell_type": "code",
   "execution_count": 1,
   "id": "bb313988",
   "metadata": {
    "execution": {
     "iopub.execute_input": "2022-11-18T11:06:41.507081Z",
     "iopub.status.busy": "2022-11-18T11:06:41.505603Z",
     "iopub.status.idle": "2022-11-18T11:06:41.552669Z",
     "shell.execute_reply": "2022-11-18T11:06:41.553278Z",
     "shell.execute_reply.started": "2022-11-18T11:06:19.907517Z"
    },
    "papermill": {
     "duration": 0.068119,
     "end_time": "2022-11-18T11:06:41.553585",
     "exception": false,
     "start_time": "2022-11-18T11:06:41.485466",
     "status": "completed"
    },
    "tags": []
   },
   "outputs": [
    {
     "data": {
      "text/html": [
       "<div>\n",
       "<style scoped>\n",
       "    .dataframe tbody tr th:only-of-type {\n",
       "        vertical-align: middle;\n",
       "    }\n",
       "\n",
       "    .dataframe tbody tr th {\n",
       "        vertical-align: top;\n",
       "    }\n",
       "\n",
       "    .dataframe thead th {\n",
       "        text-align: right;\n",
       "    }\n",
       "</style>\n",
       "<table border=\"1\" class=\"dataframe\">\n",
       "  <thead>\n",
       "    <tr style=\"text-align: right;\">\n",
       "      <th></th>\n",
       "      <th>Date</th>\n",
       "      <th>Sales</th>\n",
       "      <th>PV</th>\n",
       "      <th>UV</th>\n",
       "      <th>Events</th>\n",
       "    </tr>\n",
       "  </thead>\n",
       "  <tbody>\n",
       "    <tr>\n",
       "      <th>0</th>\n",
       "      <td>2022-01-01</td>\n",
       "      <td>22711525</td>\n",
       "      <td>397349</td>\n",
       "      <td>4421.0</td>\n",
       "      <td>1</td>\n",
       "    </tr>\n",
       "    <tr>\n",
       "      <th>1</th>\n",
       "      <td>2022-01-02</td>\n",
       "      <td>36779</td>\n",
       "      <td>3969</td>\n",
       "      <td>2289.0</td>\n",
       "      <td>0</td>\n",
       "    </tr>\n",
       "    <tr>\n",
       "      <th>2</th>\n",
       "      <td>2022-01-03</td>\n",
       "      <td>13943875</td>\n",
       "      <td>373890</td>\n",
       "      <td>NaN</td>\n",
       "      <td>1</td>\n",
       "    </tr>\n",
       "    <tr>\n",
       "      <th>3</th>\n",
       "      <td>2022-01-04</td>\n",
       "      <td>8088593</td>\n",
       "      <td>142054</td>\n",
       "      <td>2157.0</td>\n",
       "      <td>0</td>\n",
       "    </tr>\n",
       "    <tr>\n",
       "      <th>4</th>\n",
       "      <td>2022-01-05</td>\n",
       "      <td>2395374</td>\n",
       "      <td>190684</td>\n",
       "      <td>NaN</td>\n",
       "      <td>0</td>\n",
       "    </tr>\n",
       "    <tr>\n",
       "      <th>...</th>\n",
       "      <td>...</td>\n",
       "      <td>...</td>\n",
       "      <td>...</td>\n",
       "      <td>...</td>\n",
       "      <td>...</td>\n",
       "    </tr>\n",
       "    <tr>\n",
       "      <th>725</th>\n",
       "      <td>2023-12-27</td>\n",
       "      <td>33846609</td>\n",
       "      <td>415067</td>\n",
       "      <td>7360.0</td>\n",
       "      <td>1</td>\n",
       "    </tr>\n",
       "    <tr>\n",
       "      <th>726</th>\n",
       "      <td>2023-12-28</td>\n",
       "      <td>3659566</td>\n",
       "      <td>208601</td>\n",
       "      <td>2262.0</td>\n",
       "      <td>1</td>\n",
       "    </tr>\n",
       "    <tr>\n",
       "      <th>727</th>\n",
       "      <td>2023-12-29</td>\n",
       "      <td>1164008</td>\n",
       "      <td>14309</td>\n",
       "      <td>193.0</td>\n",
       "      <td>0</td>\n",
       "    </tr>\n",
       "    <tr>\n",
       "      <th>728</th>\n",
       "      <td>2023-12-30</td>\n",
       "      <td>3977696</td>\n",
       "      <td>60935</td>\n",
       "      <td>NaN</td>\n",
       "      <td>0</td>\n",
       "    </tr>\n",
       "    <tr>\n",
       "      <th>729</th>\n",
       "      <td>2023-12-31</td>\n",
       "      <td>3719764</td>\n",
       "      <td>60963</td>\n",
       "      <td>1507.0</td>\n",
       "      <td>0</td>\n",
       "    </tr>\n",
       "  </tbody>\n",
       "</table>\n",
       "<p>730 rows × 5 columns</p>\n",
       "</div>"
      ],
      "text/plain": [
       "           Date     Sales      PV      UV  Events\n",
       "0    2022-01-01  22711525  397349  4421.0       1\n",
       "1    2022-01-02     36779    3969  2289.0       0\n",
       "2    2022-01-03  13943875  373890     NaN       1\n",
       "3    2022-01-04   8088593  142054  2157.0       0\n",
       "4    2022-01-05   2395374  190684     NaN       0\n",
       "..          ...       ...     ...     ...     ...\n",
       "725  2023-12-27  33846609  415067  7360.0       1\n",
       "726  2023-12-28   3659566  208601  2262.0       1\n",
       "727  2023-12-29   1164008   14309   193.0       0\n",
       "728  2023-12-30   3977696   60935     NaN       0\n",
       "729  2023-12-31   3719764   60963  1507.0       0\n",
       "\n",
       "[730 rows x 5 columns]"
      ]
     },
     "execution_count": 1,
     "metadata": {},
     "output_type": "execute_result"
    }
   ],
   "source": [
    "import pandas as pd\n",
    "\n",
    "df=pd.read_csv('../input/bigdatacertificationkr/basic2.csv')\n",
    "df"
   ]
  },
  {
   "cell_type": "code",
   "execution_count": 2,
   "id": "2eae4bb4",
   "metadata": {
    "execution": {
     "iopub.execute_input": "2022-11-18T11:06:41.591956Z",
     "iopub.status.busy": "2022-11-18T11:06:41.590848Z",
     "iopub.status.idle": "2022-11-18T11:06:41.608328Z",
     "shell.execute_reply": "2022-11-18T11:06:41.607644Z",
     "shell.execute_reply.started": "2022-11-18T11:06:19.948019Z"
    },
    "papermill": {
     "duration": 0.041656,
     "end_time": "2022-11-18T11:06:41.608476",
     "exception": false,
     "start_time": "2022-11-18T11:06:41.566820",
     "status": "completed"
    },
    "tags": []
   },
   "outputs": [
    {
     "data": {
      "text/html": [
       "<div>\n",
       "<style scoped>\n",
       "    .dataframe tbody tr th:only-of-type {\n",
       "        vertical-align: middle;\n",
       "    }\n",
       "\n",
       "    .dataframe tbody tr th {\n",
       "        vertical-align: top;\n",
       "    }\n",
       "\n",
       "    .dataframe thead th {\n",
       "        text-align: right;\n",
       "    }\n",
       "</style>\n",
       "<table border=\"1\" class=\"dataframe\">\n",
       "  <thead>\n",
       "    <tr style=\"text-align: right;\">\n",
       "      <th></th>\n",
       "      <th>Date</th>\n",
       "      <th>Sales</th>\n",
       "      <th>PV</th>\n",
       "      <th>UV</th>\n",
       "      <th>Events</th>\n",
       "      <th>year</th>\n",
       "      <th>month</th>\n",
       "      <th>day</th>\n",
       "    </tr>\n",
       "  </thead>\n",
       "  <tbody>\n",
       "    <tr>\n",
       "      <th>0</th>\n",
       "      <td>2022-01-01</td>\n",
       "      <td>22711525</td>\n",
       "      <td>397349</td>\n",
       "      <td>4421.0</td>\n",
       "      <td>1</td>\n",
       "      <td>2022</td>\n",
       "      <td>1</td>\n",
       "      <td>1</td>\n",
       "    </tr>\n",
       "    <tr>\n",
       "      <th>1</th>\n",
       "      <td>2022-01-02</td>\n",
       "      <td>36779</td>\n",
       "      <td>3969</td>\n",
       "      <td>2289.0</td>\n",
       "      <td>0</td>\n",
       "      <td>2022</td>\n",
       "      <td>1</td>\n",
       "      <td>2</td>\n",
       "    </tr>\n",
       "    <tr>\n",
       "      <th>2</th>\n",
       "      <td>2022-01-03</td>\n",
       "      <td>13943875</td>\n",
       "      <td>373890</td>\n",
       "      <td>NaN</td>\n",
       "      <td>1</td>\n",
       "      <td>2022</td>\n",
       "      <td>1</td>\n",
       "      <td>3</td>\n",
       "    </tr>\n",
       "    <tr>\n",
       "      <th>3</th>\n",
       "      <td>2022-01-04</td>\n",
       "      <td>8088593</td>\n",
       "      <td>142054</td>\n",
       "      <td>2157.0</td>\n",
       "      <td>0</td>\n",
       "      <td>2022</td>\n",
       "      <td>1</td>\n",
       "      <td>4</td>\n",
       "    </tr>\n",
       "    <tr>\n",
       "      <th>4</th>\n",
       "      <td>2022-01-05</td>\n",
       "      <td>2395374</td>\n",
       "      <td>190684</td>\n",
       "      <td>NaN</td>\n",
       "      <td>0</td>\n",
       "      <td>2022</td>\n",
       "      <td>1</td>\n",
       "      <td>5</td>\n",
       "    </tr>\n",
       "  </tbody>\n",
       "</table>\n",
       "</div>"
      ],
      "text/plain": [
       "        Date     Sales      PV      UV  Events  year  month  day\n",
       "0 2022-01-01  22711525  397349  4421.0       1  2022      1    1\n",
       "1 2022-01-02     36779    3969  2289.0       0  2022      1    2\n",
       "2 2022-01-03  13943875  373890     NaN       1  2022      1    3\n",
       "3 2022-01-04   8088593  142054  2157.0       0  2022      1    4\n",
       "4 2022-01-05   2395374  190684     NaN       0  2022      1    5"
      ]
     },
     "execution_count": 2,
     "metadata": {},
     "output_type": "execute_result"
    }
   ],
   "source": [
    "# 'Date' 컬럼에서 연/월/일 추출\n",
    "df['Date']=pd.to_datetime(df['Date'])\n",
    "\n",
    "df['year']=df['Date'].dt.year\n",
    "df['month']=df['Date'].dt.month\n",
    "df['day']=df['Date'].dt.day\n",
    "\n",
    "df.head()"
   ]
  },
  {
   "cell_type": "code",
   "execution_count": 3,
   "id": "525c41e1",
   "metadata": {
    "execution": {
     "iopub.execute_input": "2022-11-18T11:06:41.640899Z",
     "iopub.status.busy": "2022-11-18T11:06:41.639903Z",
     "iopub.status.idle": "2022-11-18T11:06:41.705105Z",
     "shell.execute_reply": "2022-11-18T11:06:41.705675Z",
     "shell.execute_reply.started": "2022-11-18T11:06:19.964927Z"
    },
    "papermill": {
     "duration": 0.08461,
     "end_time": "2022-11-18T11:06:41.705865",
     "exception": false,
     "start_time": "2022-11-18T11:06:41.621255",
     "status": "completed"
    },
    "tags": []
   },
   "outputs": [],
   "source": [
    "# 'Events'==1인 경우 'Sales' 80%만 적용\n",
    "def sales80(x):\n",
    "    if x['Events'] == 1:\n",
    "        x['Sales'] = x['Sales']*0.8\n",
    "    else:\n",
    "        x['Sales'] = x['Sales']\n",
    "    return x\n",
    "\n",
    "df = df.apply(lambda x: sales80(x), axis=1) # axis=1: 열"
   ]
  },
  {
   "cell_type": "code",
   "execution_count": 4,
   "id": "7a031e80",
   "metadata": {
    "execution": {
     "iopub.execute_input": "2022-11-18T11:06:41.736509Z",
     "iopub.status.busy": "2022-11-18T11:06:41.735495Z",
     "iopub.status.idle": "2022-11-18T11:06:41.749883Z",
     "shell.execute_reply": "2022-11-18T11:06:41.749102Z",
     "shell.execute_reply.started": "2022-11-18T11:06:20.034979Z"
    },
    "papermill": {
     "duration": 0.030223,
     "end_time": "2022-11-18T11:06:41.750030",
     "exception": false,
     "start_time": "2022-11-18T11:06:41.719807",
     "status": "completed"
    },
    "tags": []
   },
   "outputs": [],
   "source": [
    "# 2022년/2023년 월별 'Sales' 합계의 최댓값\n",
    "sales_2022=df[df['year']==2022].groupby('month')['Sales'].sum().max()\n",
    "sales_2023=df[df['year']==2023].groupby('month')['Sales'].sum().max()"
   ]
  },
  {
   "cell_type": "code",
   "execution_count": 5,
   "id": "9c395bbf",
   "metadata": {
    "execution": {
     "iopub.execute_input": "2022-11-18T11:06:41.780070Z",
     "iopub.status.busy": "2022-11-18T11:06:41.779097Z",
     "iopub.status.idle": "2022-11-18T11:06:41.785587Z",
     "shell.execute_reply": "2022-11-18T11:06:41.784899Z",
     "shell.execute_reply.started": "2022-11-18T11:06:20.048499Z"
    },
    "papermill": {
     "duration": 0.022575,
     "end_time": "2022-11-18T11:06:41.785748",
     "exception": false,
     "start_time": "2022-11-18T11:06:41.763173",
     "status": "completed"
    },
    "tags": []
   },
   "outputs": [
    {
     "data": {
      "text/plain": [
       "42473436"
      ]
     },
     "execution_count": 5,
     "metadata": {},
     "output_type": "execute_result"
    }
   ],
   "source": [
    "# 2022년 최댓값과 2023년 최댓값의 차이\n",
    "int(round(abs(sales_2022-sales_2023),0))"
   ]
  },
  {
   "cell_type": "code",
   "execution_count": null,
   "id": "8820a8d5",
   "metadata": {
    "papermill": {
     "duration": 0.012921,
     "end_time": "2022-11-18T11:06:41.811968",
     "exception": false,
     "start_time": "2022-11-18T11:06:41.799047",
     "status": "completed"
    },
    "tags": []
   },
   "outputs": [],
   "source": []
  },
  {
   "cell_type": "code",
   "execution_count": 6,
   "id": "516a60b7",
   "metadata": {
    "_cell_guid": "b1076dfc-b9ad-4769-8c92-a6c4dae69d19",
    "_uuid": "8f2839f25d086af736a60e9eeb907d3b93b6e0e5",
    "execution": {
     "iopub.execute_input": "2022-11-18T11:06:41.844007Z",
     "iopub.status.busy": "2022-11-18T11:06:41.843019Z",
     "iopub.status.idle": "2022-11-18T11:06:41.845973Z",
     "shell.execute_reply": "2022-11-18T11:06:41.845464Z",
     "shell.execute_reply.started": "2022-11-18T11:06:20.064203Z"
    },
    "papermill": {
     "duration": 0.020226,
     "end_time": "2022-11-18T11:06:41.846129",
     "exception": false,
     "start_time": "2022-11-18T11:06:41.825903",
     "status": "completed"
    },
    "tags": []
   },
   "outputs": [],
   "source": [
    "# 라이브러리 불러오기\n",
    "import pandas as pd"
   ]
  },
  {
   "cell_type": "code",
   "execution_count": 7,
   "id": "61c01813",
   "metadata": {
    "execution": {
     "iopub.execute_input": "2022-11-18T11:06:41.876020Z",
     "iopub.status.busy": "2022-11-18T11:06:41.875345Z",
     "iopub.status.idle": "2022-11-18T11:06:41.885000Z",
     "shell.execute_reply": "2022-11-18T11:06:41.885615Z",
     "shell.execute_reply.started": "2022-11-18T11:06:20.079033Z"
    },
    "papermill": {
     "duration": 0.026139,
     "end_time": "2022-11-18T11:06:41.885797",
     "exception": false,
     "start_time": "2022-11-18T11:06:41.859658",
     "status": "completed"
    },
    "tags": []
   },
   "outputs": [],
   "source": [
    "# 데이터 불러오기 (datatime컬럼 지정)\n",
    "df = pd.read_csv(\"../input/bigdatacertificationkr/basic2.csv\", \n",
    "                 parse_dates=['Date'])"
   ]
  },
  {
   "cell_type": "code",
   "execution_count": 8,
   "id": "1054fd08",
   "metadata": {
    "execution": {
     "iopub.execute_input": "2022-11-18T11:06:41.915598Z",
     "iopub.status.busy": "2022-11-18T11:06:41.914918Z",
     "iopub.status.idle": "2022-11-18T11:06:41.925822Z",
     "shell.execute_reply": "2022-11-18T11:06:41.926373Z",
     "shell.execute_reply.started": "2022-11-18T11:06:20.098782Z"
    },
    "papermill": {
     "duration": 0.027576,
     "end_time": "2022-11-18T11:06:41.926553",
     "exception": false,
     "start_time": "2022-11-18T11:06:41.898977",
     "status": "completed"
    },
    "tags": []
   },
   "outputs": [
    {
     "data": {
      "text/html": [
       "<div>\n",
       "<style scoped>\n",
       "    .dataframe tbody tr th:only-of-type {\n",
       "        vertical-align: middle;\n",
       "    }\n",
       "\n",
       "    .dataframe tbody tr th {\n",
       "        vertical-align: top;\n",
       "    }\n",
       "\n",
       "    .dataframe thead th {\n",
       "        text-align: right;\n",
       "    }\n",
       "</style>\n",
       "<table border=\"1\" class=\"dataframe\">\n",
       "  <thead>\n",
       "    <tr style=\"text-align: right;\">\n",
       "      <th></th>\n",
       "      <th>Date</th>\n",
       "      <th>Sales</th>\n",
       "      <th>PV</th>\n",
       "      <th>UV</th>\n",
       "      <th>Events</th>\n",
       "    </tr>\n",
       "  </thead>\n",
       "  <tbody>\n",
       "    <tr>\n",
       "      <th>0</th>\n",
       "      <td>2022-01-01</td>\n",
       "      <td>22711525</td>\n",
       "      <td>397349</td>\n",
       "      <td>4421.0</td>\n",
       "      <td>1</td>\n",
       "    </tr>\n",
       "    <tr>\n",
       "      <th>1</th>\n",
       "      <td>2022-01-02</td>\n",
       "      <td>36779</td>\n",
       "      <td>3969</td>\n",
       "      <td>2289.0</td>\n",
       "      <td>0</td>\n",
       "    </tr>\n",
       "    <tr>\n",
       "      <th>2</th>\n",
       "      <td>2022-01-03</td>\n",
       "      <td>13943875</td>\n",
       "      <td>373890</td>\n",
       "      <td>NaN</td>\n",
       "      <td>1</td>\n",
       "    </tr>\n",
       "    <tr>\n",
       "      <th>3</th>\n",
       "      <td>2022-01-04</td>\n",
       "      <td>8088593</td>\n",
       "      <td>142054</td>\n",
       "      <td>2157.0</td>\n",
       "      <td>0</td>\n",
       "    </tr>\n",
       "    <tr>\n",
       "      <th>4</th>\n",
       "      <td>2022-01-05</td>\n",
       "      <td>2395374</td>\n",
       "      <td>190684</td>\n",
       "      <td>NaN</td>\n",
       "      <td>0</td>\n",
       "    </tr>\n",
       "  </tbody>\n",
       "</table>\n",
       "</div>"
      ],
      "text/plain": [
       "        Date     Sales      PV      UV  Events\n",
       "0 2022-01-01  22711525  397349  4421.0       1\n",
       "1 2022-01-02     36779    3969  2289.0       0\n",
       "2 2022-01-03  13943875  373890     NaN       1\n",
       "3 2022-01-04   8088593  142054  2157.0       0\n",
       "4 2022-01-05   2395374  190684     NaN       0"
      ]
     },
     "execution_count": 8,
     "metadata": {},
     "output_type": "execute_result"
    }
   ],
   "source": [
    "df.head()"
   ]
  },
  {
   "cell_type": "code",
   "execution_count": 9,
   "id": "224bdf9d",
   "metadata": {
    "execution": {
     "iopub.execute_input": "2022-11-18T11:06:41.957479Z",
     "iopub.status.busy": "2022-11-18T11:06:41.956530Z",
     "iopub.status.idle": "2022-11-18T11:06:41.964697Z",
     "shell.execute_reply": "2022-11-18T11:06:41.965196Z",
     "shell.execute_reply.started": "2022-11-18T11:06:20.119301Z"
    },
    "papermill": {
     "duration": 0.025057,
     "end_time": "2022-11-18T11:06:41.965386",
     "exception": false,
     "start_time": "2022-11-18T11:06:41.940329",
     "status": "completed"
    },
    "tags": []
   },
   "outputs": [],
   "source": [
    "# 날짜 컬럼 생성\n",
    "df['year'] = df['Date'].dt.year\n",
    "df['month'] = df['Date'].dt.month\n",
    "df['day'] = df['Date'].dt.day\n",
    "df['dayofweek'] = df['Date'].dt.dayofweek"
   ]
  },
  {
   "cell_type": "code",
   "execution_count": 10,
   "id": "d77f598b",
   "metadata": {
    "execution": {
     "iopub.execute_input": "2022-11-18T11:06:41.996704Z",
     "iopub.status.busy": "2022-11-18T11:06:41.995751Z",
     "iopub.status.idle": "2022-11-18T11:06:42.482864Z",
     "shell.execute_reply": "2022-11-18T11:06:42.482356Z",
     "shell.execute_reply.started": "2022-11-18T11:06:20.130049Z"
    },
    "papermill": {
     "duration": 0.503581,
     "end_time": "2022-11-18T11:06:42.483010",
     "exception": false,
     "start_time": "2022-11-18T11:06:41.979429",
     "status": "completed"
    },
    "tags": []
   },
   "outputs": [
    {
     "data": {
      "text/html": [
       "<div>\n",
       "<style scoped>\n",
       "    .dataframe tbody tr th:only-of-type {\n",
       "        vertical-align: middle;\n",
       "    }\n",
       "\n",
       "    .dataframe tbody tr th {\n",
       "        vertical-align: top;\n",
       "    }\n",
       "\n",
       "    .dataframe thead th {\n",
       "        text-align: right;\n",
       "    }\n",
       "</style>\n",
       "<table border=\"1\" class=\"dataframe\">\n",
       "  <thead>\n",
       "    <tr style=\"text-align: right;\">\n",
       "      <th></th>\n",
       "      <th>Date</th>\n",
       "      <th>Sales</th>\n",
       "      <th>PV</th>\n",
       "      <th>UV</th>\n",
       "      <th>Events</th>\n",
       "      <th>year</th>\n",
       "      <th>month</th>\n",
       "      <th>day</th>\n",
       "      <th>dayofweek</th>\n",
       "      <th>Sales2</th>\n",
       "    </tr>\n",
       "  </thead>\n",
       "  <tbody>\n",
       "    <tr>\n",
       "      <th>0</th>\n",
       "      <td>2022-01-01</td>\n",
       "      <td>22711525</td>\n",
       "      <td>397349</td>\n",
       "      <td>4421.0</td>\n",
       "      <td>1</td>\n",
       "      <td>2022</td>\n",
       "      <td>1</td>\n",
       "      <td>1</td>\n",
       "      <td>5</td>\n",
       "      <td>18169220.0</td>\n",
       "    </tr>\n",
       "    <tr>\n",
       "      <th>1</th>\n",
       "      <td>2022-01-02</td>\n",
       "      <td>36779</td>\n",
       "      <td>3969</td>\n",
       "      <td>2289.0</td>\n",
       "      <td>0</td>\n",
       "      <td>2022</td>\n",
       "      <td>1</td>\n",
       "      <td>2</td>\n",
       "      <td>6</td>\n",
       "      <td>36779.0</td>\n",
       "    </tr>\n",
       "    <tr>\n",
       "      <th>2</th>\n",
       "      <td>2022-01-03</td>\n",
       "      <td>13943875</td>\n",
       "      <td>373890</td>\n",
       "      <td>NaN</td>\n",
       "      <td>1</td>\n",
       "      <td>2022</td>\n",
       "      <td>1</td>\n",
       "      <td>3</td>\n",
       "      <td>0</td>\n",
       "      <td>11155100.0</td>\n",
       "    </tr>\n",
       "    <tr>\n",
       "      <th>3</th>\n",
       "      <td>2022-01-04</td>\n",
       "      <td>8088593</td>\n",
       "      <td>142054</td>\n",
       "      <td>2157.0</td>\n",
       "      <td>0</td>\n",
       "      <td>2022</td>\n",
       "      <td>1</td>\n",
       "      <td>4</td>\n",
       "      <td>1</td>\n",
       "      <td>8088593.0</td>\n",
       "    </tr>\n",
       "    <tr>\n",
       "      <th>4</th>\n",
       "      <td>2022-01-05</td>\n",
       "      <td>2395374</td>\n",
       "      <td>190684</td>\n",
       "      <td>NaN</td>\n",
       "      <td>0</td>\n",
       "      <td>2022</td>\n",
       "      <td>1</td>\n",
       "      <td>5</td>\n",
       "      <td>2</td>\n",
       "      <td>2395374.0</td>\n",
       "    </tr>\n",
       "  </tbody>\n",
       "</table>\n",
       "</div>"
      ],
      "text/plain": [
       "        Date     Sales      PV      UV  Events  year  month  day  dayofweek  \\\n",
       "0 2022-01-01  22711525  397349  4421.0       1  2022      1    1          5   \n",
       "1 2022-01-02     36779    3969  2289.0       0  2022      1    2          6   \n",
       "2 2022-01-03  13943875  373890     NaN       1  2022      1    3          0   \n",
       "3 2022-01-04   8088593  142054  2157.0       0  2022      1    4          1   \n",
       "4 2022-01-05   2395374  190684     NaN       0  2022      1    5          2   \n",
       "\n",
       "       Sales2  \n",
       "0  18169220.0  \n",
       "1     36779.0  \n",
       "2  11155100.0  \n",
       "3   8088593.0  \n",
       "4   2395374.0  "
      ]
     },
     "execution_count": 10,
     "metadata": {},
     "output_type": "execute_result"
    }
   ],
   "source": [
    "# 이벤트가 1인 sales값은 80%만 반영\n",
    "\n",
    "def event_sales(x):\n",
    "    if x['Events'] == 1:\n",
    "        x['Sales2'] = x['Sales']*0.8\n",
    "    else:\n",
    "        x['Sales2'] = x['Sales']\n",
    "    return x\n",
    "\n",
    "\n",
    "df = df.apply(lambda x: event_sales(x), axis=1) #1일 경우 row, 0일 경우 컬럼\n",
    "df.head()"
   ]
  },
  {
   "cell_type": "code",
   "execution_count": 11,
   "id": "7bbf6bd5",
   "metadata": {
    "execution": {
     "iopub.execute_input": "2022-11-18T11:06:42.517605Z",
     "iopub.status.busy": "2022-11-18T11:06:42.516793Z",
     "iopub.status.idle": "2022-11-18T11:06:42.524041Z",
     "shell.execute_reply": "2022-11-18T11:06:42.523394Z",
     "shell.execute_reply.started": "2022-11-18T11:06:20.539000Z"
    },
    "papermill": {
     "duration": 0.026866,
     "end_time": "2022-11-18T11:06:42.524199",
     "exception": false,
     "start_time": "2022-11-18T11:06:42.497333",
     "status": "completed"
    },
    "tags": []
   },
   "outputs": [
    {
     "data": {
      "text/plain": [
       "197145878.0"
      ]
     },
     "execution_count": 11,
     "metadata": {},
     "output_type": "execute_result"
    }
   ],
   "source": [
    "# 2022년 월별 합계 중 가장 큰 값\n",
    "cond = df['year'] == 2022\n",
    "df1 = df[cond]\n",
    "sale1 = df1.groupby('month')['Sales2'].sum().max()\n",
    "sale1"
   ]
  },
  {
   "cell_type": "code",
   "execution_count": 12,
   "id": "dd97cc61",
   "metadata": {
    "execution": {
     "iopub.execute_input": "2022-11-18T11:06:42.562455Z",
     "iopub.status.busy": "2022-11-18T11:06:42.561602Z",
     "iopub.status.idle": "2022-11-18T11:06:42.565287Z",
     "shell.execute_reply": "2022-11-18T11:06:42.564740Z",
     "shell.execute_reply.started": "2022-11-18T11:06:20.552496Z"
    },
    "papermill": {
     "duration": 0.026379,
     "end_time": "2022-11-18T11:06:42.565427",
     "exception": false,
     "start_time": "2022-11-18T11:06:42.539048",
     "status": "completed"
    },
    "tags": []
   },
   "outputs": [
    {
     "data": {
      "text/plain": [
       "239619313.8"
      ]
     },
     "execution_count": 12,
     "metadata": {},
     "output_type": "execute_result"
    }
   ],
   "source": [
    "# 2023년 월별 합계 중 가장 큰 값\n",
    "cond = df['year'] == 2023\n",
    "df2 = df[cond]\n",
    "sale2 = df2.groupby('month')['Sales2'].sum().max()\n",
    "sale2"
   ]
  },
  {
   "cell_type": "code",
   "execution_count": 13,
   "id": "d17f373c",
   "metadata": {
    "execution": {
     "iopub.execute_input": "2022-11-18T11:06:42.600657Z",
     "iopub.status.busy": "2022-11-18T11:06:42.599654Z",
     "iopub.status.idle": "2022-11-18T11:06:42.603658Z",
     "shell.execute_reply": "2022-11-18T11:06:42.603074Z",
     "shell.execute_reply.started": "2022-11-18T11:06:20.567817Z"
    },
    "papermill": {
     "duration": 0.023741,
     "end_time": "2022-11-18T11:06:42.603814",
     "exception": false,
     "start_time": "2022-11-18T11:06:42.580073",
     "status": "completed"
    },
    "tags": []
   },
   "outputs": [
    {
     "data": {
      "text/plain": [
       "42473436"
      ]
     },
     "execution_count": 13,
     "metadata": {},
     "output_type": "execute_result"
    }
   ],
   "source": [
    "# 결과값 반올림 후 정수 출력\n",
    "int(round(abs(sale1 - sale2),0))"
   ]
  }
 ],
 "metadata": {
  "kernelspec": {
   "display_name": "Python 3",
   "language": "python",
   "name": "python3"
  },
  "language_info": {
   "codemirror_mode": {
    "name": "ipython",
    "version": 3
   },
   "file_extension": ".py",
   "mimetype": "text/x-python",
   "name": "python",
   "nbconvert_exporter": "python",
   "pygments_lexer": "ipython3",
   "version": "3.7.10"
  },
  "papermill": {
   "default_parameters": {},
   "duration": 11.137614,
   "end_time": "2022-11-18T11:06:43.228700",
   "environment_variables": {},
   "exception": null,
   "input_path": "__notebook__.ipynb",
   "output_path": "__notebook__.ipynb",
   "parameters": {},
   "start_time": "2022-11-18T11:06:32.091086",
   "version": "2.3.3"
  }
 },
 "nbformat": 4,
 "nbformat_minor": 5
}
