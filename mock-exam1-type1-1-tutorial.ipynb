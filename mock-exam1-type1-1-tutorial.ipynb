{
 "cells": [
  {
   "cell_type": "code",
   "execution_count": 1,
   "id": "bdfea950",
   "metadata": {
    "_cell_guid": "b1076dfc-b9ad-4769-8c92-a6c4dae69d19",
    "_uuid": "8f2839f25d086af736a60e9eeb907d3b93b6e0e5",
    "execution": {
     "iopub.execute_input": "2022-11-29T06:45:02.689343Z",
     "iopub.status.busy": "2022-11-29T06:45:02.687867Z",
     "iopub.status.idle": "2022-11-29T06:45:02.698375Z",
     "shell.execute_reply": "2022-11-29T06:45:02.698990Z",
     "shell.execute_reply.started": "2022-11-29T06:44:19.519667Z"
    },
    "papermill": {
     "duration": 0.042435,
     "end_time": "2022-11-29T06:45:02.699386",
     "exception": false,
     "start_time": "2022-11-29T06:45:02.656951",
     "status": "completed"
    },
    "tags": []
   },
   "outputs": [],
   "source": [
    "import pandas as pd"
   ]
  },
  {
   "cell_type": "code",
   "execution_count": 2,
   "id": "4e9b69b3",
   "metadata": {
    "execution": {
     "iopub.execute_input": "2022-11-29T06:45:02.750600Z",
     "iopub.status.busy": "2022-11-29T06:45:02.749803Z",
     "iopub.status.idle": "2022-11-29T06:45:02.788751Z",
     "shell.execute_reply": "2022-11-29T06:45:02.788075Z",
     "shell.execute_reply.started": "2022-11-29T06:44:19.532820Z"
    },
    "papermill": {
     "duration": 0.064908,
     "end_time": "2022-11-29T06:45:02.788905",
     "exception": false,
     "start_time": "2022-11-29T06:45:02.723997",
     "status": "completed"
    },
    "tags": []
   },
   "outputs": [
    {
     "data": {
      "text/html": [
       "<div>\n",
       "<style scoped>\n",
       "    .dataframe tbody tr th:only-of-type {\n",
       "        vertical-align: middle;\n",
       "    }\n",
       "\n",
       "    .dataframe tbody tr th {\n",
       "        vertical-align: top;\n",
       "    }\n",
       "\n",
       "    .dataframe thead th {\n",
       "        text-align: right;\n",
       "    }\n",
       "</style>\n",
       "<table border=\"1\" class=\"dataframe\">\n",
       "  <thead>\n",
       "    <tr style=\"text-align: right;\">\n",
       "      <th></th>\n",
       "      <th>id</th>\n",
       "      <th>age</th>\n",
       "      <th>city</th>\n",
       "      <th>f1</th>\n",
       "      <th>f2</th>\n",
       "      <th>f3</th>\n",
       "      <th>f4</th>\n",
       "      <th>f5</th>\n",
       "    </tr>\n",
       "  </thead>\n",
       "  <tbody>\n",
       "    <tr>\n",
       "      <th>0</th>\n",
       "      <td>id01</td>\n",
       "      <td>2.0</td>\n",
       "      <td>서울</td>\n",
       "      <td>NaN</td>\n",
       "      <td>0</td>\n",
       "      <td>NaN</td>\n",
       "      <td>ENFJ</td>\n",
       "      <td>91.297791</td>\n",
       "    </tr>\n",
       "    <tr>\n",
       "      <th>1</th>\n",
       "      <td>id02</td>\n",
       "      <td>9.0</td>\n",
       "      <td>서울</td>\n",
       "      <td>70.0</td>\n",
       "      <td>1</td>\n",
       "      <td>NaN</td>\n",
       "      <td>ENFJ</td>\n",
       "      <td>60.339826</td>\n",
       "    </tr>\n",
       "    <tr>\n",
       "      <th>2</th>\n",
       "      <td>id03</td>\n",
       "      <td>27.0</td>\n",
       "      <td>서울</td>\n",
       "      <td>61.0</td>\n",
       "      <td>1</td>\n",
       "      <td>NaN</td>\n",
       "      <td>ISTJ</td>\n",
       "      <td>17.252986</td>\n",
       "    </tr>\n",
       "    <tr>\n",
       "      <th>3</th>\n",
       "      <td>id04</td>\n",
       "      <td>75.0</td>\n",
       "      <td>서울</td>\n",
       "      <td>NaN</td>\n",
       "      <td>2</td>\n",
       "      <td>NaN</td>\n",
       "      <td>INFP</td>\n",
       "      <td>52.667078</td>\n",
       "    </tr>\n",
       "    <tr>\n",
       "      <th>4</th>\n",
       "      <td>id05</td>\n",
       "      <td>24.0</td>\n",
       "      <td>서울</td>\n",
       "      <td>85.0</td>\n",
       "      <td>2</td>\n",
       "      <td>NaN</td>\n",
       "      <td>ISFJ</td>\n",
       "      <td>29.269869</td>\n",
       "    </tr>\n",
       "  </tbody>\n",
       "</table>\n",
       "</div>"
      ],
      "text/plain": [
       "     id   age city    f1  f2   f3    f4         f5\n",
       "0  id01   2.0   서울   NaN   0  NaN  ENFJ  91.297791\n",
       "1  id02   9.0   서울  70.0   1  NaN  ENFJ  60.339826\n",
       "2  id03  27.0   서울  61.0   1  NaN  ISTJ  17.252986\n",
       "3  id04  75.0   서울   NaN   2  NaN  INFP  52.667078\n",
       "4  id05  24.0   서울  85.0   2  NaN  ISFJ  29.269869"
      ]
     },
     "execution_count": 2,
     "metadata": {},
     "output_type": "execute_result"
    }
   ],
   "source": [
    "# 데이터\n",
    "df = pd.read_csv(\"../input/bigdatacertificationkr/basic1.csv\")\n",
    "df.head()"
   ]
  },
  {
   "cell_type": "markdown",
   "id": "ad460283",
   "metadata": {
    "papermill": {
     "duration": 0.022754,
     "end_time": "2022-11-29T06:45:02.836138",
     "exception": false,
     "start_time": "2022-11-29T06:45:02.813384",
     "status": "completed"
    },
    "tags": []
   },
   "source": [
    "## 1. 첫번째 데이터 부터 순서대로 50:50으로 데이터를 나누고, 앞에서 부터 50%의 데이터(이하, A그룹)는 'f1'컬럼의 결측치를 A그룹의 중앙값으로 채우고, 뒤에서부터 50% 데이터(이하, B그룹)는 'f1'컬럼의 결측치를 B그룹의 최대값으로 채운 후, A그룹과 B그룹의 표준편차 합을 구하시오\n",
    "### 단, 소수점 첫째자리까지 구하시오 (둘째자리에서 반올림)"
   ]
  },
  {
   "cell_type": "code",
   "execution_count": 3,
   "id": "54951214",
   "metadata": {
    "execution": {
     "iopub.execute_input": "2022-11-29T06:45:02.890351Z",
     "iopub.status.busy": "2022-11-29T06:45:02.889592Z",
     "iopub.status.idle": "2022-11-29T06:45:02.893235Z",
     "shell.execute_reply": "2022-11-29T06:45:02.893702Z",
     "shell.execute_reply.started": "2022-11-29T06:44:19.561351Z"
    },
    "papermill": {
     "duration": 0.032887,
     "end_time": "2022-11-29T06:45:02.893897",
     "exception": false,
     "start_time": "2022-11-29T06:45:02.861010",
     "status": "completed"
    },
    "tags": []
   },
   "outputs": [
    {
     "data": {
      "text/plain": [
       "(100, 8)"
      ]
     },
     "execution_count": 3,
     "metadata": {},
     "output_type": "execute_result"
    }
   ],
   "source": [
    "df.shape"
   ]
  },
  {
   "cell_type": "code",
   "execution_count": 4,
   "id": "70bd02e8",
   "metadata": {
    "execution": {
     "iopub.execute_input": "2022-11-29T06:45:02.946723Z",
     "iopub.status.busy": "2022-11-29T06:45:02.945945Z",
     "iopub.status.idle": "2022-11-29T06:45:02.949408Z",
     "shell.execute_reply": "2022-11-29T06:45:02.948583Z",
     "shell.execute_reply.started": "2022-11-29T06:44:19.571239Z"
    },
    "papermill": {
     "duration": 0.032231,
     "end_time": "2022-11-29T06:45:02.949604",
     "exception": false,
     "start_time": "2022-11-29T06:45:02.917373",
     "status": "completed"
    },
    "tags": []
   },
   "outputs": [],
   "source": [
    "A=df[:50]\n",
    "B=df[50:]"
   ]
  },
  {
   "cell_type": "code",
   "execution_count": 5,
   "id": "c93522e8",
   "metadata": {
    "execution": {
     "iopub.execute_input": "2022-11-29T06:45:03.009142Z",
     "iopub.status.busy": "2022-11-29T06:45:03.008392Z",
     "iopub.status.idle": "2022-11-29T06:45:03.012523Z",
     "shell.execute_reply": "2022-11-29T06:45:03.011755Z",
     "shell.execute_reply.started": "2022-11-29T06:44:19.581155Z"
    },
    "papermill": {
     "duration": 0.037887,
     "end_time": "2022-11-29T06:45:03.012689",
     "exception": false,
     "start_time": "2022-11-29T06:45:02.974802",
     "status": "completed"
    },
    "tags": []
   },
   "outputs": [
    {
     "name": "stderr",
     "output_type": "stream",
     "text": [
      "/opt/conda/lib/python3.7/site-packages/ipykernel_launcher.py:1: SettingWithCopyWarning: \n",
      "A value is trying to be set on a copy of a slice from a DataFrame.\n",
      "Try using .loc[row_indexer,col_indexer] = value instead\n",
      "\n",
      "See the caveats in the documentation: https://pandas.pydata.org/pandas-docs/stable/user_guide/indexing.html#returning-a-view-versus-a-copy\n",
      "  \"\"\"Entry point for launching an IPython kernel.\n",
      "/opt/conda/lib/python3.7/site-packages/ipykernel_launcher.py:2: SettingWithCopyWarning: \n",
      "A value is trying to be set on a copy of a slice from a DataFrame.\n",
      "Try using .loc[row_indexer,col_indexer] = value instead\n",
      "\n",
      "See the caveats in the documentation: https://pandas.pydata.org/pandas-docs/stable/user_guide/indexing.html#returning-a-view-versus-a-copy\n",
      "  \n"
     ]
    }
   ],
   "source": [
    "A['f1']=A['f1'].fillna(A['f1'].median())\n",
    "B['f1']=B['f1'].fillna(B['f1'].max())"
   ]
  },
  {
   "cell_type": "code",
   "execution_count": 6,
   "id": "58b3c833",
   "metadata": {
    "execution": {
     "iopub.execute_input": "2022-11-29T06:45:03.069318Z",
     "iopub.status.busy": "2022-11-29T06:45:03.068552Z",
     "iopub.status.idle": "2022-11-29T06:45:03.072081Z",
     "shell.execute_reply": "2022-11-29T06:45:03.072661Z",
     "shell.execute_reply.started": "2022-11-29T06:44:19.596170Z"
    },
    "papermill": {
     "duration": 0.035036,
     "end_time": "2022-11-29T06:45:03.072862",
     "exception": false,
     "start_time": "2022-11-29T06:45:03.037826",
     "status": "completed"
    },
    "tags": []
   },
   "outputs": [
    {
     "name": "stdout",
     "output_type": "stream",
     "text": [
      "42.0\n"
     ]
    }
   ],
   "source": [
    "print(round(A['f1'].std()+B['f1'].std(),1))"
   ]
  },
  {
   "cell_type": "markdown",
   "id": "8455c598",
   "metadata": {
    "papermill": {
     "duration": 0.024765,
     "end_time": "2022-11-29T06:45:03.122297",
     "exception": false,
     "start_time": "2022-11-29T06:45:03.097532",
     "status": "completed"
    },
    "tags": []
   },
   "source": [
    "---"
   ]
  },
  {
   "cell_type": "code",
   "execution_count": 7,
   "id": "ddad213f",
   "metadata": {
    "execution": {
     "iopub.execute_input": "2022-11-29T06:45:03.175387Z",
     "iopub.status.busy": "2022-11-29T06:45:03.174336Z",
     "iopub.status.idle": "2022-11-29T06:45:03.183529Z",
     "shell.execute_reply": "2022-11-29T06:45:03.184009Z",
     "shell.execute_reply.started": "2022-11-29T06:44:19.605140Z"
    },
    "papermill": {
     "duration": 0.037649,
     "end_time": "2022-11-29T06:45:03.184261",
     "exception": false,
     "start_time": "2022-11-29T06:45:03.146612",
     "status": "completed"
    },
    "tags": []
   },
   "outputs": [
    {
     "data": {
      "text/plain": [
       "(100, 8)"
      ]
     },
     "execution_count": 7,
     "metadata": {},
     "output_type": "execute_result"
    }
   ],
   "source": [
    "df = pd.read_csv(\"../input/bigdatacertificationkr/basic1.csv\")\n",
    "df.shape"
   ]
  },
  {
   "cell_type": "code",
   "execution_count": 8,
   "id": "44526ea7",
   "metadata": {
    "execution": {
     "iopub.execute_input": "2022-11-29T06:45:03.241272Z",
     "iopub.status.busy": "2022-11-29T06:45:03.240371Z",
     "iopub.status.idle": "2022-11-29T06:45:03.243762Z",
     "shell.execute_reply": "2022-11-29T06:45:03.244305Z",
     "shell.execute_reply.started": "2022-11-29T06:44:19.619075Z"
    },
    "papermill": {
     "duration": 0.035608,
     "end_time": "2022-11-29T06:45:03.244499",
     "exception": false,
     "start_time": "2022-11-29T06:45:03.208891",
     "status": "completed"
    },
    "tags": []
   },
   "outputs": [
    {
     "data": {
      "text/plain": [
       "((50, 8), (50, 8))"
      ]
     },
     "execution_count": 8,
     "metadata": {},
     "output_type": "execute_result"
    }
   ],
   "source": [
    "# 50:50\n",
    "dfA = df[:50]\n",
    "dfB = df[50:]\n",
    "dfA.shape, dfB.shape"
   ]
  },
  {
   "cell_type": "code",
   "execution_count": 9,
   "id": "668d5708",
   "metadata": {
    "execution": {
     "iopub.execute_input": "2022-11-29T06:45:03.299266Z",
     "iopub.status.busy": "2022-11-29T06:45:03.298124Z",
     "iopub.status.idle": "2022-11-29T06:45:03.310578Z",
     "shell.execute_reply": "2022-11-29T06:45:03.311147Z",
     "shell.execute_reply.started": "2022-11-29T06:44:19.627895Z"
    },
    "papermill": {
     "duration": 0.041747,
     "end_time": "2022-11-29T06:45:03.311434",
     "exception": false,
     "start_time": "2022-11-29T06:45:03.269687",
     "status": "completed"
    },
    "tags": []
   },
   "outputs": [
    {
     "name": "stderr",
     "output_type": "stream",
     "text": [
      "/opt/conda/lib/python3.7/site-packages/pandas/core/indexing.py:1773: SettingWithCopyWarning: \n",
      "A value is trying to be set on a copy of a slice from a DataFrame.\n",
      "Try using .loc[row_indexer,col_indexer] = value instead\n",
      "\n",
      "See the caveats in the documentation: https://pandas.pydata.org/pandas-docs/stable/user_guide/indexing.html#returning-a-view-versus-a-copy\n",
      "  self._setitem_single_column(ilocs[0], value, pi)\n"
     ]
    }
   ],
   "source": [
    "# 결측치 채우기\n",
    "dfA.loc[:,'f1'] = dfA['f1'].fillna(dfA['f1'].median())\n",
    "dfB.loc[:,'f1'] = dfB['f1'].fillna(dfB['f1'].max())"
   ]
  },
  {
   "cell_type": "code",
   "execution_count": 10,
   "id": "542c77fb",
   "metadata": {
    "execution": {
     "iopub.execute_input": "2022-11-29T06:45:03.365859Z",
     "iopub.status.busy": "2022-11-29T06:45:03.365077Z",
     "iopub.status.idle": "2022-11-29T06:45:03.370598Z",
     "shell.execute_reply": "2022-11-29T06:45:03.371146Z",
     "shell.execute_reply.started": "2022-11-29T06:44:19.643645Z"
    },
    "papermill": {
     "duration": 0.034379,
     "end_time": "2022-11-29T06:45:03.371362",
     "exception": false,
     "start_time": "2022-11-29T06:45:03.336983",
     "status": "completed"
    },
    "tags": []
   },
   "outputs": [
    {
     "data": {
      "text/plain": [
       "13.70239067477211"
      ]
     },
     "execution_count": 10,
     "metadata": {},
     "output_type": "execute_result"
    }
   ],
   "source": [
    "# 표준편차 확인\n",
    "dfA['f1'].std()"
   ]
  },
  {
   "cell_type": "code",
   "execution_count": 11,
   "id": "722f7f1a",
   "metadata": {
    "execution": {
     "iopub.execute_input": "2022-11-29T06:45:03.428606Z",
     "iopub.status.busy": "2022-11-29T06:45:03.427663Z",
     "iopub.status.idle": "2022-11-29T06:45:03.431851Z",
     "shell.execute_reply": "2022-11-29T06:45:03.431161Z",
     "shell.execute_reply.started": "2022-11-29T06:44:19.655470Z"
    },
    "papermill": {
     "duration": 0.035279,
     "end_time": "2022-11-29T06:45:03.432001",
     "exception": false,
     "start_time": "2022-11-29T06:45:03.396722",
     "status": "completed"
    },
    "tags": []
   },
   "outputs": [
    {
     "data": {
      "text/plain": [
       "28.299304094710486"
      ]
     },
     "execution_count": 11,
     "metadata": {},
     "output_type": "execute_result"
    }
   ],
   "source": [
    "# 표준편차 확인\n",
    "dfB['f1'].std()"
   ]
  },
  {
   "cell_type": "code",
   "execution_count": 12,
   "id": "43896d29",
   "metadata": {
    "execution": {
     "iopub.execute_input": "2022-11-29T06:45:03.489771Z",
     "iopub.status.busy": "2022-11-29T06:45:03.488916Z",
     "iopub.status.idle": "2022-11-29T06:45:03.493573Z",
     "shell.execute_reply": "2022-11-29T06:45:03.494341Z",
     "shell.execute_reply.started": "2022-11-29T06:44:19.669833Z"
    },
    "papermill": {
     "duration": 0.03657,
     "end_time": "2022-11-29T06:45:03.494625",
     "exception": false,
     "start_time": "2022-11-29T06:45:03.458055",
     "status": "completed"
    },
    "tags": []
   },
   "outputs": [
    {
     "name": "stdout",
     "output_type": "stream",
     "text": [
      "42.0\n"
     ]
    }
   ],
   "source": [
    "# 결과 출력\n",
    "print(round(dfA['f1'].std() + dfB['f1'].std(),1))"
   ]
  },
  {
   "cell_type": "markdown",
   "id": "ca790c0c",
   "metadata": {
    "papermill": {
     "duration": 0.025704,
     "end_time": "2022-11-29T06:45:03.548794",
     "exception": false,
     "start_time": "2022-11-29T06:45:03.523090",
     "status": "completed"
    },
    "tags": []
   },
   "source": [
    "## 2. 'f4'컬럼을 기준 내림차순 정렬과 'f5'컬럼기준 오름차순 정렬을 순서대로 다중 조건 정렬하고나서 앞에서부터 10개의 데이터 중 'f5'컬럼의 최소값 찾고, 이 최소값으로 앞에서 부터 10개의 'f5'컬럼 데이터를 변경함. 그리고 'f5'컬럼의 평균값을 계산함\n",
    "### 단 소수점 둘째자리까지 출력(셋째자리에서 반올림)"
   ]
  },
  {
   "cell_type": "code",
   "execution_count": 13,
   "id": "331fea62",
   "metadata": {
    "execution": {
     "iopub.execute_input": "2022-11-29T06:45:03.637127Z",
     "iopub.status.busy": "2022-11-29T06:45:03.628324Z",
     "iopub.status.idle": "2022-11-29T06:45:03.641698Z",
     "shell.execute_reply": "2022-11-29T06:45:03.640964Z",
     "shell.execute_reply.started": "2022-11-29T06:44:19.680609Z"
    },
    "papermill": {
     "duration": 0.066516,
     "end_time": "2022-11-29T06:45:03.641858",
     "exception": false,
     "start_time": "2022-11-29T06:45:03.575342",
     "status": "completed"
    },
    "tags": []
   },
   "outputs": [
    {
     "data": {
      "text/html": [
       "<div>\n",
       "<style scoped>\n",
       "    .dataframe tbody tr th:only-of-type {\n",
       "        vertical-align: middle;\n",
       "    }\n",
       "\n",
       "    .dataframe tbody tr th {\n",
       "        vertical-align: top;\n",
       "    }\n",
       "\n",
       "    .dataframe thead th {\n",
       "        text-align: right;\n",
       "    }\n",
       "</style>\n",
       "<table border=\"1\" class=\"dataframe\">\n",
       "  <thead>\n",
       "    <tr style=\"text-align: right;\">\n",
       "      <th></th>\n",
       "      <th>id</th>\n",
       "      <th>age</th>\n",
       "      <th>city</th>\n",
       "      <th>f1</th>\n",
       "      <th>f2</th>\n",
       "      <th>f3</th>\n",
       "      <th>f4</th>\n",
       "      <th>f5</th>\n",
       "    </tr>\n",
       "  </thead>\n",
       "  <tbody>\n",
       "    <tr>\n",
       "      <th>42</th>\n",
       "      <td>id43</td>\n",
       "      <td>23.0</td>\n",
       "      <td>대구</td>\n",
       "      <td>60.0</td>\n",
       "      <td>0</td>\n",
       "      <td>NaN</td>\n",
       "      <td>ISTP</td>\n",
       "      <td>29.269869</td>\n",
       "    </tr>\n",
       "    <tr>\n",
       "      <th>69</th>\n",
       "      <td>id70</td>\n",
       "      <td>-9.0</td>\n",
       "      <td>경기</td>\n",
       "      <td>96.0</td>\n",
       "      <td>1</td>\n",
       "      <td>NaN</td>\n",
       "      <td>ISTP</td>\n",
       "      <td>48.431184</td>\n",
       "    </tr>\n",
       "    <tr>\n",
       "      <th>16</th>\n",
       "      <td>id17</td>\n",
       "      <td>74.0</td>\n",
       "      <td>서울</td>\n",
       "      <td>68.0</td>\n",
       "      <td>1</td>\n",
       "      <td>NaN</td>\n",
       "      <td>ISTP</td>\n",
       "      <td>67.886373</td>\n",
       "    </tr>\n",
       "    <tr>\n",
       "      <th>22</th>\n",
       "      <td>id23</td>\n",
       "      <td>34.0</td>\n",
       "      <td>부산</td>\n",
       "      <td>75.0</td>\n",
       "      <td>1</td>\n",
       "      <td>NaN</td>\n",
       "      <td>ISTP</td>\n",
       "      <td>69.730313</td>\n",
       "    </tr>\n",
       "    <tr>\n",
       "      <th>2</th>\n",
       "      <td>id03</td>\n",
       "      <td>27.0</td>\n",
       "      <td>서울</td>\n",
       "      <td>61.0</td>\n",
       "      <td>1</td>\n",
       "      <td>NaN</td>\n",
       "      <td>ISTJ</td>\n",
       "      <td>17.252986</td>\n",
       "    </tr>\n",
       "    <tr>\n",
       "      <th>...</th>\n",
       "      <td>...</td>\n",
       "      <td>...</td>\n",
       "      <td>...</td>\n",
       "      <td>...</td>\n",
       "      <td>...</td>\n",
       "      <td>...</td>\n",
       "      <td>...</td>\n",
       "      <td>...</td>\n",
       "    </tr>\n",
       "    <tr>\n",
       "      <th>32</th>\n",
       "      <td>id33</td>\n",
       "      <td>47.0</td>\n",
       "      <td>부산</td>\n",
       "      <td>94.0</td>\n",
       "      <td>0</td>\n",
       "      <td>NaN</td>\n",
       "      <td>ENFJ</td>\n",
       "      <td>17.252986</td>\n",
       "    </tr>\n",
       "    <tr>\n",
       "      <th>40</th>\n",
       "      <td>id41</td>\n",
       "      <td>81.0</td>\n",
       "      <td>대구</td>\n",
       "      <td>55.0</td>\n",
       "      <td>0</td>\n",
       "      <td>NaN</td>\n",
       "      <td>ENFJ</td>\n",
       "      <td>37.113739</td>\n",
       "    </tr>\n",
       "    <tr>\n",
       "      <th>1</th>\n",
       "      <td>id02</td>\n",
       "      <td>9.0</td>\n",
       "      <td>서울</td>\n",
       "      <td>70.0</td>\n",
       "      <td>1</td>\n",
       "      <td>NaN</td>\n",
       "      <td>ENFJ</td>\n",
       "      <td>60.339826</td>\n",
       "    </tr>\n",
       "    <tr>\n",
       "      <th>53</th>\n",
       "      <td>id54</td>\n",
       "      <td>53.0</td>\n",
       "      <td>대구</td>\n",
       "      <td>111.0</td>\n",
       "      <td>1</td>\n",
       "      <td>NaN</td>\n",
       "      <td>ENFJ</td>\n",
       "      <td>69.730313</td>\n",
       "    </tr>\n",
       "    <tr>\n",
       "      <th>0</th>\n",
       "      <td>id01</td>\n",
       "      <td>2.0</td>\n",
       "      <td>서울</td>\n",
       "      <td>68.0</td>\n",
       "      <td>0</td>\n",
       "      <td>NaN</td>\n",
       "      <td>ENFJ</td>\n",
       "      <td>91.297791</td>\n",
       "    </tr>\n",
       "  </tbody>\n",
       "</table>\n",
       "<p>100 rows × 8 columns</p>\n",
       "</div>"
      ],
      "text/plain": [
       "      id   age city     f1  f2   f3    f4         f5\n",
       "42  id43  23.0   대구   60.0   0  NaN  ISTP  29.269869\n",
       "69  id70  -9.0   경기   96.0   1  NaN  ISTP  48.431184\n",
       "16  id17  74.0   서울   68.0   1  NaN  ISTP  67.886373\n",
       "22  id23  34.0   부산   75.0   1  NaN  ISTP  69.730313\n",
       "2   id03  27.0   서울   61.0   1  NaN  ISTJ  17.252986\n",
       "..   ...   ...  ...    ...  ..  ...   ...        ...\n",
       "32  id33  47.0   부산   94.0   0  NaN  ENFJ  17.252986\n",
       "40  id41  81.0   대구   55.0   0  NaN  ENFJ  37.113739\n",
       "1   id02   9.0   서울   70.0   1  NaN  ENFJ  60.339826\n",
       "53  id54  53.0   대구  111.0   1  NaN  ENFJ  69.730313\n",
       "0   id01   2.0   서울   68.0   0  NaN  ENFJ  91.297791\n",
       "\n",
       "[100 rows x 8 columns]"
      ]
     },
     "execution_count": 13,
     "metadata": {},
     "output_type": "execute_result"
    }
   ],
   "source": [
    "df2=df.sort_values(['f4','f5'],ascending=[False,True])\n",
    "df2"
   ]
  },
  {
   "cell_type": "code",
   "execution_count": 14,
   "id": "13f17e33",
   "metadata": {
    "execution": {
     "iopub.execute_input": "2022-11-29T06:45:03.716305Z",
     "iopub.status.busy": "2022-11-29T06:45:03.715296Z",
     "iopub.status.idle": "2022-11-29T06:45:03.720766Z",
     "shell.execute_reply": "2022-11-29T06:45:03.721330Z",
     "shell.execute_reply.started": "2022-11-29T06:44:19.708263Z"
    },
    "papermill": {
     "duration": 0.052042,
     "end_time": "2022-11-29T06:45:03.721533",
     "exception": false,
     "start_time": "2022-11-29T06:45:03.669491",
     "status": "completed"
    },
    "tags": []
   },
   "outputs": [
    {
     "name": "stderr",
     "output_type": "stream",
     "text": [
      "/opt/conda/lib/python3.7/site-packages/ipykernel_launcher.py:1: SettingWithCopyWarning: \n",
      "A value is trying to be set on a copy of a slice from a DataFrame.\n",
      "Try using .loc[row_indexer,col_indexer] = value instead\n",
      "\n",
      "See the caveats in the documentation: https://pandas.pydata.org/pandas-docs/stable/user_guide/indexing.html#returning-a-view-versus-a-copy\n",
      "  \"\"\"Entry point for launching an IPython kernel.\n"
     ]
    },
    {
     "data": {
      "text/html": [
       "<div>\n",
       "<style scoped>\n",
       "    .dataframe tbody tr th:only-of-type {\n",
       "        vertical-align: middle;\n",
       "    }\n",
       "\n",
       "    .dataframe tbody tr th {\n",
       "        vertical-align: top;\n",
       "    }\n",
       "\n",
       "    .dataframe thead th {\n",
       "        text-align: right;\n",
       "    }\n",
       "</style>\n",
       "<table border=\"1\" class=\"dataframe\">\n",
       "  <thead>\n",
       "    <tr style=\"text-align: right;\">\n",
       "      <th></th>\n",
       "      <th>id</th>\n",
       "      <th>age</th>\n",
       "      <th>city</th>\n",
       "      <th>f1</th>\n",
       "      <th>f2</th>\n",
       "      <th>f3</th>\n",
       "      <th>f4</th>\n",
       "      <th>f5</th>\n",
       "    </tr>\n",
       "  </thead>\n",
       "  <tbody>\n",
       "    <tr>\n",
       "      <th>42</th>\n",
       "      <td>id43</td>\n",
       "      <td>23.0</td>\n",
       "      <td>대구</td>\n",
       "      <td>60.0</td>\n",
       "      <td>0</td>\n",
       "      <td>NaN</td>\n",
       "      <td>ISTP</td>\n",
       "      <td>17.252986</td>\n",
       "    </tr>\n",
       "    <tr>\n",
       "      <th>69</th>\n",
       "      <td>id70</td>\n",
       "      <td>-9.0</td>\n",
       "      <td>경기</td>\n",
       "      <td>96.0</td>\n",
       "      <td>1</td>\n",
       "      <td>NaN</td>\n",
       "      <td>ISTP</td>\n",
       "      <td>17.252986</td>\n",
       "    </tr>\n",
       "    <tr>\n",
       "      <th>16</th>\n",
       "      <td>id17</td>\n",
       "      <td>74.0</td>\n",
       "      <td>서울</td>\n",
       "      <td>68.0</td>\n",
       "      <td>1</td>\n",
       "      <td>NaN</td>\n",
       "      <td>ISTP</td>\n",
       "      <td>17.252986</td>\n",
       "    </tr>\n",
       "    <tr>\n",
       "      <th>22</th>\n",
       "      <td>id23</td>\n",
       "      <td>34.0</td>\n",
       "      <td>부산</td>\n",
       "      <td>75.0</td>\n",
       "      <td>1</td>\n",
       "      <td>NaN</td>\n",
       "      <td>ISTP</td>\n",
       "      <td>17.252986</td>\n",
       "    </tr>\n",
       "    <tr>\n",
       "      <th>2</th>\n",
       "      <td>id03</td>\n",
       "      <td>27.0</td>\n",
       "      <td>서울</td>\n",
       "      <td>61.0</td>\n",
       "      <td>1</td>\n",
       "      <td>NaN</td>\n",
       "      <td>ISTJ</td>\n",
       "      <td>17.252986</td>\n",
       "    </tr>\n",
       "    <tr>\n",
       "      <th>50</th>\n",
       "      <td>id51</td>\n",
       "      <td>36.0</td>\n",
       "      <td>대구</td>\n",
       "      <td>111.0</td>\n",
       "      <td>0</td>\n",
       "      <td>NaN</td>\n",
       "      <td>ISTJ</td>\n",
       "      <td>17.252986</td>\n",
       "    </tr>\n",
       "    <tr>\n",
       "      <th>65</th>\n",
       "      <td>id66</td>\n",
       "      <td>87.0</td>\n",
       "      <td>경기</td>\n",
       "      <td>111.0</td>\n",
       "      <td>1</td>\n",
       "      <td>NaN</td>\n",
       "      <td>ISFP</td>\n",
       "      <td>17.252986</td>\n",
       "    </tr>\n",
       "    <tr>\n",
       "      <th>20</th>\n",
       "      <td>id21</td>\n",
       "      <td>90.0</td>\n",
       "      <td>부산</td>\n",
       "      <td>68.0</td>\n",
       "      <td>1</td>\n",
       "      <td>NaN</td>\n",
       "      <td>ISFP</td>\n",
       "      <td>17.252986</td>\n",
       "    </tr>\n",
       "    <tr>\n",
       "      <th>70</th>\n",
       "      <td>id71</td>\n",
       "      <td>35.0</td>\n",
       "      <td>경기</td>\n",
       "      <td>84.0</td>\n",
       "      <td>2</td>\n",
       "      <td>NaN</td>\n",
       "      <td>ISFP</td>\n",
       "      <td>17.252986</td>\n",
       "    </tr>\n",
       "    <tr>\n",
       "      <th>67</th>\n",
       "      <td>id68</td>\n",
       "      <td>35.0</td>\n",
       "      <td>경기</td>\n",
       "      <td>45.0</td>\n",
       "      <td>2</td>\n",
       "      <td>NaN</td>\n",
       "      <td>ISFP</td>\n",
       "      <td>17.252986</td>\n",
       "    </tr>\n",
       "  </tbody>\n",
       "</table>\n",
       "</div>"
      ],
      "text/plain": [
       "      id   age city     f1  f2   f3    f4         f5\n",
       "42  id43  23.0   대구   60.0   0  NaN  ISTP  17.252986\n",
       "69  id70  -9.0   경기   96.0   1  NaN  ISTP  17.252986\n",
       "16  id17  74.0   서울   68.0   1  NaN  ISTP  17.252986\n",
       "22  id23  34.0   부산   75.0   1  NaN  ISTP  17.252986\n",
       "2   id03  27.0   서울   61.0   1  NaN  ISTJ  17.252986\n",
       "50  id51  36.0   대구  111.0   0  NaN  ISTJ  17.252986\n",
       "65  id66  87.0   경기  111.0   1  NaN  ISFP  17.252986\n",
       "20  id21  90.0   부산   68.0   1  NaN  ISFP  17.252986\n",
       "70  id71  35.0   경기   84.0   2  NaN  ISFP  17.252986\n",
       "67  id68  35.0   경기   45.0   2  NaN  ISFP  17.252986"
      ]
     },
     "execution_count": 14,
     "metadata": {},
     "output_type": "execute_result"
    }
   ],
   "source": [
    "df2.head(10)['f5']=df2.head(10)['f5'].min()\n",
    "df2.head(10)"
   ]
  },
  {
   "cell_type": "code",
   "execution_count": 15,
   "id": "a11d468b",
   "metadata": {
    "execution": {
     "iopub.execute_input": "2022-11-29T06:45:03.782153Z",
     "iopub.status.busy": "2022-11-29T06:45:03.781427Z",
     "iopub.status.idle": "2022-11-29T06:45:03.787338Z",
     "shell.execute_reply": "2022-11-29T06:45:03.788367Z",
     "shell.execute_reply.started": "2022-11-29T06:44:19.726609Z"
    },
    "papermill": {
     "duration": 0.039458,
     "end_time": "2022-11-29T06:45:03.788771",
     "exception": false,
     "start_time": "2022-11-29T06:45:03.749313",
     "status": "completed"
    },
    "tags": []
   },
   "outputs": [
    {
     "name": "stdout",
     "output_type": "stream",
     "text": [
      "53.63\n"
     ]
    }
   ],
   "source": [
    "print(round(df2['f5'].mean(),2))"
   ]
  },
  {
   "cell_type": "markdown",
   "id": "24edb26c",
   "metadata": {
    "papermill": {
     "duration": 0.027384,
     "end_time": "2022-11-29T06:45:03.846114",
     "exception": false,
     "start_time": "2022-11-29T06:45:03.818730",
     "status": "completed"
    },
    "tags": []
   },
   "source": [
    "---"
   ]
  },
  {
   "cell_type": "code",
   "execution_count": 16,
   "id": "d463eb01",
   "metadata": {
    "execution": {
     "iopub.execute_input": "2022-11-29T06:45:03.907970Z",
     "iopub.status.busy": "2022-11-29T06:45:03.907226Z",
     "iopub.status.idle": "2022-11-29T06:45:03.932745Z",
     "shell.execute_reply": "2022-11-29T06:45:03.932122Z",
     "shell.execute_reply.started": "2022-11-29T06:44:19.735558Z"
    },
    "papermill": {
     "duration": 0.058736,
     "end_time": "2022-11-29T06:45:03.932902",
     "exception": false,
     "start_time": "2022-11-29T06:45:03.874166",
     "status": "completed"
    },
    "tags": []
   },
   "outputs": [
    {
     "data": {
      "text/html": [
       "<div>\n",
       "<style scoped>\n",
       "    .dataframe tbody tr th:only-of-type {\n",
       "        vertical-align: middle;\n",
       "    }\n",
       "\n",
       "    .dataframe tbody tr th {\n",
       "        vertical-align: top;\n",
       "    }\n",
       "\n",
       "    .dataframe thead th {\n",
       "        text-align: right;\n",
       "    }\n",
       "</style>\n",
       "<table border=\"1\" class=\"dataframe\">\n",
       "  <thead>\n",
       "    <tr style=\"text-align: right;\">\n",
       "      <th></th>\n",
       "      <th>id</th>\n",
       "      <th>age</th>\n",
       "      <th>city</th>\n",
       "      <th>f1</th>\n",
       "      <th>f2</th>\n",
       "      <th>f3</th>\n",
       "      <th>f4</th>\n",
       "      <th>f5</th>\n",
       "    </tr>\n",
       "  </thead>\n",
       "  <tbody>\n",
       "    <tr>\n",
       "      <th>0</th>\n",
       "      <td>id43</td>\n",
       "      <td>23.0</td>\n",
       "      <td>대구</td>\n",
       "      <td>60.0</td>\n",
       "      <td>0</td>\n",
       "      <td>NaN</td>\n",
       "      <td>ISTP</td>\n",
       "      <td>29.269869</td>\n",
       "    </tr>\n",
       "    <tr>\n",
       "      <th>1</th>\n",
       "      <td>id70</td>\n",
       "      <td>-9.0</td>\n",
       "      <td>경기</td>\n",
       "      <td>96.0</td>\n",
       "      <td>1</td>\n",
       "      <td>NaN</td>\n",
       "      <td>ISTP</td>\n",
       "      <td>48.431184</td>\n",
       "    </tr>\n",
       "    <tr>\n",
       "      <th>2</th>\n",
       "      <td>id17</td>\n",
       "      <td>74.0</td>\n",
       "      <td>서울</td>\n",
       "      <td>NaN</td>\n",
       "      <td>1</td>\n",
       "      <td>NaN</td>\n",
       "      <td>ISTP</td>\n",
       "      <td>67.886373</td>\n",
       "    </tr>\n",
       "    <tr>\n",
       "      <th>3</th>\n",
       "      <td>id23</td>\n",
       "      <td>34.0</td>\n",
       "      <td>부산</td>\n",
       "      <td>75.0</td>\n",
       "      <td>1</td>\n",
       "      <td>NaN</td>\n",
       "      <td>ISTP</td>\n",
       "      <td>69.730313</td>\n",
       "    </tr>\n",
       "    <tr>\n",
       "      <th>4</th>\n",
       "      <td>id03</td>\n",
       "      <td>27.0</td>\n",
       "      <td>서울</td>\n",
       "      <td>61.0</td>\n",
       "      <td>1</td>\n",
       "      <td>NaN</td>\n",
       "      <td>ISTJ</td>\n",
       "      <td>17.252986</td>\n",
       "    </tr>\n",
       "    <tr>\n",
       "      <th>...</th>\n",
       "      <td>...</td>\n",
       "      <td>...</td>\n",
       "      <td>...</td>\n",
       "      <td>...</td>\n",
       "      <td>...</td>\n",
       "      <td>...</td>\n",
       "      <td>...</td>\n",
       "      <td>...</td>\n",
       "    </tr>\n",
       "    <tr>\n",
       "      <th>95</th>\n",
       "      <td>id33</td>\n",
       "      <td>47.0</td>\n",
       "      <td>부산</td>\n",
       "      <td>94.0</td>\n",
       "      <td>0</td>\n",
       "      <td>NaN</td>\n",
       "      <td>ENFJ</td>\n",
       "      <td>17.252986</td>\n",
       "    </tr>\n",
       "    <tr>\n",
       "      <th>96</th>\n",
       "      <td>id41</td>\n",
       "      <td>81.0</td>\n",
       "      <td>대구</td>\n",
       "      <td>55.0</td>\n",
       "      <td>0</td>\n",
       "      <td>NaN</td>\n",
       "      <td>ENFJ</td>\n",
       "      <td>37.113739</td>\n",
       "    </tr>\n",
       "    <tr>\n",
       "      <th>97</th>\n",
       "      <td>id02</td>\n",
       "      <td>9.0</td>\n",
       "      <td>서울</td>\n",
       "      <td>70.0</td>\n",
       "      <td>1</td>\n",
       "      <td>NaN</td>\n",
       "      <td>ENFJ</td>\n",
       "      <td>60.339826</td>\n",
       "    </tr>\n",
       "    <tr>\n",
       "      <th>98</th>\n",
       "      <td>id54</td>\n",
       "      <td>53.0</td>\n",
       "      <td>대구</td>\n",
       "      <td>NaN</td>\n",
       "      <td>1</td>\n",
       "      <td>NaN</td>\n",
       "      <td>ENFJ</td>\n",
       "      <td>69.730313</td>\n",
       "    </tr>\n",
       "    <tr>\n",
       "      <th>99</th>\n",
       "      <td>id01</td>\n",
       "      <td>2.0</td>\n",
       "      <td>서울</td>\n",
       "      <td>NaN</td>\n",
       "      <td>0</td>\n",
       "      <td>NaN</td>\n",
       "      <td>ENFJ</td>\n",
       "      <td>91.297791</td>\n",
       "    </tr>\n",
       "  </tbody>\n",
       "</table>\n",
       "<p>100 rows × 8 columns</p>\n",
       "</div>"
      ],
      "text/plain": [
       "      id   age city    f1  f2   f3    f4         f5\n",
       "0   id43  23.0   대구  60.0   0  NaN  ISTP  29.269869\n",
       "1   id70  -9.0   경기  96.0   1  NaN  ISTP  48.431184\n",
       "2   id17  74.0   서울   NaN   1  NaN  ISTP  67.886373\n",
       "3   id23  34.0   부산  75.0   1  NaN  ISTP  69.730313\n",
       "4   id03  27.0   서울  61.0   1  NaN  ISTJ  17.252986\n",
       "..   ...   ...  ...   ...  ..  ...   ...        ...\n",
       "95  id33  47.0   부산  94.0   0  NaN  ENFJ  17.252986\n",
       "96  id41  81.0   대구  55.0   0  NaN  ENFJ  37.113739\n",
       "97  id02   9.0   서울  70.0   1  NaN  ENFJ  60.339826\n",
       "98  id54  53.0   대구   NaN   1  NaN  ENFJ  69.730313\n",
       "99  id01   2.0   서울   NaN   0  NaN  ENFJ  91.297791\n",
       "\n",
       "[100 rows x 8 columns]"
      ]
     },
     "execution_count": 16,
     "metadata": {},
     "output_type": "execute_result"
    }
   ],
   "source": [
    "df = pd.read_csv(\"../input/bigdatacertificationkr/basic1.csv\")\n",
    "df = df.sort_values(['f4','f5'], ascending=[False, True]).reset_index(drop=True)\n",
    "df"
   ]
  },
  {
   "cell_type": "code",
   "execution_count": 17,
   "id": "4441fda4",
   "metadata": {
    "execution": {
     "iopub.execute_input": "2022-11-29T06:45:04.000598Z",
     "iopub.status.busy": "2022-11-29T06:45:03.998257Z",
     "iopub.status.idle": "2022-11-29T06:45:04.003373Z",
     "shell.execute_reply": "2022-11-29T06:45:04.003922Z",
     "shell.execute_reply.started": "2022-11-29T06:44:19.765331Z"
    },
    "papermill": {
     "duration": 0.041407,
     "end_time": "2022-11-29T06:45:04.004141",
     "exception": false,
     "start_time": "2022-11-29T06:45:03.962734",
     "status": "completed"
    },
    "tags": []
   },
   "outputs": [
    {
     "name": "stdout",
     "output_type": "stream",
     "text": [
      "53.63\n"
     ]
    }
   ],
   "source": [
    "df.iloc[:10,7] = df['f5'][:10].min()\n",
    "print(round(df['f5'].mean(),2))"
   ]
  },
  {
   "cell_type": "markdown",
   "id": "9201e096",
   "metadata": {
    "papermill": {
     "duration": 0.029137,
     "end_time": "2022-11-29T06:45:04.062399",
     "exception": false,
     "start_time": "2022-11-29T06:45:04.033262",
     "status": "completed"
    },
    "tags": []
   },
   "source": [
    "## 3. 'age' 컬럼의 IQR방식을 이용한 이상치 수와 표준편차*1.5방식을 이용한 이상치 수 합을 구하시오\n",
    "- IQR방식 : Q1 - 1.5 * IQR, Q3 + 1.5 * IQR에서 벗어나는 영역을 이상치라고 판단함 (Q1은 데이터의 25%, Q3는 데이터의 75% 지점임)\n",
    "- 표준편차*1.5방식: 평균으로부터 '표준편차*1.5'를 벗어나는 영역을 이상치라고 판단함"
   ]
  },
  {
   "cell_type": "code",
   "execution_count": 18,
   "id": "ac6517f9",
   "metadata": {
    "execution": {
     "iopub.execute_input": "2022-11-29T06:45:04.128883Z",
     "iopub.status.busy": "2022-11-29T06:45:04.128169Z",
     "iopub.status.idle": "2022-11-29T06:45:04.132218Z",
     "shell.execute_reply": "2022-11-29T06:45:04.132740Z",
     "shell.execute_reply.started": "2022-11-29T06:44:19.774263Z"
    },
    "papermill": {
     "duration": 0.040699,
     "end_time": "2022-11-29T06:45:04.132932",
     "exception": false,
     "start_time": "2022-11-29T06:45:04.092233",
     "status": "completed"
    },
    "tags": []
   },
   "outputs": [],
   "source": [
    "qr1=df['age'].quantile(0.25)\n",
    "qr3=df['age'].quantile(0.75)\n",
    "iqr=qr3-qr1"
   ]
  },
  {
   "cell_type": "code",
   "execution_count": 19,
   "id": "f6e4b143",
   "metadata": {
    "execution": {
     "iopub.execute_input": "2022-11-29T06:45:04.193882Z",
     "iopub.status.busy": "2022-11-29T06:45:04.193129Z",
     "iopub.status.idle": "2022-11-29T06:45:04.199757Z",
     "shell.execute_reply": "2022-11-29T06:45:04.200298Z",
     "shell.execute_reply.started": "2022-11-29T06:44:19.786117Z"
    },
    "papermill": {
     "duration": 0.038969,
     "end_time": "2022-11-29T06:45:04.200513",
     "exception": false,
     "start_time": "2022-11-29T06:45:04.161544",
     "status": "completed"
    },
    "tags": []
   },
   "outputs": [],
   "source": [
    "low_sum=df.loc[df['age']<(qr1-iqr*1.5),'age'].sum()\n",
    "high_sum=df.loc[df['age']>(qr3+iqr*1.5),'age'].sum()\n",
    "iqr_over=high_sum+low_sum"
   ]
  },
  {
   "cell_type": "code",
   "execution_count": 20,
   "id": "652f859c",
   "metadata": {
    "execution": {
     "iopub.execute_input": "2022-11-29T06:45:04.262000Z",
     "iopub.status.busy": "2022-11-29T06:45:04.261201Z",
     "iopub.status.idle": "2022-11-29T06:45:04.268622Z",
     "shell.execute_reply": "2022-11-29T06:45:04.269233Z",
     "shell.execute_reply.started": "2022-11-29T06:44:19.799390Z"
    },
    "papermill": {
     "duration": 0.040063,
     "end_time": "2022-11-29T06:45:04.269439",
     "exception": false,
     "start_time": "2022-11-29T06:45:04.229376",
     "status": "completed"
    },
    "tags": []
   },
   "outputs": [],
   "source": [
    "mean=df['age'].mean()\n",
    "std=df['age'].std()\n",
    "high_sum2=df.loc[df['age']>(mean+1.5*std),'age'].sum()\n",
    "low_sum2=df.loc[df['age']<(mean-1.5*std),'age'].sum()\n",
    "ms_over=high_sum2+low_sum2"
   ]
  },
  {
   "cell_type": "code",
   "execution_count": 21,
   "id": "8a17367e",
   "metadata": {
    "execution": {
     "iopub.execute_input": "2022-11-29T06:45:04.333986Z",
     "iopub.status.busy": "2022-11-29T06:45:04.333163Z",
     "iopub.status.idle": "2022-11-29T06:45:04.336348Z",
     "shell.execute_reply": "2022-11-29T06:45:04.336969Z",
     "shell.execute_reply.started": "2022-11-29T06:44:19.810945Z"
    },
    "papermill": {
     "duration": 0.038886,
     "end_time": "2022-11-29T06:45:04.337176",
     "exception": false,
     "start_time": "2022-11-29T06:45:04.298290",
     "status": "completed"
    },
    "tags": []
   },
   "outputs": [
    {
     "name": "stdout",
     "output_type": "stream",
     "text": [
      "473.5\n"
     ]
    }
   ],
   "source": [
    "print(iqr_over+ms_over)"
   ]
  },
  {
   "cell_type": "markdown",
   "id": "d57ab5b2",
   "metadata": {
    "papermill": {
     "duration": 0.029986,
     "end_time": "2022-11-29T06:45:04.397034",
     "exception": false,
     "start_time": "2022-11-29T06:45:04.367048",
     "status": "completed"
    },
    "tags": []
   },
   "source": [
    "---"
   ]
  },
  {
   "cell_type": "code",
   "execution_count": 22,
   "id": "3e423569",
   "metadata": {
    "execution": {
     "iopub.execute_input": "2022-11-29T06:45:04.460512Z",
     "iopub.status.busy": "2022-11-29T06:45:04.459770Z",
     "iopub.status.idle": "2022-11-29T06:45:04.466860Z",
     "shell.execute_reply": "2022-11-29T06:45:04.467435Z",
     "shell.execute_reply.started": "2022-11-29T06:44:19.825740Z"
    },
    "papermill": {
     "duration": 0.040716,
     "end_time": "2022-11-29T06:45:04.467659",
     "exception": false,
     "start_time": "2022-11-29T06:45:04.426943",
     "status": "completed"
    },
    "tags": []
   },
   "outputs": [],
   "source": [
    "df = pd.read_csv(\"../input/bigdatacertificationkr/basic1.csv\")"
   ]
  },
  {
   "cell_type": "code",
   "execution_count": 23,
   "id": "521a4e00",
   "metadata": {
    "execution": {
     "iopub.execute_input": "2022-11-29T06:45:04.529464Z",
     "iopub.status.busy": "2022-11-29T06:45:04.528678Z",
     "iopub.status.idle": "2022-11-29T06:45:04.538780Z",
     "shell.execute_reply": "2022-11-29T06:45:04.538171Z",
     "shell.execute_reply.started": "2022-11-29T06:44:19.837533Z"
    },
    "papermill": {
     "duration": 0.042355,
     "end_time": "2022-11-29T06:45:04.538960",
     "exception": false,
     "start_time": "2022-11-29T06:45:04.496605",
     "status": "completed"
    },
    "tags": []
   },
   "outputs": [
    {
     "name": "stdout",
     "output_type": "stream",
     "text": [
      "-48.3125 152.1875\n"
     ]
    }
   ],
   "source": [
    "# IQR방식 기준점\n",
    "Q1 = df['age'].quantile(.25)\n",
    "Q3 = df['age'].quantile(.75)\n",
    "IQR = Q3 - Q1\n",
    "min_iqr = Q1-1.5*IQR\n",
    "max_iqr = Q3+1.5*IQR\n",
    "print(min_iqr, max_iqr)"
   ]
  },
  {
   "cell_type": "code",
   "execution_count": 24,
   "id": "3e366282",
   "metadata": {
    "execution": {
     "iopub.execute_input": "2022-11-29T06:45:04.605399Z",
     "iopub.status.busy": "2022-11-29T06:45:04.604341Z",
     "iopub.status.idle": "2022-11-29T06:45:04.610803Z",
     "shell.execute_reply": "2022-11-29T06:45:04.611358Z",
     "shell.execute_reply.started": "2022-11-29T06:44:19.849467Z"
    },
    "papermill": {
     "duration": 0.041899,
     "end_time": "2022-11-29T06:45:04.611555",
     "exception": false,
     "start_time": "2022-11-29T06:45:04.569656",
     "status": "completed"
    },
    "tags": []
   },
   "outputs": [
    {
     "name": "stdout",
     "output_type": "stream",
     "text": [
      "5.298862216116952 96.62713778388306\n"
     ]
    }
   ],
   "source": [
    "# 표준편차*1.5 방식 기준점\n",
    "std = df['age'].std() * 1.5\n",
    "mean = df['age'].mean()\n",
    "min_out = mean - std\n",
    "max_out = mean + std\n",
    "print(min_out, max_out)"
   ]
  },
  {
   "cell_type": "code",
   "execution_count": 25,
   "id": "d4a6ca85",
   "metadata": {
    "execution": {
     "iopub.execute_input": "2022-11-29T06:45:04.677990Z",
     "iopub.status.busy": "2022-11-29T06:45:04.677142Z",
     "iopub.status.idle": "2022-11-29T06:45:04.683520Z",
     "shell.execute_reply": "2022-11-29T06:45:04.682959Z",
     "shell.execute_reply.started": "2022-11-29T06:44:19.862343Z"
    },
    "papermill": {
     "duration": 0.042467,
     "end_time": "2022-11-29T06:45:04.683685",
     "exception": false,
     "start_time": "2022-11-29T06:45:04.641218",
     "status": "completed"
    },
    "tags": []
   },
   "outputs": [
    {
     "data": {
      "text/plain": [
       "14"
      ]
     },
     "execution_count": 25,
     "metadata": {},
     "output_type": "execute_result"
    }
   ],
   "source": [
    "# 표준편차*1.5 방식 기준\n",
    "out1 = sum((df['age'] < min_out) | (df['age'] > max_out))\n",
    "out1"
   ]
  },
  {
   "cell_type": "code",
   "execution_count": 26,
   "id": "05f3d474",
   "metadata": {
    "execution": {
     "iopub.execute_input": "2022-11-29T06:45:04.754993Z",
     "iopub.status.busy": "2022-11-29T06:45:04.753795Z",
     "iopub.status.idle": "2022-11-29T06:45:04.759026Z",
     "shell.execute_reply": "2022-11-29T06:45:04.758422Z",
     "shell.execute_reply.started": "2022-11-29T06:44:19.875962Z"
    },
    "papermill": {
     "duration": 0.045133,
     "end_time": "2022-11-29T06:45:04.759179",
     "exception": false,
     "start_time": "2022-11-29T06:45:04.714046",
     "status": "completed"
    },
    "tags": []
   },
   "outputs": [
    {
     "data": {
      "text/plain": [
       "0"
      ]
     },
     "execution_count": 26,
     "metadata": {},
     "output_type": "execute_result"
    }
   ],
   "source": [
    "# IQR방식 기준\n",
    "out2 = sum((df['age'] < min_iqr) | (df['age'] > max_iqr))\n",
    "out2"
   ]
  },
  {
   "cell_type": "code",
   "execution_count": 27,
   "id": "943cd7e8",
   "metadata": {
    "execution": {
     "iopub.execute_input": "2022-11-29T06:45:04.828440Z",
     "iopub.status.busy": "2022-11-29T06:45:04.827705Z",
     "iopub.status.idle": "2022-11-29T06:45:04.830666Z",
     "shell.execute_reply": "2022-11-29T06:45:04.831203Z",
     "shell.execute_reply.started": "2022-11-29T06:44:19.887968Z"
    },
    "papermill": {
     "duration": 0.040133,
     "end_time": "2022-11-29T06:45:04.831395",
     "exception": false,
     "start_time": "2022-11-29T06:45:04.791262",
     "status": "completed"
    },
    "tags": []
   },
   "outputs": [
    {
     "name": "stdout",
     "output_type": "stream",
     "text": [
      "14\n"
     ]
    }
   ],
   "source": [
    "print(out1+out2)"
   ]
  }
 ],
 "metadata": {
  "kernelspec": {
   "display_name": "Python 3",
   "language": "python",
   "name": "python3"
  },
  "language_info": {
   "codemirror_mode": {
    "name": "ipython",
    "version": 3
   },
   "file_extension": ".py",
   "mimetype": "text/x-python",
   "name": "python",
   "nbconvert_exporter": "python",
   "pygments_lexer": "ipython3",
   "version": "3.7.10"
  },
  "papermill": {
   "default_parameters": {},
   "duration": 13.795986,
   "end_time": "2022-11-29T06:45:05.576705",
   "environment_variables": {},
   "exception": null,
   "input_path": "__notebook__.ipynb",
   "output_path": "__notebook__.ipynb",
   "parameters": {},
   "start_time": "2022-11-29T06:44:51.780719",
   "version": "2.3.3"
  }
 },
 "nbformat": 4,
 "nbformat_minor": 5
}
