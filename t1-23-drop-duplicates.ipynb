{
 "cells": [
  {
   "cell_type": "markdown",
   "id": "ce82430e",
   "metadata": {
    "papermill": {
     "duration": 0.016221,
     "end_time": "2022-11-18T12:12:08.249629",
     "exception": false,
     "start_time": "2022-11-18T12:12:08.233408",
     "status": "completed"
    },
    "tags": []
   },
   "source": [
    "## f1의 결측치를 채운 후 age 컬럼의 중복 제거 전과 후의 'f1' 중앙값 차이를 구하시오 \n",
    "### - 결측치는 f1의 데이터 중 내림차순 정렬 후 10번째 값으로 채움\n",
    "### - 중복 데이터 발생시 뒤에 나오는 데이터를 삭제함\n",
    "### - 최종 결과값은 절대값으로 출력\n",
    "\n",
    "- 데이터셋 : basic1.csv\n",
    "- 오른쪽 상단 copy&edit 클릭 -> 예상문제 풀이 시작"
   ]
  },
  {
   "cell_type": "code",
   "execution_count": 1,
   "id": "91ca9b15",
   "metadata": {
    "execution": {
     "iopub.execute_input": "2022-11-18T12:12:08.295440Z",
     "iopub.status.busy": "2022-11-18T12:12:08.294433Z",
     "iopub.status.idle": "2022-11-18T12:12:08.349089Z",
     "shell.execute_reply": "2022-11-18T12:12:08.348253Z",
     "shell.execute_reply.started": "2022-11-18T12:11:42.336711Z"
    },
    "papermill": {
     "duration": 0.084081,
     "end_time": "2022-11-18T12:12:08.349279",
     "exception": false,
     "start_time": "2022-11-18T12:12:08.265198",
     "status": "completed"
    },
    "tags": []
   },
   "outputs": [
    {
     "data": {
      "text/html": [
       "<div>\n",
       "<style scoped>\n",
       "    .dataframe tbody tr th:only-of-type {\n",
       "        vertical-align: middle;\n",
       "    }\n",
       "\n",
       "    .dataframe tbody tr th {\n",
       "        vertical-align: top;\n",
       "    }\n",
       "\n",
       "    .dataframe thead th {\n",
       "        text-align: right;\n",
       "    }\n",
       "</style>\n",
       "<table border=\"1\" class=\"dataframe\">\n",
       "  <thead>\n",
       "    <tr style=\"text-align: right;\">\n",
       "      <th></th>\n",
       "      <th>id</th>\n",
       "      <th>age</th>\n",
       "      <th>city</th>\n",
       "      <th>f1</th>\n",
       "      <th>f2</th>\n",
       "      <th>f3</th>\n",
       "      <th>f4</th>\n",
       "      <th>f5</th>\n",
       "    </tr>\n",
       "  </thead>\n",
       "  <tbody>\n",
       "    <tr>\n",
       "      <th>0</th>\n",
       "      <td>id01</td>\n",
       "      <td>2.0</td>\n",
       "      <td>서울</td>\n",
       "      <td>NaN</td>\n",
       "      <td>0</td>\n",
       "      <td>NaN</td>\n",
       "      <td>ENFJ</td>\n",
       "      <td>91.297791</td>\n",
       "    </tr>\n",
       "    <tr>\n",
       "      <th>1</th>\n",
       "      <td>id02</td>\n",
       "      <td>9.0</td>\n",
       "      <td>서울</td>\n",
       "      <td>70.0</td>\n",
       "      <td>1</td>\n",
       "      <td>NaN</td>\n",
       "      <td>ENFJ</td>\n",
       "      <td>60.339826</td>\n",
       "    </tr>\n",
       "    <tr>\n",
       "      <th>2</th>\n",
       "      <td>id03</td>\n",
       "      <td>27.0</td>\n",
       "      <td>서울</td>\n",
       "      <td>61.0</td>\n",
       "      <td>1</td>\n",
       "      <td>NaN</td>\n",
       "      <td>ISTJ</td>\n",
       "      <td>17.252986</td>\n",
       "    </tr>\n",
       "    <tr>\n",
       "      <th>3</th>\n",
       "      <td>id04</td>\n",
       "      <td>75.0</td>\n",
       "      <td>서울</td>\n",
       "      <td>NaN</td>\n",
       "      <td>2</td>\n",
       "      <td>NaN</td>\n",
       "      <td>INFP</td>\n",
       "      <td>52.667078</td>\n",
       "    </tr>\n",
       "    <tr>\n",
       "      <th>4</th>\n",
       "      <td>id05</td>\n",
       "      <td>24.0</td>\n",
       "      <td>서울</td>\n",
       "      <td>85.0</td>\n",
       "      <td>2</td>\n",
       "      <td>NaN</td>\n",
       "      <td>ISFJ</td>\n",
       "      <td>29.269869</td>\n",
       "    </tr>\n",
       "    <tr>\n",
       "      <th>...</th>\n",
       "      <td>...</td>\n",
       "      <td>...</td>\n",
       "      <td>...</td>\n",
       "      <td>...</td>\n",
       "      <td>...</td>\n",
       "      <td>...</td>\n",
       "      <td>...</td>\n",
       "      <td>...</td>\n",
       "    </tr>\n",
       "    <tr>\n",
       "      <th>95</th>\n",
       "      <td>id96</td>\n",
       "      <td>92.0</td>\n",
       "      <td>경기</td>\n",
       "      <td>53.0</td>\n",
       "      <td>1</td>\n",
       "      <td>NaN</td>\n",
       "      <td>ENTJ</td>\n",
       "      <td>52.667078</td>\n",
       "    </tr>\n",
       "    <tr>\n",
       "      <th>96</th>\n",
       "      <td>id97</td>\n",
       "      <td>100.0</td>\n",
       "      <td>경기</td>\n",
       "      <td>NaN</td>\n",
       "      <td>0</td>\n",
       "      <td>NaN</td>\n",
       "      <td>INFP</td>\n",
       "      <td>67.886373</td>\n",
       "    </tr>\n",
       "    <tr>\n",
       "      <th>97</th>\n",
       "      <td>id98</td>\n",
       "      <td>39.0</td>\n",
       "      <td>경기</td>\n",
       "      <td>58.0</td>\n",
       "      <td>2</td>\n",
       "      <td>NaN</td>\n",
       "      <td>INFP</td>\n",
       "      <td>98.429899</td>\n",
       "    </tr>\n",
       "    <tr>\n",
       "      <th>98</th>\n",
       "      <td>id99</td>\n",
       "      <td>1.0</td>\n",
       "      <td>경기</td>\n",
       "      <td>47.0</td>\n",
       "      <td>0</td>\n",
       "      <td>NaN</td>\n",
       "      <td>ESFJ</td>\n",
       "      <td>97.381034</td>\n",
       "    </tr>\n",
       "    <tr>\n",
       "      <th>99</th>\n",
       "      <td>id100</td>\n",
       "      <td>47.0</td>\n",
       "      <td>경기</td>\n",
       "      <td>53.0</td>\n",
       "      <td>0</td>\n",
       "      <td>vip</td>\n",
       "      <td>ESFP</td>\n",
       "      <td>33.308999</td>\n",
       "    </tr>\n",
       "  </tbody>\n",
       "</table>\n",
       "<p>100 rows × 8 columns</p>\n",
       "</div>"
      ],
      "text/plain": [
       "       id    age city    f1  f2   f3    f4         f5\n",
       "0    id01    2.0   서울   NaN   0  NaN  ENFJ  91.297791\n",
       "1    id02    9.0   서울  70.0   1  NaN  ENFJ  60.339826\n",
       "2    id03   27.0   서울  61.0   1  NaN  ISTJ  17.252986\n",
       "3    id04   75.0   서울   NaN   2  NaN  INFP  52.667078\n",
       "4    id05   24.0   서울  85.0   2  NaN  ISFJ  29.269869\n",
       "..    ...    ...  ...   ...  ..  ...   ...        ...\n",
       "95   id96   92.0   경기  53.0   1  NaN  ENTJ  52.667078\n",
       "96   id97  100.0   경기   NaN   0  NaN  INFP  67.886373\n",
       "97   id98   39.0   경기  58.0   2  NaN  INFP  98.429899\n",
       "98   id99    1.0   경기  47.0   0  NaN  ESFJ  97.381034\n",
       "99  id100   47.0   경기  53.0   0  vip  ESFP  33.308999\n",
       "\n",
       "[100 rows x 8 columns]"
      ]
     },
     "execution_count": 1,
     "metadata": {},
     "output_type": "execute_result"
    }
   ],
   "source": [
    "import pandas as pd\n",
    "\n",
    "df=pd.read_csv('../input/bigdatacertificationkr/basic1.csv')\n",
    "df"
   ]
  },
  {
   "cell_type": "code",
   "execution_count": 2,
   "id": "03d63285",
   "metadata": {
    "execution": {
     "iopub.execute_input": "2022-11-18T12:12:08.385963Z",
     "iopub.status.busy": "2022-11-18T12:12:08.385212Z",
     "iopub.status.idle": "2022-11-18T12:12:08.418153Z",
     "shell.execute_reply": "2022-11-18T12:12:08.417409Z",
     "shell.execute_reply.started": "2022-11-18T12:11:42.382668Z"
    },
    "papermill": {
     "duration": 0.051463,
     "end_time": "2022-11-18T12:12:08.418332",
     "exception": false,
     "start_time": "2022-11-18T12:12:08.366869",
     "status": "completed"
    },
    "tags": []
   },
   "outputs": [
    {
     "data": {
      "text/html": [
       "<div>\n",
       "<style scoped>\n",
       "    .dataframe tbody tr th:only-of-type {\n",
       "        vertical-align: middle;\n",
       "    }\n",
       "\n",
       "    .dataframe tbody tr th {\n",
       "        vertical-align: top;\n",
       "    }\n",
       "\n",
       "    .dataframe thead th {\n",
       "        text-align: right;\n",
       "    }\n",
       "</style>\n",
       "<table border=\"1\" class=\"dataframe\">\n",
       "  <thead>\n",
       "    <tr style=\"text-align: right;\">\n",
       "      <th></th>\n",
       "      <th>id</th>\n",
       "      <th>age</th>\n",
       "      <th>city</th>\n",
       "      <th>f1</th>\n",
       "      <th>f2</th>\n",
       "      <th>f3</th>\n",
       "      <th>f4</th>\n",
       "      <th>f5</th>\n",
       "    </tr>\n",
       "  </thead>\n",
       "  <tbody>\n",
       "    <tr>\n",
       "      <th>56</th>\n",
       "      <td>id57</td>\n",
       "      <td>3.0</td>\n",
       "      <td>대구</td>\n",
       "      <td>111.0</td>\n",
       "      <td>0</td>\n",
       "      <td>NaN</td>\n",
       "      <td>ISFJ</td>\n",
       "      <td>29.269869</td>\n",
       "    </tr>\n",
       "    <tr>\n",
       "      <th>7</th>\n",
       "      <td>id08</td>\n",
       "      <td>38.0</td>\n",
       "      <td>서울</td>\n",
       "      <td>101.0</td>\n",
       "      <td>1</td>\n",
       "      <td>NaN</td>\n",
       "      <td>INFJ</td>\n",
       "      <td>83.685380</td>\n",
       "    </tr>\n",
       "    <tr>\n",
       "      <th>57</th>\n",
       "      <td>id58</td>\n",
       "      <td>0.0</td>\n",
       "      <td>대구</td>\n",
       "      <td>100.0</td>\n",
       "      <td>2</td>\n",
       "      <td>NaN</td>\n",
       "      <td>ESTP</td>\n",
       "      <td>33.308999</td>\n",
       "    </tr>\n",
       "    <tr>\n",
       "      <th>73</th>\n",
       "      <td>id74</td>\n",
       "      <td>45.0</td>\n",
       "      <td>경기</td>\n",
       "      <td>98.0</td>\n",
       "      <td>0</td>\n",
       "      <td>NaN</td>\n",
       "      <td>ESTP</td>\n",
       "      <td>52.667078</td>\n",
       "    </tr>\n",
       "    <tr>\n",
       "      <th>71</th>\n",
       "      <td>id72</td>\n",
       "      <td>8.0</td>\n",
       "      <td>경기</td>\n",
       "      <td>97.0</td>\n",
       "      <td>0</td>\n",
       "      <td>NaN</td>\n",
       "      <td>ESTJ</td>\n",
       "      <td>97.381034</td>\n",
       "    </tr>\n",
       "    <tr>\n",
       "      <th>...</th>\n",
       "      <td>...</td>\n",
       "      <td>...</td>\n",
       "      <td>...</td>\n",
       "      <td>...</td>\n",
       "      <td>...</td>\n",
       "      <td>...</td>\n",
       "      <td>...</td>\n",
       "      <td>...</td>\n",
       "    </tr>\n",
       "    <tr>\n",
       "      <th>85</th>\n",
       "      <td>id86</td>\n",
       "      <td>2.0</td>\n",
       "      <td>경기</td>\n",
       "      <td>NaN</td>\n",
       "      <td>0</td>\n",
       "      <td>NaN</td>\n",
       "      <td>ESTP</td>\n",
       "      <td>29.269869</td>\n",
       "    </tr>\n",
       "    <tr>\n",
       "      <th>86</th>\n",
       "      <td>id87</td>\n",
       "      <td>19.0</td>\n",
       "      <td>경기</td>\n",
       "      <td>NaN</td>\n",
       "      <td>1</td>\n",
       "      <td>NaN</td>\n",
       "      <td>ISFP</td>\n",
       "      <td>97.381034</td>\n",
       "    </tr>\n",
       "    <tr>\n",
       "      <th>89</th>\n",
       "      <td>id90</td>\n",
       "      <td>54.0</td>\n",
       "      <td>경기</td>\n",
       "      <td>NaN</td>\n",
       "      <td>0</td>\n",
       "      <td>NaN</td>\n",
       "      <td>ENTP</td>\n",
       "      <td>29.269869</td>\n",
       "    </tr>\n",
       "    <tr>\n",
       "      <th>93</th>\n",
       "      <td>id94</td>\n",
       "      <td>84.0</td>\n",
       "      <td>경기</td>\n",
       "      <td>NaN</td>\n",
       "      <td>1</td>\n",
       "      <td>NaN</td>\n",
       "      <td>ESTJ</td>\n",
       "      <td>90.496999</td>\n",
       "    </tr>\n",
       "    <tr>\n",
       "      <th>96</th>\n",
       "      <td>id97</td>\n",
       "      <td>100.0</td>\n",
       "      <td>경기</td>\n",
       "      <td>NaN</td>\n",
       "      <td>0</td>\n",
       "      <td>NaN</td>\n",
       "      <td>INFP</td>\n",
       "      <td>67.886373</td>\n",
       "    </tr>\n",
       "  </tbody>\n",
       "</table>\n",
       "<p>100 rows × 8 columns</p>\n",
       "</div>"
      ],
      "text/plain": [
       "      id    age city     f1  f2   f3    f4         f5\n",
       "56  id57    3.0   대구  111.0   0  NaN  ISFJ  29.269869\n",
       "7   id08   38.0   서울  101.0   1  NaN  INFJ  83.685380\n",
       "57  id58    0.0   대구  100.0   2  NaN  ESTP  33.308999\n",
       "73  id74   45.0   경기   98.0   0  NaN  ESTP  52.667078\n",
       "71  id72    8.0   경기   97.0   0  NaN  ESTJ  97.381034\n",
       "..   ...    ...  ...    ...  ..  ...   ...        ...\n",
       "85  id86    2.0   경기    NaN   0  NaN  ESTP  29.269869\n",
       "86  id87   19.0   경기    NaN   1  NaN  ISFP  97.381034\n",
       "89  id90   54.0   경기    NaN   0  NaN  ENTP  29.269869\n",
       "93  id94   84.0   경기    NaN   1  NaN  ESTJ  90.496999\n",
       "96  id97  100.0   경기    NaN   0  NaN  INFP  67.886373\n",
       "\n",
       "[100 rows x 8 columns]"
      ]
     },
     "execution_count": 2,
     "metadata": {},
     "output_type": "execute_result"
    }
   ],
   "source": [
    "# 'f1' 컬럼 기준 내림차순 정렬\n",
    "df.sort_values('f1',ascending=False,inplace=True)\n",
    "df"
   ]
  },
  {
   "cell_type": "code",
   "execution_count": 3,
   "id": "4c8ec6cd",
   "metadata": {
    "execution": {
     "iopub.execute_input": "2022-11-18T12:12:08.452794Z",
     "iopub.status.busy": "2022-11-18T12:12:08.452050Z",
     "iopub.status.idle": "2022-11-18T12:12:08.459040Z",
     "shell.execute_reply": "2022-11-18T12:12:08.459647Z",
     "shell.execute_reply.started": "2022-11-18T12:11:42.409641Z"
    },
    "papermill": {
     "duration": 0.025846,
     "end_time": "2022-11-18T12:12:08.459856",
     "exception": false,
     "start_time": "2022-11-18T12:12:08.434010",
     "status": "completed"
    },
    "tags": []
   },
   "outputs": [
    {
     "data": {
      "text/plain": [
       "id           id45\n",
       "age          97.0\n",
       "city           대구\n",
       "f1           88.0\n",
       "f2              0\n",
       "f3            NaN\n",
       "f4           ENFJ\n",
       "f5      13.049921\n",
       "Name: 44, dtype: object"
      ]
     },
     "execution_count": 3,
     "metadata": {},
     "output_type": "execute_result"
    }
   ],
   "source": [
    "# 10번째 위치한 행의 데이터 확인\n",
    "df.iloc[9]"
   ]
  },
  {
   "cell_type": "code",
   "execution_count": 4,
   "id": "2cb50d01",
   "metadata": {
    "execution": {
     "iopub.execute_input": "2022-11-18T12:12:08.495180Z",
     "iopub.status.busy": "2022-11-18T12:12:08.494429Z",
     "iopub.status.idle": "2022-11-18T12:12:08.499926Z",
     "shell.execute_reply": "2022-11-18T12:12:08.500554Z",
     "shell.execute_reply.started": "2022-11-18T12:11:42.419751Z"
    },
    "papermill": {
     "duration": 0.025102,
     "end_time": "2022-11-18T12:12:08.500749",
     "exception": false,
     "start_time": "2022-11-18T12:12:08.475647",
     "status": "completed"
    },
    "tags": []
   },
   "outputs": [
    {
     "data": {
      "text/plain": [
       "31"
      ]
     },
     "execution_count": 4,
     "metadata": {},
     "output_type": "execute_result"
    }
   ],
   "source": [
    "# 'f1'의 결측치 개수\n",
    "df['f1'].isnull().sum()"
   ]
  },
  {
   "cell_type": "code",
   "execution_count": 5,
   "id": "378b01d1",
   "metadata": {
    "execution": {
     "iopub.execute_input": "2022-11-18T12:12:08.538037Z",
     "iopub.status.busy": "2022-11-18T12:12:08.537307Z",
     "iopub.status.idle": "2022-11-18T12:12:08.544894Z",
     "shell.execute_reply": "2022-11-18T12:12:08.545540Z",
     "shell.execute_reply.started": "2022-11-18T12:11:42.434369Z"
    },
    "papermill": {
     "duration": 0.027644,
     "end_time": "2022-11-18T12:12:08.545749",
     "exception": false,
     "start_time": "2022-11-18T12:12:08.518105",
     "status": "completed"
    },
    "tags": []
   },
   "outputs": [
    {
     "data": {
      "text/plain": [
       "0"
      ]
     },
     "execution_count": 5,
     "metadata": {},
     "output_type": "execute_result"
    }
   ],
   "source": [
    "# 'f1'의 결측치를 10번째 데이터의 'f1' 값으로 대체\n",
    "df['f1']=df['f1'].fillna(df.iloc[9]['f1'])\n",
    "df['f1'].isnull().sum()"
   ]
  },
  {
   "cell_type": "code",
   "execution_count": 6,
   "id": "dbc523ce",
   "metadata": {
    "execution": {
     "iopub.execute_input": "2022-11-18T12:12:08.581367Z",
     "iopub.status.busy": "2022-11-18T12:12:08.580647Z",
     "iopub.status.idle": "2022-11-18T12:12:08.585905Z",
     "shell.execute_reply": "2022-11-18T12:12:08.586485Z",
     "shell.execute_reply.started": "2022-11-18T12:11:42.451470Z"
    },
    "papermill": {
     "duration": 0.024922,
     "end_time": "2022-11-18T12:12:08.586691",
     "exception": false,
     "start_time": "2022-11-18T12:12:08.561769",
     "status": "completed"
    },
    "tags": []
   },
   "outputs": [
    {
     "data": {
      "text/plain": [
       "77.5"
      ]
     },
     "execution_count": 6,
     "metadata": {},
     "output_type": "execute_result"
    }
   ],
   "source": [
    "# 결측치를 채운 후 'f1' 컬럼의 중앙값\n",
    "m1=df['f1'].median()\n",
    "m1"
   ]
  },
  {
   "cell_type": "code",
   "execution_count": 7,
   "id": "b3a18d8b",
   "metadata": {
    "execution": {
     "iopub.execute_input": "2022-11-18T12:12:08.629932Z",
     "iopub.status.busy": "2022-11-18T12:12:08.629121Z",
     "iopub.status.idle": "2022-11-18T12:12:08.654231Z",
     "shell.execute_reply": "2022-11-18T12:12:08.654788Z",
     "shell.execute_reply.started": "2022-11-18T12:11:42.472077Z"
    },
    "papermill": {
     "duration": 0.051682,
     "end_time": "2022-11-18T12:12:08.654990",
     "exception": false,
     "start_time": "2022-11-18T12:12:08.603308",
     "status": "completed"
    },
    "tags": []
   },
   "outputs": [
    {
     "data": {
      "text/html": [
       "<div>\n",
       "<style scoped>\n",
       "    .dataframe tbody tr th:only-of-type {\n",
       "        vertical-align: middle;\n",
       "    }\n",
       "\n",
       "    .dataframe tbody tr th {\n",
       "        vertical-align: top;\n",
       "    }\n",
       "\n",
       "    .dataframe thead th {\n",
       "        text-align: right;\n",
       "    }\n",
       "</style>\n",
       "<table border=\"1\" class=\"dataframe\">\n",
       "  <thead>\n",
       "    <tr style=\"text-align: right;\">\n",
       "      <th></th>\n",
       "      <th>id</th>\n",
       "      <th>age</th>\n",
       "      <th>city</th>\n",
       "      <th>f1</th>\n",
       "      <th>f2</th>\n",
       "      <th>f3</th>\n",
       "      <th>f4</th>\n",
       "      <th>f5</th>\n",
       "    </tr>\n",
       "  </thead>\n",
       "  <tbody>\n",
       "    <tr>\n",
       "      <th>68</th>\n",
       "      <td>id69</td>\n",
       "      <td>75.0</td>\n",
       "      <td>경기</td>\n",
       "      <td>85.0</td>\n",
       "      <td>0</td>\n",
       "      <td>NaN</td>\n",
       "      <td>ESTJ</td>\n",
       "      <td>69.730313</td>\n",
       "    </tr>\n",
       "    <tr>\n",
       "      <th>51</th>\n",
       "      <td>id52</td>\n",
       "      <td>97.0</td>\n",
       "      <td>대구</td>\n",
       "      <td>82.0</td>\n",
       "      <td>1</td>\n",
       "      <td>NaN</td>\n",
       "      <td>ISFJ</td>\n",
       "      <td>90.496999</td>\n",
       "    </tr>\n",
       "    <tr>\n",
       "      <th>91</th>\n",
       "      <td>id92</td>\n",
       "      <td>97.0</td>\n",
       "      <td>경기</td>\n",
       "      <td>78.0</td>\n",
       "      <td>1</td>\n",
       "      <td>NaN</td>\n",
       "      <td>INFP</td>\n",
       "      <td>97.381034</td>\n",
       "    </tr>\n",
       "    <tr>\n",
       "      <th>30</th>\n",
       "      <td>id31</td>\n",
       "      <td>86.0</td>\n",
       "      <td>부산</td>\n",
       "      <td>77.0</td>\n",
       "      <td>0</td>\n",
       "      <td>NaN</td>\n",
       "      <td>ESFJ</td>\n",
       "      <td>73.586397</td>\n",
       "    </tr>\n",
       "    <tr>\n",
       "      <th>35</th>\n",
       "      <td>id36</td>\n",
       "      <td>68.0</td>\n",
       "      <td>부산</td>\n",
       "      <td>77.0</td>\n",
       "      <td>1</td>\n",
       "      <td>NaN</td>\n",
       "      <td>INTP</td>\n",
       "      <td>13.049921</td>\n",
       "    </tr>\n",
       "    <tr>\n",
       "      <th>88</th>\n",
       "      <td>id89</td>\n",
       "      <td>34.0</td>\n",
       "      <td>경기</td>\n",
       "      <td>66.0</td>\n",
       "      <td>1</td>\n",
       "      <td>NaN</td>\n",
       "      <td>ENTJ</td>\n",
       "      <td>33.308999</td>\n",
       "    </tr>\n",
       "    <tr>\n",
       "      <th>54</th>\n",
       "      <td>id55</td>\n",
       "      <td>75.0</td>\n",
       "      <td>대구</td>\n",
       "      <td>63.0</td>\n",
       "      <td>2</td>\n",
       "      <td>NaN</td>\n",
       "      <td>ENTP</td>\n",
       "      <td>13.049921</td>\n",
       "    </tr>\n",
       "    <tr>\n",
       "      <th>5</th>\n",
       "      <td>id06</td>\n",
       "      <td>22.0</td>\n",
       "      <td>서울</td>\n",
       "      <td>57.0</td>\n",
       "      <td>0</td>\n",
       "      <td>vip</td>\n",
       "      <td>INTP</td>\n",
       "      <td>20.129444</td>\n",
       "    </tr>\n",
       "    <tr>\n",
       "      <th>95</th>\n",
       "      <td>id96</td>\n",
       "      <td>92.0</td>\n",
       "      <td>경기</td>\n",
       "      <td>53.0</td>\n",
       "      <td>1</td>\n",
       "      <td>NaN</td>\n",
       "      <td>ENTJ</td>\n",
       "      <td>52.667078</td>\n",
       "    </tr>\n",
       "    <tr>\n",
       "      <th>99</th>\n",
       "      <td>id100</td>\n",
       "      <td>47.0</td>\n",
       "      <td>경기</td>\n",
       "      <td>53.0</td>\n",
       "      <td>0</td>\n",
       "      <td>vip</td>\n",
       "      <td>ESFP</td>\n",
       "      <td>33.308999</td>\n",
       "    </tr>\n",
       "    <tr>\n",
       "      <th>80</th>\n",
       "      <td>id81</td>\n",
       "      <td>86.0</td>\n",
       "      <td>경기</td>\n",
       "      <td>50.0</td>\n",
       "      <td>1</td>\n",
       "      <td>NaN</td>\n",
       "      <td>ISFJ</td>\n",
       "      <td>37.113739</td>\n",
       "    </tr>\n",
       "    <tr>\n",
       "      <th>38</th>\n",
       "      <td>id39</td>\n",
       "      <td>56.0</td>\n",
       "      <td>부산</td>\n",
       "      <td>50.0</td>\n",
       "      <td>0</td>\n",
       "      <td>NaN</td>\n",
       "      <td>INFJ</td>\n",
       "      <td>33.308999</td>\n",
       "    </tr>\n",
       "    <tr>\n",
       "      <th>67</th>\n",
       "      <td>id68</td>\n",
       "      <td>35.0</td>\n",
       "      <td>경기</td>\n",
       "      <td>45.0</td>\n",
       "      <td>2</td>\n",
       "      <td>NaN</td>\n",
       "      <td>ISFP</td>\n",
       "      <td>67.886373</td>\n",
       "    </tr>\n",
       "    <tr>\n",
       "      <th>83</th>\n",
       "      <td>id84</td>\n",
       "      <td>66.0</td>\n",
       "      <td>경기</td>\n",
       "      <td>44.0</td>\n",
       "      <td>0</td>\n",
       "      <td>NaN</td>\n",
       "      <td>INTP</td>\n",
       "      <td>83.685380</td>\n",
       "    </tr>\n",
       "    <tr>\n",
       "      <th>94</th>\n",
       "      <td>id95</td>\n",
       "      <td>77.0</td>\n",
       "      <td>경기</td>\n",
       "      <td>43.0</td>\n",
       "      <td>1</td>\n",
       "      <td>NaN</td>\n",
       "      <td>INTJ</td>\n",
       "      <td>91.297791</td>\n",
       "    </tr>\n",
       "    <tr>\n",
       "      <th>27</th>\n",
       "      <td>id28</td>\n",
       "      <td>38.0</td>\n",
       "      <td>부산</td>\n",
       "      <td>34.0</td>\n",
       "      <td>1</td>\n",
       "      <td>NaN</td>\n",
       "      <td>ENTP</td>\n",
       "      <td>80.138280</td>\n",
       "    </tr>\n",
       "    <tr>\n",
       "      <th>76</th>\n",
       "      <td>id77</td>\n",
       "      <td>77.0</td>\n",
       "      <td>경기</td>\n",
       "      <td>31.0</td>\n",
       "      <td>0</td>\n",
       "      <td>NaN</td>\n",
       "      <td>INFP</td>\n",
       "      <td>98.429899</td>\n",
       "    </tr>\n",
       "    <tr>\n",
       "      <th>3</th>\n",
       "      <td>id04</td>\n",
       "      <td>75.0</td>\n",
       "      <td>서울</td>\n",
       "      <td>88.0</td>\n",
       "      <td>2</td>\n",
       "      <td>NaN</td>\n",
       "      <td>INFP</td>\n",
       "      <td>52.667078</td>\n",
       "    </tr>\n",
       "    <tr>\n",
       "      <th>24</th>\n",
       "      <td>id25</td>\n",
       "      <td>34.0</td>\n",
       "      <td>부산</td>\n",
       "      <td>88.0</td>\n",
       "      <td>0</td>\n",
       "      <td>NaN</td>\n",
       "      <td>ESTP</td>\n",
       "      <td>60.339826</td>\n",
       "    </tr>\n",
       "    <tr>\n",
       "      <th>33</th>\n",
       "      <td>id34</td>\n",
       "      <td>65.0</td>\n",
       "      <td>부산</td>\n",
       "      <td>88.0</td>\n",
       "      <td>1</td>\n",
       "      <td>NaN</td>\n",
       "      <td>INFP</td>\n",
       "      <td>48.431184</td>\n",
       "    </tr>\n",
       "    <tr>\n",
       "      <th>37</th>\n",
       "      <td>id38</td>\n",
       "      <td>87.0</td>\n",
       "      <td>부산</td>\n",
       "      <td>88.0</td>\n",
       "      <td>1</td>\n",
       "      <td>NaN</td>\n",
       "      <td>ESTP</td>\n",
       "      <td>83.685380</td>\n",
       "    </tr>\n",
       "    <tr>\n",
       "      <th>53</th>\n",
       "      <td>id54</td>\n",
       "      <td>53.0</td>\n",
       "      <td>대구</td>\n",
       "      <td>88.0</td>\n",
       "      <td>1</td>\n",
       "      <td>NaN</td>\n",
       "      <td>ENFJ</td>\n",
       "      <td>69.730313</td>\n",
       "    </tr>\n",
       "    <tr>\n",
       "      <th>59</th>\n",
       "      <td>id60</td>\n",
       "      <td>56.0</td>\n",
       "      <td>경기</td>\n",
       "      <td>88.0</td>\n",
       "      <td>0</td>\n",
       "      <td>NaN</td>\n",
       "      <td>ESFP</td>\n",
       "      <td>52.667078</td>\n",
       "    </tr>\n",
       "    <tr>\n",
       "      <th>61</th>\n",
       "      <td>id62</td>\n",
       "      <td>52.0</td>\n",
       "      <td>경기</td>\n",
       "      <td>88.0</td>\n",
       "      <td>0</td>\n",
       "      <td>NaN</td>\n",
       "      <td>INTP</td>\n",
       "      <td>60.339826</td>\n",
       "    </tr>\n",
       "    <tr>\n",
       "      <th>65</th>\n",
       "      <td>id66</td>\n",
       "      <td>87.0</td>\n",
       "      <td>경기</td>\n",
       "      <td>88.0</td>\n",
       "      <td>1</td>\n",
       "      <td>NaN</td>\n",
       "      <td>ISFP</td>\n",
       "      <td>17.252986</td>\n",
       "    </tr>\n",
       "    <tr>\n",
       "      <th>72</th>\n",
       "      <td>id73</td>\n",
       "      <td>90.0</td>\n",
       "      <td>경기</td>\n",
       "      <td>88.0</td>\n",
       "      <td>1</td>\n",
       "      <td>NaN</td>\n",
       "      <td>ISFJ</td>\n",
       "      <td>73.586397</td>\n",
       "    </tr>\n",
       "    <tr>\n",
       "      <th>78</th>\n",
       "      <td>id79</td>\n",
       "      <td>30.0</td>\n",
       "      <td>경기</td>\n",
       "      <td>88.0</td>\n",
       "      <td>0</td>\n",
       "      <td>NaN</td>\n",
       "      <td>INTJ</td>\n",
       "      <td>80.138280</td>\n",
       "    </tr>\n",
       "    <tr>\n",
       "      <th>85</th>\n",
       "      <td>id86</td>\n",
       "      <td>2.0</td>\n",
       "      <td>경기</td>\n",
       "      <td>88.0</td>\n",
       "      <td>0</td>\n",
       "      <td>NaN</td>\n",
       "      <td>ESTP</td>\n",
       "      <td>29.269869</td>\n",
       "    </tr>\n",
       "    <tr>\n",
       "      <th>96</th>\n",
       "      <td>id97</td>\n",
       "      <td>100.0</td>\n",
       "      <td>경기</td>\n",
       "      <td>88.0</td>\n",
       "      <td>0</td>\n",
       "      <td>NaN</td>\n",
       "      <td>INFP</td>\n",
       "      <td>67.886373</td>\n",
       "    </tr>\n",
       "  </tbody>\n",
       "</table>\n",
       "</div>"
      ],
      "text/plain": [
       "       id    age city    f1  f2   f3    f4         f5\n",
       "68   id69   75.0   경기  85.0   0  NaN  ESTJ  69.730313\n",
       "51   id52   97.0   대구  82.0   1  NaN  ISFJ  90.496999\n",
       "91   id92   97.0   경기  78.0   1  NaN  INFP  97.381034\n",
       "30   id31   86.0   부산  77.0   0  NaN  ESFJ  73.586397\n",
       "35   id36   68.0   부산  77.0   1  NaN  INTP  13.049921\n",
       "88   id89   34.0   경기  66.0   1  NaN  ENTJ  33.308999\n",
       "54   id55   75.0   대구  63.0   2  NaN  ENTP  13.049921\n",
       "5    id06   22.0   서울  57.0   0  vip  INTP  20.129444\n",
       "95   id96   92.0   경기  53.0   1  NaN  ENTJ  52.667078\n",
       "99  id100   47.0   경기  53.0   0  vip  ESFP  33.308999\n",
       "80   id81   86.0   경기  50.0   1  NaN  ISFJ  37.113739\n",
       "38   id39   56.0   부산  50.0   0  NaN  INFJ  33.308999\n",
       "67   id68   35.0   경기  45.0   2  NaN  ISFP  67.886373\n",
       "83   id84   66.0   경기  44.0   0  NaN  INTP  83.685380\n",
       "94   id95   77.0   경기  43.0   1  NaN  INTJ  91.297791\n",
       "27   id28   38.0   부산  34.0   1  NaN  ENTP  80.138280\n",
       "76   id77   77.0   경기  31.0   0  NaN  INFP  98.429899\n",
       "3    id04   75.0   서울  88.0   2  NaN  INFP  52.667078\n",
       "24   id25   34.0   부산  88.0   0  NaN  ESTP  60.339826\n",
       "33   id34   65.0   부산  88.0   1  NaN  INFP  48.431184\n",
       "37   id38   87.0   부산  88.0   1  NaN  ESTP  83.685380\n",
       "53   id54   53.0   대구  88.0   1  NaN  ENFJ  69.730313\n",
       "59   id60   56.0   경기  88.0   0  NaN  ESFP  52.667078\n",
       "61   id62   52.0   경기  88.0   0  NaN  INTP  60.339826\n",
       "65   id66   87.0   경기  88.0   1  NaN  ISFP  17.252986\n",
       "72   id73   90.0   경기  88.0   1  NaN  ISFJ  73.586397\n",
       "78   id79   30.0   경기  88.0   0  NaN  INTJ  80.138280\n",
       "85   id86    2.0   경기  88.0   0  NaN  ESTP  29.269869\n",
       "96   id97  100.0   경기  88.0   0  NaN  INFP  67.886373"
      ]
     },
     "execution_count": 7,
     "metadata": {},
     "output_type": "execute_result"
    }
   ],
   "source": [
    "# 'age' 컬럼 기준 중복되는 값이 존재하면 첫번째 나오는 값만 남기고 삭제하여 df2로 저장\n",
    "df2=df[df.duplicated(['age'],keep='first')]\n",
    "df2"
   ]
  },
  {
   "cell_type": "code",
   "execution_count": 8,
   "id": "fd19e790",
   "metadata": {
    "execution": {
     "iopub.execute_input": "2022-11-18T12:12:08.693170Z",
     "iopub.status.busy": "2022-11-18T12:12:08.692101Z",
     "iopub.status.idle": "2022-11-18T12:12:08.698297Z",
     "shell.execute_reply": "2022-11-18T12:12:08.698887Z",
     "shell.execute_reply.started": "2022-11-18T12:11:42.507507Z"
    },
    "papermill": {
     "duration": 0.026873,
     "end_time": "2022-11-18T12:12:08.699070",
     "exception": false,
     "start_time": "2022-11-18T12:12:08.672197",
     "status": "completed"
    },
    "tags": []
   },
   "outputs": [
    {
     "data": {
      "text/plain": [
       "78.0"
      ]
     },
     "execution_count": 8,
     "metadata": {},
     "output_type": "execute_result"
    }
   ],
   "source": [
    "# df2의 'f1' 컬럼 중앙값\n",
    "m2=df2['f1'].median()\n",
    "m2"
   ]
  },
  {
   "cell_type": "code",
   "execution_count": 9,
   "id": "187364fc",
   "metadata": {
    "execution": {
     "iopub.execute_input": "2022-11-18T12:12:08.737689Z",
     "iopub.status.busy": "2022-11-18T12:12:08.736382Z",
     "iopub.status.idle": "2022-11-18T12:12:08.742181Z",
     "shell.execute_reply": "2022-11-18T12:12:08.742770Z",
     "shell.execute_reply.started": "2022-11-18T12:11:42.520778Z"
    },
    "papermill": {
     "duration": 0.026608,
     "end_time": "2022-11-18T12:12:08.742954",
     "exception": false,
     "start_time": "2022-11-18T12:12:08.716346",
     "status": "completed"
    },
    "tags": []
   },
   "outputs": [
    {
     "data": {
      "text/plain": [
       "0.5"
      ]
     },
     "execution_count": 9,
     "metadata": {},
     "output_type": "execute_result"
    }
   ],
   "source": [
    "# m1과 m2의 차\n",
    "abs(m1-m2)"
   ]
  },
  {
   "cell_type": "code",
   "execution_count": null,
   "id": "a2f8c351",
   "metadata": {
    "papermill": {
     "duration": 0.017139,
     "end_time": "2022-11-18T12:12:08.777487",
     "exception": false,
     "start_time": "2022-11-18T12:12:08.760348",
     "status": "completed"
    },
    "tags": []
   },
   "outputs": [],
   "source": []
  },
  {
   "cell_type": "code",
   "execution_count": 10,
   "id": "a4ee0c90",
   "metadata": {
    "_cell_guid": "b1076dfc-b9ad-4769-8c92-a6c4dae69d19",
    "_uuid": "8f2839f25d086af736a60e9eeb907d3b93b6e0e5",
    "execution": {
     "iopub.execute_input": "2022-11-18T12:12:08.822153Z",
     "iopub.status.busy": "2022-11-18T12:12:08.821352Z",
     "iopub.status.idle": "2022-11-18T12:12:08.823721Z",
     "shell.execute_reply": "2022-11-18T12:12:08.824322Z",
     "shell.execute_reply.started": "2022-11-18T12:11:42.533482Z"
    },
    "papermill": {
     "duration": 0.029332,
     "end_time": "2022-11-18T12:12:08.824537",
     "exception": false,
     "start_time": "2022-11-18T12:12:08.795205",
     "status": "completed"
    },
    "tags": []
   },
   "outputs": [],
   "source": [
    "import pandas as pd"
   ]
  },
  {
   "cell_type": "code",
   "execution_count": 11,
   "id": "12cc305a",
   "metadata": {
    "execution": {
     "iopub.execute_input": "2022-11-18T12:12:08.870462Z",
     "iopub.status.busy": "2022-11-18T12:12:08.869526Z",
     "iopub.status.idle": "2022-11-18T12:12:08.892718Z",
     "shell.execute_reply": "2022-11-18T12:12:08.892093Z",
     "shell.execute_reply.started": "2022-11-18T12:11:42.546321Z"
    },
    "papermill": {
     "duration": 0.048197,
     "end_time": "2022-11-18T12:12:08.892881",
     "exception": false,
     "start_time": "2022-11-18T12:12:08.844684",
     "status": "completed"
    },
    "tags": []
   },
   "outputs": [
    {
     "data": {
      "text/html": [
       "<div>\n",
       "<style scoped>\n",
       "    .dataframe tbody tr th:only-of-type {\n",
       "        vertical-align: middle;\n",
       "    }\n",
       "\n",
       "    .dataframe tbody tr th {\n",
       "        vertical-align: top;\n",
       "    }\n",
       "\n",
       "    .dataframe thead th {\n",
       "        text-align: right;\n",
       "    }\n",
       "</style>\n",
       "<table border=\"1\" class=\"dataframe\">\n",
       "  <thead>\n",
       "    <tr style=\"text-align: right;\">\n",
       "      <th></th>\n",
       "      <th>id</th>\n",
       "      <th>age</th>\n",
       "      <th>city</th>\n",
       "      <th>f1</th>\n",
       "      <th>f2</th>\n",
       "      <th>f3</th>\n",
       "      <th>f4</th>\n",
       "      <th>f5</th>\n",
       "    </tr>\n",
       "  </thead>\n",
       "  <tbody>\n",
       "    <tr>\n",
       "      <th>95</th>\n",
       "      <td>id96</td>\n",
       "      <td>92.0</td>\n",
       "      <td>경기</td>\n",
       "      <td>53.0</td>\n",
       "      <td>1</td>\n",
       "      <td>NaN</td>\n",
       "      <td>ENTJ</td>\n",
       "      <td>52.667078</td>\n",
       "    </tr>\n",
       "    <tr>\n",
       "      <th>96</th>\n",
       "      <td>id97</td>\n",
       "      <td>100.0</td>\n",
       "      <td>경기</td>\n",
       "      <td>NaN</td>\n",
       "      <td>0</td>\n",
       "      <td>NaN</td>\n",
       "      <td>INFP</td>\n",
       "      <td>67.886373</td>\n",
       "    </tr>\n",
       "    <tr>\n",
       "      <th>97</th>\n",
       "      <td>id98</td>\n",
       "      <td>39.0</td>\n",
       "      <td>경기</td>\n",
       "      <td>58.0</td>\n",
       "      <td>2</td>\n",
       "      <td>NaN</td>\n",
       "      <td>INFP</td>\n",
       "      <td>98.429899</td>\n",
       "    </tr>\n",
       "    <tr>\n",
       "      <th>98</th>\n",
       "      <td>id99</td>\n",
       "      <td>1.0</td>\n",
       "      <td>경기</td>\n",
       "      <td>47.0</td>\n",
       "      <td>0</td>\n",
       "      <td>NaN</td>\n",
       "      <td>ESFJ</td>\n",
       "      <td>97.381034</td>\n",
       "    </tr>\n",
       "    <tr>\n",
       "      <th>99</th>\n",
       "      <td>id100</td>\n",
       "      <td>47.0</td>\n",
       "      <td>경기</td>\n",
       "      <td>53.0</td>\n",
       "      <td>0</td>\n",
       "      <td>vip</td>\n",
       "      <td>ESFP</td>\n",
       "      <td>33.308999</td>\n",
       "    </tr>\n",
       "  </tbody>\n",
       "</table>\n",
       "</div>"
      ],
      "text/plain": [
       "       id    age city    f1  f2   f3    f4         f5\n",
       "95   id96   92.0   경기  53.0   1  NaN  ENTJ  52.667078\n",
       "96   id97  100.0   경기   NaN   0  NaN  INFP  67.886373\n",
       "97   id98   39.0   경기  58.0   2  NaN  INFP  98.429899\n",
       "98   id99    1.0   경기  47.0   0  NaN  ESFJ  97.381034\n",
       "99  id100   47.0   경기  53.0   0  vip  ESFP  33.308999"
      ]
     },
     "execution_count": 11,
     "metadata": {},
     "output_type": "execute_result"
    }
   ],
   "source": [
    "df = pd.read_csv('../input/bigdatacertificationkr/basic1.csv')\n",
    "df.tail()"
   ]
  },
  {
   "cell_type": "code",
   "execution_count": 12,
   "id": "1d1ba586",
   "metadata": {
    "execution": {
     "iopub.execute_input": "2022-11-18T12:12:08.938030Z",
     "iopub.status.busy": "2022-11-18T12:12:08.937231Z",
     "iopub.status.idle": "2022-11-18T12:12:08.940211Z",
     "shell.execute_reply": "2022-11-18T12:12:08.940757Z",
     "shell.execute_reply.started": "2022-11-18T12:11:42.575445Z"
    },
    "papermill": {
     "duration": 0.029594,
     "end_time": "2022-11-18T12:12:08.940951",
     "exception": false,
     "start_time": "2022-11-18T12:12:08.911357",
     "status": "completed"
    },
    "tags": []
   },
   "outputs": [
    {
     "name": "stdout",
     "output_type": "stream",
     "text": [
      "88.0\n"
     ]
    }
   ],
   "source": [
    "# f1데이터에서 10번째 큰 값으로 결측치를 채움\n",
    "top10 = df['f1'].sort_values(ascending=False).iloc[9]\n",
    "print(top10)\n",
    "df['f1'] = df['f1'].fillna(top10)"
   ]
  },
  {
   "cell_type": "code",
   "execution_count": 13,
   "id": "2f02e86d",
   "metadata": {
    "execution": {
     "iopub.execute_input": "2022-11-18T12:12:08.982960Z",
     "iopub.status.busy": "2022-11-18T12:12:08.982202Z",
     "iopub.status.idle": "2022-11-18T12:12:08.988882Z",
     "shell.execute_reply": "2022-11-18T12:12:08.989379Z",
     "shell.execute_reply.started": "2022-11-18T12:11:42.587127Z"
    },
    "papermill": {
     "duration": 0.029295,
     "end_time": "2022-11-18T12:12:08.989683",
     "exception": false,
     "start_time": "2022-11-18T12:12:08.960388",
     "status": "completed"
    },
    "tags": []
   },
   "outputs": [
    {
     "data": {
      "text/plain": [
       "77.5"
      ]
     },
     "execution_count": 13,
     "metadata": {},
     "output_type": "execute_result"
    }
   ],
   "source": [
    "# 중복 제거 전 중앙 값\n",
    "result1 = df['f1'].median()\n",
    "result1"
   ]
  },
  {
   "cell_type": "code",
   "execution_count": 14,
   "id": "11451e67",
   "metadata": {
    "execution": {
     "iopub.execute_input": "2022-11-18T12:12:09.039195Z",
     "iopub.status.busy": "2022-11-18T12:12:09.038343Z",
     "iopub.status.idle": "2022-11-18T12:12:09.041696Z",
     "shell.execute_reply": "2022-11-18T12:12:09.042207Z",
     "shell.execute_reply.started": "2022-11-18T12:11:42.600353Z"
    },
    "papermill": {
     "duration": 0.03154,
     "end_time": "2022-11-18T12:12:09.042392",
     "exception": false,
     "start_time": "2022-11-18T12:12:09.010852",
     "status": "completed"
    },
    "tags": []
   },
   "outputs": [
    {
     "name": "stdout",
     "output_type": "stream",
     "text": [
      "(100, 8)\n",
      "(71, 8)\n"
     ]
    }
   ],
   "source": [
    "# 중복 제거\n",
    "print(df.shape)\n",
    "df = df.drop_duplicates(subset=['age'])\n",
    "print(df.shape)"
   ]
  },
  {
   "cell_type": "code",
   "execution_count": 15,
   "id": "20fcc5b8",
   "metadata": {
    "execution": {
     "iopub.execute_input": "2022-11-18T12:12:09.087622Z",
     "iopub.status.busy": "2022-11-18T12:12:09.086885Z",
     "iopub.status.idle": "2022-11-18T12:12:09.089677Z",
     "shell.execute_reply": "2022-11-18T12:12:09.090249Z",
     "shell.execute_reply.started": "2022-11-18T12:11:42.617550Z"
    },
    "papermill": {
     "duration": 0.028517,
     "end_time": "2022-11-18T12:12:09.090437",
     "exception": false,
     "start_time": "2022-11-18T12:12:09.061920",
     "status": "completed"
    },
    "tags": []
   },
   "outputs": [
    {
     "data": {
      "text/plain": [
       "77.0"
      ]
     },
     "execution_count": 15,
     "metadata": {},
     "output_type": "execute_result"
    }
   ],
   "source": [
    "# 중복 제거 후 중앙 값\n",
    "result2 = df['f1'].median()\n",
    "result2"
   ]
  },
  {
   "cell_type": "code",
   "execution_count": 16,
   "id": "af9f77af",
   "metadata": {
    "execution": {
     "iopub.execute_input": "2022-11-18T12:12:09.133029Z",
     "iopub.status.busy": "2022-11-18T12:12:09.132252Z",
     "iopub.status.idle": "2022-11-18T12:12:09.137714Z",
     "shell.execute_reply": "2022-11-18T12:12:09.138779Z",
     "shell.execute_reply.started": "2022-11-18T12:11:42.629518Z"
    },
    "papermill": {
     "duration": 0.029284,
     "end_time": "2022-11-18T12:12:09.139039",
     "exception": false,
     "start_time": "2022-11-18T12:12:09.109755",
     "status": "completed"
    },
    "tags": []
   },
   "outputs": [
    {
     "name": "stdout",
     "output_type": "stream",
     "text": [
      "0.5\n"
     ]
    }
   ],
   "source": [
    "# 차이 (절대값)\n",
    "print(abs(result1 - result2))"
   ]
  }
 ],
 "metadata": {
  "kernelspec": {
   "display_name": "Python 3",
   "language": "python",
   "name": "python3"
  },
  "language_info": {
   "codemirror_mode": {
    "name": "ipython",
    "version": 3
   },
   "file_extension": ".py",
   "mimetype": "text/x-python",
   "name": "python",
   "nbconvert_exporter": "python",
   "pygments_lexer": "ipython3",
   "version": "3.7.10"
  },
  "papermill": {
   "default_parameters": {},
   "duration": 11.080691,
   "end_time": "2022-11-18T12:12:09.769359",
   "environment_variables": {},
   "exception": null,
   "input_path": "__notebook__.ipynb",
   "output_path": "__notebook__.ipynb",
   "parameters": {},
   "start_time": "2022-11-18T12:11:58.688668",
   "version": "2.3.3"
  }
 },
 "nbformat": 4,
 "nbformat_minor": 5
}
