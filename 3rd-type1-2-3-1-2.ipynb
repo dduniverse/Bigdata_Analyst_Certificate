{
 "cells": [
  {
   "cell_type": "markdown",
   "id": "a6a065b1",
   "metadata": {
    "papermill": {
     "duration": 0.003504,
     "end_time": "2022-12-01T11:25:00.159792",
     "exception": false,
     "start_time": "2022-12-01T11:25:00.156288",
     "status": "completed"
    },
    "tags": []
   },
   "source": [
    "### 풀이 영상: https://youtu.be/QpNufh_ZV7A?t=133"
   ]
  },
  {
   "cell_type": "markdown",
   "id": "c0fc18cf",
   "metadata": {
    "papermill": {
     "duration": 0.002487,
     "end_time": "2022-12-01T11:25:00.164971",
     "exception": false,
     "start_time": "2022-12-01T11:25:00.162484",
     "status": "completed"
    },
    "tags": []
   },
   "source": [
    "# Q. 결측치 데이터(행)을 제거하고, 앞에서부터 60% 데이터만 활용해, 'f1' 컬럼 3사분위 값을 구하시오 \n",
    "- 60%가 소수점일 경우 절사(예: 36.6 일때 36으로 계산)\n",
    "- data: t1-data1.csv"
   ]
  },
  {
   "cell_type": "code",
   "execution_count": 1,
   "id": "80536210",
   "metadata": {
    "_cell_guid": "b1076dfc-b9ad-4769-8c92-a6c4dae69d19",
    "_uuid": "8f2839f25d086af736a60e9eeb907d3b93b6e0e5",
    "execution": {
     "iopub.execute_input": "2022-12-01T11:25:00.172198Z",
     "iopub.status.busy": "2022-12-01T11:25:00.171711Z",
     "iopub.status.idle": "2022-12-01T11:25:00.224726Z",
     "shell.execute_reply": "2022-12-01T11:25:00.223524Z"
    },
    "papermill": {
     "duration": 0.059936,
     "end_time": "2022-12-01T11:25:00.227497",
     "exception": false,
     "start_time": "2022-12-01T11:25:00.167561",
     "status": "completed"
    },
    "tags": []
   },
   "outputs": [
    {
     "data": {
      "text/html": [
       "<div>\n",
       "<style scoped>\n",
       "    .dataframe tbody tr th:only-of-type {\n",
       "        vertical-align: middle;\n",
       "    }\n",
       "\n",
       "    .dataframe tbody tr th {\n",
       "        vertical-align: top;\n",
       "    }\n",
       "\n",
       "    .dataframe thead th {\n",
       "        text-align: right;\n",
       "    }\n",
       "</style>\n",
       "<table border=\"1\" class=\"dataframe\">\n",
       "  <thead>\n",
       "    <tr style=\"text-align: right;\">\n",
       "      <th></th>\n",
       "      <th>id</th>\n",
       "      <th>age</th>\n",
       "      <th>city</th>\n",
       "      <th>f1</th>\n",
       "      <th>f2</th>\n",
       "      <th>f4</th>\n",
       "      <th>f5</th>\n",
       "    </tr>\n",
       "  </thead>\n",
       "  <tbody>\n",
       "    <tr>\n",
       "      <th>0</th>\n",
       "      <td>id01</td>\n",
       "      <td>2.0</td>\n",
       "      <td>서울</td>\n",
       "      <td>NaN</td>\n",
       "      <td>0</td>\n",
       "      <td>ENFJ</td>\n",
       "      <td>91.297791</td>\n",
       "    </tr>\n",
       "    <tr>\n",
       "      <th>1</th>\n",
       "      <td>id02</td>\n",
       "      <td>9.0</td>\n",
       "      <td>서울</td>\n",
       "      <td>70.0</td>\n",
       "      <td>1</td>\n",
       "      <td>ENFJ</td>\n",
       "      <td>60.339826</td>\n",
       "    </tr>\n",
       "    <tr>\n",
       "      <th>2</th>\n",
       "      <td>id03</td>\n",
       "      <td>27.0</td>\n",
       "      <td>서울</td>\n",
       "      <td>61.0</td>\n",
       "      <td>1</td>\n",
       "      <td>ISTJ</td>\n",
       "      <td>17.252986</td>\n",
       "    </tr>\n",
       "    <tr>\n",
       "      <th>3</th>\n",
       "      <td>id04</td>\n",
       "      <td>75.0</td>\n",
       "      <td>서울</td>\n",
       "      <td>NaN</td>\n",
       "      <td>2</td>\n",
       "      <td>INFP</td>\n",
       "      <td>52.667078</td>\n",
       "    </tr>\n",
       "    <tr>\n",
       "      <th>4</th>\n",
       "      <td>id05</td>\n",
       "      <td>24.0</td>\n",
       "      <td>서울</td>\n",
       "      <td>85.0</td>\n",
       "      <td>2</td>\n",
       "      <td>ISFJ</td>\n",
       "      <td>29.269869</td>\n",
       "    </tr>\n",
       "    <tr>\n",
       "      <th>...</th>\n",
       "      <td>...</td>\n",
       "      <td>...</td>\n",
       "      <td>...</td>\n",
       "      <td>...</td>\n",
       "      <td>...</td>\n",
       "      <td>...</td>\n",
       "      <td>...</td>\n",
       "    </tr>\n",
       "    <tr>\n",
       "      <th>85</th>\n",
       "      <td>id86</td>\n",
       "      <td>2.0</td>\n",
       "      <td>경기</td>\n",
       "      <td>NaN</td>\n",
       "      <td>0</td>\n",
       "      <td>ESTP</td>\n",
       "      <td>29.269869</td>\n",
       "    </tr>\n",
       "    <tr>\n",
       "      <th>86</th>\n",
       "      <td>id87</td>\n",
       "      <td>19.0</td>\n",
       "      <td>경기</td>\n",
       "      <td>NaN</td>\n",
       "      <td>1</td>\n",
       "      <td>ISFP</td>\n",
       "      <td>97.381034</td>\n",
       "    </tr>\n",
       "    <tr>\n",
       "      <th>87</th>\n",
       "      <td>id88</td>\n",
       "      <td>89.0</td>\n",
       "      <td>경기</td>\n",
       "      <td>75.0</td>\n",
       "      <td>0</td>\n",
       "      <td>ESTJ</td>\n",
       "      <td>60.339826</td>\n",
       "    </tr>\n",
       "    <tr>\n",
       "      <th>88</th>\n",
       "      <td>id89</td>\n",
       "      <td>34.0</td>\n",
       "      <td>경기</td>\n",
       "      <td>66.0</td>\n",
       "      <td>1</td>\n",
       "      <td>ENTJ</td>\n",
       "      <td>33.308999</td>\n",
       "    </tr>\n",
       "    <tr>\n",
       "      <th>89</th>\n",
       "      <td>id90</td>\n",
       "      <td>54.0</td>\n",
       "      <td>경기</td>\n",
       "      <td>NaN</td>\n",
       "      <td>0</td>\n",
       "      <td>ENTP</td>\n",
       "      <td>29.269869</td>\n",
       "    </tr>\n",
       "  </tbody>\n",
       "</table>\n",
       "<p>90 rows × 7 columns</p>\n",
       "</div>"
      ],
      "text/plain": [
       "      id   age city    f1  f2    f4         f5\n",
       "0   id01   2.0   서울   NaN   0  ENFJ  91.297791\n",
       "1   id02   9.0   서울  70.0   1  ENFJ  60.339826\n",
       "2   id03  27.0   서울  61.0   1  ISTJ  17.252986\n",
       "3   id04  75.0   서울   NaN   2  INFP  52.667078\n",
       "4   id05  24.0   서울  85.0   2  ISFJ  29.269869\n",
       "..   ...   ...  ...   ...  ..   ...        ...\n",
       "85  id86   2.0   경기   NaN   0  ESTP  29.269869\n",
       "86  id87  19.0   경기   NaN   1  ISFP  97.381034\n",
       "87  id88  89.0   경기  75.0   0  ESTJ  60.339826\n",
       "88  id89  34.0   경기  66.0   1  ENTJ  33.308999\n",
       "89  id90  54.0   경기   NaN   0  ENTP  29.269869\n",
       "\n",
       "[90 rows x 7 columns]"
      ]
     },
     "execution_count": 1,
     "metadata": {},
     "output_type": "execute_result"
    }
   ],
   "source": [
    "import pandas as pd\n",
    "df = pd.read_csv(\"../input/big-data-analytics-certification/t1-data1.csv\")\n",
    "df"
   ]
  },
  {
   "cell_type": "markdown",
   "id": "b40d0901",
   "metadata": {
    "papermill": {
     "duration": 0.002569,
     "end_time": "2022-12-01T11:25:00.233085",
     "exception": false,
     "start_time": "2022-12-01T11:25:00.230516",
     "status": "completed"
    },
    "tags": []
   },
   "source": [
    "# Your Code"
   ]
  },
  {
   "cell_type": "code",
   "execution_count": 2,
   "id": "ce119185",
   "metadata": {
    "execution": {
     "iopub.execute_input": "2022-12-01T11:25:00.241036Z",
     "iopub.status.busy": "2022-12-01T11:25:00.240454Z",
     "iopub.status.idle": "2022-12-01T11:25:00.262081Z",
     "shell.execute_reply": "2022-12-01T11:25:00.261014Z"
    },
    "papermill": {
     "duration": 0.02854,
     "end_time": "2022-12-01T11:25:00.264491",
     "exception": false,
     "start_time": "2022-12-01T11:25:00.235951",
     "status": "completed"
    },
    "tags": []
   },
   "outputs": [
    {
     "name": "stdout",
     "output_type": "stream",
     "text": [
      "77.25\n"
     ]
    }
   ],
   "source": [
    "import pandas as pd\n",
    "\n",
    "df = pd.read_csv(\"../input/big-data-analytics-certification/t1-data1.csv\")\n",
    "\n",
    "df=df.dropna(axis=0) # 결측치 제거(행: axis=0)\n",
    "\n",
    "# print(len(df)*0.6) # 36.6\n",
    "df=df[:int(len(df)*0.6)] # 앞에서부터 60% 데이터만 선택\n",
    "\n",
    "print(df['f1'].quantile(0.75))"
   ]
  },
  {
   "cell_type": "markdown",
   "id": "d6bc1af6",
   "metadata": {
    "papermill": {
     "duration": 0.002535,
     "end_time": "2022-12-01T11:25:00.271483",
     "exception": false,
     "start_time": "2022-12-01T11:25:00.268948",
     "status": "completed"
    },
    "tags": []
   },
   "source": [
    "# solution"
   ]
  },
  {
   "cell_type": "code",
   "execution_count": 3,
   "id": "c0a6ae52",
   "metadata": {
    "execution": {
     "iopub.execute_input": "2022-12-01T11:25:00.279094Z",
     "iopub.status.busy": "2022-12-01T11:25:00.278590Z",
     "iopub.status.idle": "2022-12-01T11:25:00.291353Z",
     "shell.execute_reply": "2022-12-01T11:25:00.290130Z"
    },
    "papermill": {
     "duration": 0.020074,
     "end_time": "2022-12-01T11:25:00.294423",
     "exception": false,
     "start_time": "2022-12-01T11:25:00.274349",
     "status": "completed"
    },
    "tags": []
   },
   "outputs": [
    {
     "name": "stdout",
     "output_type": "stream",
     "text": [
      "77.25\n"
     ]
    }
   ],
   "source": [
    "df = pd.read_csv(\"../input/big-data-analytics-certification/t1-data1.csv\")\n",
    "df = df.dropna()\n",
    "df = df.iloc[:int(len(df)*0.6)]\n",
    "print(df['f1'].quantile(.75))"
   ]
  }
 ],
 "metadata": {
  "kernelspec": {
   "display_name": "Python 3",
   "language": "python",
   "name": "python3"
  },
  "language_info": {
   "codemirror_mode": {
    "name": "ipython",
    "version": 3
   },
   "file_extension": ".py",
   "mimetype": "text/x-python",
   "name": "python",
   "nbconvert_exporter": "python",
   "pygments_lexer": "ipython3",
   "version": "3.7.12"
  },
  "papermill": {
   "default_parameters": {},
   "duration": 12.372129,
   "end_time": "2022-12-01T11:25:01.021309",
   "environment_variables": {},
   "exception": null,
   "input_path": "__notebook__.ipynb",
   "output_path": "__notebook__.ipynb",
   "parameters": {},
   "start_time": "2022-12-01T11:24:48.649180",
   "version": "2.3.4"
  }
 },
 "nbformat": 4,
 "nbformat_minor": 5
}
