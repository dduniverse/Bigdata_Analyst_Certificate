{
 "cells": [
  {
   "cell_type": "code",
   "execution_count": 1,
   "id": "682e88c0",
   "metadata": {
    "_cell_guid": "b1076dfc-b9ad-4769-8c92-a6c4dae69d19",
    "_uuid": "8f2839f25d086af736a60e9eeb907d3b93b6e0e5",
    "execution": {
     "iopub.execute_input": "2022-11-29T06:08:46.056225Z",
     "iopub.status.busy": "2022-11-29T06:08:46.054888Z",
     "iopub.status.idle": "2022-11-29T06:08:47.116925Z",
     "shell.execute_reply": "2022-11-29T06:08:47.117577Z",
     "shell.execute_reply.started": "2022-11-29T06:05:08.629911Z"
    },
    "papermill": {
     "duration": 1.105483,
     "end_time": "2022-11-29T06:08:47.117947",
     "exception": false,
     "start_time": "2022-11-29T06:08:46.012464",
     "status": "completed"
    },
    "tags": []
   },
   "outputs": [
    {
     "data": {
      "text/plain": [
       "((1070, 7), (268, 7), (1070, 2), (268, 2))"
      ]
     },
     "execution_count": 1,
     "metadata": {},
     "output_type": "execute_result"
    }
   ],
   "source": [
    "# 시험환경 세팅 (코드 변경 X)\n",
    "import pandas as pd\n",
    "import numpy as np\n",
    "from sklearn.model_selection import train_test_split\n",
    "\n",
    "def exam_data_load(df, target, id_name=\"\", null_name=\"\"):\n",
    "    if id_name == \"\":\n",
    "        df = df.reset_index().rename(columns={\"index\": \"id\"})\n",
    "        id_name = 'id'\n",
    "    else:\n",
    "        id_name = id_name\n",
    "    \n",
    "    if null_name != \"\":\n",
    "        df[df == null_name] = np.nan\n",
    "    \n",
    "    X_train, X_test = train_test_split(df, test_size=0.2, random_state=2021)\n",
    "    \n",
    "    y_train = X_train[[id_name, target]]\n",
    "    X_train = X_train.drop(columns=[target])\n",
    "\n",
    "    \n",
    "    y_test = X_test[[id_name, target]]\n",
    "    X_test = X_test.drop(columns=[target])\n",
    "    return X_train, X_test, y_train, y_test \n",
    "    \n",
    "df = pd.read_csv(\"../input/insurance/insurance.csv\")\n",
    "X_train, X_test, y_train, y_test = exam_data_load(df, target='charges')\n",
    "\n",
    "X_train.shape, X_test.shape, y_train.shape, y_test.shape"
   ]
  },
  {
   "cell_type": "code",
   "execution_count": 2,
   "id": "5b224391",
   "metadata": {
    "execution": {
     "iopub.execute_input": "2022-11-29T06:08:47.201401Z",
     "iopub.status.busy": "2022-11-29T06:08:47.200665Z",
     "iopub.status.idle": "2022-11-29T06:08:47.210656Z",
     "shell.execute_reply": "2022-11-29T06:08:47.211300Z",
     "shell.execute_reply.started": "2022-11-29T06:05:09.014224Z"
    },
    "papermill": {
     "duration": 0.053803,
     "end_time": "2022-11-29T06:08:47.211492",
     "exception": false,
     "start_time": "2022-11-29T06:08:47.157689",
     "status": "completed"
    },
    "tags": []
   },
   "outputs": [
    {
     "name": "stdout",
     "output_type": "stream",
     "text": [
      "      id  age     sex     bmi  children smoker     region\n",
      "209  209   40    male  41.230         1     no  northeast\n",
      "540  540   34  female  38.000         3     no  southwest\n",
      "747  747   19    male  21.755         0     no  northwest\n",
      "39    39   60    male  39.900         0    yes  southwest\n",
      "640  640   33    male  42.400         5     no  southwest\n"
     ]
    }
   ],
   "source": [
    "print(X_train.head())"
   ]
  },
  {
   "cell_type": "code",
   "execution_count": 3,
   "id": "0e5164fc",
   "metadata": {
    "execution": {
     "iopub.execute_input": "2022-11-29T06:08:47.290288Z",
     "iopub.status.busy": "2022-11-29T06:08:47.289450Z",
     "iopub.status.idle": "2022-11-29T06:08:47.297016Z",
     "shell.execute_reply": "2022-11-29T06:08:47.297759Z",
     "shell.execute_reply.started": "2022-11-29T06:05:09.028734Z"
    },
    "papermill": {
     "duration": 0.048727,
     "end_time": "2022-11-29T06:08:47.298033",
     "exception": false,
     "start_time": "2022-11-29T06:08:47.249306",
     "status": "completed"
    },
    "tags": []
   },
   "outputs": [
    {
     "name": "stdout",
     "output_type": "stream",
     "text": [
      "      id      charges\n",
      "209  209   6610.10970\n",
      "540  540   6196.44800\n",
      "747  747   1627.28245\n",
      "39    39  48173.36100\n",
      "640  640   6666.24300\n"
     ]
    }
   ],
   "source": [
    "print(y_train.head())"
   ]
  },
  {
   "cell_type": "code",
   "execution_count": 4,
   "id": "73b8bc26",
   "metadata": {
    "execution": {
     "iopub.execute_input": "2022-11-29T06:08:47.386173Z",
     "iopub.status.busy": "2022-11-29T06:08:47.385384Z",
     "iopub.status.idle": "2022-11-29T06:08:47.389709Z",
     "shell.execute_reply": "2022-11-29T06:08:47.389100Z",
     "shell.execute_reply.started": "2022-11-29T06:05:09.046832Z"
    },
    "papermill": {
     "duration": 0.053559,
     "end_time": "2022-11-29T06:08:47.389898",
     "exception": false,
     "start_time": "2022-11-29T06:08:47.336339",
     "status": "completed"
    },
    "tags": []
   },
   "outputs": [],
   "source": [
    "id=X_test['id']\n",
    "X_train.drop(columns='id',inplace=True)\n",
    "X_test.drop(columns='id',inplace=True)\n",
    "y_train.drop(columns='id',inplace=True)\n",
    "y_test.drop(columns='id',inplace=True)"
   ]
  },
  {
   "cell_type": "code",
   "execution_count": 5,
   "id": "856c5db8",
   "metadata": {
    "execution": {
     "iopub.execute_input": "2022-11-29T06:08:47.473186Z",
     "iopub.status.busy": "2022-11-29T06:08:47.472382Z",
     "iopub.status.idle": "2022-11-29T06:08:47.487804Z",
     "shell.execute_reply": "2022-11-29T06:08:47.488788Z",
     "shell.execute_reply.started": "2022-11-29T06:05:09.066147Z"
    },
    "papermill": {
     "duration": 0.060549,
     "end_time": "2022-11-29T06:08:47.489110",
     "exception": false,
     "start_time": "2022-11-29T06:08:47.428561",
     "status": "completed"
    },
    "tags": []
   },
   "outputs": [
    {
     "name": "stdout",
     "output_type": "stream",
     "text": [
      "<class 'pandas.core.frame.DataFrame'>\n",
      "Int64Index: 1070 entries, 209 to 1140\n",
      "Data columns (total 6 columns):\n",
      " #   Column    Non-Null Count  Dtype  \n",
      "---  ------    --------------  -----  \n",
      " 0   age       1070 non-null   int64  \n",
      " 1   sex       1070 non-null   object \n",
      " 2   bmi       1070 non-null   float64\n",
      " 3   children  1070 non-null   int64  \n",
      " 4   smoker    1070 non-null   object \n",
      " 5   region    1070 non-null   object \n",
      "dtypes: float64(1), int64(2), object(3)\n",
      "memory usage: 58.5+ KB\n"
     ]
    }
   ],
   "source": [
    "X_train.info()"
   ]
  },
  {
   "cell_type": "code",
   "execution_count": 6,
   "id": "cea5bf7d",
   "metadata": {
    "execution": {
     "iopub.execute_input": "2022-11-29T06:08:47.573591Z",
     "iopub.status.busy": "2022-11-29T06:08:47.572842Z",
     "iopub.status.idle": "2022-11-29T06:08:47.591384Z",
     "shell.execute_reply": "2022-11-29T06:08:47.591948Z",
     "shell.execute_reply.started": "2022-11-29T06:05:09.090062Z"
    },
    "papermill": {
     "duration": 0.061473,
     "end_time": "2022-11-29T06:08:47.592156",
     "exception": false,
     "start_time": "2022-11-29T06:08:47.530683",
     "status": "completed"
    },
    "tags": []
   },
   "outputs": [],
   "source": [
    "X_train=pd.get_dummies(X_train)\n",
    "X_test=pd.get_dummies(X_test)"
   ]
  },
  {
   "cell_type": "code",
   "execution_count": 7,
   "id": "327a34af",
   "metadata": {
    "execution": {
     "iopub.execute_input": "2022-11-29T06:08:47.672144Z",
     "iopub.status.busy": "2022-11-29T06:08:47.671355Z",
     "iopub.status.idle": "2022-11-29T06:08:47.679300Z",
     "shell.execute_reply": "2022-11-29T06:08:47.679936Z",
     "shell.execute_reply.started": "2022-11-29T06:05:09.116302Z"
    },
    "papermill": {
     "duration": 0.0491,
     "end_time": "2022-11-29T06:08:47.680126",
     "exception": false,
     "start_time": "2022-11-29T06:08:47.631026",
     "status": "completed"
    },
    "tags": []
   },
   "outputs": [
    {
     "name": "stdout",
     "output_type": "stream",
     "text": [
      "(856, 11) (214, 11) (856, 1) (214, 1)\n"
     ]
    }
   ],
   "source": [
    "from sklearn.model_selection import train_test_split\n",
    "X_TRAIN, X_TEST, Y_TRAIN, Y_TEST=train_test_split(X_train,y_train,test_size=0.2,random_state=10)\n",
    "print(X_TRAIN.shape, X_TEST.shape, Y_TRAIN.shape, Y_TEST.shape)"
   ]
  },
  {
   "cell_type": "code",
   "execution_count": 8,
   "id": "abb450d6",
   "metadata": {
    "execution": {
     "iopub.execute_input": "2022-11-29T06:08:47.763400Z",
     "iopub.status.busy": "2022-11-29T06:08:47.762533Z",
     "iopub.status.idle": "2022-11-29T06:08:47.876430Z",
     "shell.execute_reply": "2022-11-29T06:08:47.877566Z",
     "shell.execute_reply.started": "2022-11-29T06:05:09.134979Z"
    },
    "papermill": {
     "duration": 0.158731,
     "end_time": "2022-11-29T06:08:47.877966",
     "exception": false,
     "start_time": "2022-11-29T06:08:47.719235",
     "status": "completed"
    },
    "tags": []
   },
   "outputs": [],
   "source": [
    "from sklearn.linear_model import LinearRegression\n",
    "model1=LinearRegression()\n",
    "model1.fit(X_TRAIN,Y_TRAIN)\n",
    "pred1=model1.predict(X_TEST)"
   ]
  },
  {
   "cell_type": "code",
   "execution_count": 9,
   "id": "49f784c5",
   "metadata": {
    "execution": {
     "iopub.execute_input": "2022-11-29T06:08:48.023917Z",
     "iopub.status.busy": "2022-11-29T06:08:48.023035Z",
     "iopub.status.idle": "2022-11-29T06:08:48.620361Z",
     "shell.execute_reply": "2022-11-29T06:08:48.619434Z",
     "shell.execute_reply.started": "2022-11-29T06:05:09.182157Z"
    },
    "papermill": {
     "duration": 0.64297,
     "end_time": "2022-11-29T06:08:48.620552",
     "exception": false,
     "start_time": "2022-11-29T06:08:47.977582",
     "status": "completed"
    },
    "tags": []
   },
   "outputs": [
    {
     "name": "stderr",
     "output_type": "stream",
     "text": [
      "/opt/conda/lib/python3.7/site-packages/ipykernel_launcher.py:3: DataConversionWarning: A column-vector y was passed when a 1d array was expected. Please change the shape of y to (n_samples,), for example using ravel().\n",
      "  This is separate from the ipykernel package so we can avoid doing imports until\n"
     ]
    }
   ],
   "source": [
    "from sklearn.ensemble import RandomForestRegressor\n",
    "model2=RandomForestRegressor()\n",
    "model2.fit(X_TRAIN,Y_TRAIN)\n",
    "pred2=model2.predict(X_TEST)"
   ]
  },
  {
   "cell_type": "code",
   "execution_count": 10,
   "id": "0628b562",
   "metadata": {
    "execution": {
     "iopub.execute_input": "2022-11-29T06:08:48.766768Z",
     "iopub.status.busy": "2022-11-29T06:08:48.766035Z",
     "iopub.status.idle": "2022-11-29T06:08:49.247268Z",
     "shell.execute_reply": "2022-11-29T06:08:49.247918Z",
     "shell.execute_reply.started": "2022-11-29T06:05:09.702716Z"
    },
    "papermill": {
     "duration": 0.524784,
     "end_time": "2022-11-29T06:08:49.248127",
     "exception": false,
     "start_time": "2022-11-29T06:08:48.723343",
     "status": "completed"
    },
    "tags": []
   },
   "outputs": [],
   "source": [
    "from xgboost import XGBRegressor\n",
    "model3=XGBRegressor()\n",
    "model3.fit(X_TRAIN,Y_TRAIN)\n",
    "pred3=model3.predict(X_TEST)"
   ]
  },
  {
   "cell_type": "code",
   "execution_count": 11,
   "id": "3765db8f",
   "metadata": {
    "execution": {
     "iopub.execute_input": "2022-11-29T06:08:49.346432Z",
     "iopub.status.busy": "2022-11-29T06:08:49.345074Z",
     "iopub.status.idle": "2022-11-29T06:08:49.349890Z",
     "shell.execute_reply": "2022-11-29T06:08:49.350434Z",
     "shell.execute_reply.started": "2022-11-29T06:05:10.096179Z"
    },
    "papermill": {
     "duration": 0.061864,
     "end_time": "2022-11-29T06:08:49.350617",
     "exception": false,
     "start_time": "2022-11-29T06:08:49.288753",
     "status": "completed"
    },
    "tags": []
   },
   "outputs": [
    {
     "name": "stdout",
     "output_type": "stream",
     "text": [
      "LR 40006465.50283099\n",
      "LR 0.6657034252127286\n",
      "RF 21253927.3557098\n",
      "RF 0.8224008288038219\n",
      "XGB 24180975.268649448\n",
      "XGB 0.7979422299439772\n"
     ]
    }
   ],
   "source": [
    "from sklearn.metrics import mean_squared_error,r2_score\n",
    "print('LR',mean_squared_error(Y_TEST,pred1))\n",
    "print('LR',r2_score(Y_TEST,pred1))\n",
    "print('RF',mean_squared_error(Y_TEST,pred2))\n",
    "print('RF',r2_score(Y_TEST,pred2))\n",
    "print('XGB',mean_squared_error(Y_TEST,pred3))\n",
    "print('XGB',r2_score(Y_TEST,pred3))"
   ]
  },
  {
   "cell_type": "code",
   "execution_count": 12,
   "id": "7abcead4",
   "metadata": {
    "execution": {
     "iopub.execute_input": "2022-11-29T06:08:49.436178Z",
     "iopub.status.busy": "2022-11-29T06:08:49.435414Z",
     "iopub.status.idle": "2022-11-29T06:08:49.454088Z",
     "shell.execute_reply": "2022-11-29T06:08:49.454756Z",
     "shell.execute_reply.started": "2022-11-29T06:05:10.117484Z"
    },
    "papermill": {
     "duration": 0.066484,
     "end_time": "2022-11-29T06:08:49.454969",
     "exception": false,
     "start_time": "2022-11-29T06:08:49.388485",
     "status": "completed"
    },
    "tags": []
   },
   "outputs": [],
   "source": [
    "result=model2.predict(X_test)\n",
    "pd.DataFrame({'id':id,'charges':result}).to_csv('1234.csv',index=False)"
   ]
  },
  {
   "cell_type": "code",
   "execution_count": 13,
   "id": "3e8395d0",
   "metadata": {
    "execution": {
     "iopub.execute_input": "2022-11-29T06:08:49.543587Z",
     "iopub.status.busy": "2022-11-29T06:08:49.542554Z",
     "iopub.status.idle": "2022-11-29T06:08:49.557652Z",
     "shell.execute_reply": "2022-11-29T06:08:49.558221Z",
     "shell.execute_reply.started": "2022-11-29T06:05:10.144883Z"
    },
    "papermill": {
     "duration": 0.063843,
     "end_time": "2022-11-29T06:08:49.558409",
     "exception": false,
     "start_time": "2022-11-29T06:08:49.494566",
     "status": "completed"
    },
    "tags": []
   },
   "outputs": [
    {
     "data": {
      "text/html": [
       "<div>\n",
       "<style scoped>\n",
       "    .dataframe tbody tr th:only-of-type {\n",
       "        vertical-align: middle;\n",
       "    }\n",
       "\n",
       "    .dataframe tbody tr th {\n",
       "        vertical-align: top;\n",
       "    }\n",
       "\n",
       "    .dataframe thead th {\n",
       "        text-align: right;\n",
       "    }\n",
       "</style>\n",
       "<table border=\"1\" class=\"dataframe\">\n",
       "  <thead>\n",
       "    <tr style=\"text-align: right;\">\n",
       "      <th></th>\n",
       "      <th>id</th>\n",
       "      <th>charges</th>\n",
       "    </tr>\n",
       "  </thead>\n",
       "  <tbody>\n",
       "    <tr>\n",
       "      <th>0</th>\n",
       "      <td>1088</td>\n",
       "      <td>13208.759886</td>\n",
       "    </tr>\n",
       "    <tr>\n",
       "      <th>1</th>\n",
       "      <td>1157</td>\n",
       "      <td>5508.431247</td>\n",
       "    </tr>\n",
       "    <tr>\n",
       "      <th>2</th>\n",
       "      <td>1267</td>\n",
       "      <td>34191.209685</td>\n",
       "    </tr>\n",
       "    <tr>\n",
       "      <th>3</th>\n",
       "      <td>506</td>\n",
       "      <td>2763.480819</td>\n",
       "    </tr>\n",
       "    <tr>\n",
       "      <th>4</th>\n",
       "      <td>659</td>\n",
       "      <td>21483.851321</td>\n",
       "    </tr>\n",
       "    <tr>\n",
       "      <th>...</th>\n",
       "      <td>...</td>\n",
       "      <td>...</td>\n",
       "    </tr>\n",
       "    <tr>\n",
       "      <th>263</th>\n",
       "      <td>1275</td>\n",
       "      <td>11506.543858</td>\n",
       "    </tr>\n",
       "    <tr>\n",
       "      <th>264</th>\n",
       "      <td>88</td>\n",
       "      <td>11481.223846</td>\n",
       "    </tr>\n",
       "    <tr>\n",
       "      <th>265</th>\n",
       "      <td>646</td>\n",
       "      <td>6497.036628</td>\n",
       "    </tr>\n",
       "    <tr>\n",
       "      <th>266</th>\n",
       "      <td>654</td>\n",
       "      <td>17683.118077</td>\n",
       "    </tr>\n",
       "    <tr>\n",
       "      <th>267</th>\n",
       "      <td>116</td>\n",
       "      <td>11383.905928</td>\n",
       "    </tr>\n",
       "  </tbody>\n",
       "</table>\n",
       "<p>268 rows × 2 columns</p>\n",
       "</div>"
      ],
      "text/plain": [
       "       id       charges\n",
       "0    1088  13208.759886\n",
       "1    1157   5508.431247\n",
       "2    1267  34191.209685\n",
       "3     506   2763.480819\n",
       "4     659  21483.851321\n",
       "..    ...           ...\n",
       "263  1275  11506.543858\n",
       "264    88  11481.223846\n",
       "265   646   6497.036628\n",
       "266   654  17683.118077\n",
       "267   116  11383.905928\n",
       "\n",
       "[268 rows x 2 columns]"
      ]
     },
     "execution_count": 13,
     "metadata": {},
     "output_type": "execute_result"
    }
   ],
   "source": [
    "pd.read_csv('1234.csv')"
   ]
  },
  {
   "cell_type": "markdown",
   "id": "f4791c97",
   "metadata": {
    "papermill": {
     "duration": 0.03754,
     "end_time": "2022-11-29T06:08:49.634453",
     "exception": false,
     "start_time": "2022-11-29T06:08:49.596913",
     "status": "completed"
    },
    "tags": []
   },
   "source": [
    "# **풀이**"
   ]
  },
  {
   "cell_type": "code",
   "execution_count": 14,
   "id": "3b9d84d8",
   "metadata": {
    "execution": {
     "iopub.execute_input": "2022-11-29T06:08:49.718670Z",
     "iopub.status.busy": "2022-11-29T06:08:49.717555Z",
     "iopub.status.idle": "2022-11-29T06:08:49.742517Z",
     "shell.execute_reply": "2022-11-29T06:08:49.743117Z",
     "shell.execute_reply.started": "2022-11-29T06:05:10.163331Z"
    },
    "papermill": {
     "duration": 0.069214,
     "end_time": "2022-11-29T06:08:49.743307",
     "exception": false,
     "start_time": "2022-11-29T06:08:49.674093",
     "status": "completed"
    },
    "tags": []
   },
   "outputs": [
    {
     "data": {
      "text/plain": [
       "((1070, 7), (268, 7), (1070, 2), (268, 2))"
      ]
     },
     "execution_count": 14,
     "metadata": {},
     "output_type": "execute_result"
    }
   ],
   "source": [
    "# 시험환경 세팅 (코드 변경 X)\n",
    "import pandas as pd\n",
    "import numpy as np\n",
    "from sklearn.model_selection import train_test_split\n",
    "\n",
    "def exam_data_load(df, target, id_name=\"\", null_name=\"\"):\n",
    "    if id_name == \"\":\n",
    "        df = df.reset_index().rename(columns={\"index\": \"id\"})\n",
    "        id_name = 'id'\n",
    "    else:\n",
    "        id_name = id_name\n",
    "    \n",
    "    if null_name != \"\":\n",
    "        df[df == null_name] = np.nan\n",
    "    \n",
    "    X_train, X_test = train_test_split(df, test_size=0.2, random_state=2021)\n",
    "    \n",
    "    y_train = X_train[[id_name, target]]\n",
    "    X_train = X_train.drop(columns=[target])\n",
    "\n",
    "    \n",
    "    y_test = X_test[[id_name, target]]\n",
    "    X_test = X_test.drop(columns=[target])\n",
    "    return X_train, X_test, y_train, y_test \n",
    "    \n",
    "df = pd.read_csv(\"../input/insurance/insurance.csv\")\n",
    "X_train, X_test, y_train, y_test = exam_data_load(df, target='charges')\n",
    "\n",
    "X_train.shape, X_test.shape, y_train.shape, y_test.shape"
   ]
  },
  {
   "cell_type": "markdown",
   "id": "808c0b8f",
   "metadata": {
    "papermill": {
     "duration": 0.040777,
     "end_time": "2022-11-29T06:08:49.823808",
     "exception": false,
     "start_time": "2022-11-29T06:08:49.783031",
     "status": "completed"
    },
    "tags": []
   },
   "source": [
    "# EDA"
   ]
  },
  {
   "cell_type": "code",
   "execution_count": 15,
   "id": "9428b5aa",
   "metadata": {
    "execution": {
     "iopub.execute_input": "2022-11-29T06:08:49.917449Z",
     "iopub.status.busy": "2022-11-29T06:08:49.916473Z",
     "iopub.status.idle": "2022-11-29T06:08:49.921546Z",
     "shell.execute_reply": "2022-11-29T06:08:49.920755Z",
     "shell.execute_reply.started": "2022-11-29T06:05:10.188916Z"
    },
    "papermill": {
     "duration": 0.05829,
     "end_time": "2022-11-29T06:08:49.921707",
     "exception": false,
     "start_time": "2022-11-29T06:08:49.863417",
     "status": "completed"
    },
    "tags": []
   },
   "outputs": [
    {
     "data": {
      "text/html": [
       "<div>\n",
       "<style scoped>\n",
       "    .dataframe tbody tr th:only-of-type {\n",
       "        vertical-align: middle;\n",
       "    }\n",
       "\n",
       "    .dataframe tbody tr th {\n",
       "        vertical-align: top;\n",
       "    }\n",
       "\n",
       "    .dataframe thead th {\n",
       "        text-align: right;\n",
       "    }\n",
       "</style>\n",
       "<table border=\"1\" class=\"dataframe\">\n",
       "  <thead>\n",
       "    <tr style=\"text-align: right;\">\n",
       "      <th></th>\n",
       "      <th>id</th>\n",
       "      <th>age</th>\n",
       "      <th>sex</th>\n",
       "      <th>bmi</th>\n",
       "      <th>children</th>\n",
       "      <th>smoker</th>\n",
       "      <th>region</th>\n",
       "    </tr>\n",
       "  </thead>\n",
       "  <tbody>\n",
       "    <tr>\n",
       "      <th>209</th>\n",
       "      <td>209</td>\n",
       "      <td>40</td>\n",
       "      <td>male</td>\n",
       "      <td>41.230</td>\n",
       "      <td>1</td>\n",
       "      <td>no</td>\n",
       "      <td>northeast</td>\n",
       "    </tr>\n",
       "    <tr>\n",
       "      <th>540</th>\n",
       "      <td>540</td>\n",
       "      <td>34</td>\n",
       "      <td>female</td>\n",
       "      <td>38.000</td>\n",
       "      <td>3</td>\n",
       "      <td>no</td>\n",
       "      <td>southwest</td>\n",
       "    </tr>\n",
       "    <tr>\n",
       "      <th>747</th>\n",
       "      <td>747</td>\n",
       "      <td>19</td>\n",
       "      <td>male</td>\n",
       "      <td>21.755</td>\n",
       "      <td>0</td>\n",
       "      <td>no</td>\n",
       "      <td>northwest</td>\n",
       "    </tr>\n",
       "    <tr>\n",
       "      <th>39</th>\n",
       "      <td>39</td>\n",
       "      <td>60</td>\n",
       "      <td>male</td>\n",
       "      <td>39.900</td>\n",
       "      <td>0</td>\n",
       "      <td>yes</td>\n",
       "      <td>southwest</td>\n",
       "    </tr>\n",
       "    <tr>\n",
       "      <th>640</th>\n",
       "      <td>640</td>\n",
       "      <td>33</td>\n",
       "      <td>male</td>\n",
       "      <td>42.400</td>\n",
       "      <td>5</td>\n",
       "      <td>no</td>\n",
       "      <td>southwest</td>\n",
       "    </tr>\n",
       "  </tbody>\n",
       "</table>\n",
       "</div>"
      ],
      "text/plain": [
       "      id  age     sex     bmi  children smoker     region\n",
       "209  209   40    male  41.230         1     no  northeast\n",
       "540  540   34  female  38.000         3     no  southwest\n",
       "747  747   19    male  21.755         0     no  northwest\n",
       "39    39   60    male  39.900         0    yes  southwest\n",
       "640  640   33    male  42.400         5     no  southwest"
      ]
     },
     "execution_count": 15,
     "metadata": {},
     "output_type": "execute_result"
    }
   ],
   "source": [
    "X_train.head()"
   ]
  },
  {
   "cell_type": "code",
   "execution_count": 16,
   "id": "7218d626",
   "metadata": {
    "execution": {
     "iopub.execute_input": "2022-11-29T06:08:50.012717Z",
     "iopub.status.busy": "2022-11-29T06:08:50.011799Z",
     "iopub.status.idle": "2022-11-29T06:08:50.015310Z",
     "shell.execute_reply": "2022-11-29T06:08:50.015863Z",
     "shell.execute_reply.started": "2022-11-29T06:05:10.205331Z"
    },
    "papermill": {
     "duration": 0.052922,
     "end_time": "2022-11-29T06:08:50.016049",
     "exception": false,
     "start_time": "2022-11-29T06:08:49.963127",
     "status": "completed"
    },
    "tags": []
   },
   "outputs": [
    {
     "data": {
      "text/html": [
       "<div>\n",
       "<style scoped>\n",
       "    .dataframe tbody tr th:only-of-type {\n",
       "        vertical-align: middle;\n",
       "    }\n",
       "\n",
       "    .dataframe tbody tr th {\n",
       "        vertical-align: top;\n",
       "    }\n",
       "\n",
       "    .dataframe thead th {\n",
       "        text-align: right;\n",
       "    }\n",
       "</style>\n",
       "<table border=\"1\" class=\"dataframe\">\n",
       "  <thead>\n",
       "    <tr style=\"text-align: right;\">\n",
       "      <th></th>\n",
       "      <th>id</th>\n",
       "      <th>charges</th>\n",
       "    </tr>\n",
       "  </thead>\n",
       "  <tbody>\n",
       "    <tr>\n",
       "      <th>209</th>\n",
       "      <td>209</td>\n",
       "      <td>6610.10970</td>\n",
       "    </tr>\n",
       "    <tr>\n",
       "      <th>540</th>\n",
       "      <td>540</td>\n",
       "      <td>6196.44800</td>\n",
       "    </tr>\n",
       "    <tr>\n",
       "      <th>747</th>\n",
       "      <td>747</td>\n",
       "      <td>1627.28245</td>\n",
       "    </tr>\n",
       "    <tr>\n",
       "      <th>39</th>\n",
       "      <td>39</td>\n",
       "      <td>48173.36100</td>\n",
       "    </tr>\n",
       "    <tr>\n",
       "      <th>640</th>\n",
       "      <td>640</td>\n",
       "      <td>6666.24300</td>\n",
       "    </tr>\n",
       "  </tbody>\n",
       "</table>\n",
       "</div>"
      ],
      "text/plain": [
       "      id      charges\n",
       "209  209   6610.10970\n",
       "540  540   6196.44800\n",
       "747  747   1627.28245\n",
       "39    39  48173.36100\n",
       "640  640   6666.24300"
      ]
     },
     "execution_count": 16,
     "metadata": {},
     "output_type": "execute_result"
    }
   ],
   "source": [
    "y_train.head()"
   ]
  },
  {
   "cell_type": "code",
   "execution_count": 17,
   "id": "00cbd09d",
   "metadata": {
    "execution": {
     "iopub.execute_input": "2022-11-29T06:08:50.104099Z",
     "iopub.status.busy": "2022-11-29T06:08:50.102060Z",
     "iopub.status.idle": "2022-11-29T06:08:50.421143Z",
     "shell.execute_reply": "2022-11-29T06:08:50.420485Z",
     "shell.execute_reply.started": "2022-11-29T06:05:10.223622Z"
    },
    "papermill": {
     "duration": 0.363384,
     "end_time": "2022-11-29T06:08:50.421301",
     "exception": false,
     "start_time": "2022-11-29T06:08:50.057917",
     "status": "completed"
    },
    "tags": []
   },
   "outputs": [
    {
     "data": {
      "text/plain": [
       "<AxesSubplot:>"
      ]
     },
     "execution_count": 17,
     "metadata": {},
     "output_type": "execute_result"
    },
    {
     "data": {
      "image/png": "[encoded data removed]",
      "text/plain": [
       "<Figure size 432x288 with 1 Axes>"
      ]
     },
     "metadata": {
      "needs_background": "light"
     },
     "output_type": "display_data"
    }
   ],
   "source": [
    "y_train['charges'].hist()"
   ]
  },
  {
   "cell_type": "code",
   "execution_count": 18,
   "id": "ba5c8734",
   "metadata": {
    "execution": {
     "iopub.execute_input": "2022-11-29T06:08:50.515134Z",
     "iopub.status.busy": "2022-11-29T06:08:50.514192Z",
     "iopub.status.idle": "2022-11-29T06:08:50.518691Z",
     "shell.execute_reply": "2022-11-29T06:08:50.518037Z",
     "shell.execute_reply.started": "2022-11-29T06:05:10.544814Z"
    },
    "papermill": {
     "duration": 0.056246,
     "end_time": "2022-11-29T06:08:50.518880",
     "exception": false,
     "start_time": "2022-11-29T06:08:50.462634",
     "status": "completed"
    },
    "tags": []
   },
   "outputs": [
    {
     "data": {
      "text/plain": [
       "id          0\n",
       "age         0\n",
       "sex         0\n",
       "bmi         0\n",
       "children    0\n",
       "smoker      0\n",
       "region      0\n",
       "dtype: int64"
      ]
     },
     "execution_count": 18,
     "metadata": {},
     "output_type": "execute_result"
    }
   ],
   "source": [
    "X_train.isnull().sum()"
   ]
  },
  {
   "cell_type": "code",
   "execution_count": 19,
   "id": "73cb7297",
   "metadata": {
    "execution": {
     "iopub.execute_input": "2022-11-29T06:08:50.611291Z",
     "iopub.status.busy": "2022-11-29T06:08:50.608978Z",
     "iopub.status.idle": "2022-11-29T06:08:50.614544Z",
     "shell.execute_reply": "2022-11-29T06:08:50.615111Z",
     "shell.execute_reply.started": "2022-11-29T06:05:10.556596Z"
    },
    "papermill": {
     "duration": 0.053065,
     "end_time": "2022-11-29T06:08:50.615299",
     "exception": false,
     "start_time": "2022-11-29T06:08:50.562234",
     "status": "completed"
    },
    "tags": []
   },
   "outputs": [
    {
     "data": {
      "text/plain": [
       "id          0\n",
       "age         0\n",
       "sex         0\n",
       "bmi         0\n",
       "children    0\n",
       "smoker      0\n",
       "region      0\n",
       "dtype: int64"
      ]
     },
     "execution_count": 19,
     "metadata": {},
     "output_type": "execute_result"
    }
   ],
   "source": [
    "X_test.isnull().sum()"
   ]
  },
  {
   "cell_type": "code",
   "execution_count": 20,
   "id": "a33516e3",
   "metadata": {
    "execution": {
     "iopub.execute_input": "2022-11-29T06:08:50.706335Z",
     "iopub.status.busy": "2022-11-29T06:08:50.705592Z",
     "iopub.status.idle": "2022-11-29T06:08:50.715749Z",
     "shell.execute_reply": "2022-11-29T06:08:50.715110Z",
     "shell.execute_reply.started": "2022-11-29T06:05:10.573770Z"
    },
    "papermill": {
     "duration": 0.058437,
     "end_time": "2022-11-29T06:08:50.715951",
     "exception": false,
     "start_time": "2022-11-29T06:08:50.657514",
     "status": "completed"
    },
    "tags": []
   },
   "outputs": [
    {
     "name": "stdout",
     "output_type": "stream",
     "text": [
      "<class 'pandas.core.frame.DataFrame'>\n",
      "Int64Index: 1070 entries, 209 to 1140\n",
      "Data columns (total 7 columns):\n",
      " #   Column    Non-Null Count  Dtype  \n",
      "---  ------    --------------  -----  \n",
      " 0   id        1070 non-null   int64  \n",
      " 1   age       1070 non-null   int64  \n",
      " 2   sex       1070 non-null   object \n",
      " 3   bmi       1070 non-null   float64\n",
      " 4   children  1070 non-null   int64  \n",
      " 5   smoker    1070 non-null   object \n",
      " 6   region    1070 non-null   object \n",
      "dtypes: float64(1), int64(3), object(3)\n",
      "memory usage: 66.9+ KB\n"
     ]
    }
   ],
   "source": [
    "X_train.info()"
   ]
  },
  {
   "cell_type": "code",
   "execution_count": 21,
   "id": "a7ae90c2",
   "metadata": {
    "execution": {
     "iopub.execute_input": "2022-11-29T06:08:50.809220Z",
     "iopub.status.busy": "2022-11-29T06:08:50.808427Z",
     "iopub.status.idle": "2022-11-29T06:08:50.813006Z",
     "shell.execute_reply": "2022-11-29T06:08:50.812327Z",
     "shell.execute_reply.started": "2022-11-29T06:05:10.596460Z"
    },
    "papermill": {
     "duration": 0.054761,
     "end_time": "2022-11-29T06:08:50.813175",
     "exception": false,
     "start_time": "2022-11-29T06:08:50.758414",
     "status": "completed"
    },
    "tags": []
   },
   "outputs": [
    {
     "data": {
      "text/plain": [
       "Index(['sex', 'smoker', 'region'], dtype='object')"
      ]
     },
     "execution_count": 21,
     "metadata": {},
     "output_type": "execute_result"
    }
   ],
   "source": [
    "X_train.select_dtypes(\"object\").columns"
   ]
  },
  {
   "cell_type": "code",
   "execution_count": 22,
   "id": "030188bf",
   "metadata": {
    "execution": {
     "iopub.execute_input": "2022-11-29T06:08:50.917096Z",
     "iopub.status.busy": "2022-11-29T06:08:50.915909Z",
     "iopub.status.idle": "2022-11-29T06:08:50.921635Z",
     "shell.execute_reply": "2022-11-29T06:08:50.920942Z",
     "shell.execute_reply.started": "2022-11-29T06:05:10.615425Z"
    },
    "papermill": {
     "duration": 0.065271,
     "end_time": "2022-11-29T06:08:50.921790",
     "exception": false,
     "start_time": "2022-11-29T06:08:50.856519",
     "status": "completed"
    },
    "tags": []
   },
   "outputs": [
    {
     "name": "stdout",
     "output_type": "stream",
     "text": [
      "\n",
      "===== sex =====\n",
      "[train]\n",
      "male      551\n",
      "female    519\n",
      "Name: sex, dtype: int64\n",
      "[test]\n",
      "female    143\n",
      "male      125\n",
      "Name: sex, dtype: int64\n",
      "\n",
      "===== smoker =====\n",
      "[train]\n",
      "no     845\n",
      "yes    225\n",
      "Name: smoker, dtype: int64\n",
      "[test]\n",
      "no     219\n",
      "yes     49\n",
      "Name: smoker, dtype: int64\n",
      "\n",
      "===== region =====\n",
      "[train]\n",
      "southeast    304\n",
      "northeast    266\n",
      "southwest    261\n",
      "northwest    239\n",
      "Name: region, dtype: int64\n",
      "[test]\n",
      "northwest    86\n",
      "southwest    64\n",
      "southeast    60\n",
      "northeast    58\n",
      "Name: region, dtype: int64\n"
     ]
    }
   ],
   "source": [
    "# Train ['sex', 'smoker', 'region']\n",
    "cols = X_train.select_dtypes(\"object\").columns\n",
    "\n",
    "for col in cols:\n",
    "    print(\"\\n=====\", col, \"=====\")\n",
    "    print(\"[train]\")\n",
    "    print(X_train[col].value_counts())\n",
    "    print(\"[test]\")\n",
    "    print(X_test[col].value_counts())"
   ]
  },
  {
   "cell_type": "markdown",
   "id": "63e3991c",
   "metadata": {
    "papermill": {
     "duration": 0.042438,
     "end_time": "2022-11-29T06:08:51.010302",
     "exception": false,
     "start_time": "2022-11-29T06:08:50.967864",
     "status": "completed"
    },
    "tags": []
   },
   "source": [
    "# Preprocessing"
   ]
  },
  {
   "cell_type": "markdown",
   "id": "a1545b20",
   "metadata": {
    "papermill": {
     "duration": 0.044512,
     "end_time": "2022-11-29T06:08:51.103031",
     "exception": false,
     "start_time": "2022-11-29T06:08:51.058519",
     "status": "completed"
    },
    "tags": []
   },
   "source": [
    "## Categorical Variables"
   ]
  },
  {
   "cell_type": "code",
   "execution_count": 23,
   "id": "a12ce4ba",
   "metadata": {
    "execution": {
     "iopub.execute_input": "2022-11-29T06:08:51.207935Z",
     "iopub.status.busy": "2022-11-29T06:08:51.206497Z",
     "iopub.status.idle": "2022-11-29T06:08:51.211239Z",
     "shell.execute_reply": "2022-11-29T06:08:51.210649Z",
     "shell.execute_reply.started": "2022-11-29T06:05:10.643130Z"
    },
    "papermill": {
     "duration": 0.064608,
     "end_time": "2022-11-29T06:08:51.211390",
     "exception": false,
     "start_time": "2022-11-29T06:08:51.146782",
     "status": "completed"
    },
    "tags": []
   },
   "outputs": [],
   "source": [
    "X_train = pd.get_dummies(X_train, columns = cols)\n",
    "X_test = pd.get_dummies(X_test, columns = cols)"
   ]
  },
  {
   "cell_type": "code",
   "execution_count": 24,
   "id": "4f00a5e2",
   "metadata": {
    "execution": {
     "iopub.execute_input": "2022-11-29T06:08:51.311971Z",
     "iopub.status.busy": "2022-11-29T06:08:51.311125Z",
     "iopub.status.idle": "2022-11-29T06:08:51.315109Z",
     "shell.execute_reply": "2022-11-29T06:08:51.314440Z",
     "shell.execute_reply.started": "2022-11-29T06:05:10.660113Z"
    },
    "papermill": {
     "duration": 0.060056,
     "end_time": "2022-11-29T06:08:51.315260",
     "exception": false,
     "start_time": "2022-11-29T06:08:51.255204",
     "status": "completed"
    },
    "tags": []
   },
   "outputs": [
    {
     "data": {
      "text/html": [
       "<div>\n",
       "<style scoped>\n",
       "    .dataframe tbody tr th:only-of-type {\n",
       "        vertical-align: middle;\n",
       "    }\n",
       "\n",
       "    .dataframe tbody tr th {\n",
       "        vertical-align: top;\n",
       "    }\n",
       "\n",
       "    .dataframe thead th {\n",
       "        text-align: right;\n",
       "    }\n",
       "</style>\n",
       "<table border=\"1\" class=\"dataframe\">\n",
       "  <thead>\n",
       "    <tr style=\"text-align: right;\">\n",
       "      <th></th>\n",
       "      <th>id</th>\n",
       "      <th>age</th>\n",
       "      <th>bmi</th>\n",
       "      <th>children</th>\n",
       "      <th>sex_female</th>\n",
       "      <th>sex_male</th>\n",
       "      <th>smoker_no</th>\n",
       "      <th>smoker_yes</th>\n",
       "      <th>region_northeast</th>\n",
       "      <th>region_northwest</th>\n",
       "      <th>region_southeast</th>\n",
       "      <th>region_southwest</th>\n",
       "    </tr>\n",
       "  </thead>\n",
       "  <tbody>\n",
       "    <tr>\n",
       "      <th>209</th>\n",
       "      <td>209</td>\n",
       "      <td>40</td>\n",
       "      <td>41.23</td>\n",
       "      <td>1</td>\n",
       "      <td>0</td>\n",
       "      <td>1</td>\n",
       "      <td>1</td>\n",
       "      <td>0</td>\n",
       "      <td>1</td>\n",
       "      <td>0</td>\n",
       "      <td>0</td>\n",
       "      <td>0</td>\n",
       "    </tr>\n",
       "    <tr>\n",
       "      <th>540</th>\n",
       "      <td>540</td>\n",
       "      <td>34</td>\n",
       "      <td>38.00</td>\n",
       "      <td>3</td>\n",
       "      <td>1</td>\n",
       "      <td>0</td>\n",
       "      <td>1</td>\n",
       "      <td>0</td>\n",
       "      <td>0</td>\n",
       "      <td>0</td>\n",
       "      <td>0</td>\n",
       "      <td>1</td>\n",
       "    </tr>\n",
       "  </tbody>\n",
       "</table>\n",
       "</div>"
      ],
      "text/plain": [
       "      id  age    bmi  children  sex_female  sex_male  smoker_no  smoker_yes  \\\n",
       "209  209   40  41.23         1           0         1          1           0   \n",
       "540  540   34  38.00         3           1         0          1           0   \n",
       "\n",
       "     region_northeast  region_northwest  region_southeast  region_southwest  \n",
       "209                 1                 0                 0                 0  \n",
       "540                 0                 0                 0                 1  "
      ]
     },
     "execution_count": 24,
     "metadata": {},
     "output_type": "execute_result"
    }
   ],
   "source": [
    "X_train.head(2)"
   ]
  },
  {
   "cell_type": "markdown",
   "id": "5d8a46c2",
   "metadata": {
    "papermill": {
     "duration": 0.042613,
     "end_time": "2022-11-29T06:08:51.401459",
     "exception": false,
     "start_time": "2022-11-29T06:08:51.358846",
     "status": "completed"
    },
    "tags": []
   },
   "source": [
    "## Log Transform"
   ]
  },
  {
   "cell_type": "code",
   "execution_count": 25,
   "id": "494a142a",
   "metadata": {
    "execution": {
     "iopub.execute_input": "2022-11-29T06:08:51.518953Z",
     "iopub.status.busy": "2022-11-29T06:08:51.517408Z",
     "iopub.status.idle": "2022-11-29T06:08:51.774143Z",
     "shell.execute_reply": "2022-11-29T06:08:51.773424Z",
     "shell.execute_reply.started": "2022-11-29T06:05:10.677539Z"
    },
    "papermill": {
     "duration": 0.328331,
     "end_time": "2022-11-29T06:08:51.774304",
     "exception": false,
     "start_time": "2022-11-29T06:08:51.445973",
     "status": "completed"
    },
    "tags": []
   },
   "outputs": [
    {
     "data": {
      "text/plain": [
       "<AxesSubplot:>"
      ]
     },
     "execution_count": 25,
     "metadata": {},
     "output_type": "execute_result"
    },
    {
     "data": {
      "image/png": "[encoded data removed]",
      "text/plain": [
       "<Figure size 432x288 with 1 Axes>"
      ]
     },
     "metadata": {
      "needs_background": "light"
     },
     "output_type": "display_data"
    }
   ],
   "source": [
    "y_train['charges'].hist()"
   ]
  },
  {
   "cell_type": "code",
   "execution_count": 26,
   "id": "de62e430",
   "metadata": {
    "execution": {
     "iopub.execute_input": "2022-11-29T06:08:51.870409Z",
     "iopub.status.busy": "2022-11-29T06:08:51.869699Z",
     "iopub.status.idle": "2022-11-29T06:08:51.872387Z",
     "shell.execute_reply": "2022-11-29T06:08:51.871659Z",
     "shell.execute_reply.started": "2022-11-29T06:05:10.944170Z"
    },
    "papermill": {
     "duration": 0.053768,
     "end_time": "2022-11-29T06:08:51.872540",
     "exception": false,
     "start_time": "2022-11-29T06:08:51.818772",
     "status": "completed"
    },
    "tags": []
   },
   "outputs": [],
   "source": [
    "y_train['charges'] = np.log1p(y_train['charges'])"
   ]
  },
  {
   "cell_type": "code",
   "execution_count": 27,
   "id": "46d0a0b1",
   "metadata": {
    "execution": {
     "iopub.execute_input": "2022-11-29T06:08:51.985596Z",
     "iopub.status.busy": "2022-11-29T06:08:51.974272Z",
     "iopub.status.idle": "2022-11-29T06:08:52.223070Z",
     "shell.execute_reply": "2022-11-29T06:08:52.223734Z",
     "shell.execute_reply.started": "2022-11-29T06:05:10.950934Z"
    },
    "papermill": {
     "duration": 0.307006,
     "end_time": "2022-11-29T06:08:52.223940",
     "exception": false,
     "start_time": "2022-11-29T06:08:51.916934",
     "status": "completed"
    },
    "tags": []
   },
   "outputs": [
    {
     "data": {
      "text/plain": [
       "<AxesSubplot:>"
      ]
     },
     "execution_count": 27,
     "metadata": {},
     "output_type": "execute_result"
    },
    {
     "data": {
      "image/png": "[encoded data removed]",
      "text/plain": [
       "<Figure size 432x288 with 1 Axes>"
      ]
     },
     "metadata": {
      "needs_background": "light"
     },
     "output_type": "display_data"
    }
   ],
   "source": [
    "y_train['charges'].hist()"
   ]
  },
  {
   "cell_type": "markdown",
   "id": "e38ab615",
   "metadata": {
    "papermill": {
     "duration": 0.045011,
     "end_time": "2022-11-29T06:08:52.313443",
     "exception": false,
     "start_time": "2022-11-29T06:08:52.268432",
     "status": "completed"
    },
    "tags": []
   },
   "source": [
    "## Standard Scaler"
   ]
  },
  {
   "cell_type": "code",
   "execution_count": 28,
   "id": "6dbc3ae6",
   "metadata": {
    "execution": {
     "iopub.execute_input": "2022-11-29T06:08:52.407111Z",
     "iopub.status.busy": "2022-11-29T06:08:52.406032Z",
     "iopub.status.idle": "2022-11-29T06:08:52.418085Z",
     "shell.execute_reply": "2022-11-29T06:08:52.418617Z",
     "shell.execute_reply.started": "2022-11-29T06:05:11.205587Z"
    },
    "papermill": {
     "duration": 0.060783,
     "end_time": "2022-11-29T06:08:52.418815",
     "exception": false,
     "start_time": "2022-11-29T06:08:52.358032",
     "status": "completed"
    },
    "tags": []
   },
   "outputs": [],
   "source": [
    "from sklearn.preprocessing import StandardScaler\n",
    "scaler = StandardScaler()\n",
    "X_train['bmi'] = scaler.fit_transform(X_train[['bmi']])\n",
    "X_test['bmi'] = scaler.transform(X_test[['bmi']])"
   ]
  },
  {
   "cell_type": "markdown",
   "id": "ab7efd1f",
   "metadata": {
    "papermill": {
     "duration": 0.045106,
     "end_time": "2022-11-29T06:08:52.508561",
     "exception": false,
     "start_time": "2022-11-29T06:08:52.463455",
     "status": "completed"
    },
    "tags": []
   },
   "source": [
    "## label encoding"
   ]
  },
  {
   "cell_type": "code",
   "execution_count": 29,
   "id": "6670c1cc",
   "metadata": {
    "execution": {
     "iopub.execute_input": "2022-11-29T06:08:52.603686Z",
     "iopub.status.busy": "2022-11-29T06:08:52.602629Z",
     "iopub.status.idle": "2022-11-29T06:08:52.609353Z",
     "shell.execute_reply": "2022-11-29T06:08:52.609974Z",
     "shell.execute_reply.started": "2022-11-29T06:05:11.223361Z"
    },
    "papermill": {
     "duration": 0.055479,
     "end_time": "2022-11-29T06:08:52.610156",
     "exception": false,
     "start_time": "2022-11-29T06:08:52.554677",
     "status": "completed"
    },
    "tags": []
   },
   "outputs": [],
   "source": [
    "# 나이를 10대, 20대, 30대로 구분하기 위해 10을 나눈 몫 값만 구함\n",
    "X_train['age'] = X_train['age'].apply(lambda x: x//10)\n",
    "X_test['age'] = X_test['age'].apply(lambda x: x//10)"
   ]
  },
  {
   "cell_type": "code",
   "execution_count": 30,
   "id": "7d9de406",
   "metadata": {
    "execution": {
     "iopub.execute_input": "2022-11-29T06:08:52.704651Z",
     "iopub.status.busy": "2022-11-29T06:08:52.703630Z",
     "iopub.status.idle": "2022-11-29T06:08:52.715807Z",
     "shell.execute_reply": "2022-11-29T06:08:52.716408Z",
     "shell.execute_reply.started": "2022-11-29T06:05:11.234356Z"
    },
    "papermill": {
     "duration": 0.06123,
     "end_time": "2022-11-29T06:08:52.716600",
     "exception": false,
     "start_time": "2022-11-29T06:08:52.655370",
     "status": "completed"
    },
    "tags": []
   },
   "outputs": [
    {
     "data": {
      "text/html": [
       "<div>\n",
       "<style scoped>\n",
       "    .dataframe tbody tr th:only-of-type {\n",
       "        vertical-align: middle;\n",
       "    }\n",
       "\n",
       "    .dataframe tbody tr th {\n",
       "        vertical-align: top;\n",
       "    }\n",
       "\n",
       "    .dataframe thead th {\n",
       "        text-align: right;\n",
       "    }\n",
       "</style>\n",
       "<table border=\"1\" class=\"dataframe\">\n",
       "  <thead>\n",
       "    <tr style=\"text-align: right;\">\n",
       "      <th></th>\n",
       "      <th>id</th>\n",
       "      <th>age</th>\n",
       "      <th>bmi</th>\n",
       "      <th>children</th>\n",
       "      <th>sex_female</th>\n",
       "      <th>sex_male</th>\n",
       "      <th>smoker_no</th>\n",
       "      <th>smoker_yes</th>\n",
       "      <th>region_northeast</th>\n",
       "      <th>region_northwest</th>\n",
       "      <th>region_southeast</th>\n",
       "      <th>region_southwest</th>\n",
       "    </tr>\n",
       "  </thead>\n",
       "  <tbody>\n",
       "    <tr>\n",
       "      <th>209</th>\n",
       "      <td>209</td>\n",
       "      <td>4</td>\n",
       "      <td>1.707232</td>\n",
       "      <td>1</td>\n",
       "      <td>0</td>\n",
       "      <td>1</td>\n",
       "      <td>1</td>\n",
       "      <td>0</td>\n",
       "      <td>1</td>\n",
       "      <td>0</td>\n",
       "      <td>0</td>\n",
       "      <td>0</td>\n",
       "    </tr>\n",
       "    <tr>\n",
       "      <th>540</th>\n",
       "      <td>540</td>\n",
       "      <td>3</td>\n",
       "      <td>1.180775</td>\n",
       "      <td>3</td>\n",
       "      <td>1</td>\n",
       "      <td>0</td>\n",
       "      <td>1</td>\n",
       "      <td>0</td>\n",
       "      <td>0</td>\n",
       "      <td>0</td>\n",
       "      <td>0</td>\n",
       "      <td>1</td>\n",
       "    </tr>\n",
       "    <tr>\n",
       "      <th>747</th>\n",
       "      <td>747</td>\n",
       "      <td>1</td>\n",
       "      <td>-1.466991</td>\n",
       "      <td>0</td>\n",
       "      <td>0</td>\n",
       "      <td>1</td>\n",
       "      <td>1</td>\n",
       "      <td>0</td>\n",
       "      <td>0</td>\n",
       "      <td>1</td>\n",
       "      <td>0</td>\n",
       "      <td>0</td>\n",
       "    </tr>\n",
       "  </tbody>\n",
       "</table>\n",
       "</div>"
      ],
      "text/plain": [
       "      id  age       bmi  children  sex_female  sex_male  smoker_no  \\\n",
       "209  209    4  1.707232         1           0         1          1   \n",
       "540  540    3  1.180775         3           1         0          1   \n",
       "747  747    1 -1.466991         0           0         1          1   \n",
       "\n",
       "     smoker_yes  region_northeast  region_northwest  region_southeast  \\\n",
       "209           0                 1                 0                 0   \n",
       "540           0                 0                 0                 0   \n",
       "747           0                 0                 1                 0   \n",
       "\n",
       "     region_southwest  \n",
       "209                 0  \n",
       "540                 1  \n",
       "747                 0  "
      ]
     },
     "execution_count": 30,
     "metadata": {},
     "output_type": "execute_result"
    }
   ],
   "source": [
    "X_train.head(3)"
   ]
  },
  {
   "cell_type": "markdown",
   "id": "4630e1d9",
   "metadata": {
    "papermill": {
     "duration": 0.045017,
     "end_time": "2022-11-29T06:08:52.807135",
     "exception": false,
     "start_time": "2022-11-29T06:08:52.762118",
     "status": "completed"
    },
    "tags": []
   },
   "source": [
    "## Train-Validation Split"
   ]
  },
  {
   "cell_type": "code",
   "execution_count": 31,
   "id": "0beb1e60",
   "metadata": {
    "execution": {
     "iopub.execute_input": "2022-11-29T06:08:52.905667Z",
     "iopub.status.busy": "2022-11-29T06:08:52.904584Z",
     "iopub.status.idle": "2022-11-29T06:08:52.908007Z",
     "shell.execute_reply": "2022-11-29T06:08:52.908550Z",
     "shell.execute_reply.started": "2022-11-29T06:05:11.258679Z"
    },
    "papermill": {
     "duration": 0.056664,
     "end_time": "2022-11-29T06:08:52.908727",
     "exception": false,
     "start_time": "2022-11-29T06:08:52.852063",
     "status": "completed"
    },
    "tags": []
   },
   "outputs": [
    {
     "name": "stderr",
     "output_type": "stream",
     "text": [
      "/opt/conda/lib/python3.7/site-packages/ipykernel_launcher.py:2: FutureWarning: In a future version of pandas all arguments of DataFrame.drop except for the argument 'labels' will be keyword-only\n",
      "  \n"
     ]
    }
   ],
   "source": [
    "target = y_train['charges']\n",
    "X_train = X_train.drop('id', 1)"
   ]
  },
  {
   "cell_type": "code",
   "execution_count": 32,
   "id": "0f8c5cbf",
   "metadata": {
    "execution": {
     "iopub.execute_input": "2022-11-29T06:08:53.007047Z",
     "iopub.status.busy": "2022-11-29T06:08:53.005731Z",
     "iopub.status.idle": "2022-11-29T06:08:53.012123Z",
     "shell.execute_reply": "2022-11-29T06:08:53.012666Z",
     "shell.execute_reply.started": "2022-11-29T06:05:11.268126Z"
    },
    "papermill": {
     "duration": 0.05828,
     "end_time": "2022-11-29T06:08:53.012864",
     "exception": false,
     "start_time": "2022-11-29T06:08:52.954584",
     "status": "completed"
    },
    "tags": []
   },
   "outputs": [
    {
     "data": {
      "text/plain": [
       "((909, 11), (161, 11), (909,), (161,))"
      ]
     },
     "execution_count": 32,
     "metadata": {},
     "output_type": "execute_result"
    }
   ],
   "source": [
    "from sklearn.model_selection import train_test_split\n",
    "X_tr, X_val, y_tr, y_val = train_test_split(X_train, target, test_size=0.15, random_state=2022)\n",
    "X_tr.shape, X_val.shape, y_tr.shape, y_val.shape"
   ]
  },
  {
   "cell_type": "code",
   "execution_count": 33,
   "id": "0a1e63c4",
   "metadata": {
    "execution": {
     "iopub.execute_input": "2022-11-29T06:08:53.109344Z",
     "iopub.status.busy": "2022-11-29T06:08:53.108595Z",
     "iopub.status.idle": "2022-11-29T06:08:53.446655Z",
     "shell.execute_reply": "2022-11-29T06:08:53.445940Z",
     "shell.execute_reply.started": "2022-11-29T06:05:11.291181Z"
    },
    "papermill": {
     "duration": 0.387846,
     "end_time": "2022-11-29T06:08:53.446808",
     "exception": false,
     "start_time": "2022-11-29T06:08:53.058962",
     "status": "completed"
    },
    "tags": []
   },
   "outputs": [],
   "source": [
    "from sklearn.ensemble import RandomForestRegressor\n",
    "\n",
    "rf = RandomForestRegressor()\n",
    "rf.fit(X_tr, y_tr)\n",
    "pred = rf.predict(X_val)"
   ]
  },
  {
   "cell_type": "code",
   "execution_count": 34,
   "id": "fb7bce4e",
   "metadata": {
    "execution": {
     "iopub.execute_input": "2022-11-29T06:08:53.543442Z",
     "iopub.status.busy": "2022-11-29T06:08:53.542710Z",
     "iopub.status.idle": "2022-11-29T06:08:53.549022Z",
     "shell.execute_reply": "2022-11-29T06:08:53.549531Z",
     "shell.execute_reply.started": "2022-11-29T06:05:11.634411Z"
    },
    "papermill": {
     "duration": 0.057053,
     "end_time": "2022-11-29T06:08:53.549709",
     "exception": false,
     "start_time": "2022-11-29T06:08:53.492656",
     "status": "completed"
    },
    "tags": []
   },
   "outputs": [
    {
     "data": {
      "text/plain": [
       "0.39213721200960383"
      ]
     },
     "execution_count": 34,
     "metadata": {},
     "output_type": "execute_result"
    }
   ],
   "source": [
    "from sklearn.metrics import mean_squared_error\n",
    "def rmse2(y_true, y_pred):\n",
    "    return np.sqrt(mean_squared_error(y_true, y_pred))\n",
    "\n",
    "rmse2(y_val, pred)"
   ]
  },
  {
   "cell_type": "code",
   "execution_count": 35,
   "id": "f544701f",
   "metadata": {
    "execution": {
     "iopub.execute_input": "2022-11-29T06:08:53.645476Z",
     "iopub.status.busy": "2022-11-29T06:08:53.644736Z",
     "iopub.status.idle": "2022-11-29T06:08:53.651368Z",
     "shell.execute_reply": "2022-11-29T06:08:53.651995Z",
     "shell.execute_reply.started": "2022-11-29T06:05:11.645352Z"
    },
    "papermill": {
     "duration": 0.05649,
     "end_time": "2022-11-29T06:08:53.652186",
     "exception": false,
     "start_time": "2022-11-29T06:08:53.595696",
     "status": "completed"
    },
    "tags": []
   },
   "outputs": [
    {
     "data": {
      "text/plain": [
       "0.39213721200960383"
      ]
     },
     "execution_count": 35,
     "metadata": {},
     "output_type": "execute_result"
    }
   ],
   "source": [
    "def rmse(y_true, y_pred):\n",
    "    return np.sqrt(np.mean((y_true-y_pred)**2))\n",
    "\n",
    "rmse(y_val, pred)"
   ]
  },
  {
   "cell_type": "code",
   "execution_count": 36,
   "id": "011ffd77",
   "metadata": {
    "execution": {
     "iopub.execute_input": "2022-11-29T06:08:53.751896Z",
     "iopub.status.busy": "2022-11-29T06:08:53.751231Z",
     "iopub.status.idle": "2022-11-29T06:08:54.096051Z",
     "shell.execute_reply": "2022-11-29T06:08:54.095348Z",
     "shell.execute_reply.started": "2022-11-29T06:05:11.661195Z"
    },
    "papermill": {
     "duration": 0.397155,
     "end_time": "2022-11-29T06:08:54.096236",
     "exception": false,
     "start_time": "2022-11-29T06:08:53.699081",
     "status": "completed"
    },
    "tags": []
   },
   "outputs": [],
   "source": [
    "from xgboost import XGBRegressor\n",
    "\n",
    "xgb = XGBRegressor()\n",
    "xgb.fit(X_tr, y_tr)\n",
    "pred = xgb.predict(X_val)"
   ]
  },
  {
   "cell_type": "code",
   "execution_count": 37,
   "id": "f6f33b91",
   "metadata": {
    "execution": {
     "iopub.execute_input": "2022-11-29T06:08:54.199097Z",
     "iopub.status.busy": "2022-11-29T06:08:54.198094Z",
     "iopub.status.idle": "2022-11-29T06:08:54.201276Z",
     "shell.execute_reply": "2022-11-29T06:08:54.201791Z",
     "shell.execute_reply.started": "2022-11-29T06:05:12.022328Z"
    },
    "papermill": {
     "duration": 0.056883,
     "end_time": "2022-11-29T06:08:54.201988",
     "exception": false,
     "start_time": "2022-11-29T06:08:54.145105",
     "status": "completed"
    },
    "tags": []
   },
   "outputs": [
    {
     "data": {
      "text/plain": [
       "0.39580148944349686"
      ]
     },
     "execution_count": 37,
     "metadata": {},
     "output_type": "execute_result"
    }
   ],
   "source": [
    "rmse2(y_val, pred)"
   ]
  },
  {
   "cell_type": "code",
   "execution_count": 38,
   "id": "77db86af",
   "metadata": {
    "execution": {
     "iopub.execute_input": "2022-11-29T06:08:54.303280Z",
     "iopub.status.busy": "2022-11-29T06:08:54.302545Z",
     "iopub.status.idle": "2022-11-29T06:08:54.663365Z",
     "shell.execute_reply": "2022-11-29T06:08:54.663907Z",
     "shell.execute_reply.started": "2022-11-29T06:05:12.031488Z"
    },
    "papermill": {
     "duration": 0.415449,
     "end_time": "2022-11-29T06:08:54.664101",
     "exception": false,
     "start_time": "2022-11-29T06:08:54.248652",
     "status": "completed"
    },
    "tags": []
   },
   "outputs": [
    {
     "name": "stderr",
     "output_type": "stream",
     "text": [
      "/opt/conda/lib/python3.7/site-packages/ipykernel_launcher.py:2: FutureWarning: In a future version of pandas all arguments of DataFrame.drop except for the argument 'labels' will be keyword-only\n",
      "  \n"
     ]
    }
   ],
   "source": [
    "rf.fit(X_train, y_train['charges'])\n",
    "pred = rf.predict(X_test.drop('id',1))"
   ]
  },
  {
   "cell_type": "code",
   "execution_count": 39,
   "id": "c469c500",
   "metadata": {
    "execution": {
     "iopub.execute_input": "2022-11-29T06:08:54.764250Z",
     "iopub.status.busy": "2022-11-29T06:08:54.763532Z",
     "iopub.status.idle": "2022-11-29T06:08:54.773492Z",
     "shell.execute_reply": "2022-11-29T06:08:54.774000Z",
     "shell.execute_reply.started": "2022-11-29T06:05:12.411382Z"
    },
    "papermill": {
     "duration": 0.061471,
     "end_time": "2022-11-29T06:08:54.774184",
     "exception": false,
     "start_time": "2022-11-29T06:08:54.712713",
     "status": "completed"
    },
    "tags": []
   },
   "outputs": [
    {
     "data": {
      "text/html": [
       "<div>\n",
       "<style scoped>\n",
       "    .dataframe tbody tr th:only-of-type {\n",
       "        vertical-align: middle;\n",
       "    }\n",
       "\n",
       "    .dataframe tbody tr th {\n",
       "        vertical-align: top;\n",
       "    }\n",
       "\n",
       "    .dataframe thead th {\n",
       "        text-align: right;\n",
       "    }\n",
       "</style>\n",
       "<table border=\"1\" class=\"dataframe\">\n",
       "  <thead>\n",
       "    <tr style=\"text-align: right;\">\n",
       "      <th></th>\n",
       "      <th>id</th>\n",
       "      <th>charges</th>\n",
       "    </tr>\n",
       "  </thead>\n",
       "  <tbody>\n",
       "    <tr>\n",
       "      <th>1088</th>\n",
       "      <td>1088</td>\n",
       "      <td>9446.444211</td>\n",
       "    </tr>\n",
       "    <tr>\n",
       "      <th>1157</th>\n",
       "      <td>1157</td>\n",
       "      <td>4202.767899</td>\n",
       "    </tr>\n",
       "    <tr>\n",
       "      <th>1267</th>\n",
       "      <td>1267</td>\n",
       "      <td>34121.233347</td>\n",
       "    </tr>\n",
       "    <tr>\n",
       "      <th>506</th>\n",
       "      <td>506</td>\n",
       "      <td>2903.017409</td>\n",
       "    </tr>\n",
       "    <tr>\n",
       "      <th>659</th>\n",
       "      <td>659</td>\n",
       "      <td>12940.239768</td>\n",
       "    </tr>\n",
       "  </tbody>\n",
       "</table>\n",
       "</div>"
      ],
      "text/plain": [
       "        id       charges\n",
       "1088  1088   9446.444211\n",
       "1157  1157   4202.767899\n",
       "1267  1267  34121.233347\n",
       "506    506   2903.017409\n",
       "659    659  12940.239768"
      ]
     },
     "execution_count": 39,
     "metadata": {},
     "output_type": "execute_result"
    }
   ],
   "source": [
    "pred = np.exp(pred)\n",
    "output = pd.DataFrame({'id': y_test['id'], 'charges':pred})\n",
    "output.head()"
   ]
  },
  {
   "cell_type": "code",
   "execution_count": 40,
   "id": "46c1c950",
   "metadata": {
    "execution": {
     "iopub.execute_input": "2022-11-29T06:08:54.871695Z",
     "iopub.status.busy": "2022-11-29T06:08:54.871037Z",
     "iopub.status.idle": "2022-11-29T06:08:54.876653Z",
     "shell.execute_reply": "2022-11-29T06:08:54.877179Z",
     "shell.execute_reply.started": "2022-11-29T06:05:12.428744Z"
    },
    "papermill": {
     "duration": 0.055951,
     "end_time": "2022-11-29T06:08:54.877372",
     "exception": false,
     "start_time": "2022-11-29T06:08:54.821421",
     "status": "completed"
    },
    "tags": []
   },
   "outputs": [],
   "source": [
    "output.to_csv(\"000000.csv\", index=False)"
   ]
  },
  {
   "cell_type": "markdown",
   "id": "d61e5248",
   "metadata": {
    "papermill": {
     "duration": 0.047043,
     "end_time": "2022-11-29T06:08:54.974298",
     "exception": false,
     "start_time": "2022-11-29T06:08:54.927255",
     "status": "completed"
    },
    "tags": []
   },
   "source": [
    "# 결과 체점"
   ]
  },
  {
   "cell_type": "code",
   "execution_count": 41,
   "id": "aa9f3df2",
   "metadata": {
    "execution": {
     "iopub.execute_input": "2022-11-29T06:08:55.079632Z",
     "iopub.status.busy": "2022-11-29T06:08:55.078900Z",
     "iopub.status.idle": "2022-11-29T06:08:55.086397Z",
     "shell.execute_reply": "2022-11-29T06:08:55.085810Z",
     "shell.execute_reply.started": "2022-11-29T06:05:12.439667Z"
    },
    "papermill": {
     "duration": 0.061226,
     "end_time": "2022-11-29T06:08:55.086558",
     "exception": false,
     "start_time": "2022-11-29T06:08:55.025332",
     "status": "completed"
    },
    "tags": []
   },
   "outputs": [
    {
     "data": {
      "text/plain": [
       "4791.3370714496305"
      ]
     },
     "execution_count": 41,
     "metadata": {},
     "output_type": "execute_result"
    }
   ],
   "source": [
    "rmse(y_test['charges'], pred)"
   ]
  },
  {
   "cell_type": "code",
   "execution_count": null,
   "id": "3e19fc3a",
   "metadata": {
    "papermill": {
     "duration": 0.048054,
     "end_time": "2022-11-29T06:08:55.184902",
     "exception": false,
     "start_time": "2022-11-29T06:08:55.136848",
     "status": "completed"
    },
    "tags": []
   },
   "outputs": [],
   "source": []
  },
  {
   "cell_type": "code",
   "execution_count": null,
   "id": "ce69d6cf",
   "metadata": {
    "papermill": {
     "duration": 0.047104,
     "end_time": "2022-11-29T06:08:55.280136",
     "exception": false,
     "start_time": "2022-11-29T06:08:55.233032",
     "status": "completed"
    },
    "tags": []
   },
   "outputs": [],
   "source": []
  },
  {
   "cell_type": "code",
   "execution_count": null,
   "id": "0a4e5a92",
   "metadata": {
    "papermill": {
     "duration": 0.052445,
     "end_time": "2022-11-29T06:08:55.381471",
     "exception": false,
     "start_time": "2022-11-29T06:08:55.329026",
     "status": "completed"
    },
    "tags": []
   },
   "outputs": [],
   "source": []
  },
  {
   "cell_type": "code",
   "execution_count": null,
   "id": "fd017805",
   "metadata": {
    "papermill": {
     "duration": 0.049026,
     "end_time": "2022-11-29T06:08:55.481195",
     "exception": false,
     "start_time": "2022-11-29T06:08:55.432169",
     "status": "completed"
    },
    "tags": []
   },
   "outputs": [],
   "source": []
  }
 ],
 "metadata": {
  "kernelspec": {
   "display_name": "Python 3",
   "language": "python",
   "name": "python3"
  },
  "language_info": {
   "codemirror_mode": {
    "name": "ipython",
    "version": 3
   },
   "file_extension": ".py",
   "mimetype": "text/x-python",
   "name": "python",
   "nbconvert_exporter": "python",
   "pygments_lexer": "ipython3",
   "version": "3.7.10"
  },
  "papermill": {
   "default_parameters": {},
   "duration": 19.815892,
   "end_time": "2022-11-29T06:08:56.242380",
   "environment_variables": {},
   "exception": null,
   "input_path": "__notebook__.ipynb",
   "output_path": "__notebook__.ipynb",
   "parameters": {},
   "start_time": "2022-11-29T06:08:36.426488",
   "version": "2.3.3"
  }
 },
 "nbformat": 4,
 "nbformat_minor": 5
}
