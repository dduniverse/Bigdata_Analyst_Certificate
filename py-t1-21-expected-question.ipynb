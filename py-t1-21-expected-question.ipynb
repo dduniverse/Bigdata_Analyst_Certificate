{
 "cells": [
  {
   "cell_type": "markdown",
   "id": "644f4849",
   "metadata": {
    "papermill": {
     "duration": 0.01487,
     "end_time": "2022-11-18T11:40:29.104187",
     "exception": false,
     "start_time": "2022-11-18T11:40:29.089317",
     "status": "completed"
    },
    "tags": []
   },
   "source": [
    "## 나이 구간 나누기\n",
    "###  basic1 데이터 중 'age'컬럼 이상치를 제거하고, 동일한 개수로 나이 순으로 3그룹으로 나눈 뒤 각 그룹의 중앙값을 더하시오\n",
    "### (이상치는 음수(0포함), 소수점 값)\n",
    "- data: basic1.csv\n",
    "- 오른쪽 상단 copy&edit 클릭 -> 예상문제 풀이 시작\n"
   ]
  },
  {
   "cell_type": "code",
   "execution_count": 1,
   "id": "96548435",
   "metadata": {
    "execution": {
     "iopub.execute_input": "2022-11-18T11:40:29.140544Z",
     "iopub.status.busy": "2022-11-18T11:40:29.139891Z",
     "iopub.status.idle": "2022-11-18T11:40:29.189929Z",
     "shell.execute_reply": "2022-11-18T11:40:29.189239Z",
     "shell.execute_reply.started": "2022-11-18T11:39:56.691584Z"
    },
    "papermill": {
     "duration": 0.071683,
     "end_time": "2022-11-18T11:40:29.190108",
     "exception": false,
     "start_time": "2022-11-18T11:40:29.118425",
     "status": "completed"
    },
    "tags": []
   },
   "outputs": [
    {
     "data": {
      "text/html": [
       "<div>\n",
       "<style scoped>\n",
       "    .dataframe tbody tr th:only-of-type {\n",
       "        vertical-align: middle;\n",
       "    }\n",
       "\n",
       "    .dataframe tbody tr th {\n",
       "        vertical-align: top;\n",
       "    }\n",
       "\n",
       "    .dataframe thead th {\n",
       "        text-align: right;\n",
       "    }\n",
       "</style>\n",
       "<table border=\"1\" class=\"dataframe\">\n",
       "  <thead>\n",
       "    <tr style=\"text-align: right;\">\n",
       "      <th></th>\n",
       "      <th>id</th>\n",
       "      <th>age</th>\n",
       "      <th>city</th>\n",
       "      <th>f1</th>\n",
       "      <th>f2</th>\n",
       "      <th>f3</th>\n",
       "      <th>f4</th>\n",
       "      <th>f5</th>\n",
       "    </tr>\n",
       "  </thead>\n",
       "  <tbody>\n",
       "    <tr>\n",
       "      <th>0</th>\n",
       "      <td>id01</td>\n",
       "      <td>2.0</td>\n",
       "      <td>서울</td>\n",
       "      <td>NaN</td>\n",
       "      <td>0</td>\n",
       "      <td>NaN</td>\n",
       "      <td>ENFJ</td>\n",
       "      <td>91.297791</td>\n",
       "    </tr>\n",
       "    <tr>\n",
       "      <th>1</th>\n",
       "      <td>id02</td>\n",
       "      <td>9.0</td>\n",
       "      <td>서울</td>\n",
       "      <td>70.0</td>\n",
       "      <td>1</td>\n",
       "      <td>NaN</td>\n",
       "      <td>ENFJ</td>\n",
       "      <td>60.339826</td>\n",
       "    </tr>\n",
       "    <tr>\n",
       "      <th>2</th>\n",
       "      <td>id03</td>\n",
       "      <td>27.0</td>\n",
       "      <td>서울</td>\n",
       "      <td>61.0</td>\n",
       "      <td>1</td>\n",
       "      <td>NaN</td>\n",
       "      <td>ISTJ</td>\n",
       "      <td>17.252986</td>\n",
       "    </tr>\n",
       "    <tr>\n",
       "      <th>3</th>\n",
       "      <td>id04</td>\n",
       "      <td>75.0</td>\n",
       "      <td>서울</td>\n",
       "      <td>NaN</td>\n",
       "      <td>2</td>\n",
       "      <td>NaN</td>\n",
       "      <td>INFP</td>\n",
       "      <td>52.667078</td>\n",
       "    </tr>\n",
       "    <tr>\n",
       "      <th>4</th>\n",
       "      <td>id05</td>\n",
       "      <td>24.0</td>\n",
       "      <td>서울</td>\n",
       "      <td>85.0</td>\n",
       "      <td>2</td>\n",
       "      <td>NaN</td>\n",
       "      <td>ISFJ</td>\n",
       "      <td>29.269869</td>\n",
       "    </tr>\n",
       "    <tr>\n",
       "      <th>...</th>\n",
       "      <td>...</td>\n",
       "      <td>...</td>\n",
       "      <td>...</td>\n",
       "      <td>...</td>\n",
       "      <td>...</td>\n",
       "      <td>...</td>\n",
       "      <td>...</td>\n",
       "      <td>...</td>\n",
       "    </tr>\n",
       "    <tr>\n",
       "      <th>95</th>\n",
       "      <td>id96</td>\n",
       "      <td>92.0</td>\n",
       "      <td>경기</td>\n",
       "      <td>53.0</td>\n",
       "      <td>1</td>\n",
       "      <td>NaN</td>\n",
       "      <td>ENTJ</td>\n",
       "      <td>52.667078</td>\n",
       "    </tr>\n",
       "    <tr>\n",
       "      <th>96</th>\n",
       "      <td>id97</td>\n",
       "      <td>100.0</td>\n",
       "      <td>경기</td>\n",
       "      <td>NaN</td>\n",
       "      <td>0</td>\n",
       "      <td>NaN</td>\n",
       "      <td>INFP</td>\n",
       "      <td>67.886373</td>\n",
       "    </tr>\n",
       "    <tr>\n",
       "      <th>97</th>\n",
       "      <td>id98</td>\n",
       "      <td>39.0</td>\n",
       "      <td>경기</td>\n",
       "      <td>58.0</td>\n",
       "      <td>2</td>\n",
       "      <td>NaN</td>\n",
       "      <td>INFP</td>\n",
       "      <td>98.429899</td>\n",
       "    </tr>\n",
       "    <tr>\n",
       "      <th>98</th>\n",
       "      <td>id99</td>\n",
       "      <td>1.0</td>\n",
       "      <td>경기</td>\n",
       "      <td>47.0</td>\n",
       "      <td>0</td>\n",
       "      <td>NaN</td>\n",
       "      <td>ESFJ</td>\n",
       "      <td>97.381034</td>\n",
       "    </tr>\n",
       "    <tr>\n",
       "      <th>99</th>\n",
       "      <td>id100</td>\n",
       "      <td>47.0</td>\n",
       "      <td>경기</td>\n",
       "      <td>53.0</td>\n",
       "      <td>0</td>\n",
       "      <td>vip</td>\n",
       "      <td>ESFP</td>\n",
       "      <td>33.308999</td>\n",
       "    </tr>\n",
       "  </tbody>\n",
       "</table>\n",
       "<p>100 rows × 8 columns</p>\n",
       "</div>"
      ],
      "text/plain": [
       "       id    age city    f1  f2   f3    f4         f5\n",
       "0    id01    2.0   서울   NaN   0  NaN  ENFJ  91.297791\n",
       "1    id02    9.0   서울  70.0   1  NaN  ENFJ  60.339826\n",
       "2    id03   27.0   서울  61.0   1  NaN  ISTJ  17.252986\n",
       "3    id04   75.0   서울   NaN   2  NaN  INFP  52.667078\n",
       "4    id05   24.0   서울  85.0   2  NaN  ISFJ  29.269869\n",
       "..    ...    ...  ...   ...  ..  ...   ...        ...\n",
       "95   id96   92.0   경기  53.0   1  NaN  ENTJ  52.667078\n",
       "96   id97  100.0   경기   NaN   0  NaN  INFP  67.886373\n",
       "97   id98   39.0   경기  58.0   2  NaN  INFP  98.429899\n",
       "98   id99    1.0   경기  47.0   0  NaN  ESFJ  97.381034\n",
       "99  id100   47.0   경기  53.0   0  vip  ESFP  33.308999\n",
       "\n",
       "[100 rows x 8 columns]"
      ]
     },
     "execution_count": 1,
     "metadata": {},
     "output_type": "execute_result"
    }
   ],
   "source": [
    "import pandas as pd\n",
    "\n",
    "df=pd.read_csv('../input/bigdatacertificationkr/basic1.csv')\n",
    "df"
   ]
  },
  {
   "cell_type": "code",
   "execution_count": 2,
   "id": "cee99ad6",
   "metadata": {
    "execution": {
     "iopub.execute_input": "2022-11-18T11:40:29.246220Z",
     "iopub.status.busy": "2022-11-18T11:40:29.245403Z",
     "iopub.status.idle": "2022-11-18T11:40:29.249702Z",
     "shell.execute_reply": "2022-11-18T11:40:29.249176Z",
     "shell.execute_reply.started": "2022-11-18T11:39:56.743901Z"
    },
    "papermill": {
     "duration": 0.042861,
     "end_time": "2022-11-18T11:40:29.249854",
     "exception": false,
     "start_time": "2022-11-18T11:40:29.206993",
     "status": "completed"
    },
    "tags": []
   },
   "outputs": [
    {
     "data": {
      "text/html": [
       "<div>\n",
       "<style scoped>\n",
       "    .dataframe tbody tr th:only-of-type {\n",
       "        vertical-align: middle;\n",
       "    }\n",
       "\n",
       "    .dataframe tbody tr th {\n",
       "        vertical-align: top;\n",
       "    }\n",
       "\n",
       "    .dataframe thead th {\n",
       "        text-align: right;\n",
       "    }\n",
       "</style>\n",
       "<table border=\"1\" class=\"dataframe\">\n",
       "  <thead>\n",
       "    <tr style=\"text-align: right;\">\n",
       "      <th></th>\n",
       "      <th>id</th>\n",
       "      <th>age</th>\n",
       "      <th>city</th>\n",
       "      <th>f1</th>\n",
       "      <th>f2</th>\n",
       "      <th>f3</th>\n",
       "      <th>f4</th>\n",
       "      <th>f5</th>\n",
       "    </tr>\n",
       "  </thead>\n",
       "  <tbody>\n",
       "    <tr>\n",
       "      <th>0</th>\n",
       "      <td>id01</td>\n",
       "      <td>2.0</td>\n",
       "      <td>서울</td>\n",
       "      <td>NaN</td>\n",
       "      <td>0</td>\n",
       "      <td>NaN</td>\n",
       "      <td>ENFJ</td>\n",
       "      <td>91.297791</td>\n",
       "    </tr>\n",
       "    <tr>\n",
       "      <th>1</th>\n",
       "      <td>id02</td>\n",
       "      <td>9.0</td>\n",
       "      <td>서울</td>\n",
       "      <td>70.0</td>\n",
       "      <td>1</td>\n",
       "      <td>NaN</td>\n",
       "      <td>ENFJ</td>\n",
       "      <td>60.339826</td>\n",
       "    </tr>\n",
       "    <tr>\n",
       "      <th>2</th>\n",
       "      <td>id03</td>\n",
       "      <td>27.0</td>\n",
       "      <td>서울</td>\n",
       "      <td>61.0</td>\n",
       "      <td>1</td>\n",
       "      <td>NaN</td>\n",
       "      <td>ISTJ</td>\n",
       "      <td>17.252986</td>\n",
       "    </tr>\n",
       "    <tr>\n",
       "      <th>3</th>\n",
       "      <td>id04</td>\n",
       "      <td>75.0</td>\n",
       "      <td>서울</td>\n",
       "      <td>NaN</td>\n",
       "      <td>2</td>\n",
       "      <td>NaN</td>\n",
       "      <td>INFP</td>\n",
       "      <td>52.667078</td>\n",
       "    </tr>\n",
       "    <tr>\n",
       "      <th>4</th>\n",
       "      <td>id05</td>\n",
       "      <td>24.0</td>\n",
       "      <td>서울</td>\n",
       "      <td>85.0</td>\n",
       "      <td>2</td>\n",
       "      <td>NaN</td>\n",
       "      <td>ISFJ</td>\n",
       "      <td>29.269869</td>\n",
       "    </tr>\n",
       "    <tr>\n",
       "      <th>...</th>\n",
       "      <td>...</td>\n",
       "      <td>...</td>\n",
       "      <td>...</td>\n",
       "      <td>...</td>\n",
       "      <td>...</td>\n",
       "      <td>...</td>\n",
       "      <td>...</td>\n",
       "      <td>...</td>\n",
       "    </tr>\n",
       "    <tr>\n",
       "      <th>95</th>\n",
       "      <td>id96</td>\n",
       "      <td>92.0</td>\n",
       "      <td>경기</td>\n",
       "      <td>53.0</td>\n",
       "      <td>1</td>\n",
       "      <td>NaN</td>\n",
       "      <td>ENTJ</td>\n",
       "      <td>52.667078</td>\n",
       "    </tr>\n",
       "    <tr>\n",
       "      <th>96</th>\n",
       "      <td>id97</td>\n",
       "      <td>100.0</td>\n",
       "      <td>경기</td>\n",
       "      <td>NaN</td>\n",
       "      <td>0</td>\n",
       "      <td>NaN</td>\n",
       "      <td>INFP</td>\n",
       "      <td>67.886373</td>\n",
       "    </tr>\n",
       "    <tr>\n",
       "      <th>97</th>\n",
       "      <td>id98</td>\n",
       "      <td>39.0</td>\n",
       "      <td>경기</td>\n",
       "      <td>58.0</td>\n",
       "      <td>2</td>\n",
       "      <td>NaN</td>\n",
       "      <td>INFP</td>\n",
       "      <td>98.429899</td>\n",
       "    </tr>\n",
       "    <tr>\n",
       "      <th>98</th>\n",
       "      <td>id99</td>\n",
       "      <td>1.0</td>\n",
       "      <td>경기</td>\n",
       "      <td>47.0</td>\n",
       "      <td>0</td>\n",
       "      <td>NaN</td>\n",
       "      <td>ESFJ</td>\n",
       "      <td>97.381034</td>\n",
       "    </tr>\n",
       "    <tr>\n",
       "      <th>99</th>\n",
       "      <td>id100</td>\n",
       "      <td>47.0</td>\n",
       "      <td>경기</td>\n",
       "      <td>53.0</td>\n",
       "      <td>0</td>\n",
       "      <td>vip</td>\n",
       "      <td>ESFP</td>\n",
       "      <td>33.308999</td>\n",
       "    </tr>\n",
       "  </tbody>\n",
       "</table>\n",
       "<p>90 rows × 8 columns</p>\n",
       "</div>"
      ],
      "text/plain": [
       "       id    age city    f1  f2   f3    f4         f5\n",
       "0    id01    2.0   서울   NaN   0  NaN  ENFJ  91.297791\n",
       "1    id02    9.0   서울  70.0   1  NaN  ENFJ  60.339826\n",
       "2    id03   27.0   서울  61.0   1  NaN  ISTJ  17.252986\n",
       "3    id04   75.0   서울   NaN   2  NaN  INFP  52.667078\n",
       "4    id05   24.0   서울  85.0   2  NaN  ISFJ  29.269869\n",
       "..    ...    ...  ...   ...  ..  ...   ...        ...\n",
       "95   id96   92.0   경기  53.0   1  NaN  ENTJ  52.667078\n",
       "96   id97  100.0   경기   NaN   0  NaN  INFP  67.886373\n",
       "97   id98   39.0   경기  58.0   2  NaN  INFP  98.429899\n",
       "98   id99    1.0   경기  47.0   0  NaN  ESFJ  97.381034\n",
       "99  id100   47.0   경기  53.0   0  vip  ESFP  33.308999\n",
       "\n",
       "[90 rows x 8 columns]"
      ]
     },
     "execution_count": 2,
     "metadata": {},
     "output_type": "execute_result"
    }
   ],
   "source": [
    "# 'age'가 0보다 크고 소수점값이 아닌 데이터만 df로 가져옴\n",
    "df=df[(df['age']>0) & (df['age']==round(df['age'],0))]\n",
    "df"
   ]
  },
  {
   "cell_type": "code",
   "execution_count": 3,
   "id": "4264ab87",
   "metadata": {
    "execution": {
     "iopub.execute_input": "2022-11-18T11:40:29.306673Z",
     "iopub.status.busy": "2022-11-18T11:40:29.305772Z",
     "iopub.status.idle": "2022-11-18T11:40:29.309173Z",
     "shell.execute_reply": "2022-11-18T11:40:29.309662Z",
     "shell.execute_reply.started": "2022-11-18T11:39:56.765345Z"
    },
    "papermill": {
     "duration": 0.045213,
     "end_time": "2022-11-18T11:40:29.309846",
     "exception": false,
     "start_time": "2022-11-18T11:40:29.264633",
     "status": "completed"
    },
    "tags": []
   },
   "outputs": [
    {
     "data": {
      "text/plain": [
       "(67.0, 100.0]    34\n",
       "(34.0, 67.0]     32\n",
       "(0.901, 34.0]    24\n",
       "Name: age, dtype: int64"
      ]
     },
     "execution_count": 3,
     "metadata": {},
     "output_type": "execute_result"
    }
   ],
   "source": [
    "# pd.cut: 같은 길이로 n등분\n",
    "pd.cut(df['age'],3).value_counts()"
   ]
  },
  {
   "cell_type": "code",
   "execution_count": 4,
   "id": "1cfdd85c",
   "metadata": {
    "execution": {
     "iopub.execute_input": "2022-11-18T11:40:29.352610Z",
     "iopub.status.busy": "2022-11-18T11:40:29.350387Z",
     "iopub.status.idle": "2022-11-18T11:40:29.355812Z",
     "shell.execute_reply": "2022-11-18T11:40:29.356266Z",
     "shell.execute_reply.started": "2022-11-18T11:39:56.781520Z"
    },
    "papermill": {
     "duration": 0.031628,
     "end_time": "2022-11-18T11:40:29.356459",
     "exception": false,
     "start_time": "2022-11-18T11:40:29.324831",
     "status": "completed"
    },
    "tags": []
   },
   "outputs": [
    {
     "data": {
      "text/plain": [
       "(0.999, 38.667]     30\n",
       "(38.667, 73.333]    30\n",
       "(73.333, 100.0]     30\n",
       "Name: age, dtype: int64"
      ]
     },
     "execution_count": 4,
     "metadata": {},
     "output_type": "execute_result"
    }
   ],
   "source": [
    "# pd.qcut: 같은 개수로 n등분\n",
    "pd.qcut(df['age'],3).value_counts()"
   ]
  },
  {
   "cell_type": "code",
   "execution_count": 5,
   "id": "0a53932d",
   "metadata": {
    "execution": {
     "iopub.execute_input": "2022-11-18T11:40:29.399471Z",
     "iopub.status.busy": "2022-11-18T11:40:29.398759Z",
     "iopub.status.idle": "2022-11-18T11:40:29.404842Z",
     "shell.execute_reply": "2022-11-18T11:40:29.404073Z",
     "shell.execute_reply.started": "2022-11-18T11:39:56.799971Z"
    },
    "papermill": {
     "duration": 0.033139,
     "end_time": "2022-11-18T11:40:29.405031",
     "exception": false,
     "start_time": "2022-11-18T11:40:29.371892",
     "status": "completed"
    },
    "tags": []
   },
   "outputs": [
    {
     "name": "stderr",
     "output_type": "stream",
     "text": [
      "/opt/conda/lib/python3.7/site-packages/ipykernel_launcher.py:2: SettingWithCopyWarning: \n",
      "A value is trying to be set on a copy of a slice from a DataFrame.\n",
      "Try using .loc[row_indexer,col_indexer] = value instead\n",
      "\n",
      "See the caveats in the documentation: https://pandas.pydata.org/pandas-docs/stable/user_guide/indexing.html#returning-a-view-versus-a-copy\n",
      "  \n"
     ]
    },
    {
     "data": {
      "text/plain": [
       "0     a1\n",
       "1     a1\n",
       "2     a1\n",
       "3     a3\n",
       "4     a1\n",
       "      ..\n",
       "95    a3\n",
       "96    a3\n",
       "97    a2\n",
       "98    a1\n",
       "99    a2\n",
       "Name: age_cut, Length: 90, dtype: category\n",
       "Categories (3, object): ['a1' < 'a2' < 'a3']"
      ]
     },
     "execution_count": 5,
     "metadata": {},
     "output_type": "execute_result"
    }
   ],
   "source": [
    "# 문제에서 동일한 개수로 3그룹을 만들라 했으므로 qcut 사용\n",
    "df['age_cut']=pd.qcut(df['age'],3,labels=['a1','a2','a3']) # labels: 그룹 이름 지정\n",
    "df['age_cut']"
   ]
  },
  {
   "cell_type": "code",
   "execution_count": 6,
   "id": "0be0fe67",
   "metadata": {
    "execution": {
     "iopub.execute_input": "2022-11-18T11:40:29.444995Z",
     "iopub.status.busy": "2022-11-18T11:40:29.442182Z",
     "iopub.status.idle": "2022-11-18T11:40:29.451698Z",
     "shell.execute_reply": "2022-11-18T11:40:29.451137Z",
     "shell.execute_reply.started": "2022-11-18T11:39:56.816372Z"
    },
    "papermill": {
     "duration": 0.029256,
     "end_time": "2022-11-18T11:40:29.451853",
     "exception": false,
     "start_time": "2022-11-18T11:40:29.422597",
     "status": "completed"
    },
    "tags": []
   },
   "outputs": [
    {
     "data": {
      "text/plain": [
       "a1    30\n",
       "a2    30\n",
       "a3    30\n",
       "Name: age_cut, dtype: int64"
      ]
     },
     "execution_count": 6,
     "metadata": {},
     "output_type": "execute_result"
    }
   ],
   "source": [
    "df['age_cut'].value_counts()"
   ]
  },
  {
   "cell_type": "code",
   "execution_count": 7,
   "id": "f8535945",
   "metadata": {
    "execution": {
     "iopub.execute_input": "2022-11-18T11:40:29.494669Z",
     "iopub.status.busy": "2022-11-18T11:40:29.493934Z",
     "iopub.status.idle": "2022-11-18T11:40:29.496609Z",
     "shell.execute_reply": "2022-11-18T11:40:29.497223Z",
     "shell.execute_reply.started": "2022-11-18T11:39:56.829369Z"
    },
    "papermill": {
     "duration": 0.028877,
     "end_time": "2022-11-18T11:40:29.497401",
     "exception": false,
     "start_time": "2022-11-18T11:40:29.468524",
     "status": "completed"
    },
    "tags": []
   },
   "outputs": [
    {
     "data": {
      "text/plain": [
       "165.0"
      ]
     },
     "execution_count": 7,
     "metadata": {},
     "output_type": "execute_result"
    }
   ],
   "source": [
    "# a1, a2, a3 그룹 'age' 중앙값의 합\n",
    "df[df['age_cut']=='a1']['age'].median() + df[df['age_cut']=='a2']['age'].median() + df[df['age_cut']=='a3']['age'].median()"
   ]
  },
  {
   "cell_type": "code",
   "execution_count": null,
   "id": "c0568e04",
   "metadata": {
    "papermill": {
     "duration": 0.016293,
     "end_time": "2022-11-18T11:40:29.530814",
     "exception": false,
     "start_time": "2022-11-18T11:40:29.514521",
     "status": "completed"
    },
    "tags": []
   },
   "outputs": [],
   "source": []
  },
  {
   "cell_type": "code",
   "execution_count": 8,
   "id": "d1ad99af",
   "metadata": {
    "_cell_guid": "b1076dfc-b9ad-4769-8c92-a6c4dae69d19",
    "_uuid": "8f2839f25d086af736a60e9eeb907d3b93b6e0e5",
    "execution": {
     "iopub.execute_input": "2022-11-18T11:40:29.567420Z",
     "iopub.status.busy": "2022-11-18T11:40:29.566810Z",
     "iopub.status.idle": "2022-11-18T11:40:29.569526Z",
     "shell.execute_reply": "2022-11-18T11:40:29.570164Z",
     "shell.execute_reply.started": "2022-11-18T11:39:56.842054Z"
    },
    "papermill": {
     "duration": 0.022893,
     "end_time": "2022-11-18T11:40:29.570333",
     "exception": false,
     "start_time": "2022-11-18T11:40:29.547440",
     "status": "completed"
    },
    "tags": []
   },
   "outputs": [],
   "source": [
    "import pandas as pd"
   ]
  },
  {
   "cell_type": "code",
   "execution_count": 9,
   "id": "121a738a",
   "metadata": {
    "execution": {
     "iopub.execute_input": "2022-11-18T11:40:29.606704Z",
     "iopub.status.busy": "2022-11-18T11:40:29.606065Z",
     "iopub.status.idle": "2022-11-18T11:40:29.613072Z",
     "shell.execute_reply": "2022-11-18T11:40:29.613772Z",
     "shell.execute_reply.started": "2022-11-18T11:39:56.849015Z"
    },
    "papermill": {
     "duration": 0.026972,
     "end_time": "2022-11-18T11:40:29.613964",
     "exception": false,
     "start_time": "2022-11-18T11:40:29.586992",
     "status": "completed"
    },
    "tags": []
   },
   "outputs": [],
   "source": [
    "df = pd.read_csv('../input/bigdatacertificationkr/basic1.csv')"
   ]
  },
  {
   "cell_type": "code",
   "execution_count": 10,
   "id": "79b39bff",
   "metadata": {
    "execution": {
     "iopub.execute_input": "2022-11-18T11:40:29.655387Z",
     "iopub.status.busy": "2022-11-18T11:40:29.651445Z",
     "iopub.status.idle": "2022-11-18T11:40:29.660596Z",
     "shell.execute_reply": "2022-11-18T11:40:29.661132Z",
     "shell.execute_reply.started": "2022-11-18T11:39:56.872437Z"
    },
    "papermill": {
     "duration": 0.029264,
     "end_time": "2022-11-18T11:40:29.661317",
     "exception": false,
     "start_time": "2022-11-18T11:40:29.632053",
     "status": "completed"
    },
    "tags": []
   },
   "outputs": [
    {
     "name": "stdout",
     "output_type": "stream",
     "text": [
      "전체 데이터: (100, 8)\n",
      "음수(0포함)값 제거 후 데이터 크기: (96, 8)\n",
      "소수점 제거 후 데이터 크기: (90, 8)\n"
     ]
    }
   ],
   "source": [
    "# age 이상치 (음수(0포함), 소수점 제거)\n",
    "print('전체 데이터:', df.shape)\n",
    "df = df[~(df['age'] <= 0)]\n",
    "print('음수(0포함)값 제거 후 데이터 크기:', df.shape)\n",
    "\n",
    "df = df[(df['age'] == round(df['age'],0))]\n",
    "print('소수점 제거 후 데이터 크기:', df.shape)"
   ]
  },
  {
   "cell_type": "code",
   "execution_count": 11,
   "id": "86e515a1",
   "metadata": {
    "execution": {
     "iopub.execute_input": "2022-11-18T11:40:29.698866Z",
     "iopub.status.busy": "2022-11-18T11:40:29.698147Z",
     "iopub.status.idle": "2022-11-18T11:40:29.713562Z",
     "shell.execute_reply": "2022-11-18T11:40:29.712862Z",
     "shell.execute_reply.started": "2022-11-18T11:39:56.881918Z"
    },
    "papermill": {
     "duration": 0.035341,
     "end_time": "2022-11-18T11:40:29.713714",
     "exception": false,
     "start_time": "2022-11-18T11:40:29.678373",
     "status": "completed"
    },
    "tags": []
   },
   "outputs": [
    {
     "data": {
      "text/html": [
       "<div>\n",
       "<style scoped>\n",
       "    .dataframe tbody tr th:only-of-type {\n",
       "        vertical-align: middle;\n",
       "    }\n",
       "\n",
       "    .dataframe tbody tr th {\n",
       "        vertical-align: top;\n",
       "    }\n",
       "\n",
       "    .dataframe thead th {\n",
       "        text-align: right;\n",
       "    }\n",
       "</style>\n",
       "<table border=\"1\" class=\"dataframe\">\n",
       "  <thead>\n",
       "    <tr style=\"text-align: right;\">\n",
       "      <th></th>\n",
       "      <th>id</th>\n",
       "      <th>age</th>\n",
       "      <th>city</th>\n",
       "      <th>f1</th>\n",
       "      <th>f2</th>\n",
       "      <th>f3</th>\n",
       "      <th>f4</th>\n",
       "      <th>f5</th>\n",
       "    </tr>\n",
       "  </thead>\n",
       "  <tbody>\n",
       "    <tr>\n",
       "      <th>0</th>\n",
       "      <td>id01</td>\n",
       "      <td>2.0</td>\n",
       "      <td>서울</td>\n",
       "      <td>NaN</td>\n",
       "      <td>0</td>\n",
       "      <td>NaN</td>\n",
       "      <td>ENFJ</td>\n",
       "      <td>91.297791</td>\n",
       "    </tr>\n",
       "    <tr>\n",
       "      <th>1</th>\n",
       "      <td>id02</td>\n",
       "      <td>9.0</td>\n",
       "      <td>서울</td>\n",
       "      <td>70.0</td>\n",
       "      <td>1</td>\n",
       "      <td>NaN</td>\n",
       "      <td>ENFJ</td>\n",
       "      <td>60.339826</td>\n",
       "    </tr>\n",
       "    <tr>\n",
       "      <th>2</th>\n",
       "      <td>id03</td>\n",
       "      <td>27.0</td>\n",
       "      <td>서울</td>\n",
       "      <td>61.0</td>\n",
       "      <td>1</td>\n",
       "      <td>NaN</td>\n",
       "      <td>ISTJ</td>\n",
       "      <td>17.252986</td>\n",
       "    </tr>\n",
       "    <tr>\n",
       "      <th>3</th>\n",
       "      <td>id04</td>\n",
       "      <td>75.0</td>\n",
       "      <td>서울</td>\n",
       "      <td>NaN</td>\n",
       "      <td>2</td>\n",
       "      <td>NaN</td>\n",
       "      <td>INFP</td>\n",
       "      <td>52.667078</td>\n",
       "    </tr>\n",
       "    <tr>\n",
       "      <th>4</th>\n",
       "      <td>id05</td>\n",
       "      <td>24.0</td>\n",
       "      <td>서울</td>\n",
       "      <td>85.0</td>\n",
       "      <td>2</td>\n",
       "      <td>NaN</td>\n",
       "      <td>ISFJ</td>\n",
       "      <td>29.269869</td>\n",
       "    </tr>\n",
       "  </tbody>\n",
       "</table>\n",
       "</div>"
      ],
      "text/plain": [
       "     id   age city    f1  f2   f3    f4         f5\n",
       "0  id01   2.0   서울   NaN   0  NaN  ENFJ  91.297791\n",
       "1  id02   9.0   서울  70.0   1  NaN  ENFJ  60.339826\n",
       "2  id03  27.0   서울  61.0   1  NaN  ISTJ  17.252986\n",
       "3  id04  75.0   서울   NaN   2  NaN  INFP  52.667078\n",
       "4  id05  24.0   서울  85.0   2  NaN  ISFJ  29.269869"
      ]
     },
     "execution_count": 11,
     "metadata": {},
     "output_type": "execute_result"
    }
   ],
   "source": [
    "df.head()"
   ]
  },
  {
   "cell_type": "code",
   "execution_count": 12,
   "id": "3785dfce",
   "metadata": {
    "execution": {
     "iopub.execute_input": "2022-11-18T11:40:29.756431Z",
     "iopub.status.busy": "2022-11-18T11:40:29.754898Z",
     "iopub.status.idle": "2022-11-18T11:40:29.763624Z",
     "shell.execute_reply": "2022-11-18T11:40:29.764164Z",
     "shell.execute_reply.started": "2022-11-18T11:39:56.900941Z"
    },
    "papermill": {
     "duration": 0.033008,
     "end_time": "2022-11-18T11:40:29.764346",
     "exception": false,
     "start_time": "2022-11-18T11:40:29.731338",
     "status": "completed"
    },
    "tags": []
   },
   "outputs": [
    {
     "data": {
      "text/plain": [
       "0      (0.999, 38.667]\n",
       "1      (0.999, 38.667]\n",
       "2      (0.999, 38.667]\n",
       "3      (73.333, 100.0]\n",
       "4      (0.999, 38.667]\n",
       "            ...       \n",
       "95     (73.333, 100.0]\n",
       "96     (73.333, 100.0]\n",
       "97    (38.667, 73.333]\n",
       "98     (0.999, 38.667]\n",
       "99    (38.667, 73.333]\n",
       "Name: age, Length: 90, dtype: category\n",
       "Categories (3, interval[float64, right]): [(0.999, 38.667] < (38.667, 73.333] < (73.333, 100.0]]"
      ]
     },
     "execution_count": 12,
     "metadata": {},
     "output_type": "execute_result"
    }
   ],
   "source": [
    "# 기준 확인\n",
    "pd.qcut(df['age'], q=3)"
   ]
  },
  {
   "cell_type": "code",
   "execution_count": 13,
   "id": "e493e198",
   "metadata": {
    "execution": {
     "iopub.execute_input": "2022-11-18T11:40:29.804437Z",
     "iopub.status.busy": "2022-11-18T11:40:29.803745Z",
     "iopub.status.idle": "2022-11-18T11:40:29.810266Z",
     "shell.execute_reply": "2022-11-18T11:40:29.810846Z",
     "shell.execute_reply.started": "2022-11-18T11:39:56.913913Z"
    },
    "papermill": {
     "duration": 0.028492,
     "end_time": "2022-11-18T11:40:29.811039",
     "exception": false,
     "start_time": "2022-11-18T11:40:29.782547",
     "status": "completed"
    },
    "tags": []
   },
   "outputs": [],
   "source": [
    "# 구간 분할\n",
    "df['range'] = pd.qcut(df['age'], q=3, labels=['group1','group2','group3'])"
   ]
  },
  {
   "cell_type": "code",
   "execution_count": 14,
   "id": "ada4e3e9",
   "metadata": {
    "execution": {
     "iopub.execute_input": "2022-11-18T11:40:29.853996Z",
     "iopub.status.busy": "2022-11-18T11:40:29.849387Z",
     "iopub.status.idle": "2022-11-18T11:40:29.857201Z",
     "shell.execute_reply": "2022-11-18T11:40:29.857694Z",
     "shell.execute_reply.started": "2022-11-18T11:39:56.926127Z"
    },
    "papermill": {
     "duration": 0.029035,
     "end_time": "2022-11-18T11:40:29.857895",
     "exception": false,
     "start_time": "2022-11-18T11:40:29.828860",
     "status": "completed"
    },
    "tags": []
   },
   "outputs": [
    {
     "data": {
      "text/plain": [
       "group1    30\n",
       "group2    30\n",
       "group3    30\n",
       "Name: range, dtype: int64"
      ]
     },
     "execution_count": 14,
     "metadata": {},
     "output_type": "execute_result"
    }
   ],
   "source": [
    "# 수량 비교\n",
    "df['range'].value_counts()"
   ]
  },
  {
   "cell_type": "code",
   "execution_count": 15,
   "id": "b55b7f2b",
   "metadata": {
    "execution": {
     "iopub.execute_input": "2022-11-18T11:40:29.897517Z",
     "iopub.status.busy": "2022-11-18T11:40:29.896875Z",
     "iopub.status.idle": "2022-11-18T11:40:29.906189Z",
     "shell.execute_reply": "2022-11-18T11:40:29.905533Z",
     "shell.execute_reply.started": "2022-11-18T11:39:56.941799Z"
    },
    "papermill": {
     "duration": 0.030057,
     "end_time": "2022-11-18T11:40:29.906330",
     "exception": false,
     "start_time": "2022-11-18T11:40:29.876273",
     "status": "completed"
    },
    "tags": []
   },
   "outputs": [
    {
     "name": "stdout",
     "output_type": "stream",
     "text": [
      "165.0\n"
     ]
    }
   ],
   "source": [
    "# 중간이상 - 중간이하 \n",
    "g1_med = df[df['range'] == 'group1']['age'].median()\n",
    "g2_med = df[df['range'] == 'group2']['age'].median()\n",
    "g3_med = df[df['range'] == 'group3']['age'].median()\n",
    "\n",
    "print(g1_med + g2_med + g3_med)"
   ]
  },
  {
   "cell_type": "code",
   "execution_count": null,
   "id": "067ee38b",
   "metadata": {
    "papermill": {
     "duration": 0.017828,
     "end_time": "2022-11-18T11:40:29.942623",
     "exception": false,
     "start_time": "2022-11-18T11:40:29.924795",
     "status": "completed"
    },
    "tags": []
   },
   "outputs": [],
   "source": []
  }
 ],
 "metadata": {
  "kernelspec": {
   "display_name": "Python 3",
   "language": "python",
   "name": "python3"
  },
  "language_info": {
   "codemirror_mode": {
    "name": "ipython",
    "version": 3
   },
   "file_extension": ".py",
   "mimetype": "text/x-python",
   "name": "python",
   "nbconvert_exporter": "python",
   "pygments_lexer": "ipython3",
   "version": "3.7.10"
  },
  "papermill": {
   "default_parameters": {},
   "duration": 10.8387,
   "end_time": "2022-11-18T11:40:30.570671",
   "environment_variables": {},
   "exception": null,
   "input_path": "__notebook__.ipynb",
   "output_path": "__notebook__.ipynb",
   "parameters": {},
   "start_time": "2022-11-18T11:40:19.731971",
   "version": "2.3.3"
  }
 },
 "nbformat": 4,
 "nbformat_minor": 5
}
