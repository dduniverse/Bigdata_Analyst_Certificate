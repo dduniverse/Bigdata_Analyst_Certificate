{
 "cells": [
  {
   "cell_type": "markdown",
   "id": "ec2dd87e",
   "metadata": {
    "papermill": {
     "duration": 0.013861,
     "end_time": "2022-11-17T11:07:11.726147",
     "exception": false,
     "start_time": "2022-11-17T11:07:11.712286",
     "status": "completed"
    },
    "tags": []
   },
   "source": [
    "# 수치형 변수 변환하기\n",
    "\n",
    "\n",
    "### 주어진 데이터에서 'f5'컬럼을 표준화(Standardization (Z-score Normalization))하고 그 중앙값을 구하시오\n",
    "- 데이터셋 : basic1.csv\n",
    "- 오른쪽 상단 copy&edit 클릭 -> 예상문제 풀이 시작\n"
   ]
  },
  {
   "cell_type": "markdown",
   "id": "aebc22b4",
   "metadata": {
    "papermill": {
     "duration": 0.009265,
     "end_time": "2022-11-17T11:07:11.746248",
     "exception": false,
     "start_time": "2022-11-17T11:07:11.736983",
     "status": "completed"
    },
    "tags": []
   },
   "source": [
    "## Standardization (Z-score Normalization)\n",
    "\n",
    "![standard](https://wikimedia.org/api/rest_v1/media/math/render/svg/b0aa2e7d203db1526c577192f2d9102b718eafd5)"
   ]
  },
  {
   "cell_type": "code",
   "execution_count": 1,
   "id": "b2137c65",
   "metadata": {
    "execution": {
     "iopub.execute_input": "2022-11-17T11:07:11.769908Z",
     "iopub.status.busy": "2022-11-17T11:07:11.768594Z",
     "iopub.status.idle": "2022-11-17T11:07:11.826483Z",
     "shell.execute_reply": "2022-11-17T11:07:11.827070Z",
     "shell.execute_reply.started": "2022-11-17T11:06:16.317367Z"
    },
    "papermill": {
     "duration": 0.071627,
     "end_time": "2022-11-17T11:07:11.827383",
     "exception": false,
     "start_time": "2022-11-17T11:07:11.755756",
     "status": "completed"
    },
    "tags": []
   },
   "outputs": [
    {
     "data": {
      "text/html": [
       "<div>\n",
       "<style scoped>\n",
       "    .dataframe tbody tr th:only-of-type {\n",
       "        vertical-align: middle;\n",
       "    }\n",
       "\n",
       "    .dataframe tbody tr th {\n",
       "        vertical-align: top;\n",
       "    }\n",
       "\n",
       "    .dataframe thead th {\n",
       "        text-align: right;\n",
       "    }\n",
       "</style>\n",
       "<table border=\"1\" class=\"dataframe\">\n",
       "  <thead>\n",
       "    <tr style=\"text-align: right;\">\n",
       "      <th></th>\n",
       "      <th>id</th>\n",
       "      <th>age</th>\n",
       "      <th>city</th>\n",
       "      <th>f1</th>\n",
       "      <th>f2</th>\n",
       "      <th>f3</th>\n",
       "      <th>f4</th>\n",
       "      <th>f5</th>\n",
       "    </tr>\n",
       "  </thead>\n",
       "  <tbody>\n",
       "    <tr>\n",
       "      <th>0</th>\n",
       "      <td>id01</td>\n",
       "      <td>2.0</td>\n",
       "      <td>서울</td>\n",
       "      <td>NaN</td>\n",
       "      <td>0</td>\n",
       "      <td>NaN</td>\n",
       "      <td>ENFJ</td>\n",
       "      <td>91.297791</td>\n",
       "    </tr>\n",
       "    <tr>\n",
       "      <th>1</th>\n",
       "      <td>id02</td>\n",
       "      <td>9.0</td>\n",
       "      <td>서울</td>\n",
       "      <td>70.0</td>\n",
       "      <td>1</td>\n",
       "      <td>NaN</td>\n",
       "      <td>ENFJ</td>\n",
       "      <td>60.339826</td>\n",
       "    </tr>\n",
       "    <tr>\n",
       "      <th>2</th>\n",
       "      <td>id03</td>\n",
       "      <td>27.0</td>\n",
       "      <td>서울</td>\n",
       "      <td>61.0</td>\n",
       "      <td>1</td>\n",
       "      <td>NaN</td>\n",
       "      <td>ISTJ</td>\n",
       "      <td>17.252986</td>\n",
       "    </tr>\n",
       "    <tr>\n",
       "      <th>3</th>\n",
       "      <td>id04</td>\n",
       "      <td>75.0</td>\n",
       "      <td>서울</td>\n",
       "      <td>NaN</td>\n",
       "      <td>2</td>\n",
       "      <td>NaN</td>\n",
       "      <td>INFP</td>\n",
       "      <td>52.667078</td>\n",
       "    </tr>\n",
       "    <tr>\n",
       "      <th>4</th>\n",
       "      <td>id05</td>\n",
       "      <td>24.0</td>\n",
       "      <td>서울</td>\n",
       "      <td>85.0</td>\n",
       "      <td>2</td>\n",
       "      <td>NaN</td>\n",
       "      <td>ISFJ</td>\n",
       "      <td>29.269869</td>\n",
       "    </tr>\n",
       "    <tr>\n",
       "      <th>...</th>\n",
       "      <td>...</td>\n",
       "      <td>...</td>\n",
       "      <td>...</td>\n",
       "      <td>...</td>\n",
       "      <td>...</td>\n",
       "      <td>...</td>\n",
       "      <td>...</td>\n",
       "      <td>...</td>\n",
       "    </tr>\n",
       "    <tr>\n",
       "      <th>95</th>\n",
       "      <td>id96</td>\n",
       "      <td>92.0</td>\n",
       "      <td>경기</td>\n",
       "      <td>53.0</td>\n",
       "      <td>1</td>\n",
       "      <td>NaN</td>\n",
       "      <td>ENTJ</td>\n",
       "      <td>52.667078</td>\n",
       "    </tr>\n",
       "    <tr>\n",
       "      <th>96</th>\n",
       "      <td>id97</td>\n",
       "      <td>100.0</td>\n",
       "      <td>경기</td>\n",
       "      <td>NaN</td>\n",
       "      <td>0</td>\n",
       "      <td>NaN</td>\n",
       "      <td>INFP</td>\n",
       "      <td>67.886373</td>\n",
       "    </tr>\n",
       "    <tr>\n",
       "      <th>97</th>\n",
       "      <td>id98</td>\n",
       "      <td>39.0</td>\n",
       "      <td>경기</td>\n",
       "      <td>58.0</td>\n",
       "      <td>2</td>\n",
       "      <td>NaN</td>\n",
       "      <td>INFP</td>\n",
       "      <td>98.429899</td>\n",
       "    </tr>\n",
       "    <tr>\n",
       "      <th>98</th>\n",
       "      <td>id99</td>\n",
       "      <td>1.0</td>\n",
       "      <td>경기</td>\n",
       "      <td>47.0</td>\n",
       "      <td>0</td>\n",
       "      <td>NaN</td>\n",
       "      <td>ESFJ</td>\n",
       "      <td>97.381034</td>\n",
       "    </tr>\n",
       "    <tr>\n",
       "      <th>99</th>\n",
       "      <td>id100</td>\n",
       "      <td>47.0</td>\n",
       "      <td>경기</td>\n",
       "      <td>53.0</td>\n",
       "      <td>0</td>\n",
       "      <td>vip</td>\n",
       "      <td>ESFP</td>\n",
       "      <td>33.308999</td>\n",
       "    </tr>\n",
       "  </tbody>\n",
       "</table>\n",
       "<p>100 rows × 8 columns</p>\n",
       "</div>"
      ],
      "text/plain": [
       "       id    age city    f1  f2   f3    f4         f5\n",
       "0    id01    2.0   서울   NaN   0  NaN  ENFJ  91.297791\n",
       "1    id02    9.0   서울  70.0   1  NaN  ENFJ  60.339826\n",
       "2    id03   27.0   서울  61.0   1  NaN  ISTJ  17.252986\n",
       "3    id04   75.0   서울   NaN   2  NaN  INFP  52.667078\n",
       "4    id05   24.0   서울  85.0   2  NaN  ISFJ  29.269869\n",
       "..    ...    ...  ...   ...  ..  ...   ...        ...\n",
       "95   id96   92.0   경기  53.0   1  NaN  ENTJ  52.667078\n",
       "96   id97  100.0   경기   NaN   0  NaN  INFP  67.886373\n",
       "97   id98   39.0   경기  58.0   2  NaN  INFP  98.429899\n",
       "98   id99    1.0   경기  47.0   0  NaN  ESFJ  97.381034\n",
       "99  id100   47.0   경기  53.0   0  vip  ESFP  33.308999\n",
       "\n",
       "[100 rows x 8 columns]"
      ]
     },
     "execution_count": 1,
     "metadata": {},
     "output_type": "execute_result"
    }
   ],
   "source": [
    "# 라이브러리 및 데이터 불러오기\n",
    "import pandas as pd\n",
    "\n",
    "df=pd.read_csv('../input/bigdatacertificationkr/basic1.csv')\n",
    "df"
   ]
  },
  {
   "cell_type": "code",
   "execution_count": 2,
   "id": "2556cda0",
   "metadata": {
    "execution": {
     "iopub.execute_input": "2022-11-17T11:07:11.857617Z",
     "iopub.status.busy": "2022-11-17T11:07:11.856876Z",
     "iopub.status.idle": "2022-11-17T11:07:11.863080Z",
     "shell.execute_reply": "2022-11-17T11:07:11.862502Z",
     "shell.execute_reply.started": "2022-11-17T11:06:16.381179Z"
    },
    "papermill": {
     "duration": 0.024187,
     "end_time": "2022-11-17T11:07:11.863234",
     "exception": false,
     "start_time": "2022-11-17T11:07:11.839047",
     "status": "completed"
    },
    "tags": []
   },
   "outputs": [
    {
     "data": {
      "text/plain": [
       "0     91.297791\n",
       "1     60.339826\n",
       "2     17.252986\n",
       "3     52.667078\n",
       "4     29.269869\n",
       "        ...    \n",
       "95    52.667078\n",
       "96    67.886373\n",
       "97    98.429899\n",
       "98    97.381034\n",
       "99    33.308999\n",
       "Name: f5, Length: 100, dtype: float64"
      ]
     },
     "execution_count": 2,
     "metadata": {},
     "output_type": "execute_result"
    }
   ],
   "source": [
    "# 'f5' 컬럼 확인\n",
    "df['f5']"
   ]
  },
  {
   "cell_type": "code",
   "execution_count": 3,
   "id": "0127cf8a",
   "metadata": {
    "execution": {
     "iopub.execute_input": "2022-11-17T11:07:11.890957Z",
     "iopub.status.busy": "2022-11-17T11:07:11.890104Z",
     "iopub.status.idle": "2022-11-17T11:07:12.904746Z",
     "shell.execute_reply": "2022-11-17T11:07:12.905306Z",
     "shell.execute_reply.started": "2022-11-17T11:06:16.393112Z"
    },
    "papermill": {
     "duration": 1.031617,
     "end_time": "2022-11-17T11:07:12.905496",
     "exception": false,
     "start_time": "2022-11-17T11:07:11.873879",
     "status": "completed"
    },
    "tags": []
   },
   "outputs": [],
   "source": [
    "# 표준화\n",
    "from sklearn.preprocessing import StandardScaler\n",
    "\n",
    "scaler=StandardScaler()\n",
    "df['f5']=scaler.fit_transform(df[['f5']])"
   ]
  },
  {
   "cell_type": "code",
   "execution_count": 4,
   "id": "eae6fc3a",
   "metadata": {
    "execution": {
     "iopub.execute_input": "2022-11-17T11:07:12.931607Z",
     "iopub.status.busy": "2022-11-17T11:07:12.930278Z",
     "iopub.status.idle": "2022-11-17T11:07:12.939211Z",
     "shell.execute_reply": "2022-11-17T11:07:12.938495Z",
     "shell.execute_reply.started": "2022-11-17T11:06:16.815349Z"
    },
    "papermill": {
     "duration": 0.023283,
     "end_time": "2022-11-17T11:07:12.939361",
     "exception": false,
     "start_time": "2022-11-17T11:07:12.916078",
     "status": "completed"
    },
    "tags": []
   },
   "outputs": [
    {
     "data": {
      "text/plain": [
       "0     1.220815\n",
       "1     0.127343\n",
       "2    -1.394535\n",
       "3    -0.143667\n",
       "4    -0.970085\n",
       "        ...   \n",
       "95   -0.143667\n",
       "96    0.393896\n",
       "97    1.472730\n",
       "98    1.435683\n",
       "99   -0.827418\n",
       "Name: f5, Length: 100, dtype: float64"
      ]
     },
     "execution_count": 4,
     "metadata": {},
     "output_type": "execute_result"
    }
   ],
   "source": [
    "# 표준화된 'f5' 컬럼 확인\n",
    "df['f5']"
   ]
  },
  {
   "cell_type": "code",
   "execution_count": 5,
   "id": "72b5143c",
   "metadata": {
    "execution": {
     "iopub.execute_input": "2022-11-17T11:07:12.970230Z",
     "iopub.status.busy": "2022-11-17T11:07:12.969468Z",
     "iopub.status.idle": "2022-11-17T11:07:12.972071Z",
     "shell.execute_reply": "2022-11-17T11:07:12.972600Z",
     "shell.execute_reply.started": "2022-11-17T11:06:16.829298Z"
    },
    "papermill": {
     "duration": 0.02064,
     "end_time": "2022-11-17T11:07:12.972784",
     "exception": false,
     "start_time": "2022-11-17T11:07:12.952144",
     "status": "completed"
    },
    "tags": []
   },
   "outputs": [
    {
     "data": {
      "text/plain": [
       "0.260619629559015"
      ]
     },
     "execution_count": 5,
     "metadata": {},
     "output_type": "execute_result"
    }
   ],
   "source": [
    "# 중앙값 출력\n",
    "df['f5'].median()"
   ]
  },
  {
   "cell_type": "markdown",
   "id": "9d622e00",
   "metadata": {
    "papermill": {
     "duration": 0.010839,
     "end_time": "2022-11-17T11:07:12.994802",
     "exception": false,
     "start_time": "2022-11-17T11:07:12.983963",
     "status": "completed"
    },
    "tags": []
   },
   "source": [
    "## Hint\n",
    "- https://scikit-learn.org/stable/modules/generated/sklearn.preprocessing.StandardScaler.html\n",
    "- https://en.wikipedia.org/wiki/Feature_scaling"
   ]
  },
  {
   "cell_type": "code",
   "execution_count": 6,
   "id": "037d52a7",
   "metadata": {
    "execution": {
     "iopub.execute_input": "2022-11-17T11:07:13.021991Z",
     "iopub.status.busy": "2022-11-17T11:07:13.021196Z",
     "iopub.status.idle": "2022-11-17T11:07:13.032798Z",
     "shell.execute_reply": "2022-11-17T11:07:13.032143Z",
     "shell.execute_reply.started": "2022-11-17T11:06:16.853203Z"
    },
    "papermill": {
     "duration": 0.026778,
     "end_time": "2022-11-17T11:07:13.032968",
     "exception": false,
     "start_time": "2022-11-17T11:07:13.006190",
     "status": "completed"
    },
    "tags": []
   },
   "outputs": [
    {
     "name": "stdout",
     "output_type": "stream",
     "text": [
      "StandardScaler()\n",
      "[[-0.73299648 -0.99206078]\n",
      " [-0.69948807 -1.125655  ]\n",
      " [-0.64084835 -0.39830869]\n",
      " [ 0.18848481  0.26966241]\n",
      " [ 2.11521842  0.41810043]\n",
      " [-0.23037032  1.82826164]]\n"
     ]
    }
   ],
   "source": [
    "from sklearn.preprocessing import StandardScaler\n",
    "data = [[0, 2], [0.4, 0.2], [1.1, 10], [11, 19], [34, 21], [6, 40]]\n",
    "scaler = StandardScaler()\n",
    "print(scaler.fit(data))\n",
    "print(scaler.transform(data))"
   ]
  },
  {
   "cell_type": "markdown",
   "id": "5c35a133",
   "metadata": {
    "papermill": {
     "duration": 0.011101,
     "end_time": "2022-11-17T11:07:13.055723",
     "exception": false,
     "start_time": "2022-11-17T11:07:13.044622",
     "status": "completed"
    },
    "tags": []
   },
   "source": [
    "## 풀이"
   ]
  },
  {
   "cell_type": "code",
   "execution_count": 7,
   "id": "3539e565",
   "metadata": {
    "_cell_guid": "b1076dfc-b9ad-4769-8c92-a6c4dae69d19",
    "_uuid": "8f2839f25d086af736a60e9eeb907d3b93b6e0e5",
    "execution": {
     "iopub.execute_input": "2022-11-17T11:07:13.085528Z",
     "iopub.status.busy": "2022-11-17T11:07:13.084460Z",
     "iopub.status.idle": "2022-11-17T11:07:13.100436Z",
     "shell.execute_reply": "2022-11-17T11:07:13.100954Z",
     "shell.execute_reply.started": "2022-11-17T11:06:16.871537Z"
    },
    "papermill": {
     "duration": 0.034068,
     "end_time": "2022-11-17T11:07:13.101166",
     "exception": false,
     "start_time": "2022-11-17T11:07:13.067098",
     "status": "completed"
    },
    "tags": []
   },
   "outputs": [
    {
     "data": {
      "text/html": [
       "<div>\n",
       "<style scoped>\n",
       "    .dataframe tbody tr th:only-of-type {\n",
       "        vertical-align: middle;\n",
       "    }\n",
       "\n",
       "    .dataframe tbody tr th {\n",
       "        vertical-align: top;\n",
       "    }\n",
       "\n",
       "    .dataframe thead th {\n",
       "        text-align: right;\n",
       "    }\n",
       "</style>\n",
       "<table border=\"1\" class=\"dataframe\">\n",
       "  <thead>\n",
       "    <tr style=\"text-align: right;\">\n",
       "      <th></th>\n",
       "      <th>id</th>\n",
       "      <th>age</th>\n",
       "      <th>city</th>\n",
       "      <th>f1</th>\n",
       "      <th>f2</th>\n",
       "      <th>f3</th>\n",
       "      <th>f4</th>\n",
       "      <th>f5</th>\n",
       "    </tr>\n",
       "  </thead>\n",
       "  <tbody>\n",
       "    <tr>\n",
       "      <th>0</th>\n",
       "      <td>id01</td>\n",
       "      <td>2.0</td>\n",
       "      <td>서울</td>\n",
       "      <td>NaN</td>\n",
       "      <td>0</td>\n",
       "      <td>NaN</td>\n",
       "      <td>ENFJ</td>\n",
       "      <td>91.297791</td>\n",
       "    </tr>\n",
       "    <tr>\n",
       "      <th>1</th>\n",
       "      <td>id02</td>\n",
       "      <td>9.0</td>\n",
       "      <td>서울</td>\n",
       "      <td>70.0</td>\n",
       "      <td>1</td>\n",
       "      <td>NaN</td>\n",
       "      <td>ENFJ</td>\n",
       "      <td>60.339826</td>\n",
       "    </tr>\n",
       "  </tbody>\n",
       "</table>\n",
       "</div>"
      ],
      "text/plain": [
       "     id  age city    f1  f2   f3    f4         f5\n",
       "0  id01  2.0   서울   NaN   0  NaN  ENFJ  91.297791\n",
       "1  id02  9.0   서울  70.0   1  NaN  ENFJ  60.339826"
      ]
     },
     "execution_count": 7,
     "metadata": {},
     "output_type": "execute_result"
    }
   ],
   "source": [
    "# 라이브러리 및 데이터 불러오기\n",
    "import pandas as pd\n",
    "import numpy as np\n",
    "\n",
    "df = pd.read_csv('../input/bigdatacertificationkr/basic1.csv')\n",
    "df.head(2)"
   ]
  },
  {
   "cell_type": "code",
   "execution_count": 8,
   "id": "7c117a64",
   "metadata": {
    "execution": {
     "iopub.execute_input": "2022-11-17T11:07:13.148025Z",
     "iopub.status.busy": "2022-11-17T11:07:13.129655Z",
     "iopub.status.idle": "2022-11-17T11:07:13.151608Z",
     "shell.execute_reply": "2022-11-17T11:07:13.152644Z",
     "shell.execute_reply.started": "2022-11-17T11:06:16.908950Z"
    },
    "papermill": {
     "duration": 0.039618,
     "end_time": "2022-11-17T11:07:13.152946",
     "exception": false,
     "start_time": "2022-11-17T11:07:13.113328",
     "status": "completed"
    },
    "tags": []
   },
   "outputs": [
    {
     "data": {
      "text/html": [
       "<div>\n",
       "<style scoped>\n",
       "    .dataframe tbody tr th:only-of-type {\n",
       "        vertical-align: middle;\n",
       "    }\n",
       "\n",
       "    .dataframe tbody tr th {\n",
       "        vertical-align: top;\n",
       "    }\n",
       "\n",
       "    .dataframe thead th {\n",
       "        text-align: right;\n",
       "    }\n",
       "</style>\n",
       "<table border=\"1\" class=\"dataframe\">\n",
       "  <thead>\n",
       "    <tr style=\"text-align: right;\">\n",
       "      <th></th>\n",
       "      <th>id</th>\n",
       "      <th>age</th>\n",
       "      <th>city</th>\n",
       "      <th>f1</th>\n",
       "      <th>f2</th>\n",
       "      <th>f3</th>\n",
       "      <th>f4</th>\n",
       "      <th>f5</th>\n",
       "    </tr>\n",
       "  </thead>\n",
       "  <tbody>\n",
       "    <tr>\n",
       "      <th>0</th>\n",
       "      <td>id01</td>\n",
       "      <td>2.0</td>\n",
       "      <td>서울</td>\n",
       "      <td>NaN</td>\n",
       "      <td>0</td>\n",
       "      <td>NaN</td>\n",
       "      <td>ENFJ</td>\n",
       "      <td>1.220815</td>\n",
       "    </tr>\n",
       "    <tr>\n",
       "      <th>1</th>\n",
       "      <td>id02</td>\n",
       "      <td>9.0</td>\n",
       "      <td>서울</td>\n",
       "      <td>70.0</td>\n",
       "      <td>1</td>\n",
       "      <td>NaN</td>\n",
       "      <td>ENFJ</td>\n",
       "      <td>0.127343</td>\n",
       "    </tr>\n",
       "    <tr>\n",
       "      <th>2</th>\n",
       "      <td>id03</td>\n",
       "      <td>27.0</td>\n",
       "      <td>서울</td>\n",
       "      <td>61.0</td>\n",
       "      <td>1</td>\n",
       "      <td>NaN</td>\n",
       "      <td>ISTJ</td>\n",
       "      <td>-1.394535</td>\n",
       "    </tr>\n",
       "    <tr>\n",
       "      <th>3</th>\n",
       "      <td>id04</td>\n",
       "      <td>75.0</td>\n",
       "      <td>서울</td>\n",
       "      <td>NaN</td>\n",
       "      <td>2</td>\n",
       "      <td>NaN</td>\n",
       "      <td>INFP</td>\n",
       "      <td>-0.143667</td>\n",
       "    </tr>\n",
       "    <tr>\n",
       "      <th>4</th>\n",
       "      <td>id05</td>\n",
       "      <td>24.0</td>\n",
       "      <td>서울</td>\n",
       "      <td>85.0</td>\n",
       "      <td>2</td>\n",
       "      <td>NaN</td>\n",
       "      <td>ISFJ</td>\n",
       "      <td>-0.970085</td>\n",
       "    </tr>\n",
       "  </tbody>\n",
       "</table>\n",
       "</div>"
      ],
      "text/plain": [
       "     id   age city    f1  f2   f3    f4        f5\n",
       "0  id01   2.0   서울   NaN   0  NaN  ENFJ  1.220815\n",
       "1  id02   9.0   서울  70.0   1  NaN  ENFJ  0.127343\n",
       "2  id03  27.0   서울  61.0   1  NaN  ISTJ -1.394535\n",
       "3  id04  75.0   서울   NaN   2  NaN  INFP -0.143667\n",
       "4  id05  24.0   서울  85.0   2  NaN  ISFJ -0.970085"
      ]
     },
     "execution_count": 8,
     "metadata": {},
     "output_type": "execute_result"
    }
   ],
   "source": [
    "# 표준화\n",
    "from sklearn.preprocessing import StandardScaler\n",
    "\n",
    "scaler = StandardScaler()\n",
    "df['f5']=scaler.fit_transform(df[['f5']])\n",
    "df.head()"
   ]
  },
  {
   "cell_type": "code",
   "execution_count": 9,
   "id": "181dd68f",
   "metadata": {
    "execution": {
     "iopub.execute_input": "2022-11-17T11:07:13.182313Z",
     "iopub.status.busy": "2022-11-17T11:07:13.181622Z",
     "iopub.status.idle": "2022-11-17T11:07:13.188470Z",
     "shell.execute_reply": "2022-11-17T11:07:13.189043Z",
     "shell.execute_reply.started": "2022-11-17T11:06:16.935180Z"
    },
    "papermill": {
     "duration": 0.02315,
     "end_time": "2022-11-17T11:07:13.189265",
     "exception": false,
     "start_time": "2022-11-17T11:07:13.166115",
     "status": "completed"
    },
    "tags": []
   },
   "outputs": [
    {
     "name": "stdout",
     "output_type": "stream",
     "text": [
      "0.260619629559015\n"
     ]
    }
   ],
   "source": [
    "# 중앙값 출력\n",
    "print(df['f5'].median())"
   ]
  }
 ],
 "metadata": {
  "kernelspec": {
   "display_name": "Python 3",
   "language": "python",
   "name": "python3"
  },
  "language_info": {
   "codemirror_mode": {
    "name": "ipython",
    "version": 3
   },
   "file_extension": ".py",
   "mimetype": "text/x-python",
   "name": "python",
   "nbconvert_exporter": "python",
   "pygments_lexer": "ipython3",
   "version": "3.7.10"
  },
  "papermill": {
   "default_parameters": {},
   "duration": 12.921808,
   "end_time": "2022-11-17T11:07:13.914332",
   "environment_variables": {},
   "exception": null,
   "input_path": "__notebook__.ipynb",
   "output_path": "__notebook__.ipynb",
   "parameters": {},
   "start_time": "2022-11-17T11:07:00.992524",
   "version": "2.3.3"
  }
 },
 "nbformat": 4,
 "nbformat_minor": 5
}
