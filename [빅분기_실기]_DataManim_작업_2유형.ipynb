{
  "nbformat": 4,
  "nbformat_minor": 0,
  "metadata": {
    "colab": {
      "provenance": [],
      "authorship_tag": "ABX9TyNRFkj2SGS/xMddT94CUDz9",
      "include_colab_link": true
    },
    "kernelspec": {
      "name": "python3",
      "display_name": "Python 3"
    },
    "language_info": {
      "name": "python"
    }
  },
  "cells": [
    {
      "cell_type": "markdown",
      "metadata": {
        "id": "view-in-github",
        "colab_type": "text"
      },
      "source": [
        "<a href=\"https://colab.research.google.com/github/dduniverse/Bigdata_Analyst_Certificate/blob/main/%5B%EB%B9%85%EB%B6%84%EA%B8%B0_%EC%8B%A4%EA%B8%B0%5D_DataManim_%EC%9E%91%EC%97%85_2%EC%9C%A0%ED%98%95.ipynb\" target=\"_parent\"><img src=\"https://colab.research.google.com/assets/colab-badge.svg\" alt=\"Open In Colab\"/></a>"
      ]
    },
    {
      "cell_type": "markdown",
      "source": [
        "# 작업 2유형\n",
        "https://www.datamanim.com/dataset/03_dataq/typetwo.html#id14"
      ],
      "metadata": {
        "id": "CYiG9EA3IgZe"
      }
    },
    {
      "cell_type": "markdown",
      "source": [
        "## 분류"
      ],
      "metadata": {
        "id": "Ao9SO_Qr9En4"
      }
    },
    {
      "cell_type": "markdown",
      "source": [
        "### 약물 분류 데이터\n",
        "데이터 설명 : 투약하는 약을 분류 (종속변수 :Drug)\n",
        "- x_train: https://raw.githubusercontent.com/Datamanim/datarepo/main/drug/x_train.csv\n",
        "- y_train: https://raw.githubusercontent.com/Datamanim/datarepo/main/drug/y_train.csv\n",
        "- x_test: https://raw.githubusercontent.com/Datamanim/datarepo/main/drug/x_test.csv\n",
        "- x_label(평가용) : https://raw.githubusercontent.com/Datamanim/datarepo/main/drug/y_test.csv\n",
        "- 데이터 출처 :https://www.kaggle.com/prathamtripathi/drug-classification(참고, 데이터 수정)"
      ],
      "metadata": {
        "id": "PUMUGFhh9GJE"
      }
    },
    {
      "cell_type": "code",
      "execution_count": 1,
      "metadata": {
        "colab": {
          "base_uri": "https://localhost:8080/"
        },
        "id": "tRry01Wy9Bpe",
        "outputId": "c9edaef8-44f7-4636-9b1d-10a466a10d96"
      },
      "outputs": [
        {
          "output_type": "stream",
          "name": "stderr",
          "text": [
            "/usr/local/lib/python3.7/dist-packages/ipykernel_launcher.py:36: DataConversionWarning: A column-vector y was passed when a 1d array was expected. Please change the shape of y to (n_samples,), for example using ravel().\n",
            "/usr/local/lib/python3.7/dist-packages/sklearn/preprocessing/_label.py:98: DataConversionWarning: A column-vector y was passed when a 1d array was expected. Please change the shape of y to (n_samples, ), for example using ravel().\n",
            "  y = column_or_1d(y, warn=True)\n",
            "/usr/local/lib/python3.7/dist-packages/sklearn/preprocessing/_label.py:133: DataConversionWarning: A column-vector y was passed when a 1d array was expected. Please change the shape of y to (n_samples, ), for example using ravel().\n",
            "  y = column_or_1d(y, warn=True)\n"
          ]
        }
      ],
      "source": [
        "import pandas as pd\n",
        "\n",
        "#데이터 로드\n",
        "x_train = pd.read_csv(\"https://raw.githubusercontent.com/Datamanim/datarepo/main/drug/x_train.csv\")\n",
        "y_train = pd.read_csv(\"https://raw.githubusercontent.com/Datamanim/datarepo/main/drug/y_train.csv\")\n",
        "x_test= pd.read_csv(\"https://raw.githubusercontent.com/Datamanim/datarepo/main/drug/x_test.csv\")\n",
        "\n",
        "# 분석에 필요하지 않은 컬럼 제거 및 전처리\n",
        "id=x_test['ID']\n",
        "x_train.drop(columns='ID',inplace=True)\n",
        "x_test.drop(columns='ID',inplace=True)\n",
        "y_train.drop(columns='ID',inplace=True)\n",
        "\n",
        "x_train['Age']=x_train['Age']//10\n",
        "x_test['Age']=x_test['Age']//10\n",
        "\n",
        "# 명목형 변수 더미 변환\n",
        "x_train=pd.get_dummies(x_train)\n",
        "x_test=pd.get_dummies(x_test)\n",
        "\n",
        "# 수치형 변수 스케일링\n",
        "from sklearn.preprocessing import StandardScaler\n",
        "value=[['Age','Na_to_K']]\n",
        "scaler=StandardScaler()\n",
        "for i in value:\n",
        "  x_train[i]=scaler.fit_transform(x_train[i])\n",
        "  x_test[i]=scaler.transform(x_test[i])\n",
        "\n",
        "# 검증데이터 분리\n",
        "from sklearn.model_selection import train_test_split\n",
        "X_train,X_test,Y_train,Y_test=train_test_split(x_train,y_train,test_size=0.2,random_state=10)\n",
        "\n",
        "# 모델 생성 1(RF)\n",
        "from sklearn.ensemble import RandomForestClassifier\n",
        "model1=RandomForestClassifier()\n",
        "model1.fit(X_train,Y_train)\n",
        "pred1=model1.predict(X_test)\n",
        "\n",
        "# 모델 생성 2(XGB)\n",
        "import xgboost as xgb\n",
        "model2=xgb.XGBClassifier()\n",
        "model2.fit(X_train,Y_train)\n",
        "pred2=model2.predict(X_test)\n",
        "\n",
        "# # 성능 평가\n",
        "# from sklearn.metrics import f1_score,accuracy_score,roc_auc_score\n",
        "# print('RF',f1_score(Y_test,pred1,average='micro')) # 1.0\n",
        "# print('RF',accuracy_score(Y_test,pred1)) # 1.0\n",
        "# print('XGB',f1_score(Y_test,pred2,average='micro')) # 1.0\n",
        "# print('XGB',accuracy_score(Y_test,pred2)) # 1.0\n",
        "\n",
        "# 결과 제출\n",
        "result=model1.predict(x_test)\n",
        "pd.DataFrame({'ID':id,'Drug':result}).to_csv('12345.csv',index=False)\n",
        "\n",
        "# # 실제 예측과 비교\n",
        "# from sklearn.metrics import f1_score,accuracy_score,roc_auc_score\n",
        "# predict=pd.read_csv('12345.csv')\n",
        "# y_test=pd.read_csv('https://raw.githubusercontent.com/Datamanim/datarepo/main/drug/y_test.csv')\n",
        "# print(f1_score(y_test['Drug'],predict['Drug'],average='micro')) # 1.0\n",
        "# print(accuracy_score(y_test['Drug'],predict['Drug'])) # 1.0"
      ]
    },
    {
      "cell_type": "markdown",
      "source": [
        "## 회귀"
      ],
      "metadata": {
        "id": "xGQXrLKiINqb"
      }
    },
    {
      "cell_type": "markdown",
      "source": [
        "### 레드 와인 퀄리티 예측 데이터\n",
        "\n",
        "데이터 설명 : 레드 와인 퀄리티 예측문제 (종속변수 :quality)\n",
        "- x_train: https://raw.githubusercontent.com/Datamanim/datarepo/main/redwine/x_train.csv\n",
        "- y_train: https://raw.githubusercontent.com/Datamanim/datarepo/main/redwine/y_train.csv\n",
        "- x_test: https://raw.githubusercontent.com/Datamanim/datarepo/main/redwine/x_test.csv\n",
        "- x_label(평가용) : https://raw.githubusercontent.com/Datamanim/datarepo/main/redwine/y_test.csv\n",
        "- 데이터 출처 :https://www.kaggle.com/uciml/red-wine-quality-cortez-et-al-2009(참고, 데이터 수정)"
      ],
      "metadata": {
        "id": "dWy4vet8IO3l"
      }
    },
    {
      "cell_type": "code",
      "source": [
        "import pandas as pd\n",
        "\n",
        "#데이터 로드\n",
        "x_train = pd.read_csv(\"https://raw.githubusercontent.com/Datamanim/datarepo/main/redwine/x_train.csv\")\n",
        "y_train = pd.read_csv(\"https://raw.githubusercontent.com/Datamanim/datarepo/main/redwine/y_train.csv\")\n",
        "x_test= pd.read_csv(\"https://raw.githubusercontent.com/Datamanim/datarepo/main/redwine/x_test.csv\")\n",
        "\n",
        "# 분석에 필요하지 않은 컬럼 제거\n",
        "id=x_test['ID']\n",
        "x_train.drop(columns='ID',inplace=True)\n",
        "x_test.drop(columns='ID',inplace=True)\n",
        "y_train.drop(columns='ID',inplace=True)\n",
        "\n",
        "# 수치형 변수 스케일링\n",
        "from sklearn.preprocessing import MinMaxScaler\n",
        "value=[x_train.columns]\n",
        "scaler=MinMaxScaler()\n",
        "for i in value:\n",
        "  x_train[i]=scaler.fit_transform(x_train[i])\n",
        "  x_test[i]=scaler.transform(x_test[i])\n",
        "\n",
        "# 검증 데이터 분리\n",
        "from sklearn.model_selection import train_test_split\n",
        "X_train,X_test,Y_train,Y_test=train_test_split(x_train,y_train,test_size=0.2,random_state=10)\n",
        "\n",
        "# 모델 생성1(LR)\n",
        "from sklearn.linear_model import LinearRegression\n",
        "model1=LinearRegression()\n",
        "model1.fit(X_train,Y_train)\n",
        "pred1=model1.predict(X_test)\n",
        "\n",
        "# 모델 생성2(RF)\n",
        "from sklearn.ensemble import RandomForestRegressor\n",
        "model2=RandomForestRegressor()\n",
        "model2.fit(X_train,Y_train)\n",
        "pred2=model2.predict(X_test)\n",
        "\n",
        "# 모델 생성3(XGB)\n",
        "import xgboost as xgb\n",
        "model3=xgb.XGBRegressor()\n",
        "model3.fit(X_train,Y_train)\n",
        "pred3=model3.predict(X_test)\n",
        "\n",
        "# # 성능 평가\n",
        "# from sklearn.metrics import r2_score,mean_squared_error\n",
        "# import numpy as np\n",
        "# print('LR',r2_score(Y_test,pred1),np.sqrt(mean_squared_error(Y_test,pred1))) # 0.3060, 0.6717\n",
        "# print('RF',r2_score(Y_test,pred2),np.sqrt(mean_squared_error(Y_test,pred2))) # 0.4310, 0.6082\n",
        "# print('XGB',r2_score(Y_test,pred3),np.sqrt(mean_squared_error(Y_test,pred3))) # 0.3379, 0.6561\n",
        "\n",
        "# 결과 제출\n",
        "result=model2.predict(x_test).astype('int64')\n",
        "pd.DataFrame({'ID':id,'quality':result}).to_csv('123456.csv',index=False)\n",
        "\n",
        "# # 실제 예측과 비교\n",
        "# from sklearn.metrics import r2_score,mean_squared_error\n",
        "# import numpy as np\n",
        "# predict=pd.read_csv('123456.csv')\n",
        "# y_test=pd.read_csv('https://raw.githubusercontent.com/Datamanim/datarepo/main/redwine/y_test.csv')\n",
        "# print(r2_score(y_test['quality'],predict['quality']),np.sqrt(mean_squared_error(y_test['quality'],predict['quality']))) # RF 0.2569, 0.6708"
      ],
      "metadata": {
        "colab": {
          "base_uri": "https://localhost:8080/"
        },
        "id": "DRoE-EMzIObQ",
        "outputId": "19148dcb-51f7-4ae7-eca4-8a2b317dc035"
      },
      "execution_count": 2,
      "outputs": [
        {
          "output_type": "stream",
          "name": "stderr",
          "text": [
            "/usr/local/lib/python3.7/dist-packages/ipykernel_launcher.py:35: DataConversionWarning: A column-vector y was passed when a 1d array was expected. Please change the shape of y to (n_samples,), for example using ravel().\n"
          ]
        },
        {
          "output_type": "stream",
          "name": "stdout",
          "text": [
            "[06:40:40] WARNING: /workspace/src/objective/regression_obj.cu:152: reg:linear is now deprecated in favor of reg:squarederror.\n"
          ]
        }
      ]
    }
  ]
}