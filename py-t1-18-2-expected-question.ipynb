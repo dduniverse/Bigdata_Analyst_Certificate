{
 "cells": [
  {
   "cell_type": "markdown",
   "id": "70992d1e",
   "metadata": {
    "papermill": {
     "duration": 0.016214,
     "end_time": "2022-11-18T10:51:26.044338",
     "exception": false,
     "start_time": "2022-11-18T10:51:26.028124",
     "status": "completed"
    },
    "tags": []
   },
   "source": [
    "## 주어진 데이터에서 2022년 5월 주말과 평일의 sales컬럼 평균값 차이를 구하시오 (소수점 둘째자리까지 출력, 반올림)\n",
    "- 데이터셋 : basic2.csv\n",
    "- 오른쪽 상단 copy&edit 클릭 -> 예상문제 풀이 시작"
   ]
  },
  {
   "cell_type": "code",
   "execution_count": 1,
   "id": "4f80fbb0",
   "metadata": {
    "execution": {
     "iopub.execute_input": "2022-11-18T10:51:26.088429Z",
     "iopub.status.busy": "2022-11-18T10:51:26.087679Z",
     "iopub.status.idle": "2022-11-18T10:51:26.131783Z",
     "shell.execute_reply": "2022-11-18T10:51:26.132376Z",
     "shell.execute_reply.started": "2022-11-18T10:50:35.417154Z"
    },
    "papermill": {
     "duration": 0.072408,
     "end_time": "2022-11-18T10:51:26.132703",
     "exception": false,
     "start_time": "2022-11-18T10:51:26.060295",
     "status": "completed"
    },
    "tags": []
   },
   "outputs": [
    {
     "data": {
      "text/html": [
       "<div>\n",
       "<style scoped>\n",
       "    .dataframe tbody tr th:only-of-type {\n",
       "        vertical-align: middle;\n",
       "    }\n",
       "\n",
       "    .dataframe tbody tr th {\n",
       "        vertical-align: top;\n",
       "    }\n",
       "\n",
       "    .dataframe thead th {\n",
       "        text-align: right;\n",
       "    }\n",
       "</style>\n",
       "<table border=\"1\" class=\"dataframe\">\n",
       "  <thead>\n",
       "    <tr style=\"text-align: right;\">\n",
       "      <th></th>\n",
       "      <th>Date</th>\n",
       "      <th>Sales</th>\n",
       "      <th>PV</th>\n",
       "      <th>UV</th>\n",
       "      <th>Events</th>\n",
       "    </tr>\n",
       "  </thead>\n",
       "  <tbody>\n",
       "    <tr>\n",
       "      <th>0</th>\n",
       "      <td>2022-01-01</td>\n",
       "      <td>22711525</td>\n",
       "      <td>397349</td>\n",
       "      <td>4421.0</td>\n",
       "      <td>1</td>\n",
       "    </tr>\n",
       "    <tr>\n",
       "      <th>1</th>\n",
       "      <td>2022-01-02</td>\n",
       "      <td>36779</td>\n",
       "      <td>3969</td>\n",
       "      <td>2289.0</td>\n",
       "      <td>0</td>\n",
       "    </tr>\n",
       "    <tr>\n",
       "      <th>2</th>\n",
       "      <td>2022-01-03</td>\n",
       "      <td>13943875</td>\n",
       "      <td>373890</td>\n",
       "      <td>NaN</td>\n",
       "      <td>1</td>\n",
       "    </tr>\n",
       "    <tr>\n",
       "      <th>3</th>\n",
       "      <td>2022-01-04</td>\n",
       "      <td>8088593</td>\n",
       "      <td>142054</td>\n",
       "      <td>2157.0</td>\n",
       "      <td>0</td>\n",
       "    </tr>\n",
       "    <tr>\n",
       "      <th>4</th>\n",
       "      <td>2022-01-05</td>\n",
       "      <td>2395374</td>\n",
       "      <td>190684</td>\n",
       "      <td>NaN</td>\n",
       "      <td>0</td>\n",
       "    </tr>\n",
       "    <tr>\n",
       "      <th>...</th>\n",
       "      <td>...</td>\n",
       "      <td>...</td>\n",
       "      <td>...</td>\n",
       "      <td>...</td>\n",
       "      <td>...</td>\n",
       "    </tr>\n",
       "    <tr>\n",
       "      <th>725</th>\n",
       "      <td>2023-12-27</td>\n",
       "      <td>33846609</td>\n",
       "      <td>415067</td>\n",
       "      <td>7360.0</td>\n",
       "      <td>1</td>\n",
       "    </tr>\n",
       "    <tr>\n",
       "      <th>726</th>\n",
       "      <td>2023-12-28</td>\n",
       "      <td>3659566</td>\n",
       "      <td>208601</td>\n",
       "      <td>2262.0</td>\n",
       "      <td>1</td>\n",
       "    </tr>\n",
       "    <tr>\n",
       "      <th>727</th>\n",
       "      <td>2023-12-29</td>\n",
       "      <td>1164008</td>\n",
       "      <td>14309</td>\n",
       "      <td>193.0</td>\n",
       "      <td>0</td>\n",
       "    </tr>\n",
       "    <tr>\n",
       "      <th>728</th>\n",
       "      <td>2023-12-30</td>\n",
       "      <td>3977696</td>\n",
       "      <td>60935</td>\n",
       "      <td>NaN</td>\n",
       "      <td>0</td>\n",
       "    </tr>\n",
       "    <tr>\n",
       "      <th>729</th>\n",
       "      <td>2023-12-31</td>\n",
       "      <td>3719764</td>\n",
       "      <td>60963</td>\n",
       "      <td>1507.0</td>\n",
       "      <td>0</td>\n",
       "    </tr>\n",
       "  </tbody>\n",
       "</table>\n",
       "<p>730 rows × 5 columns</p>\n",
       "</div>"
      ],
      "text/plain": [
       "           Date     Sales      PV      UV  Events\n",
       "0    2022-01-01  22711525  397349  4421.0       1\n",
       "1    2022-01-02     36779    3969  2289.0       0\n",
       "2    2022-01-03  13943875  373890     NaN       1\n",
       "3    2022-01-04   8088593  142054  2157.0       0\n",
       "4    2022-01-05   2395374  190684     NaN       0\n",
       "..          ...       ...     ...     ...     ...\n",
       "725  2023-12-27  33846609  415067  7360.0       1\n",
       "726  2023-12-28   3659566  208601  2262.0       1\n",
       "727  2023-12-29   1164008   14309   193.0       0\n",
       "728  2023-12-30   3977696   60935     NaN       0\n",
       "729  2023-12-31   3719764   60963  1507.0       0\n",
       "\n",
       "[730 rows x 5 columns]"
      ]
     },
     "execution_count": 1,
     "metadata": {},
     "output_type": "execute_result"
    }
   ],
   "source": [
    "import pandas as pd\n",
    "\n",
    "df=pd.read_csv('../input/bigdatacertificationkr/basic2.csv')\n",
    "df"
   ]
  },
  {
   "cell_type": "code",
   "execution_count": 2,
   "id": "639a5999",
   "metadata": {
    "execution": {
     "iopub.execute_input": "2022-11-18T10:51:26.169785Z",
     "iopub.status.busy": "2022-11-18T10:51:26.168961Z",
     "iopub.status.idle": "2022-11-18T10:51:26.190462Z",
     "shell.execute_reply": "2022-11-18T10:51:26.191088Z",
     "shell.execute_reply.started": "2022-11-18T10:50:35.460464Z"
    },
    "papermill": {
     "duration": 0.040408,
     "end_time": "2022-11-18T10:51:26.191273",
     "exception": false,
     "start_time": "2022-11-18T10:51:26.150865",
     "status": "completed"
    },
    "tags": []
   },
   "outputs": [
    {
     "name": "stdout",
     "output_type": "stream",
     "text": [
      "<class 'pandas.core.frame.DataFrame'>\n",
      "RangeIndex: 730 entries, 0 to 729\n",
      "Data columns (total 5 columns):\n",
      " #   Column  Non-Null Count  Dtype  \n",
      "---  ------  --------------  -----  \n",
      " 0   Date    730 non-null    object \n",
      " 1   Sales   730 non-null    int64  \n",
      " 2   PV      730 non-null    int64  \n",
      " 3   UV      684 non-null    float64\n",
      " 4   Events  730 non-null    int64  \n",
      "dtypes: float64(1), int64(3), object(1)\n",
      "memory usage: 28.6+ KB\n"
     ]
    }
   ],
   "source": [
    "# df 기본정보 확인\n",
    "df.info()"
   ]
  },
  {
   "cell_type": "code",
   "execution_count": 3,
   "id": "2392cffe",
   "metadata": {
    "execution": {
     "iopub.execute_input": "2022-11-18T10:51:26.229771Z",
     "iopub.status.busy": "2022-11-18T10:51:26.229025Z",
     "iopub.status.idle": "2022-11-18T10:51:26.233114Z",
     "shell.execute_reply": "2022-11-18T10:51:26.232494Z",
     "shell.execute_reply.started": "2022-11-18T10:50:35.478985Z"
    },
    "papermill": {
     "duration": 0.02661,
     "end_time": "2022-11-18T10:51:26.233265",
     "exception": false,
     "start_time": "2022-11-18T10:51:26.206655",
     "status": "completed"
    },
    "tags": []
   },
   "outputs": [],
   "source": [
    "# 'Date' 컬럼의 데이터 형식을 datetime으로 변경\n",
    "df['Date']=pd.to_datetime(df['Date'])"
   ]
  },
  {
   "cell_type": "code",
   "execution_count": 4,
   "id": "32913684",
   "metadata": {
    "execution": {
     "iopub.execute_input": "2022-11-18T10:51:26.271615Z",
     "iopub.status.busy": "2022-11-18T10:51:26.270891Z",
     "iopub.status.idle": "2022-11-18T10:51:26.280707Z",
     "shell.execute_reply": "2022-11-18T10:51:26.281457Z",
     "shell.execute_reply.started": "2022-11-18T10:50:35.490758Z"
    },
    "papermill": {
     "duration": 0.033023,
     "end_time": "2022-11-18T10:51:26.281701",
     "exception": false,
     "start_time": "2022-11-18T10:51:26.248678",
     "status": "completed"
    },
    "tags": []
   },
   "outputs": [
    {
     "name": "stdout",
     "output_type": "stream",
     "text": [
      "<class 'pandas.core.frame.DataFrame'>\n",
      "RangeIndex: 730 entries, 0 to 729\n",
      "Data columns (total 5 columns):\n",
      " #   Column  Non-Null Count  Dtype         \n",
      "---  ------  --------------  -----         \n",
      " 0   Date    730 non-null    datetime64[ns]\n",
      " 1   Sales   730 non-null    int64         \n",
      " 2   PV      730 non-null    int64         \n",
      " 3   UV      684 non-null    float64       \n",
      " 4   Events  730 non-null    int64         \n",
      "dtypes: datetime64[ns](1), float64(1), int64(3)\n",
      "memory usage: 28.6 KB\n"
     ]
    }
   ],
   "source": [
    "# df 기본정보 확인\n",
    "df.info()"
   ]
  },
  {
   "cell_type": "code",
   "execution_count": 5,
   "id": "93622f7d",
   "metadata": {
    "execution": {
     "iopub.execute_input": "2022-11-18T10:51:26.320205Z",
     "iopub.status.busy": "2022-11-18T10:51:26.319160Z",
     "iopub.status.idle": "2022-11-18T10:51:26.337130Z",
     "shell.execute_reply": "2022-11-18T10:51:26.337737Z",
     "shell.execute_reply.started": "2022-11-18T10:50:35.513074Z"
    },
    "papermill": {
     "duration": 0.037634,
     "end_time": "2022-11-18T10:51:26.337921",
     "exception": false,
     "start_time": "2022-11-18T10:51:26.300287",
     "status": "completed"
    },
    "tags": []
   },
   "outputs": [
    {
     "data": {
      "text/html": [
       "<div>\n",
       "<style scoped>\n",
       "    .dataframe tbody tr th:only-of-type {\n",
       "        vertical-align: middle;\n",
       "    }\n",
       "\n",
       "    .dataframe tbody tr th {\n",
       "        vertical-align: top;\n",
       "    }\n",
       "\n",
       "    .dataframe thead th {\n",
       "        text-align: right;\n",
       "    }\n",
       "</style>\n",
       "<table border=\"1\" class=\"dataframe\">\n",
       "  <thead>\n",
       "    <tr style=\"text-align: right;\">\n",
       "      <th></th>\n",
       "      <th>Date</th>\n",
       "      <th>Sales</th>\n",
       "      <th>PV</th>\n",
       "      <th>UV</th>\n",
       "      <th>Events</th>\n",
       "      <th>year</th>\n",
       "      <th>month</th>\n",
       "      <th>day</th>\n",
       "      <th>weekday</th>\n",
       "    </tr>\n",
       "  </thead>\n",
       "  <tbody>\n",
       "    <tr>\n",
       "      <th>0</th>\n",
       "      <td>2022-01-01</td>\n",
       "      <td>22711525</td>\n",
       "      <td>397349</td>\n",
       "      <td>4421.0</td>\n",
       "      <td>1</td>\n",
       "      <td>2022</td>\n",
       "      <td>1</td>\n",
       "      <td>1</td>\n",
       "      <td>5</td>\n",
       "    </tr>\n",
       "    <tr>\n",
       "      <th>1</th>\n",
       "      <td>2022-01-02</td>\n",
       "      <td>36779</td>\n",
       "      <td>3969</td>\n",
       "      <td>2289.0</td>\n",
       "      <td>0</td>\n",
       "      <td>2022</td>\n",
       "      <td>1</td>\n",
       "      <td>2</td>\n",
       "      <td>6</td>\n",
       "    </tr>\n",
       "    <tr>\n",
       "      <th>2</th>\n",
       "      <td>2022-01-03</td>\n",
       "      <td>13943875</td>\n",
       "      <td>373890</td>\n",
       "      <td>NaN</td>\n",
       "      <td>1</td>\n",
       "      <td>2022</td>\n",
       "      <td>1</td>\n",
       "      <td>3</td>\n",
       "      <td>0</td>\n",
       "    </tr>\n",
       "    <tr>\n",
       "      <th>3</th>\n",
       "      <td>2022-01-04</td>\n",
       "      <td>8088593</td>\n",
       "      <td>142054</td>\n",
       "      <td>2157.0</td>\n",
       "      <td>0</td>\n",
       "      <td>2022</td>\n",
       "      <td>1</td>\n",
       "      <td>4</td>\n",
       "      <td>1</td>\n",
       "    </tr>\n",
       "    <tr>\n",
       "      <th>4</th>\n",
       "      <td>2022-01-05</td>\n",
       "      <td>2395374</td>\n",
       "      <td>190684</td>\n",
       "      <td>NaN</td>\n",
       "      <td>0</td>\n",
       "      <td>2022</td>\n",
       "      <td>1</td>\n",
       "      <td>5</td>\n",
       "      <td>2</td>\n",
       "    </tr>\n",
       "  </tbody>\n",
       "</table>\n",
       "</div>"
      ],
      "text/plain": [
       "        Date     Sales      PV      UV  Events  year  month  day  weekday\n",
       "0 2022-01-01  22711525  397349  4421.0       1  2022      1    1        5\n",
       "1 2022-01-02     36779    3969  2289.0       0  2022      1    2        6\n",
       "2 2022-01-03  13943875  373890     NaN       1  2022      1    3        0\n",
       "3 2022-01-04   8088593  142054  2157.0       0  2022      1    4        1\n",
       "4 2022-01-05   2395374  190684     NaN       0  2022      1    5        2"
      ]
     },
     "execution_count": 5,
     "metadata": {},
     "output_type": "execute_result"
    }
   ],
   "source": [
    "# 'Date'컬럼에서 연/월/일/요일 추출\n",
    "df['year']=df['Date'].dt.year\n",
    "df['month']=df['Date'].dt.month\n",
    "df['day']=df['Date'].dt.day\n",
    "df['weekday']=df['Date'].dt.weekday\n",
    "\n",
    "df.head()"
   ]
  },
  {
   "cell_type": "code",
   "execution_count": 6,
   "id": "d1a06b89",
   "metadata": {
    "execution": {
     "iopub.execute_input": "2022-11-18T10:51:26.373780Z",
     "iopub.status.busy": "2022-11-18T10:51:26.372770Z",
     "iopub.status.idle": "2022-11-18T10:51:26.385822Z",
     "shell.execute_reply": "2022-11-18T10:51:26.386439Z",
     "shell.execute_reply.started": "2022-11-18T10:50:35.540386Z"
    },
    "papermill": {
     "duration": 0.032758,
     "end_time": "2022-11-18T10:51:26.386622",
     "exception": false,
     "start_time": "2022-11-18T10:51:26.353864",
     "status": "completed"
    },
    "tags": []
   },
   "outputs": [
    {
     "data": {
      "text/plain": [
       "3010339.1"
      ]
     },
     "execution_count": 6,
     "metadata": {},
     "output_type": "execute_result"
    }
   ],
   "source": [
    "# 2022년 5월 평일/주말 'Sales' 컬럼의 평균값 구하기\n",
    "weekday=df[(df['year']==2022)&(df['month']==5)&(df['weekday']<5)]['Sales'].mean()\n",
    "hoilday=df[(df['year']==2022)&(df['month']==5)&(df['weekday']>=5)]['Sales'].mean()\n",
    "\n",
    "round(abs(weekday-hoilday),2)"
   ]
  },
  {
   "cell_type": "code",
   "execution_count": null,
   "id": "1ff35292",
   "metadata": {
    "papermill": {
     "duration": 0.016901,
     "end_time": "2022-11-18T10:51:26.420009",
     "exception": false,
     "start_time": "2022-11-18T10:51:26.403108",
     "status": "completed"
    },
    "tags": []
   },
   "outputs": [],
   "source": []
  },
  {
   "cell_type": "code",
   "execution_count": 7,
   "id": "692de40b",
   "metadata": {
    "_cell_guid": "b1076dfc-b9ad-4769-8c92-a6c4dae69d19",
    "_uuid": "8f2839f25d086af736a60e9eeb907d3b93b6e0e5",
    "execution": {
     "iopub.execute_input": "2022-11-18T10:51:26.456803Z",
     "iopub.status.busy": "2022-11-18T10:51:26.455744Z",
     "iopub.status.idle": "2022-11-18T10:51:26.460394Z",
     "shell.execute_reply": "2022-11-18T10:51:26.459832Z",
     "shell.execute_reply.started": "2022-11-18T10:50:35.558157Z"
    },
    "papermill": {
     "duration": 0.024069,
     "end_time": "2022-11-18T10:51:26.460550",
     "exception": false,
     "start_time": "2022-11-18T10:51:26.436481",
     "status": "completed"
    },
    "tags": []
   },
   "outputs": [],
   "source": [
    "# 라이브러리 불러오기\n",
    "import pandas as pd"
   ]
  },
  {
   "cell_type": "code",
   "execution_count": 8,
   "id": "1e74370d",
   "metadata": {
    "execution": {
     "iopub.execute_input": "2022-11-18T10:51:26.499030Z",
     "iopub.status.busy": "2022-11-18T10:51:26.497963Z",
     "iopub.status.idle": "2022-11-18T10:51:26.505145Z",
     "shell.execute_reply": "2022-11-18T10:51:26.505644Z",
     "shell.execute_reply.started": "2022-11-18T10:50:35.569033Z"
    },
    "papermill": {
     "duration": 0.028834,
     "end_time": "2022-11-18T10:51:26.505866",
     "exception": false,
     "start_time": "2022-11-18T10:51:26.477032",
     "status": "completed"
    },
    "tags": []
   },
   "outputs": [],
   "source": [
    "# 데이터 불러오기 (datatime컬럼 지정)\n",
    "df = pd.read_csv(\"../input/bigdatacertificationkr/basic2.csv\", parse_dates=['Date'])"
   ]
  },
  {
   "cell_type": "code",
   "execution_count": 9,
   "id": "6632df2a",
   "metadata": {
    "execution": {
     "iopub.execute_input": "2022-11-18T10:51:26.551680Z",
     "iopub.status.busy": "2022-11-18T10:51:26.550794Z",
     "iopub.status.idle": "2022-11-18T10:51:26.555334Z",
     "shell.execute_reply": "2022-11-18T10:51:26.554608Z",
     "shell.execute_reply.started": "2022-11-18T10:50:35.588741Z"
    },
    "papermill": {
     "duration": 0.032375,
     "end_time": "2022-11-18T10:51:26.555503",
     "exception": false,
     "start_time": "2022-11-18T10:51:26.523128",
     "status": "completed"
    },
    "tags": []
   },
   "outputs": [
    {
     "data": {
      "text/html": [
       "<div>\n",
       "<style scoped>\n",
       "    .dataframe tbody tr th:only-of-type {\n",
       "        vertical-align: middle;\n",
       "    }\n",
       "\n",
       "    .dataframe tbody tr th {\n",
       "        vertical-align: top;\n",
       "    }\n",
       "\n",
       "    .dataframe thead th {\n",
       "        text-align: right;\n",
       "    }\n",
       "</style>\n",
       "<table border=\"1\" class=\"dataframe\">\n",
       "  <thead>\n",
       "    <tr style=\"text-align: right;\">\n",
       "      <th></th>\n",
       "      <th>Date</th>\n",
       "      <th>Sales</th>\n",
       "      <th>PV</th>\n",
       "      <th>UV</th>\n",
       "      <th>Events</th>\n",
       "    </tr>\n",
       "  </thead>\n",
       "  <tbody>\n",
       "    <tr>\n",
       "      <th>0</th>\n",
       "      <td>2022-01-01</td>\n",
       "      <td>22711525</td>\n",
       "      <td>397349</td>\n",
       "      <td>4421.0</td>\n",
       "      <td>1</td>\n",
       "    </tr>\n",
       "    <tr>\n",
       "      <th>1</th>\n",
       "      <td>2022-01-02</td>\n",
       "      <td>36779</td>\n",
       "      <td>3969</td>\n",
       "      <td>2289.0</td>\n",
       "      <td>0</td>\n",
       "    </tr>\n",
       "    <tr>\n",
       "      <th>2</th>\n",
       "      <td>2022-01-03</td>\n",
       "      <td>13943875</td>\n",
       "      <td>373890</td>\n",
       "      <td>NaN</td>\n",
       "      <td>1</td>\n",
       "    </tr>\n",
       "    <tr>\n",
       "      <th>3</th>\n",
       "      <td>2022-01-04</td>\n",
       "      <td>8088593</td>\n",
       "      <td>142054</td>\n",
       "      <td>2157.0</td>\n",
       "      <td>0</td>\n",
       "    </tr>\n",
       "    <tr>\n",
       "      <th>4</th>\n",
       "      <td>2022-01-05</td>\n",
       "      <td>2395374</td>\n",
       "      <td>190684</td>\n",
       "      <td>NaN</td>\n",
       "      <td>0</td>\n",
       "    </tr>\n",
       "  </tbody>\n",
       "</table>\n",
       "</div>"
      ],
      "text/plain": [
       "        Date     Sales      PV      UV  Events\n",
       "0 2022-01-01  22711525  397349  4421.0       1\n",
       "1 2022-01-02     36779    3969  2289.0       0\n",
       "2 2022-01-03  13943875  373890     NaN       1\n",
       "3 2022-01-04   8088593  142054  2157.0       0\n",
       "4 2022-01-05   2395374  190684     NaN       0"
      ]
     },
     "execution_count": 9,
     "metadata": {},
     "output_type": "execute_result"
    }
   ],
   "source": [
    "df.head()"
   ]
  },
  {
   "cell_type": "code",
   "execution_count": 10,
   "id": "7e752467",
   "metadata": {
    "execution": {
     "iopub.execute_input": "2022-11-18T10:51:26.610569Z",
     "iopub.status.busy": "2022-11-18T10:51:26.609638Z",
     "iopub.status.idle": "2022-11-18T10:51:26.624186Z",
     "shell.execute_reply": "2022-11-18T10:51:26.624776Z",
     "shell.execute_reply.started": "2022-11-18T10:50:35.604295Z"
    },
    "papermill": {
     "duration": 0.046039,
     "end_time": "2022-11-18T10:51:26.624971",
     "exception": false,
     "start_time": "2022-11-18T10:51:26.578932",
     "status": "completed"
    },
    "tags": []
   },
   "outputs": [
    {
     "name": "stdout",
     "output_type": "stream",
     "text": [
      "<class 'pandas.core.frame.DataFrame'>\n",
      "RangeIndex: 730 entries, 0 to 729\n",
      "Data columns (total 5 columns):\n",
      " #   Column  Non-Null Count  Dtype         \n",
      "---  ------  --------------  -----         \n",
      " 0   Date    730 non-null    datetime64[ns]\n",
      " 1   Sales   730 non-null    int64         \n",
      " 2   PV      730 non-null    int64         \n",
      " 3   UV      684 non-null    float64       \n",
      " 4   Events  730 non-null    int64         \n",
      "dtypes: datetime64[ns](1), float64(1), int64(3)\n",
      "memory usage: 28.6 KB\n"
     ]
    }
   ],
   "source": [
    "df.info()"
   ]
  },
  {
   "cell_type": "code",
   "execution_count": 11,
   "id": "515009de",
   "metadata": {
    "execution": {
     "iopub.execute_input": "2022-11-18T10:51:26.668874Z",
     "iopub.status.busy": "2022-11-18T10:51:26.668127Z",
     "iopub.status.idle": "2022-11-18T10:51:26.680471Z",
     "shell.execute_reply": "2022-11-18T10:51:26.679835Z",
     "shell.execute_reply.started": "2022-11-18T10:50:35.625567Z"
    },
    "papermill": {
     "duration": 0.03401,
     "end_time": "2022-11-18T10:51:26.680635",
     "exception": false,
     "start_time": "2022-11-18T10:51:26.646625",
     "status": "completed"
    },
    "tags": []
   },
   "outputs": [],
   "source": [
    "df['year'] = df['Date'].dt.year\n",
    "df['month'] = df['Date'].dt.month\n",
    "df['day'] = df['Date'].dt.day\n",
    "df['dayofweek'] = df['Date'].dt.dayofweek"
   ]
  },
  {
   "cell_type": "code",
   "execution_count": 12,
   "id": "543c45a3",
   "metadata": {
    "execution": {
     "iopub.execute_input": "2022-11-18T10:51:26.724807Z",
     "iopub.status.busy": "2022-11-18T10:51:26.723778Z",
     "iopub.status.idle": "2022-11-18T10:51:26.737585Z",
     "shell.execute_reply": "2022-11-18T10:51:26.738176Z",
     "shell.execute_reply.started": "2022-11-18T10:50:35.638845Z"
    },
    "papermill": {
     "duration": 0.036853,
     "end_time": "2022-11-18T10:51:26.738362",
     "exception": false,
     "start_time": "2022-11-18T10:51:26.701509",
     "status": "completed"
    },
    "tags": []
   },
   "outputs": [
    {
     "data": {
      "text/html": [
       "<div>\n",
       "<style scoped>\n",
       "    .dataframe tbody tr th:only-of-type {\n",
       "        vertical-align: middle;\n",
       "    }\n",
       "\n",
       "    .dataframe tbody tr th {\n",
       "        vertical-align: top;\n",
       "    }\n",
       "\n",
       "    .dataframe thead th {\n",
       "        text-align: right;\n",
       "    }\n",
       "</style>\n",
       "<table border=\"1\" class=\"dataframe\">\n",
       "  <thead>\n",
       "    <tr style=\"text-align: right;\">\n",
       "      <th></th>\n",
       "      <th>Date</th>\n",
       "      <th>Sales</th>\n",
       "      <th>PV</th>\n",
       "      <th>UV</th>\n",
       "      <th>Events</th>\n",
       "      <th>year</th>\n",
       "      <th>month</th>\n",
       "      <th>day</th>\n",
       "      <th>dayofweek</th>\n",
       "    </tr>\n",
       "  </thead>\n",
       "  <tbody>\n",
       "    <tr>\n",
       "      <th>0</th>\n",
       "      <td>2022-01-01</td>\n",
       "      <td>22711525</td>\n",
       "      <td>397349</td>\n",
       "      <td>4421.0</td>\n",
       "      <td>1</td>\n",
       "      <td>2022</td>\n",
       "      <td>1</td>\n",
       "      <td>1</td>\n",
       "      <td>5</td>\n",
       "    </tr>\n",
       "    <tr>\n",
       "      <th>1</th>\n",
       "      <td>2022-01-02</td>\n",
       "      <td>36779</td>\n",
       "      <td>3969</td>\n",
       "      <td>2289.0</td>\n",
       "      <td>0</td>\n",
       "      <td>2022</td>\n",
       "      <td>1</td>\n",
       "      <td>2</td>\n",
       "      <td>6</td>\n",
       "    </tr>\n",
       "    <tr>\n",
       "      <th>2</th>\n",
       "      <td>2022-01-03</td>\n",
       "      <td>13943875</td>\n",
       "      <td>373890</td>\n",
       "      <td>NaN</td>\n",
       "      <td>1</td>\n",
       "      <td>2022</td>\n",
       "      <td>1</td>\n",
       "      <td>3</td>\n",
       "      <td>0</td>\n",
       "    </tr>\n",
       "    <tr>\n",
       "      <th>3</th>\n",
       "      <td>2022-01-04</td>\n",
       "      <td>8088593</td>\n",
       "      <td>142054</td>\n",
       "      <td>2157.0</td>\n",
       "      <td>0</td>\n",
       "      <td>2022</td>\n",
       "      <td>1</td>\n",
       "      <td>4</td>\n",
       "      <td>1</td>\n",
       "    </tr>\n",
       "    <tr>\n",
       "      <th>4</th>\n",
       "      <td>2022-01-05</td>\n",
       "      <td>2395374</td>\n",
       "      <td>190684</td>\n",
       "      <td>NaN</td>\n",
       "      <td>0</td>\n",
       "      <td>2022</td>\n",
       "      <td>1</td>\n",
       "      <td>5</td>\n",
       "      <td>2</td>\n",
       "    </tr>\n",
       "  </tbody>\n",
       "</table>\n",
       "</div>"
      ],
      "text/plain": [
       "        Date     Sales      PV      UV  Events  year  month  day  dayofweek\n",
       "0 2022-01-01  22711525  397349  4421.0       1  2022      1    1          5\n",
       "1 2022-01-02     36779    3969  2289.0       0  2022      1    2          6\n",
       "2 2022-01-03  13943875  373890     NaN       1  2022      1    3          0\n",
       "3 2022-01-04   8088593  142054  2157.0       0  2022      1    4          1\n",
       "4 2022-01-05   2395374  190684     NaN       0  2022      1    5          2"
      ]
     },
     "execution_count": 12,
     "metadata": {},
     "output_type": "execute_result"
    }
   ],
   "source": [
    "df.head()"
   ]
  },
  {
   "cell_type": "code",
   "execution_count": 13,
   "id": "f5134a55",
   "metadata": {
    "execution": {
     "iopub.execute_input": "2022-11-18T10:51:26.782741Z",
     "iopub.status.busy": "2022-11-18T10:51:26.781653Z",
     "iopub.status.idle": "2022-11-18T10:51:26.784061Z",
     "shell.execute_reply": "2022-11-18T10:51:26.784536Z",
     "shell.execute_reply.started": "2022-11-18T10:50:35.659435Z"
    },
    "papermill": {
     "duration": 0.027917,
     "end_time": "2022-11-18T10:51:26.784736",
     "exception": false,
     "start_time": "2022-11-18T10:51:26.756819",
     "status": "completed"
    },
    "tags": []
   },
   "outputs": [],
   "source": [
    "df['weekend'] = df['dayofweek'].apply(lambda x: x>=5)"
   ]
  },
  {
   "cell_type": "code",
   "execution_count": 14,
   "id": "cbc43819",
   "metadata": {
    "execution": {
     "iopub.execute_input": "2022-11-18T10:51:26.829543Z",
     "iopub.status.busy": "2022-11-18T10:51:26.828471Z",
     "iopub.status.idle": "2022-11-18T10:51:26.844229Z",
     "shell.execute_reply": "2022-11-18T10:51:26.845071Z",
     "shell.execute_reply.started": "2022-11-18T10:50:35.669448Z"
    },
    "papermill": {
     "duration": 0.042655,
     "end_time": "2022-11-18T10:51:26.845288",
     "exception": false,
     "start_time": "2022-11-18T10:51:26.802633",
     "status": "completed"
    },
    "tags": []
   },
   "outputs": [
    {
     "data": {
      "text/html": [
       "<div>\n",
       "<style scoped>\n",
       "    .dataframe tbody tr th:only-of-type {\n",
       "        vertical-align: middle;\n",
       "    }\n",
       "\n",
       "    .dataframe tbody tr th {\n",
       "        vertical-align: top;\n",
       "    }\n",
       "\n",
       "    .dataframe thead th {\n",
       "        text-align: right;\n",
       "    }\n",
       "</style>\n",
       "<table border=\"1\" class=\"dataframe\">\n",
       "  <thead>\n",
       "    <tr style=\"text-align: right;\">\n",
       "      <th></th>\n",
       "      <th>Date</th>\n",
       "      <th>Sales</th>\n",
       "      <th>PV</th>\n",
       "      <th>UV</th>\n",
       "      <th>Events</th>\n",
       "      <th>year</th>\n",
       "      <th>month</th>\n",
       "      <th>day</th>\n",
       "      <th>dayofweek</th>\n",
       "      <th>weekend</th>\n",
       "    </tr>\n",
       "  </thead>\n",
       "  <tbody>\n",
       "    <tr>\n",
       "      <th>0</th>\n",
       "      <td>2022-01-01</td>\n",
       "      <td>22711525</td>\n",
       "      <td>397349</td>\n",
       "      <td>4421.0</td>\n",
       "      <td>1</td>\n",
       "      <td>2022</td>\n",
       "      <td>1</td>\n",
       "      <td>1</td>\n",
       "      <td>5</td>\n",
       "      <td>True</td>\n",
       "    </tr>\n",
       "    <tr>\n",
       "      <th>1</th>\n",
       "      <td>2022-01-02</td>\n",
       "      <td>36779</td>\n",
       "      <td>3969</td>\n",
       "      <td>2289.0</td>\n",
       "      <td>0</td>\n",
       "      <td>2022</td>\n",
       "      <td>1</td>\n",
       "      <td>2</td>\n",
       "      <td>6</td>\n",
       "      <td>True</td>\n",
       "    </tr>\n",
       "    <tr>\n",
       "      <th>2</th>\n",
       "      <td>2022-01-03</td>\n",
       "      <td>13943875</td>\n",
       "      <td>373890</td>\n",
       "      <td>NaN</td>\n",
       "      <td>1</td>\n",
       "      <td>2022</td>\n",
       "      <td>1</td>\n",
       "      <td>3</td>\n",
       "      <td>0</td>\n",
       "      <td>False</td>\n",
       "    </tr>\n",
       "    <tr>\n",
       "      <th>3</th>\n",
       "      <td>2022-01-04</td>\n",
       "      <td>8088593</td>\n",
       "      <td>142054</td>\n",
       "      <td>2157.0</td>\n",
       "      <td>0</td>\n",
       "      <td>2022</td>\n",
       "      <td>1</td>\n",
       "      <td>4</td>\n",
       "      <td>1</td>\n",
       "      <td>False</td>\n",
       "    </tr>\n",
       "    <tr>\n",
       "      <th>4</th>\n",
       "      <td>2022-01-05</td>\n",
       "      <td>2395374</td>\n",
       "      <td>190684</td>\n",
       "      <td>NaN</td>\n",
       "      <td>0</td>\n",
       "      <td>2022</td>\n",
       "      <td>1</td>\n",
       "      <td>5</td>\n",
       "      <td>2</td>\n",
       "      <td>False</td>\n",
       "    </tr>\n",
       "  </tbody>\n",
       "</table>\n",
       "</div>"
      ],
      "text/plain": [
       "        Date     Sales      PV      UV  Events  year  month  day  dayofweek  \\\n",
       "0 2022-01-01  22711525  397349  4421.0       1  2022      1    1          5   \n",
       "1 2022-01-02     36779    3969  2289.0       0  2022      1    2          6   \n",
       "2 2022-01-03  13943875  373890     NaN       1  2022      1    3          0   \n",
       "3 2022-01-04   8088593  142054  2157.0       0  2022      1    4          1   \n",
       "4 2022-01-05   2395374  190684     NaN       0  2022      1    5          2   \n",
       "\n",
       "   weekend  \n",
       "0     True  \n",
       "1     True  \n",
       "2    False  \n",
       "3    False  \n",
       "4    False  "
      ]
     },
     "execution_count": 14,
     "metadata": {},
     "output_type": "execute_result"
    }
   ],
   "source": [
    "df.head()"
   ]
  },
  {
   "cell_type": "code",
   "execution_count": 15,
   "id": "b2f1c163",
   "metadata": {
    "execution": {
     "iopub.execute_input": "2022-11-18T10:51:26.888369Z",
     "iopub.status.busy": "2022-11-18T10:51:26.887537Z",
     "iopub.status.idle": "2022-11-18T10:51:26.895547Z",
     "shell.execute_reply": "2022-11-18T10:51:26.896142Z",
     "shell.execute_reply.started": "2022-11-18T10:50:35.694330Z"
    },
    "papermill": {
     "duration": 0.030529,
     "end_time": "2022-11-18T10:51:26.896378",
     "exception": false,
     "start_time": "2022-11-18T10:51:26.865849",
     "status": "completed"
    },
    "tags": []
   },
   "outputs": [],
   "source": [
    "weekend_cond = (df['year']==2022) & (df['month']==5) & (df['weekend'])\n",
    "weekday_cond = (df['year']==2022) & (df['month']==5) & (~df['weekend'])"
   ]
  },
  {
   "cell_type": "code",
   "execution_count": 16,
   "id": "84e10a3e",
   "metadata": {
    "execution": {
     "iopub.execute_input": "2022-11-18T10:51:26.945368Z",
     "iopub.status.busy": "2022-11-18T10:51:26.944650Z",
     "iopub.status.idle": "2022-11-18T10:51:26.953141Z",
     "shell.execute_reply": "2022-11-18T10:51:26.953781Z",
     "shell.execute_reply.started": "2022-11-18T10:50:35.703876Z"
    },
    "papermill": {
     "duration": 0.035065,
     "end_time": "2022-11-18T10:51:26.953998",
     "exception": false,
     "start_time": "2022-11-18T10:51:26.918933",
     "status": "completed"
    },
    "tags": []
   },
   "outputs": [],
   "source": [
    "weekend = df[weekend_cond]['Sales'].mean()\n",
    "weekday = df[weekday_cond]['Sales'].mean()"
   ]
  },
  {
   "cell_type": "code",
   "execution_count": 17,
   "id": "03f63d0d",
   "metadata": {
    "execution": {
     "iopub.execute_input": "2022-11-18T10:51:26.995061Z",
     "iopub.status.busy": "2022-11-18T10:51:26.994389Z",
     "iopub.status.idle": "2022-11-18T10:51:27.000300Z",
     "shell.execute_reply": "2022-11-18T10:51:27.001299Z",
     "shell.execute_reply.started": "2022-11-18T10:50:35.719762Z"
    },
    "papermill": {
     "duration": 0.028616,
     "end_time": "2022-11-18T10:51:27.001759",
     "exception": false,
     "start_time": "2022-11-18T10:51:26.973143",
     "status": "completed"
    },
    "tags": []
   },
   "outputs": [
    {
     "data": {
      "text/plain": [
       "3010339.1"
      ]
     },
     "execution_count": 17,
     "metadata": {},
     "output_type": "execute_result"
    }
   ],
   "source": [
    "round(weekend - weekday, 1)"
   ]
  }
 ],
 "metadata": {
  "kernelspec": {
   "display_name": "Python 3",
   "language": "python",
   "name": "python3"
  },
  "language_info": {
   "codemirror_mode": {
    "name": "ipython",
    "version": 3
   },
   "file_extension": ".py",
   "mimetype": "text/x-python",
   "name": "python",
   "nbconvert_exporter": "python",
   "pygments_lexer": "ipython3",
   "version": "3.7.10"
  },
  "papermill": {
   "default_parameters": {},
   "duration": 11.349475,
   "end_time": "2022-11-18T10:51:27.632174",
   "environment_variables": {},
   "exception": null,
   "input_path": "__notebook__.ipynb",
   "output_path": "__notebook__.ipynb",
   "parameters": {},
   "start_time": "2022-11-18T10:51:16.282699",
   "version": "2.3.3"
  }
 },
 "nbformat": 4,
 "nbformat_minor": 5
}
