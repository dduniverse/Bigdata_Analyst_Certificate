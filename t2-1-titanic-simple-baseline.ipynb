{
 "cells": [
  {
   "attachments": {
    "de1920de-121e-47c3-a61f-e905386713bf.png": {
     "image/png": "[encoded data removed]"
    }
   },
   "cell_type": "markdown",
   "id": "b7b62b36",
   "metadata": {
    "papermill": {
     "duration": 0.029831,
     "end_time": "2022-11-27T07:09:53.246680",
     "exception": false,
     "start_time": "2022-11-27T07:09:53.216849",
     "status": "completed"
    },
    "tags": []
   },
   "source": [
    "## 생존여부 예측모델 만들기\n",
    "### 학습용 데이터 (X_train, y_train)을 이용하여 생존 예측 모형을 만든 후, 이를 평가용 데이터(X_test)에 적용하여 얻은 예측값을 다음과 같은 형식의 CSV파일로 생성하시오(제출한 모델의 성능은 accuracy 평가지표에 따라 채점)\n",
    "\n",
    "(가) 제공 데이터 목록\n",
    "- y_train: 생존여부(학습용)\n",
    "- X_trian, X_test : 승객 정보 (학습용 및 평가용)\n",
    "\n",
    "(나) 데이터 형식 및 내용\n",
    "- y_trian (712명 데이터)\n",
    "\n",
    "**시험환경 세팅은 예시문제와 동일한 형태의 X_train, y_train, X_test 데이터를 만들기 위함임**\n",
    "\n",
    "### 유의사항\n",
    "- 성능이 우수한 예측모형을 구축하기 위해서는 적절한 데이터 전처리, 피처엔지니어링, 분류알고리즘, 하이퍼파라미터 튜닝, 모형 앙상블 등이 수반되어야 한다.\n",
    "- 수험번호.csv파일이 만들어지도록 코드를 제출한다.\n",
    "- 제출한 모델의 성능은 accuracy로 평가함\n",
    "\n",
    "csv 출력형태\n",
    "\n",
    "![image.png](attachment:de1920de-121e-47c3-a61f-e905386713bf.png)"
   ]
  },
  {
   "cell_type": "markdown",
   "id": "ad30be51",
   "metadata": {
    "papermill": {
     "duration": 0.02677,
     "end_time": "2022-11-27T07:09:53.300777",
     "exception": false,
     "start_time": "2022-11-27T07:09:53.274007",
     "status": "completed"
    },
    "tags": []
   },
   "source": [
    "## [참고]작업형2 문구\n",
    "- 출력을 원하실 경우 print() 함수 활용\n",
    "- 예시) print(df.head())\n",
    "- getcwd(), chdir() 등 작업 폴더 설정 불필요\n",
    "- 파일 경로 상 내부 드라이브 경로(C: 등) 접근 불가\n",
    "\n",
    "### 데이터 파일 읽기 예제\n",
    "- import pandas as pd\n",
    "- X_test = pd.read_csv(\"data/X_test.csv\")\n",
    "- X_train = pd.read_csv(\"data/X_train.csv\")\n",
    "- y_train = pd.read_csv(\"data/y_train.csv\")\n",
    "\n",
    "### 사용자 코딩\n",
    "\n",
    "### 답안 제출 참고\n",
    "- 아래 코드 예측변수와 수험번호를 개인별로 변경하여 활용\n",
    "- pd.DataFrame({'cust_id': X_test.cust_id, 'gender': pred}).to_csv('003000000.csv', index=False)"
   ]
  },
  {
   "cell_type": "code",
   "execution_count": 1,
   "id": "bf6cd2f3",
   "metadata": {
    "execution": {
     "iopub.execute_input": "2022-11-27T07:09:53.370460Z",
     "iopub.status.busy": "2022-11-27T07:09:53.369849Z",
     "iopub.status.idle": "2022-11-27T07:09:54.578780Z",
     "shell.execute_reply": "2022-11-27T07:09:54.579242Z",
     "shell.execute_reply.started": "2022-11-27T07:09:03.872300Z"
    },
    "papermill": {
     "duration": 1.251131,
     "end_time": "2022-11-27T07:09:54.579563",
     "exception": false,
     "start_time": "2022-11-27T07:09:53.328432",
     "status": "completed"
    },
    "tags": []
   },
   "outputs": [
    {
     "data": {
      "text/plain": [
       "((712, 11), (179, 11), (712, 2), (179, 2))"
      ]
     },
     "execution_count": 1,
     "metadata": {},
     "output_type": "execute_result"
    }
   ],
   "source": [
    "# 시험환경 세팅 (코드 변경 X)\n",
    "import pandas as pd\n",
    "import numpy as np\n",
    "from sklearn.model_selection import train_test_split\n",
    "\n",
    "def exam_data_load(df, target, id_name=\"\", null_name=\"\"):\n",
    "    if id_name == \"\":\n",
    "        df = df.reset_index().rename(columns={\"index\": \"id\"})\n",
    "        id_name = 'id'\n",
    "    else:\n",
    "        id_name = id_name\n",
    "    \n",
    "    if null_name != \"\":\n",
    "        df[df == null_name] = np.nan\n",
    "    \n",
    "    X_train, X_test = train_test_split(df, test_size=0.2, random_state=2021)\n",
    "    \n",
    "    y_train = X_train[[id_name, target]]\n",
    "    X_train = X_train.drop(columns=[target])\n",
    "\n",
    "    \n",
    "    y_test = X_test[[id_name, target]]\n",
    "    X_test = X_test.drop(columns=[target])\n",
    "    return X_train, X_test, y_train, y_test \n",
    "    \n",
    "df = pd.read_csv(\"../input/titanic/train.csv\")\n",
    "X_train, X_test, y_train, y_test = exam_data_load(df, target='Survived', id_name='PassengerId')\n",
    "\n",
    "X_train.shape, X_test.shape, y_train.shape, y_test.shape"
   ]
  },
  {
   "cell_type": "code",
   "execution_count": 2,
   "id": "6ae421b9",
   "metadata": {
    "execution": {
     "iopub.execute_input": "2022-11-27T07:09:54.650924Z",
     "iopub.status.busy": "2022-11-27T07:09:54.650085Z",
     "iopub.status.idle": "2022-11-27T07:09:54.654459Z",
     "shell.execute_reply": "2022-11-27T07:09:54.653792Z",
     "shell.execute_reply.started": "2022-11-27T07:09:04.152072Z"
    },
    "papermill": {
     "duration": 0.043464,
     "end_time": "2022-11-27T07:09:54.654621",
     "exception": false,
     "start_time": "2022-11-27T07:09:54.611157",
     "status": "completed"
    },
    "tags": []
   },
   "outputs": [],
   "source": [
    "passengerId=X_test['PassengerId']\n",
    "\n",
    "X_train.drop(columns='PassengerId',inplace=True)\n",
    "X_test.drop(columns='PassengerId',inplace=True)\n",
    "y_train.drop(columns='PassengerId',inplace=True)\n",
    "y_test.drop(columns='PassengerId',inplace=True)"
   ]
  },
  {
   "cell_type": "code",
   "execution_count": 3,
   "id": "7b313739",
   "metadata": {
    "execution": {
     "iopub.execute_input": "2022-11-27T07:09:54.721452Z",
     "iopub.status.busy": "2022-11-27T07:09:54.720499Z",
     "iopub.status.idle": "2022-11-27T07:09:54.723482Z",
     "shell.execute_reply": "2022-11-27T07:09:54.723921Z",
     "shell.execute_reply.started": "2022-11-27T07:09:04.164154Z"
    },
    "papermill": {
     "duration": 0.038153,
     "end_time": "2022-11-27T07:09:54.724076",
     "exception": false,
     "start_time": "2022-11-27T07:09:54.685923",
     "status": "completed"
    },
    "tags": []
   },
   "outputs": [
    {
     "data": {
      "text/plain": [
       "Pclass        0\n",
       "Name          0\n",
       "Sex           0\n",
       "Age         137\n",
       "SibSp         0\n",
       "Parch         0\n",
       "Ticket        0\n",
       "Fare          0\n",
       "Cabin       542\n",
       "Embarked      1\n",
       "dtype: int64"
      ]
     },
     "execution_count": 3,
     "metadata": {},
     "output_type": "execute_result"
    }
   ],
   "source": [
    "X_train.isnull().sum()"
   ]
  },
  {
   "cell_type": "code",
   "execution_count": 4,
   "id": "3c4c79e4",
   "metadata": {
    "execution": {
     "iopub.execute_input": "2022-11-27T07:09:54.785253Z",
     "iopub.status.busy": "2022-11-27T07:09:54.784595Z",
     "iopub.status.idle": "2022-11-27T07:09:54.786810Z",
     "shell.execute_reply": "2022-11-27T07:09:54.786312Z",
     "shell.execute_reply.started": "2022-11-27T07:09:04.180202Z"
    },
    "papermill": {
     "duration": 0.035325,
     "end_time": "2022-11-27T07:09:54.786923",
     "exception": false,
     "start_time": "2022-11-27T07:09:54.751598",
     "status": "completed"
    },
    "tags": []
   },
   "outputs": [],
   "source": [
    "X_train['Age']=X_train['Age'].fillna(X_train['Age'].mean())\n",
    "X_test['Age']=X_test['Age'].fillna(X_test['Age'].mean())"
   ]
  },
  {
   "cell_type": "code",
   "execution_count": 5,
   "id": "5bea8896",
   "metadata": {
    "execution": {
     "iopub.execute_input": "2022-11-27T07:09:54.847810Z",
     "iopub.status.busy": "2022-11-27T07:09:54.847092Z",
     "iopub.status.idle": "2022-11-27T07:09:54.848929Z",
     "shell.execute_reply": "2022-11-27T07:09:54.849381Z",
     "shell.execute_reply.started": "2022-11-27T07:09:04.189340Z"
    },
    "papermill": {
     "duration": 0.035263,
     "end_time": "2022-11-27T07:09:54.849531",
     "exception": false,
     "start_time": "2022-11-27T07:09:54.814268",
     "status": "completed"
    },
    "tags": []
   },
   "outputs": [],
   "source": [
    "X_train.drop(columns='Cabin',inplace=True)\n",
    "X_test.drop(columns='Cabin',inplace=True)"
   ]
  },
  {
   "cell_type": "code",
   "execution_count": 6,
   "id": "c46a7645",
   "metadata": {
    "execution": {
     "iopub.execute_input": "2022-11-27T07:09:54.915536Z",
     "iopub.status.busy": "2022-11-27T07:09:54.914548Z",
     "iopub.status.idle": "2022-11-27T07:09:54.921820Z",
     "shell.execute_reply": "2022-11-27T07:09:54.922601Z",
     "shell.execute_reply.started": "2022-11-27T07:09:04.203092Z"
    },
    "papermill": {
     "duration": 0.045021,
     "end_time": "2022-11-27T07:09:54.922772",
     "exception": false,
     "start_time": "2022-11-27T07:09:54.877751",
     "status": "completed"
    },
    "tags": []
   },
   "outputs": [],
   "source": [
    "X_train['Embarked']=X_train['Embarked'].fillna('S')\n",
    "X_test['Embarked']=X_test['Embarked'].fillna('S')"
   ]
  },
  {
   "cell_type": "code",
   "execution_count": 7,
   "id": "26486430",
   "metadata": {
    "execution": {
     "iopub.execute_input": "2022-11-27T07:09:54.984878Z",
     "iopub.status.busy": "2022-11-27T07:09:54.984149Z",
     "iopub.status.idle": "2022-11-27T07:09:54.990991Z",
     "shell.execute_reply": "2022-11-27T07:09:54.990398Z",
     "shell.execute_reply.started": "2022-11-27T07:09:04.221193Z"
    },
    "papermill": {
     "duration": 0.037591,
     "end_time": "2022-11-27T07:09:54.991139",
     "exception": false,
     "start_time": "2022-11-27T07:09:54.953548",
     "status": "completed"
    },
    "tags": []
   },
   "outputs": [],
   "source": [
    "X_train.drop(columns='Name',inplace=True)\n",
    "X_test.drop(columns='Name',inplace=True)"
   ]
  },
  {
   "cell_type": "code",
   "execution_count": 8,
   "id": "1fee811b",
   "metadata": {
    "execution": {
     "iopub.execute_input": "2022-11-27T07:09:55.053927Z",
     "iopub.status.busy": "2022-11-27T07:09:55.050945Z",
     "iopub.status.idle": "2022-11-27T07:09:55.057807Z",
     "shell.execute_reply": "2022-11-27T07:09:55.058388Z",
     "shell.execute_reply.started": "2022-11-27T07:09:04.234235Z"
    },
    "papermill": {
     "duration": 0.040407,
     "end_time": "2022-11-27T07:09:55.058608",
     "exception": false,
     "start_time": "2022-11-27T07:09:55.018201",
     "status": "completed"
    },
    "tags": []
   },
   "outputs": [
    {
     "data": {
      "text/plain": [
       "Pclass      0\n",
       "Sex         0\n",
       "Age         0\n",
       "SibSp       0\n",
       "Parch       0\n",
       "Ticket      0\n",
       "Fare        0\n",
       "Embarked    0\n",
       "dtype: int64"
      ]
     },
     "execution_count": 8,
     "metadata": {},
     "output_type": "execute_result"
    }
   ],
   "source": [
    "X_train.isnull().sum()"
   ]
  },
  {
   "cell_type": "code",
   "execution_count": 9,
   "id": "3e777f8c",
   "metadata": {
    "execution": {
     "iopub.execute_input": "2022-11-27T07:09:55.121907Z",
     "iopub.status.busy": "2022-11-27T07:09:55.121195Z",
     "iopub.status.idle": "2022-11-27T07:09:55.137908Z",
     "shell.execute_reply": "2022-11-27T07:09:55.138375Z",
     "shell.execute_reply.started": "2022-11-27T07:09:04.252828Z"
    },
    "papermill": {
     "duration": 0.050668,
     "end_time": "2022-11-27T07:09:55.138536",
     "exception": false,
     "start_time": "2022-11-27T07:09:55.087868",
     "status": "completed"
    },
    "tags": []
   },
   "outputs": [
    {
     "name": "stdout",
     "output_type": "stream",
     "text": [
      "<class 'pandas.core.frame.DataFrame'>\n",
      "Int64Index: 712 entries, 90 to 116\n",
      "Data columns (total 8 columns):\n",
      " #   Column    Non-Null Count  Dtype  \n",
      "---  ------    --------------  -----  \n",
      " 0   Pclass    712 non-null    int64  \n",
      " 1   Sex       712 non-null    object \n",
      " 2   Age       712 non-null    float64\n",
      " 3   SibSp     712 non-null    int64  \n",
      " 4   Parch     712 non-null    int64  \n",
      " 5   Ticket    712 non-null    object \n",
      " 6   Fare      712 non-null    float64\n",
      " 7   Embarked  712 non-null    object \n",
      "dtypes: float64(2), int64(3), object(3)\n",
      "memory usage: 50.1+ KB\n"
     ]
    }
   ],
   "source": [
    "X_train.info()"
   ]
  },
  {
   "cell_type": "code",
   "execution_count": 10,
   "id": "b39218b7",
   "metadata": {
    "execution": {
     "iopub.execute_input": "2022-11-27T07:09:55.201686Z",
     "iopub.status.busy": "2022-11-27T07:09:55.201055Z",
     "iopub.status.idle": "2022-11-27T07:09:55.207085Z",
     "shell.execute_reply": "2022-11-27T07:09:55.207737Z",
     "shell.execute_reply.started": "2022-11-27T07:09:04.283974Z"
    },
    "papermill": {
     "duration": 0.040862,
     "end_time": "2022-11-27T07:09:55.207921",
     "exception": false,
     "start_time": "2022-11-27T07:09:55.167059",
     "status": "completed"
    },
    "tags": []
   },
   "outputs": [],
   "source": [
    "X_train['Sex']=X_train['Sex'].astype('category')\n",
    "X_train['Embarked']=X_train['Embarked'].astype('category')\n",
    "X_test['Sex']=X_test['Sex'].astype('category')\n",
    "X_test['Embarked']=X_test['Embarked'].astype('category')"
   ]
  },
  {
   "cell_type": "code",
   "execution_count": 11,
   "id": "fc06b93e",
   "metadata": {
    "execution": {
     "iopub.execute_input": "2022-11-27T07:09:55.270174Z",
     "iopub.status.busy": "2022-11-27T07:09:55.269603Z",
     "iopub.status.idle": "2022-11-27T07:09:55.283988Z",
     "shell.execute_reply": "2022-11-27T07:09:55.283287Z",
     "shell.execute_reply.started": "2022-11-27T07:09:04.296005Z"
    },
    "papermill": {
     "duration": 0.04782,
     "end_time": "2022-11-27T07:09:55.284151",
     "exception": false,
     "start_time": "2022-11-27T07:09:55.236331",
     "status": "completed"
    },
    "tags": []
   },
   "outputs": [
    {
     "name": "stdout",
     "output_type": "stream",
     "text": [
      "<class 'pandas.core.frame.DataFrame'>\n",
      "Int64Index: 712 entries, 90 to 116\n",
      "Data columns (total 8 columns):\n",
      " #   Column    Non-Null Count  Dtype   \n",
      "---  ------    --------------  -----   \n",
      " 0   Pclass    712 non-null    int64   \n",
      " 1   Sex       712 non-null    category\n",
      " 2   Age       712 non-null    float64 \n",
      " 3   SibSp     712 non-null    int64   \n",
      " 4   Parch     712 non-null    int64   \n",
      " 5   Ticket    712 non-null    object  \n",
      " 6   Fare      712 non-null    float64 \n",
      " 7   Embarked  712 non-null    category\n",
      "dtypes: category(2), float64(2), int64(3), object(1)\n",
      "memory usage: 40.6+ KB\n"
     ]
    }
   ],
   "source": [
    "X_train.info()"
   ]
  },
  {
   "cell_type": "code",
   "execution_count": 12,
   "id": "564beb07",
   "metadata": {
    "execution": {
     "iopub.execute_input": "2022-11-27T07:09:55.348604Z",
     "iopub.status.busy": "2022-11-27T07:09:55.347947Z",
     "iopub.status.idle": "2022-11-27T07:09:55.351032Z",
     "shell.execute_reply": "2022-11-27T07:09:55.350573Z",
     "shell.execute_reply.started": "2022-11-27T07:09:04.312069Z"
    },
    "papermill": {
     "duration": 0.038014,
     "end_time": "2022-11-27T07:09:55.351181",
     "exception": false,
     "start_time": "2022-11-27T07:09:55.313167",
     "status": "completed"
    },
    "tags": []
   },
   "outputs": [],
   "source": [
    "X_train.drop(columns='Ticket',inplace=True)\n",
    "X_test.drop(columns='Ticket',inplace=True)"
   ]
  },
  {
   "cell_type": "code",
   "execution_count": 13,
   "id": "7f8e87ec",
   "metadata": {
    "execution": {
     "iopub.execute_input": "2022-11-27T07:09:55.413830Z",
     "iopub.status.busy": "2022-11-27T07:09:55.413112Z",
     "iopub.status.idle": "2022-11-27T07:09:55.425031Z",
     "shell.execute_reply": "2022-11-27T07:09:55.425511Z",
     "shell.execute_reply.started": "2022-11-27T07:09:04.319515Z"
    },
    "papermill": {
     "duration": 0.045082,
     "end_time": "2022-11-27T07:09:55.425668",
     "exception": false,
     "start_time": "2022-11-27T07:09:55.380586",
     "status": "completed"
    },
    "tags": []
   },
   "outputs": [],
   "source": [
    "X_train=pd.get_dummies(X_train)\n",
    "X_test=pd.get_dummies(X_test)"
   ]
  },
  {
   "cell_type": "code",
   "execution_count": 14,
   "id": "e89987ac",
   "metadata": {
    "execution": {
     "iopub.execute_input": "2022-11-27T07:09:55.497628Z",
     "iopub.status.busy": "2022-11-27T07:09:55.496959Z",
     "iopub.status.idle": "2022-11-27T07:09:55.516238Z",
     "shell.execute_reply": "2022-11-27T07:09:55.515586Z",
     "shell.execute_reply.started": "2022-11-27T07:09:04.342565Z"
    },
    "papermill": {
     "duration": 0.059459,
     "end_time": "2022-11-27T07:09:55.516411",
     "exception": false,
     "start_time": "2022-11-27T07:09:55.456952",
     "status": "completed"
    },
    "tags": []
   },
   "outputs": [
    {
     "data": {
      "text/html": [
       "<div>\n",
       "<style scoped>\n",
       "    .dataframe tbody tr th:only-of-type {\n",
       "        vertical-align: middle;\n",
       "    }\n",
       "\n",
       "    .dataframe tbody tr th {\n",
       "        vertical-align: top;\n",
       "    }\n",
       "\n",
       "    .dataframe thead th {\n",
       "        text-align: right;\n",
       "    }\n",
       "</style>\n",
       "<table border=\"1\" class=\"dataframe\">\n",
       "  <thead>\n",
       "    <tr style=\"text-align: right;\">\n",
       "      <th></th>\n",
       "      <th>Pclass</th>\n",
       "      <th>Age</th>\n",
       "      <th>SibSp</th>\n",
       "      <th>Parch</th>\n",
       "      <th>Fare</th>\n",
       "      <th>Sex_female</th>\n",
       "      <th>Sex_male</th>\n",
       "      <th>Embarked_C</th>\n",
       "      <th>Embarked_Q</th>\n",
       "      <th>Embarked_S</th>\n",
       "    </tr>\n",
       "  </thead>\n",
       "  <tbody>\n",
       "    <tr>\n",
       "      <th>90</th>\n",
       "      <td>3</td>\n",
       "      <td>29.0</td>\n",
       "      <td>0</td>\n",
       "      <td>0</td>\n",
       "      <td>8.0500</td>\n",
       "      <td>0</td>\n",
       "      <td>1</td>\n",
       "      <td>0</td>\n",
       "      <td>0</td>\n",
       "      <td>1</td>\n",
       "    </tr>\n",
       "    <tr>\n",
       "      <th>103</th>\n",
       "      <td>3</td>\n",
       "      <td>33.0</td>\n",
       "      <td>0</td>\n",
       "      <td>0</td>\n",
       "      <td>8.6542</td>\n",
       "      <td>0</td>\n",
       "      <td>1</td>\n",
       "      <td>0</td>\n",
       "      <td>0</td>\n",
       "      <td>1</td>\n",
       "    </tr>\n",
       "    <tr>\n",
       "      <th>577</th>\n",
       "      <td>1</td>\n",
       "      <td>39.0</td>\n",
       "      <td>1</td>\n",
       "      <td>0</td>\n",
       "      <td>55.9000</td>\n",
       "      <td>1</td>\n",
       "      <td>0</td>\n",
       "      <td>0</td>\n",
       "      <td>0</td>\n",
       "      <td>1</td>\n",
       "    </tr>\n",
       "    <tr>\n",
       "      <th>215</th>\n",
       "      <td>1</td>\n",
       "      <td>31.0</td>\n",
       "      <td>1</td>\n",
       "      <td>0</td>\n",
       "      <td>113.2750</td>\n",
       "      <td>1</td>\n",
       "      <td>0</td>\n",
       "      <td>1</td>\n",
       "      <td>0</td>\n",
       "      <td>0</td>\n",
       "    </tr>\n",
       "    <tr>\n",
       "      <th>191</th>\n",
       "      <td>2</td>\n",
       "      <td>19.0</td>\n",
       "      <td>0</td>\n",
       "      <td>0</td>\n",
       "      <td>13.0000</td>\n",
       "      <td>0</td>\n",
       "      <td>1</td>\n",
       "      <td>0</td>\n",
       "      <td>0</td>\n",
       "      <td>1</td>\n",
       "    </tr>\n",
       "  </tbody>\n",
       "</table>\n",
       "</div>"
      ],
      "text/plain": [
       "     Pclass   Age  SibSp  Parch      Fare  Sex_female  Sex_male  Embarked_C  \\\n",
       "90        3  29.0      0      0    8.0500           0         1           0   \n",
       "103       3  33.0      0      0    8.6542           0         1           0   \n",
       "577       1  39.0      1      0   55.9000           1         0           0   \n",
       "215       1  31.0      1      0  113.2750           1         0           1   \n",
       "191       2  19.0      0      0   13.0000           0         1           0   \n",
       "\n",
       "     Embarked_Q  Embarked_S  \n",
       "90            0           1  \n",
       "103           0           1  \n",
       "577           0           1  \n",
       "215           0           0  \n",
       "191           0           1  "
      ]
     },
     "execution_count": 14,
     "metadata": {},
     "output_type": "execute_result"
    }
   ],
   "source": [
    "X_train.head()"
   ]
  },
  {
   "cell_type": "code",
   "execution_count": 15,
   "id": "0509ff8c",
   "metadata": {
    "execution": {
     "iopub.execute_input": "2022-11-27T07:09:55.579182Z",
     "iopub.status.busy": "2022-11-27T07:09:55.578680Z",
     "iopub.status.idle": "2022-11-27T07:09:55.591258Z",
     "shell.execute_reply": "2022-11-27T07:09:55.590763Z",
     "shell.execute_reply.started": "2022-11-27T07:09:04.363089Z"
    },
    "papermill": {
     "duration": 0.044962,
     "end_time": "2022-11-27T07:09:55.591402",
     "exception": false,
     "start_time": "2022-11-27T07:09:55.546440",
     "status": "completed"
    },
    "tags": []
   },
   "outputs": [],
   "source": [
    "from sklearn.preprocessing import MinMaxScaler\n",
    "value=['Age','Fare']\n",
    "scaler=MinMaxScaler()\n",
    "X_train[value]=scaler.fit_transform(X_train[value])\n",
    "X_test[value]=scaler.fit_transform(X_test[value])"
   ]
  },
  {
   "cell_type": "code",
   "execution_count": 16,
   "id": "6c2eafc3",
   "metadata": {
    "execution": {
     "iopub.execute_input": "2022-11-27T07:09:55.663660Z",
     "iopub.status.busy": "2022-11-27T07:09:55.662940Z",
     "iopub.status.idle": "2022-11-27T07:09:55.668397Z",
     "shell.execute_reply": "2022-11-27T07:09:55.667805Z",
     "shell.execute_reply.started": "2022-11-27T07:09:04.383121Z"
    },
    "papermill": {
     "duration": 0.047111,
     "end_time": "2022-11-27T07:09:55.668536",
     "exception": false,
     "start_time": "2022-11-27T07:09:55.621425",
     "status": "completed"
    },
    "tags": []
   },
   "outputs": [
    {
     "data": {
      "text/html": [
       "<div>\n",
       "<style scoped>\n",
       "    .dataframe tbody tr th:only-of-type {\n",
       "        vertical-align: middle;\n",
       "    }\n",
       "\n",
       "    .dataframe tbody tr th {\n",
       "        vertical-align: top;\n",
       "    }\n",
       "\n",
       "    .dataframe thead th {\n",
       "        text-align: right;\n",
       "    }\n",
       "</style>\n",
       "<table border=\"1\" class=\"dataframe\">\n",
       "  <thead>\n",
       "    <tr style=\"text-align: right;\">\n",
       "      <th></th>\n",
       "      <th>Pclass</th>\n",
       "      <th>Age</th>\n",
       "      <th>SibSp</th>\n",
       "      <th>Parch</th>\n",
       "      <th>Fare</th>\n",
       "      <th>Sex_female</th>\n",
       "      <th>Sex_male</th>\n",
       "      <th>Embarked_C</th>\n",
       "      <th>Embarked_Q</th>\n",
       "      <th>Embarked_S</th>\n",
       "    </tr>\n",
       "  </thead>\n",
       "  <tbody>\n",
       "    <tr>\n",
       "      <th>90</th>\n",
       "      <td>3</td>\n",
       "      <td>0.388421</td>\n",
       "      <td>0</td>\n",
       "      <td>0</td>\n",
       "      <td>0.015713</td>\n",
       "      <td>0</td>\n",
       "      <td>1</td>\n",
       "      <td>0</td>\n",
       "      <td>0</td>\n",
       "      <td>1</td>\n",
       "    </tr>\n",
       "    <tr>\n",
       "      <th>103</th>\n",
       "      <td>3</td>\n",
       "      <td>0.442783</td>\n",
       "      <td>0</td>\n",
       "      <td>0</td>\n",
       "      <td>0.016892</td>\n",
       "      <td>0</td>\n",
       "      <td>1</td>\n",
       "      <td>0</td>\n",
       "      <td>0</td>\n",
       "      <td>1</td>\n",
       "    </tr>\n",
       "    <tr>\n",
       "      <th>577</th>\n",
       "      <td>1</td>\n",
       "      <td>0.524327</td>\n",
       "      <td>1</td>\n",
       "      <td>0</td>\n",
       "      <td>0.109110</td>\n",
       "      <td>1</td>\n",
       "      <td>0</td>\n",
       "      <td>0</td>\n",
       "      <td>0</td>\n",
       "      <td>1</td>\n",
       "    </tr>\n",
       "    <tr>\n",
       "      <th>215</th>\n",
       "      <td>1</td>\n",
       "      <td>0.415602</td>\n",
       "      <td>1</td>\n",
       "      <td>0</td>\n",
       "      <td>0.221098</td>\n",
       "      <td>1</td>\n",
       "      <td>0</td>\n",
       "      <td>1</td>\n",
       "      <td>0</td>\n",
       "      <td>0</td>\n",
       "    </tr>\n",
       "    <tr>\n",
       "      <th>191</th>\n",
       "      <td>2</td>\n",
       "      <td>0.252514</td>\n",
       "      <td>0</td>\n",
       "      <td>0</td>\n",
       "      <td>0.025374</td>\n",
       "      <td>0</td>\n",
       "      <td>1</td>\n",
       "      <td>0</td>\n",
       "      <td>0</td>\n",
       "      <td>1</td>\n",
       "    </tr>\n",
       "  </tbody>\n",
       "</table>\n",
       "</div>"
      ],
      "text/plain": [
       "     Pclass       Age  SibSp  Parch      Fare  Sex_female  Sex_male  \\\n",
       "90        3  0.388421      0      0  0.015713           0         1   \n",
       "103       3  0.442783      0      0  0.016892           0         1   \n",
       "577       1  0.524327      1      0  0.109110           1         0   \n",
       "215       1  0.415602      1      0  0.221098           1         0   \n",
       "191       2  0.252514      0      0  0.025374           0         1   \n",
       "\n",
       "     Embarked_C  Embarked_Q  Embarked_S  \n",
       "90            0           0           1  \n",
       "103           0           0           1  \n",
       "577           0           0           1  \n",
       "215           1           0           0  \n",
       "191           0           0           1  "
      ]
     },
     "execution_count": 16,
     "metadata": {},
     "output_type": "execute_result"
    }
   ],
   "source": [
    "X_train.head()"
   ]
  },
  {
   "cell_type": "code",
   "execution_count": 17,
   "id": "8ee62d5f",
   "metadata": {
    "execution": {
     "iopub.execute_input": "2022-11-27T07:09:55.735229Z",
     "iopub.status.busy": "2022-11-27T07:09:55.734605Z",
     "iopub.status.idle": "2022-11-27T07:09:56.316615Z",
     "shell.execute_reply": "2022-11-27T07:09:56.315860Z",
     "shell.execute_reply.started": "2022-11-27T07:09:04.398473Z"
    },
    "papermill": {
     "duration": 0.617533,
     "end_time": "2022-11-27T07:09:56.316761",
     "exception": false,
     "start_time": "2022-11-27T07:09:55.699228",
     "status": "completed"
    },
    "tags": []
   },
   "outputs": [
    {
     "name": "stderr",
     "output_type": "stream",
     "text": [
      "/opt/conda/lib/python3.7/site-packages/ipykernel_launcher.py:3: DataConversionWarning: A column-vector y was passed when a 1d array was expected. Please change the shape of y to (n_samples,), for example using ravel().\n",
      "  This is separate from the ipykernel package so we can avoid doing imports until\n"
     ]
    }
   ],
   "source": [
    "from sklearn.ensemble import RandomForestClassifier\n",
    "model=RandomForestClassifier()\n",
    "model.fit(X_train,y_train)\n",
    "pred1=model.predict(X_test)"
   ]
  },
  {
   "cell_type": "code",
   "execution_count": 18,
   "id": "9b3b3843",
   "metadata": {
    "execution": {
     "iopub.execute_input": "2022-11-27T07:09:56.384407Z",
     "iopub.status.busy": "2022-11-27T07:09:56.383702Z",
     "iopub.status.idle": "2022-11-27T07:09:56.386170Z",
     "shell.execute_reply": "2022-11-27T07:09:56.386645Z",
     "shell.execute_reply.started": "2022-11-27T07:09:04.742458Z"
    },
    "papermill": {
     "duration": 0.038258,
     "end_time": "2022-11-27T07:09:56.386810",
     "exception": false,
     "start_time": "2022-11-27T07:09:56.348552",
     "status": "completed"
    },
    "tags": []
   },
   "outputs": [
    {
     "name": "stdout",
     "output_type": "stream",
     "text": [
      "0.7262569832402235\n"
     ]
    }
   ],
   "source": [
    "from sklearn.metrics import accuracy_score\n",
    "print(accuracy_score(y_test,pred1))"
   ]
  },
  {
   "cell_type": "code",
   "execution_count": 19,
   "id": "57a4c0f0",
   "metadata": {
    "execution": {
     "iopub.execute_input": "2022-11-27T07:09:56.451617Z",
     "iopub.status.busy": "2022-11-27T07:09:56.451090Z",
     "iopub.status.idle": "2022-11-27T07:09:56.459416Z",
     "shell.execute_reply": "2022-11-27T07:09:56.459851Z",
     "shell.execute_reply.started": "2022-11-27T07:09:04.749701Z"
    },
    "papermill": {
     "duration": 0.041237,
     "end_time": "2022-11-27T07:09:56.460021",
     "exception": false,
     "start_time": "2022-11-27T07:09:56.418784",
     "status": "completed"
    },
    "tags": []
   },
   "outputs": [],
   "source": [
    "pd.DataFrame({'PassengerId':passengerId,'Survived':pred1}).to_csv('003000000.csv', index=False)"
   ]
  },
  {
   "cell_type": "code",
   "execution_count": 20,
   "id": "e7fae458",
   "metadata": {
    "execution": {
     "iopub.execute_input": "2022-11-27T07:09:56.524796Z",
     "iopub.status.busy": "2022-11-27T07:09:56.523252Z",
     "iopub.status.idle": "2022-11-27T07:09:56.534641Z",
     "shell.execute_reply": "2022-11-27T07:09:56.535186Z",
     "shell.execute_reply.started": "2022-11-27T07:09:04.762996Z"
    },
    "papermill": {
     "duration": 0.046031,
     "end_time": "2022-11-27T07:09:56.535373",
     "exception": false,
     "start_time": "2022-11-27T07:09:56.489342",
     "status": "completed"
    },
    "tags": []
   },
   "outputs": [
    {
     "data": {
      "text/html": [
       "<div>\n",
       "<style scoped>\n",
       "    .dataframe tbody tr th:only-of-type {\n",
       "        vertical-align: middle;\n",
       "    }\n",
       "\n",
       "    .dataframe tbody tr th {\n",
       "        vertical-align: top;\n",
       "    }\n",
       "\n",
       "    .dataframe thead th {\n",
       "        text-align: right;\n",
       "    }\n",
       "</style>\n",
       "<table border=\"1\" class=\"dataframe\">\n",
       "  <thead>\n",
       "    <tr style=\"text-align: right;\">\n",
       "      <th></th>\n",
       "      <th>PassengerId</th>\n",
       "      <th>Survived</th>\n",
       "    </tr>\n",
       "  </thead>\n",
       "  <tbody>\n",
       "    <tr>\n",
       "      <th>0</th>\n",
       "      <td>211</td>\n",
       "      <td>0</td>\n",
       "    </tr>\n",
       "    <tr>\n",
       "      <th>1</th>\n",
       "      <td>877</td>\n",
       "      <td>0</td>\n",
       "    </tr>\n",
       "    <tr>\n",
       "      <th>2</th>\n",
       "      <td>667</td>\n",
       "      <td>0</td>\n",
       "    </tr>\n",
       "    <tr>\n",
       "      <th>3</th>\n",
       "      <td>820</td>\n",
       "      <td>0</td>\n",
       "    </tr>\n",
       "    <tr>\n",
       "      <th>4</th>\n",
       "      <td>737</td>\n",
       "      <td>0</td>\n",
       "    </tr>\n",
       "    <tr>\n",
       "      <th>...</th>\n",
       "      <td>...</td>\n",
       "      <td>...</td>\n",
       "    </tr>\n",
       "    <tr>\n",
       "      <th>174</th>\n",
       "      <td>495</td>\n",
       "      <td>0</td>\n",
       "    </tr>\n",
       "    <tr>\n",
       "      <th>175</th>\n",
       "      <td>872</td>\n",
       "      <td>1</td>\n",
       "    </tr>\n",
       "    <tr>\n",
       "      <th>176</th>\n",
       "      <td>531</td>\n",
       "      <td>1</td>\n",
       "    </tr>\n",
       "    <tr>\n",
       "      <th>177</th>\n",
       "      <td>158</td>\n",
       "      <td>0</td>\n",
       "    </tr>\n",
       "    <tr>\n",
       "      <th>178</th>\n",
       "      <td>46</td>\n",
       "      <td>0</td>\n",
       "    </tr>\n",
       "  </tbody>\n",
       "</table>\n",
       "<p>179 rows × 2 columns</p>\n",
       "</div>"
      ],
      "text/plain": [
       "     PassengerId  Survived\n",
       "0            211         0\n",
       "1            877         0\n",
       "2            667         0\n",
       "3            820         0\n",
       "4            737         0\n",
       "..           ...       ...\n",
       "174          495         0\n",
       "175          872         1\n",
       "176          531         1\n",
       "177          158         0\n",
       "178           46         0\n",
       "\n",
       "[179 rows x 2 columns]"
      ]
     },
     "execution_count": 20,
     "metadata": {},
     "output_type": "execute_result"
    }
   ],
   "source": [
    "pd.read_csv('003000000.csv')"
   ]
  },
  {
   "cell_type": "markdown",
   "id": "3d4309b5",
   "metadata": {
    "papermill": {
     "duration": 0.029962,
     "end_time": "2022-11-27T07:09:56.599024",
     "exception": false,
     "start_time": "2022-11-27T07:09:56.569062",
     "status": "completed"
    },
    "tags": []
   },
   "source": [
    "## Start"
   ]
  },
  {
   "cell_type": "code",
   "execution_count": 21,
   "id": "f46fb97d",
   "metadata": {
    "execution": {
     "iopub.execute_input": "2022-11-27T07:09:56.668332Z",
     "iopub.status.busy": "2022-11-27T07:09:56.666814Z",
     "iopub.status.idle": "2022-11-27T07:09:56.680583Z",
     "shell.execute_reply": "2022-11-27T07:09:56.681089Z",
     "shell.execute_reply.started": "2022-11-27T07:09:04.779860Z"
    },
    "papermill": {
     "duration": 0.052071,
     "end_time": "2022-11-27T07:09:56.681249",
     "exception": false,
     "start_time": "2022-11-27T07:09:56.629178",
     "status": "completed"
    },
    "tags": []
   },
   "outputs": [
    {
     "data": {
      "text/plain": [
       "((712, 11), (179, 11), (712, 2), (179, 2))"
      ]
     },
     "execution_count": 21,
     "metadata": {},
     "output_type": "execute_result"
    }
   ],
   "source": [
    "# 시험환경 세팅 (코드 변경 X)\n",
    "import pandas as pd\n",
    "import numpy as np\n",
    "from sklearn.model_selection import train_test_split\n",
    "\n",
    "def exam_data_load(df, target, id_name=\"\", null_name=\"\"):\n",
    "    if id_name == \"\":\n",
    "        df = df.reset_index().rename(columns={\"index\": \"id\"})\n",
    "        id_name = 'id'\n",
    "    else:\n",
    "        id_name = id_name\n",
    "    \n",
    "    if null_name != \"\":\n",
    "        df[df == null_name] = np.nan\n",
    "    \n",
    "    X_train, X_test = train_test_split(df, test_size=0.2, random_state=2021)\n",
    "    \n",
    "    y_train = X_train[[id_name, target]]\n",
    "    X_train = X_train.drop(columns=[target])\n",
    "\n",
    "    \n",
    "    y_test = X_test[[id_name, target]]\n",
    "    X_test = X_test.drop(columns=[target])\n",
    "    return X_train, X_test, y_train, y_test \n",
    "    \n",
    "df = pd.read_csv(\"../input/titanic/train.csv\")\n",
    "X_train, X_test, y_train, y_test = exam_data_load(df, target='Survived', id_name='PassengerId')\n",
    "\n",
    "X_train.shape, X_test.shape, y_train.shape, y_test.shape"
   ]
  },
  {
   "cell_type": "markdown",
   "id": "f54f207e",
   "metadata": {
    "papermill": {
     "duration": 0.031342,
     "end_time": "2022-11-27T07:09:56.743388",
     "exception": false,
     "start_time": "2022-11-27T07:09:56.712046",
     "status": "completed"
    },
    "tags": []
   },
   "source": [
    "## 라이브러리 및 데이터 불러오기"
   ]
  },
  {
   "cell_type": "code",
   "execution_count": 22,
   "id": "1a4fe888",
   "metadata": {
    "execution": {
     "iopub.execute_input": "2022-11-27T07:09:56.810530Z",
     "iopub.status.busy": "2022-11-27T07:09:56.809661Z",
     "iopub.status.idle": "2022-11-27T07:09:56.812939Z",
     "shell.execute_reply": "2022-11-27T07:09:56.812275Z",
     "shell.execute_reply.started": "2022-11-27T07:09:04.802532Z"
    },
    "papermill": {
     "duration": 0.038386,
     "end_time": "2022-11-27T07:09:56.813073",
     "exception": false,
     "start_time": "2022-11-27T07:09:56.774687",
     "status": "completed"
    },
    "tags": []
   },
   "outputs": [],
   "source": [
    "# 라이브러리 불러오기\n",
    "import pandas as pd"
   ]
  },
  {
   "cell_type": "code",
   "execution_count": 23,
   "id": "0d631bcb",
   "metadata": {
    "execution": {
     "iopub.execute_input": "2022-11-27T07:09:56.882263Z",
     "iopub.status.busy": "2022-11-27T07:09:56.880839Z",
     "iopub.status.idle": "2022-11-27T07:09:56.884749Z",
     "shell.execute_reply": "2022-11-27T07:09:56.885196Z",
     "shell.execute_reply.started": "2022-11-27T07:09:04.807390Z"
    },
    "papermill": {
     "duration": 0.040312,
     "end_time": "2022-11-27T07:09:56.885373",
     "exception": false,
     "start_time": "2022-11-27T07:09:56.845061",
     "status": "completed"
    },
    "tags": []
   },
   "outputs": [
    {
     "data": {
      "text/plain": [
       "((712, 11), (712, 2), (179, 11))"
      ]
     },
     "execution_count": 23,
     "metadata": {},
     "output_type": "execute_result"
    }
   ],
   "source": [
    "# 데이터 불러오기 (생략)\n",
    "X_train.shape, y_train.shape, X_test.shape"
   ]
  },
  {
   "cell_type": "markdown",
   "id": "f82f4842",
   "metadata": {
    "papermill": {
     "duration": 0.031,
     "end_time": "2022-11-27T07:09:56.946871",
     "exception": false,
     "start_time": "2022-11-27T07:09:56.915871",
     "status": "completed"
    },
    "tags": []
   },
   "source": [
    "## EDA"
   ]
  },
  {
   "cell_type": "code",
   "execution_count": 24,
   "id": "a9f5e20d",
   "metadata": {
    "execution": {
     "iopub.execute_input": "2022-11-27T07:09:57.017655Z",
     "iopub.status.busy": "2022-11-27T07:09:57.017082Z",
     "iopub.status.idle": "2022-11-27T07:09:57.027667Z",
     "shell.execute_reply": "2022-11-27T07:09:57.027144Z",
     "shell.execute_reply.started": "2022-11-27T07:09:04.822199Z"
    },
    "papermill": {
     "duration": 0.050117,
     "end_time": "2022-11-27T07:09:57.027807",
     "exception": false,
     "start_time": "2022-11-27T07:09:56.977690",
     "status": "completed"
    },
    "tags": []
   },
   "outputs": [
    {
     "data": {
      "text/html": [
       "<div>\n",
       "<style scoped>\n",
       "    .dataframe tbody tr th:only-of-type {\n",
       "        vertical-align: middle;\n",
       "    }\n",
       "\n",
       "    .dataframe tbody tr th {\n",
       "        vertical-align: top;\n",
       "    }\n",
       "\n",
       "    .dataframe thead th {\n",
       "        text-align: right;\n",
       "    }\n",
       "</style>\n",
       "<table border=\"1\" class=\"dataframe\">\n",
       "  <thead>\n",
       "    <tr style=\"text-align: right;\">\n",
       "      <th></th>\n",
       "      <th>PassengerId</th>\n",
       "      <th>Pclass</th>\n",
       "      <th>Name</th>\n",
       "      <th>Sex</th>\n",
       "      <th>Age</th>\n",
       "      <th>SibSp</th>\n",
       "      <th>Parch</th>\n",
       "      <th>Ticket</th>\n",
       "      <th>Fare</th>\n",
       "      <th>Cabin</th>\n",
       "      <th>Embarked</th>\n",
       "    </tr>\n",
       "  </thead>\n",
       "  <tbody>\n",
       "    <tr>\n",
       "      <th>90</th>\n",
       "      <td>91</td>\n",
       "      <td>3</td>\n",
       "      <td>Christmann, Mr. Emil</td>\n",
       "      <td>male</td>\n",
       "      <td>29.0</td>\n",
       "      <td>0</td>\n",
       "      <td>0</td>\n",
       "      <td>343276</td>\n",
       "      <td>8.0500</td>\n",
       "      <td>NaN</td>\n",
       "      <td>S</td>\n",
       "    </tr>\n",
       "    <tr>\n",
       "      <th>103</th>\n",
       "      <td>104</td>\n",
       "      <td>3</td>\n",
       "      <td>Johansson, Mr. Gustaf Joel</td>\n",
       "      <td>male</td>\n",
       "      <td>33.0</td>\n",
       "      <td>0</td>\n",
       "      <td>0</td>\n",
       "      <td>7540</td>\n",
       "      <td>8.6542</td>\n",
       "      <td>NaN</td>\n",
       "      <td>S</td>\n",
       "    </tr>\n",
       "    <tr>\n",
       "      <th>577</th>\n",
       "      <td>578</td>\n",
       "      <td>1</td>\n",
       "      <td>Silvey, Mrs. William Baird (Alice Munger)</td>\n",
       "      <td>female</td>\n",
       "      <td>39.0</td>\n",
       "      <td>1</td>\n",
       "      <td>0</td>\n",
       "      <td>13507</td>\n",
       "      <td>55.9000</td>\n",
       "      <td>E44</td>\n",
       "      <td>S</td>\n",
       "    </tr>\n",
       "    <tr>\n",
       "      <th>215</th>\n",
       "      <td>216</td>\n",
       "      <td>1</td>\n",
       "      <td>Newell, Miss. Madeleine</td>\n",
       "      <td>female</td>\n",
       "      <td>31.0</td>\n",
       "      <td>1</td>\n",
       "      <td>0</td>\n",
       "      <td>35273</td>\n",
       "      <td>113.2750</td>\n",
       "      <td>D36</td>\n",
       "      <td>C</td>\n",
       "    </tr>\n",
       "    <tr>\n",
       "      <th>191</th>\n",
       "      <td>192</td>\n",
       "      <td>2</td>\n",
       "      <td>Carbines, Mr. William</td>\n",
       "      <td>male</td>\n",
       "      <td>19.0</td>\n",
       "      <td>0</td>\n",
       "      <td>0</td>\n",
       "      <td>28424</td>\n",
       "      <td>13.0000</td>\n",
       "      <td>NaN</td>\n",
       "      <td>S</td>\n",
       "    </tr>\n",
       "  </tbody>\n",
       "</table>\n",
       "</div>"
      ],
      "text/plain": [
       "     PassengerId  Pclass                                       Name     Sex  \\\n",
       "90            91       3                       Christmann, Mr. Emil    male   \n",
       "103          104       3                 Johansson, Mr. Gustaf Joel    male   \n",
       "577          578       1  Silvey, Mrs. William Baird (Alice Munger)  female   \n",
       "215          216       1                    Newell, Miss. Madeleine  female   \n",
       "191          192       2                      Carbines, Mr. William    male   \n",
       "\n",
       "      Age  SibSp  Parch  Ticket      Fare Cabin Embarked  \n",
       "90   29.0      0      0  343276    8.0500   NaN        S  \n",
       "103  33.0      0      0    7540    8.6542   NaN        S  \n",
       "577  39.0      1      0   13507   55.9000   E44        S  \n",
       "215  31.0      1      0   35273  113.2750   D36        C  \n",
       "191  19.0      0      0   28424   13.0000   NaN        S  "
      ]
     },
     "execution_count": 24,
     "metadata": {},
     "output_type": "execute_result"
    }
   ],
   "source": [
    "X_train.head()"
   ]
  },
  {
   "cell_type": "code",
   "execution_count": 25,
   "id": "8d01568b",
   "metadata": {
    "execution": {
     "iopub.execute_input": "2022-11-27T07:09:57.108398Z",
     "iopub.status.busy": "2022-11-27T07:09:57.107740Z",
     "iopub.status.idle": "2022-11-27T07:09:57.110464Z",
     "shell.execute_reply": "2022-11-27T07:09:57.110906Z",
     "shell.execute_reply.started": "2022-11-27T07:09:04.842681Z"
    },
    "papermill": {
     "duration": 0.050234,
     "end_time": "2022-11-27T07:09:57.111070",
     "exception": false,
     "start_time": "2022-11-27T07:09:57.060836",
     "status": "completed"
    },
    "tags": []
   },
   "outputs": [
    {
     "name": "stdout",
     "output_type": "stream",
     "text": [
      "<class 'pandas.core.frame.DataFrame'>\n",
      "Int64Index: 712 entries, 90 to 116\n",
      "Data columns (total 11 columns):\n",
      " #   Column       Non-Null Count  Dtype  \n",
      "---  ------       --------------  -----  \n",
      " 0   PassengerId  712 non-null    int64  \n",
      " 1   Pclass       712 non-null    int64  \n",
      " 2   Name         712 non-null    object \n",
      " 3   Sex          712 non-null    object \n",
      " 4   Age          575 non-null    float64\n",
      " 5   SibSp        712 non-null    int64  \n",
      " 6   Parch        712 non-null    int64  \n",
      " 7   Ticket       712 non-null    object \n",
      " 8   Fare         712 non-null    float64\n",
      " 9   Cabin        170 non-null    object \n",
      " 10  Embarked     711 non-null    object \n",
      "dtypes: float64(2), int64(4), object(5)\n",
      "memory usage: 66.8+ KB\n"
     ]
    }
   ],
   "source": [
    "# float64(2), int64(3), object(5)\n",
    "X_train.info()"
   ]
  },
  {
   "cell_type": "code",
   "execution_count": 26,
   "id": "c62d4c86",
   "metadata": {
    "execution": {
     "iopub.execute_input": "2022-11-27T07:09:57.259990Z",
     "iopub.status.busy": "2022-11-27T07:09:57.257345Z",
     "iopub.status.idle": "2022-11-27T07:09:57.263426Z",
     "shell.execute_reply": "2022-11-27T07:09:57.264188Z",
     "shell.execute_reply.started": "2022-11-27T07:09:04.859581Z"
    },
    "papermill": {
     "duration": 0.121718,
     "end_time": "2022-11-27T07:09:57.264529",
     "exception": false,
     "start_time": "2022-11-27T07:09:57.142811",
     "status": "completed"
    },
    "tags": []
   },
   "outputs": [
    {
     "data": {
      "text/html": [
       "<div>\n",
       "<style scoped>\n",
       "    .dataframe tbody tr th:only-of-type {\n",
       "        vertical-align: middle;\n",
       "    }\n",
       "\n",
       "    .dataframe tbody tr th {\n",
       "        vertical-align: top;\n",
       "    }\n",
       "\n",
       "    .dataframe thead th {\n",
       "        text-align: right;\n",
       "    }\n",
       "</style>\n",
       "<table border=\"1\" class=\"dataframe\">\n",
       "  <thead>\n",
       "    <tr style=\"text-align: right;\">\n",
       "      <th></th>\n",
       "      <th>PassengerId</th>\n",
       "      <th>Survived</th>\n",
       "    </tr>\n",
       "  </thead>\n",
       "  <tbody>\n",
       "    <tr>\n",
       "      <th>90</th>\n",
       "      <td>91</td>\n",
       "      <td>0</td>\n",
       "    </tr>\n",
       "    <tr>\n",
       "      <th>103</th>\n",
       "      <td>104</td>\n",
       "      <td>0</td>\n",
       "    </tr>\n",
       "    <tr>\n",
       "      <th>577</th>\n",
       "      <td>578</td>\n",
       "      <td>1</td>\n",
       "    </tr>\n",
       "    <tr>\n",
       "      <th>215</th>\n",
       "      <td>216</td>\n",
       "      <td>1</td>\n",
       "    </tr>\n",
       "    <tr>\n",
       "      <th>191</th>\n",
       "      <td>192</td>\n",
       "      <td>0</td>\n",
       "    </tr>\n",
       "  </tbody>\n",
       "</table>\n",
       "</div>"
      ],
      "text/plain": [
       "     PassengerId  Survived\n",
       "90            91         0\n",
       "103          104         0\n",
       "577          578         1\n",
       "215          216         1\n",
       "191          192         0"
      ]
     },
     "execution_count": 26,
     "metadata": {},
     "output_type": "execute_result"
    }
   ],
   "source": [
    "y_train.head()"
   ]
  },
  {
   "cell_type": "code",
   "execution_count": 27,
   "id": "83c018fd",
   "metadata": {
    "execution": {
     "iopub.execute_input": "2022-11-27T07:09:57.352747Z",
     "iopub.status.busy": "2022-11-27T07:09:57.351973Z",
     "iopub.status.idle": "2022-11-27T07:09:57.358451Z",
     "shell.execute_reply": "2022-11-27T07:09:57.359076Z",
     "shell.execute_reply.started": "2022-11-27T07:09:04.876383Z"
    },
    "papermill": {
     "duration": 0.051049,
     "end_time": "2022-11-27T07:09:57.359245",
     "exception": false,
     "start_time": "2022-11-27T07:09:57.308196",
     "status": "completed"
    },
    "tags": []
   },
   "outputs": [
    {
     "data": {
      "text/plain": [
       "0    441\n",
       "1    271\n",
       "Name: Survived, dtype: int64"
      ]
     },
     "execution_count": 27,
     "metadata": {},
     "output_type": "execute_result"
    }
   ],
   "source": [
    "# 생존 비율\n",
    "y_train['Survived'].value_counts()"
   ]
  },
  {
   "cell_type": "markdown",
   "id": "3d5c2353",
   "metadata": {
    "papermill": {
     "duration": 0.037571,
     "end_time": "2022-11-27T07:09:57.436030",
     "exception": false,
     "start_time": "2022-11-27T07:09:57.398459",
     "status": "completed"
    },
    "tags": []
   },
   "source": [
    "## 데이터 전처리"
   ]
  },
  {
   "cell_type": "code",
   "execution_count": 28,
   "id": "cb1af123",
   "metadata": {
    "execution": {
     "iopub.execute_input": "2022-11-27T07:09:57.517346Z",
     "iopub.status.busy": "2022-11-27T07:09:57.516624Z",
     "iopub.status.idle": "2022-11-27T07:09:57.529339Z",
     "shell.execute_reply": "2022-11-27T07:09:57.528694Z",
     "shell.execute_reply.started": "2022-11-27T07:09:04.885671Z"
    },
    "papermill": {
     "duration": 0.054437,
     "end_time": "2022-11-27T07:09:57.529485",
     "exception": false,
     "start_time": "2022-11-27T07:09:57.475048",
     "status": "completed"
    },
    "tags": []
   },
   "outputs": [],
   "source": [
    "y = y_train[\"Survived\"]\n",
    "\n",
    "# sex만 원핫인코딩 됨\n",
    "features = [\"Pclass\", \"Sex\", \"SibSp\", \"Parch\"]\n",
    "X = pd.get_dummies(X_train[features])\n",
    "test = pd.get_dummies(X_test[features])"
   ]
  },
  {
   "cell_type": "code",
   "execution_count": 29,
   "id": "0639cfce",
   "metadata": {
    "execution": {
     "iopub.execute_input": "2022-11-27T07:09:57.621758Z",
     "iopub.status.busy": "2022-11-27T07:09:57.621045Z",
     "iopub.status.idle": "2022-11-27T07:09:57.624948Z",
     "shell.execute_reply": "2022-11-27T07:09:57.625452Z",
     "shell.execute_reply.started": "2022-11-27T07:09:04.906216Z"
    },
    "papermill": {
     "duration": 0.05163,
     "end_time": "2022-11-27T07:09:57.625623",
     "exception": false,
     "start_time": "2022-11-27T07:09:57.573993",
     "status": "completed"
    },
    "tags": []
   },
   "outputs": [
    {
     "data": {
      "text/plain": [
       "((712, 5), (179, 5))"
      ]
     },
     "execution_count": 29,
     "metadata": {},
     "output_type": "execute_result"
    }
   ],
   "source": [
    "X.shape, test.shape"
   ]
  },
  {
   "cell_type": "markdown",
   "id": "8e41075a",
   "metadata": {
    "papermill": {
     "duration": 0.033572,
     "end_time": "2022-11-27T07:09:57.693544",
     "exception": false,
     "start_time": "2022-11-27T07:09:57.659972",
     "status": "completed"
    },
    "tags": []
   },
   "source": [
    "## 모델 및 평가"
   ]
  },
  {
   "cell_type": "code",
   "execution_count": 30,
   "id": "883017fa",
   "metadata": {
    "execution": {
     "iopub.execute_input": "2022-11-27T07:09:57.762705Z",
     "iopub.status.busy": "2022-11-27T07:09:57.761963Z",
     "iopub.status.idle": "2022-11-27T07:09:58.063305Z",
     "shell.execute_reply": "2022-11-27T07:09:58.062778Z",
     "shell.execute_reply.started": "2022-11-27T07:09:04.914189Z"
    },
    "papermill": {
     "duration": 0.337443,
     "end_time": "2022-11-27T07:09:58.063473",
     "exception": false,
     "start_time": "2022-11-27T07:09:57.726030",
     "status": "completed"
    },
    "tags": []
   },
   "outputs": [],
   "source": [
    "from sklearn.ensemble import RandomForestClassifier\n",
    "model = RandomForestClassifier(n_estimators=200, max_depth=7, random_state=2021)\n",
    "model.fit(X, y)\n",
    "predictions = model.predict(test)"
   ]
  },
  {
   "cell_type": "code",
   "execution_count": 31,
   "id": "2d5680c2",
   "metadata": {
    "execution": {
     "iopub.execute_input": "2022-11-27T07:09:58.135452Z",
     "iopub.status.busy": "2022-11-27T07:09:58.134896Z",
     "iopub.status.idle": "2022-11-27T07:09:58.172671Z",
     "shell.execute_reply": "2022-11-27T07:09:58.172163Z",
     "shell.execute_reply.started": "2022-11-27T07:09:05.212398Z"
    },
    "papermill": {
     "duration": 0.075837,
     "end_time": "2022-11-27T07:09:58.172793",
     "exception": false,
     "start_time": "2022-11-27T07:09:58.096956",
     "status": "completed"
    },
    "tags": []
   },
   "outputs": [
    {
     "data": {
      "text/plain": [
       "0.8356741573033708"
      ]
     },
     "execution_count": 31,
     "metadata": {},
     "output_type": "execute_result"
    }
   ],
   "source": [
    "model.score(X, y)"
   ]
  },
  {
   "cell_type": "code",
   "execution_count": 32,
   "id": "9efb9ba0",
   "metadata": {
    "execution": {
     "iopub.execute_input": "2022-11-27T07:09:58.252229Z",
     "iopub.status.busy": "2022-11-27T07:09:58.251028Z",
     "iopub.status.idle": "2022-11-27T07:09:58.255548Z",
     "shell.execute_reply": "2022-11-27T07:09:58.254902Z",
     "shell.execute_reply.started": "2022-11-27T07:09:05.249385Z"
    },
    "papermill": {
     "duration": 0.050071,
     "end_time": "2022-11-27T07:09:58.255684",
     "exception": false,
     "start_time": "2022-11-27T07:09:58.205613",
     "status": "completed"
    },
    "tags": []
   },
   "outputs": [
    {
     "data": {
      "text/html": [
       "<div>\n",
       "<style scoped>\n",
       "    .dataframe tbody tr th:only-of-type {\n",
       "        vertical-align: middle;\n",
       "    }\n",
       "\n",
       "    .dataframe tbody tr th {\n",
       "        vertical-align: top;\n",
       "    }\n",
       "\n",
       "    .dataframe thead th {\n",
       "        text-align: right;\n",
       "    }\n",
       "</style>\n",
       "<table border=\"1\" class=\"dataframe\">\n",
       "  <thead>\n",
       "    <tr style=\"text-align: right;\">\n",
       "      <th></th>\n",
       "      <th>PassengerId</th>\n",
       "      <th>Survived</th>\n",
       "    </tr>\n",
       "  </thead>\n",
       "  <tbody>\n",
       "    <tr>\n",
       "      <th>210</th>\n",
       "      <td>211</td>\n",
       "      <td>0</td>\n",
       "    </tr>\n",
       "    <tr>\n",
       "      <th>876</th>\n",
       "      <td>877</td>\n",
       "      <td>0</td>\n",
       "    </tr>\n",
       "    <tr>\n",
       "      <th>666</th>\n",
       "      <td>667</td>\n",
       "      <td>0</td>\n",
       "    </tr>\n",
       "    <tr>\n",
       "      <th>819</th>\n",
       "      <td>820</td>\n",
       "      <td>0</td>\n",
       "    </tr>\n",
       "    <tr>\n",
       "      <th>736</th>\n",
       "      <td>737</td>\n",
       "      <td>0</td>\n",
       "    </tr>\n",
       "  </tbody>\n",
       "</table>\n",
       "</div>"
      ],
      "text/plain": [
       "     PassengerId  Survived\n",
       "210          211         0\n",
       "876          877         0\n",
       "666          667         0\n",
       "819          820         0\n",
       "736          737         0"
      ]
     },
     "execution_count": 32,
     "metadata": {},
     "output_type": "execute_result"
    }
   ],
   "source": [
    "output = pd.DataFrame({'PassengerId': X_test.PassengerId, 'Survived': predictions})\n",
    "output.head()"
   ]
  },
  {
   "cell_type": "code",
   "execution_count": 33,
   "id": "27786a4a",
   "metadata": {
    "execution": {
     "iopub.execute_input": "2022-11-27T07:09:58.330889Z",
     "iopub.status.busy": "2022-11-27T07:09:58.330300Z",
     "iopub.status.idle": "2022-11-27T07:09:58.336015Z",
     "shell.execute_reply": "2022-11-27T07:09:58.335481Z",
     "shell.execute_reply.started": "2022-11-27T07:09:05.261207Z"
    },
    "papermill": {
     "duration": 0.045877,
     "end_time": "2022-11-27T07:09:58.336176",
     "exception": false,
     "start_time": "2022-11-27T07:09:58.290299",
     "status": "completed"
    },
    "tags": []
   },
   "outputs": [],
   "source": [
    "# 수험번호.csv로 출력\n",
    "output.to_csv('1234567.csv', index=False)"
   ]
  },
  {
   "cell_type": "markdown",
   "id": "ebe35bb3",
   "metadata": {
    "papermill": {
     "duration": 0.035914,
     "end_time": "2022-11-27T07:09:58.406802",
     "exception": false,
     "start_time": "2022-11-27T07:09:58.370888",
     "status": "completed"
    },
    "tags": []
   },
   "source": [
    "## 결과 체점 (수험자는 알 수 없는 부분임)"
   ]
  },
  {
   "cell_type": "code",
   "execution_count": 34,
   "id": "1f2fd8be",
   "metadata": {
    "execution": {
     "iopub.execute_input": "2022-11-27T07:09:58.479549Z",
     "iopub.status.busy": "2022-11-27T07:09:58.478769Z",
     "iopub.status.idle": "2022-11-27T07:09:58.505929Z",
     "shell.execute_reply": "2022-11-27T07:09:58.505479Z",
     "shell.execute_reply.started": "2022-11-27T07:09:05.274258Z"
    },
    "papermill": {
     "duration": 0.064788,
     "end_time": "2022-11-27T07:09:58.506051",
     "exception": false,
     "start_time": "2022-11-27T07:09:58.441263",
     "status": "completed"
    },
    "tags": []
   },
   "outputs": [
    {
     "data": {
      "text/plain": [
       "0.7318435754189944"
      ]
     },
     "execution_count": 34,
     "metadata": {},
     "output_type": "execute_result"
    }
   ],
   "source": [
    "model.score(test, y_test['Survived'])"
   ]
  }
 ],
 "metadata": {
  "kernelspec": {
   "display_name": "Python 3",
   "language": "python",
   "name": "python3"
  },
  "language_info": {
   "codemirror_mode": {
    "name": "ipython",
    "version": 3
   },
   "file_extension": ".py",
   "mimetype": "text/x-python",
   "name": "python",
   "nbconvert_exporter": "python",
   "pygments_lexer": "ipython3",
   "version": "3.7.10"
  },
  "papermill": {
   "default_parameters": {},
   "duration": 16.928966,
   "end_time": "2022-11-27T07:09:59.459199",
   "environment_variables": {},
   "exception": null,
   "input_path": "__notebook__.ipynb",
   "output_path": "__notebook__.ipynb",
   "parameters": {},
   "start_time": "2022-11-27T07:09:42.530233",
   "version": "2.3.3"
  }
 },
 "nbformat": 4,
 "nbformat_minor": 5
}
