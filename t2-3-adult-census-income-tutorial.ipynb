{
 "cells": [
  {
   "cell_type": "markdown",
   "id": "c778b80c",
   "metadata": {
    "papermill": {
     "duration": 0.052334,
     "end_time": "2022-11-28T06:25:48.601388",
     "exception": false,
     "start_time": "2022-11-28T06:25:48.549054",
     "status": "completed"
    },
    "tags": []
   },
   "source": [
    "# 성인 인구조사 소득 예측\n",
    "\n",
    "- age: 나이\n",
    "- workclass: 고용 형태\n",
    "- fnlwgt: 사람의 대표성을 나타내는 가중치(final weight)\n",
    "- education: 교육 수준\n",
    "- education.num: 교육 수준 수치\n",
    "- marital.status: 결혼 상태\n",
    "- occupation: 업종\n",
    "- relationship: 가족 관계\n",
    "- race: 인종\n",
    "- sex: 성별\n",
    "- capital.gain: 양도 소득\n",
    "- capital.loss: 양도 손실\n",
    "- hours.per.week: 주당 근무 시간\n",
    "- native.country: 국적\n",
    "- income: 수익 (예측해야 하는 값)"
   ]
  },
  {
   "cell_type": "code",
   "execution_count": 1,
   "id": "07eca63e",
   "metadata": {
    "execution": {
     "iopub.execute_input": "2022-11-28T06:25:48.711594Z",
     "iopub.status.busy": "2022-11-28T06:25:48.710184Z",
     "iopub.status.idle": "2022-11-28T06:25:49.867399Z",
     "shell.execute_reply": "2022-11-28T06:25:49.867975Z",
     "shell.execute_reply.started": "2022-11-28T06:24:39.755503Z"
    },
    "papermill": {
     "duration": 1.213251,
     "end_time": "2022-11-28T06:25:49.868327",
     "exception": false,
     "start_time": "2022-11-28T06:25:48.655076",
     "status": "completed"
    },
    "tags": []
   },
   "outputs": [
    {
     "data": {
      "text/plain": [
       "((26048, 15), (6513, 15), (26048, 2), (6513, 2))"
      ]
     },
     "execution_count": 1,
     "metadata": {},
     "output_type": "execute_result"
    }
   ],
   "source": [
    "# 시험환경 세팅 (코드 변경 X)\n",
    "import pandas as pd\n",
    "import numpy as np\n",
    "from sklearn.model_selection import train_test_split\n",
    "\n",
    "def exam_data_load(df, target, id_name=\"\", null_name=\"\"):\n",
    "    if id_name == \"\":\n",
    "        df = df.reset_index().rename(columns={\"index\": \"id\"})\n",
    "        id_name = 'id'\n",
    "    else:\n",
    "        id_name = id_name\n",
    "    \n",
    "    if null_name != \"\":\n",
    "        df[df == null_name] = np.nan\n",
    "    \n",
    "    X_train, X_test = train_test_split(df, test_size=0.2, random_state=2021)\n",
    "    \n",
    "    y_train = X_train[[id_name, target]]\n",
    "    X_train = X_train.drop(columns=[target])\n",
    "\n",
    "    \n",
    "    y_test = X_test[[id_name, target]]\n",
    "    X_test = X_test.drop(columns=[target])\n",
    "    return X_train, X_test, y_train, y_test \n",
    "    \n",
    "df = pd.read_csv(\"../input/adult-census-income/adult.csv\")\n",
    "X_train, X_test, y_train, y_test = exam_data_load(df, target='income', null_name='?')\n",
    "\n",
    "X_train.shape, X_test.shape, y_train.shape, y_test.shape"
   ]
  },
  {
   "cell_type": "code",
   "execution_count": 2,
   "id": "06ea10ab",
   "metadata": {
    "execution": {
     "iopub.execute_input": "2022-11-28T06:25:49.975389Z",
     "iopub.status.busy": "2022-11-28T06:25:49.974628Z",
     "iopub.status.idle": "2022-11-28T06:25:49.987580Z",
     "shell.execute_reply": "2022-11-28T06:25:49.988136Z",
     "shell.execute_reply.started": "2022-11-28T06:24:40.117204Z"
    },
    "papermill": {
     "duration": 0.068336,
     "end_time": "2022-11-28T06:25:49.988349",
     "exception": false,
     "start_time": "2022-11-28T06:25:49.920013",
     "status": "completed"
    },
    "tags": []
   },
   "outputs": [
    {
     "name": "stdout",
     "output_type": "stream",
     "text": [
      "          id  age  workclass  fnlwgt     education  education.num  \\\n",
      "21851  21851   36    Private  241998     Bachelors             13   \n",
      "7632    7632   53    Private  103950       Masters             14   \n",
      "27878  27878   19    Private  203061  Some-college             10   \n",
      "14121  14121   20    Private  102607       HS-grad              9   \n",
      "32345  32345   54  State-gov  138852       HS-grad              9   \n",
      "\n",
      "           marital.status         occupation   relationship   race     sex  \\\n",
      "21851  Married-civ-spouse       Craft-repair        Husband  White    Male   \n",
      "7632             Divorced     Prof-specialty  Not-in-family  White  Female   \n",
      "27878       Never-married       Tech-support  Not-in-family  White  Female   \n",
      "14121       Never-married  Handlers-cleaners      Own-child  White    Male   \n",
      "32345  Married-civ-spouse     Prof-specialty        Husband  White    Male   \n",
      "\n",
      "       capital.gain  capital.loss  hours.per.week native.country  \n",
      "21851             0             0              50  United-States  \n",
      "7632              0             0              40  United-States  \n",
      "27878             0             0              25  United-States  \n",
      "14121             0             0              30  United-States  \n",
      "32345             0             0              40  United-States  \n"
     ]
    }
   ],
   "source": [
    "print(X_train.head())"
   ]
  },
  {
   "cell_type": "code",
   "execution_count": 3,
   "id": "50cf179e",
   "metadata": {
    "execution": {
     "iopub.execute_input": "2022-11-28T06:25:50.096175Z",
     "iopub.status.busy": "2022-11-28T06:25:50.095360Z",
     "iopub.status.idle": "2022-11-28T06:25:50.102164Z",
     "shell.execute_reply": "2022-11-28T06:25:50.102845Z",
     "shell.execute_reply.started": "2022-11-28T06:24:40.129653Z"
    },
    "papermill": {
     "duration": 0.062332,
     "end_time": "2022-11-28T06:25:50.103062",
     "exception": false,
     "start_time": "2022-11-28T06:25:50.040730",
     "status": "completed"
    },
    "tags": []
   },
   "outputs": [
    {
     "name": "stdout",
     "output_type": "stream",
     "text": [
      "          id income\n",
      "21851  21851   >50K\n",
      "7632    7632  <=50K\n",
      "27878  27878  <=50K\n",
      "14121  14121  <=50K\n",
      "32345  32345  <=50K\n"
     ]
    }
   ],
   "source": [
    "print(y_train.head())"
   ]
  },
  {
   "cell_type": "code",
   "execution_count": 4,
   "id": "97aed72d",
   "metadata": {
    "execution": {
     "iopub.execute_input": "2022-11-28T06:25:50.213225Z",
     "iopub.status.busy": "2022-11-28T06:25:50.212348Z",
     "iopub.status.idle": "2022-11-28T06:25:50.237608Z",
     "shell.execute_reply": "2022-11-28T06:25:50.238298Z",
     "shell.execute_reply.started": "2022-11-28T06:24:40.142331Z"
    },
    "papermill": {
     "duration": 0.083502,
     "end_time": "2022-11-28T06:25:50.238528",
     "exception": false,
     "start_time": "2022-11-28T06:25:50.155026",
     "status": "completed"
    },
    "tags": []
   },
   "outputs": [
    {
     "name": "stdout",
     "output_type": "stream",
     "text": [
      "<class 'pandas.core.frame.DataFrame'>\n",
      "Int64Index: 26048 entries, 21851 to 25716\n",
      "Data columns (total 15 columns):\n",
      " #   Column          Non-Null Count  Dtype \n",
      "---  ------          --------------  ----- \n",
      " 0   id              26048 non-null  int64 \n",
      " 1   age             26048 non-null  int64 \n",
      " 2   workclass       24592 non-null  object\n",
      " 3   fnlwgt          26048 non-null  int64 \n",
      " 4   education       26048 non-null  object\n",
      " 5   education.num   26048 non-null  int64 \n",
      " 6   marital.status  26048 non-null  object\n",
      " 7   occupation      24585 non-null  object\n",
      " 8   relationship    26048 non-null  object\n",
      " 9   race            26048 non-null  object\n",
      " 10  sex             26048 non-null  object\n",
      " 11  capital.gain    26048 non-null  int64 \n",
      " 12  capital.loss    26048 non-null  int64 \n",
      " 13  hours.per.week  26048 non-null  int64 \n",
      " 14  native.country  25587 non-null  object\n",
      "dtypes: int64(7), object(8)\n",
      "memory usage: 3.2+ MB\n"
     ]
    }
   ],
   "source": [
    "X_train.info()"
   ]
  },
  {
   "cell_type": "code",
   "execution_count": 5,
   "id": "e10dea35",
   "metadata": {
    "execution": {
     "iopub.execute_input": "2022-11-28T06:25:50.435702Z",
     "iopub.status.busy": "2022-11-28T06:25:50.434909Z",
     "iopub.status.idle": "2022-11-28T06:25:50.449020Z",
     "shell.execute_reply": "2022-11-28T06:25:50.449605Z",
     "shell.execute_reply.started": "2022-11-28T06:24:40.169296Z"
    },
    "papermill": {
     "duration": 0.156431,
     "end_time": "2022-11-28T06:25:50.449847",
     "exception": false,
     "start_time": "2022-11-28T06:25:50.293416",
     "status": "completed"
    },
    "tags": []
   },
   "outputs": [],
   "source": [
    "id=X_test['id']\n",
    "\n",
    "X_train.drop(columns='id',inplace=True)\n",
    "X_test.drop(columns='id',inplace=True)\n",
    "y_train.drop(columns='id',inplace=True)\n",
    "y_test.drop(columns='id', inplace=True)"
   ]
  },
  {
   "cell_type": "code",
   "execution_count": 6,
   "id": "cd43cf5f",
   "metadata": {
    "execution": {
     "iopub.execute_input": "2022-11-28T06:25:50.570607Z",
     "iopub.status.busy": "2022-11-28T06:25:50.569510Z",
     "iopub.status.idle": "2022-11-28T06:25:50.577496Z",
     "shell.execute_reply": "2022-11-28T06:25:50.578041Z",
     "shell.execute_reply.started": "2022-11-28T06:24:40.180677Z"
    },
    "papermill": {
     "duration": 0.075913,
     "end_time": "2022-11-28T06:25:50.578259",
     "exception": false,
     "start_time": "2022-11-28T06:25:50.502346",
     "status": "completed"
    },
    "tags": []
   },
   "outputs": [
    {
     "data": {
      "text/plain": [
       "age                  0\n",
       "workclass         1456\n",
       "fnlwgt               0\n",
       "education            0\n",
       "education.num        0\n",
       "marital.status       0\n",
       "occupation        1463\n",
       "relationship         0\n",
       "race                 0\n",
       "sex                  0\n",
       "capital.gain         0\n",
       "capital.loss         0\n",
       "hours.per.week       0\n",
       "native.country     461\n",
       "dtype: int64"
      ]
     },
     "execution_count": 6,
     "metadata": {},
     "output_type": "execute_result"
    }
   ],
   "source": [
    "X_train.isnull().sum()"
   ]
  },
  {
   "cell_type": "code",
   "execution_count": 7,
   "id": "e7fba1fd",
   "metadata": {
    "execution": {
     "iopub.execute_input": "2022-11-28T06:25:50.693251Z",
     "iopub.status.busy": "2022-11-28T06:25:50.689011Z",
     "iopub.status.idle": "2022-11-28T06:25:50.698824Z",
     "shell.execute_reply": "2022-11-28T06:25:50.699369Z",
     "shell.execute_reply.started": "2022-11-28T06:24:40.203737Z"
    },
    "papermill": {
     "duration": 0.066974,
     "end_time": "2022-11-28T06:25:50.699581",
     "exception": false,
     "start_time": "2022-11-28T06:25:50.632607",
     "status": "completed"
    },
    "tags": []
   },
   "outputs": [
    {
     "data": {
      "text/plain": [
       "Private             18160\n",
       "Self-emp-not-inc     2049\n",
       "Local-gov            1648\n",
       "State-gov            1037\n",
       "Self-emp-inc          909\n",
       "Federal-gov           770\n",
       "Without-pay            12\n",
       "Never-worked            7\n",
       "Name: workclass, dtype: int64"
      ]
     },
     "execution_count": 7,
     "metadata": {},
     "output_type": "execute_result"
    }
   ],
   "source": [
    "X_train['workclass'].value_counts()"
   ]
  },
  {
   "cell_type": "code",
   "execution_count": 8,
   "id": "7259d0b1",
   "metadata": {
    "execution": {
     "iopub.execute_input": "2022-11-28T06:25:50.816695Z",
     "iopub.status.busy": "2022-11-28T06:25:50.813732Z",
     "iopub.status.idle": "2022-11-28T06:25:50.819700Z",
     "shell.execute_reply": "2022-11-28T06:25:50.819148Z",
     "shell.execute_reply.started": "2022-11-28T06:24:40.213160Z"
    },
    "papermill": {
     "duration": 0.066669,
     "end_time": "2022-11-28T06:25:50.819871",
     "exception": false,
     "start_time": "2022-11-28T06:25:50.753202",
     "status": "completed"
    },
    "tags": []
   },
   "outputs": [],
   "source": [
    "X_train['workclass']=X_train['workclass'].fillna('Private')\n",
    "X_test['workclass']=X_test['workclass'].fillna('Private')"
   ]
  },
  {
   "cell_type": "code",
   "execution_count": 9,
   "id": "18d06d8c",
   "metadata": {
    "execution": {
     "iopub.execute_input": "2022-11-28T06:25:50.936057Z",
     "iopub.status.busy": "2022-11-28T06:25:50.935250Z",
     "iopub.status.idle": "2022-11-28T06:25:50.938434Z",
     "shell.execute_reply": "2022-11-28T06:25:50.938967Z",
     "shell.execute_reply.started": "2022-11-28T06:24:40.226178Z"
    },
    "papermill": {
     "duration": 0.066558,
     "end_time": "2022-11-28T06:25:50.939173",
     "exception": false,
     "start_time": "2022-11-28T06:25:50.872615",
     "status": "completed"
    },
    "tags": []
   },
   "outputs": [
    {
     "data": {
      "text/plain": [
       "Exec-managerial      3323\n",
       "Prof-specialty       3306\n",
       "Craft-repair         3296\n",
       "Adm-clerical         3037\n",
       "Sales                2898\n",
       "Other-service        2624\n",
       "Machine-op-inspct    1584\n",
       "Transport-moving     1257\n",
       "Handlers-cleaners    1080\n",
       "Farming-fishing       786\n",
       "Tech-support          746\n",
       "Protective-serv       521\n",
       "Priv-house-serv       119\n",
       "Armed-Forces            8\n",
       "Name: occupation, dtype: int64"
      ]
     },
     "execution_count": 9,
     "metadata": {},
     "output_type": "execute_result"
    }
   ],
   "source": [
    "X_train['occupation'].value_counts()"
   ]
  },
  {
   "cell_type": "code",
   "execution_count": 10,
   "id": "31f6beca",
   "metadata": {
    "execution": {
     "iopub.execute_input": "2022-11-28T06:25:51.054082Z",
     "iopub.status.busy": "2022-11-28T06:25:51.053056Z",
     "iopub.status.idle": "2022-11-28T06:25:51.057983Z",
     "shell.execute_reply": "2022-11-28T06:25:51.058531Z",
     "shell.execute_reply.started": "2022-11-28T06:24:40.240024Z"
    },
    "papermill": {
     "duration": 0.065505,
     "end_time": "2022-11-28T06:25:51.058761",
     "exception": false,
     "start_time": "2022-11-28T06:25:50.993256",
     "status": "completed"
    },
    "tags": []
   },
   "outputs": [],
   "source": [
    "X_train['occupation']=X_train['occupation'].fillna('Exec-managerial')\n",
    "X_test['occupation']=X_test['occupation'].fillna('Exec-managerial')"
   ]
  },
  {
   "cell_type": "code",
   "execution_count": 11,
   "id": "3c4438e9",
   "metadata": {
    "execution": {
     "iopub.execute_input": "2022-11-28T06:25:51.175495Z",
     "iopub.status.busy": "2022-11-28T06:25:51.174577Z",
     "iopub.status.idle": "2022-11-28T06:25:51.179143Z",
     "shell.execute_reply": "2022-11-28T06:25:51.180765Z",
     "shell.execute_reply.started": "2022-11-28T06:24:40.248693Z"
    },
    "papermill": {
     "duration": 0.069241,
     "end_time": "2022-11-28T06:25:51.181063",
     "exception": false,
     "start_time": "2022-11-28T06:25:51.111822",
     "status": "completed"
    },
    "tags": []
   },
   "outputs": [
    {
     "data": {
      "text/plain": [
       "United-States                 23381\n",
       "Mexico                          516\n",
       "Philippines                     158\n",
       "Germany                         108\n",
       "Canada                           88\n",
       "Puerto-Rico                      87\n",
       "El-Salvador                      76\n",
       "India                            73\n",
       "Cuba                             73\n",
       "England                          69\n",
       "Italy                            63\n",
       "South                            62\n",
       "Jamaica                          59\n",
       "Vietnam                          57\n",
       "China                            57\n",
       "Guatemala                        54\n",
       "Dominican-Republic               51\n",
       "Japan                            49\n",
       "Poland                           47\n",
       "Columbia                         44\n",
       "Taiwan                           37\n",
       "Haiti                            37\n",
       "Iran                             34\n",
       "Portugal                         32\n",
       "Peru                             29\n",
       "Nicaragua                        27\n",
       "Ecuador                          25\n",
       "Greece                           24\n",
       "France                           23\n",
       "Ireland                          19\n",
       "Cambodia                         18\n",
       "Hong                             17\n",
       "Trinadad&Tobago                  17\n",
       "Thailand                         16\n",
       "Laos                             13\n",
       "Outlying-US(Guam-USVI-etc)       11\n",
       "Yugoslavia                       11\n",
       "Honduras                          9\n",
       "Hungary                           8\n",
       "Scotland                          7\n",
       "Holand-Netherlands                1\n",
       "Name: native.country, dtype: int64"
      ]
     },
     "execution_count": 11,
     "metadata": {},
     "output_type": "execute_result"
    }
   ],
   "source": [
    "X_train['native.country'].value_counts()"
   ]
  },
  {
   "cell_type": "code",
   "execution_count": 12,
   "id": "c0a2c5ce",
   "metadata": {
    "execution": {
     "iopub.execute_input": "2022-11-28T06:25:51.294532Z",
     "iopub.status.busy": "2022-11-28T06:25:51.293729Z",
     "iopub.status.idle": "2022-11-28T06:25:51.302217Z",
     "shell.execute_reply": "2022-11-28T06:25:51.301449Z",
     "shell.execute_reply.started": "2022-11-28T06:24:40.265569Z"
    },
    "papermill": {
     "duration": 0.06574,
     "end_time": "2022-11-28T06:25:51.302386",
     "exception": false,
     "start_time": "2022-11-28T06:25:51.236646",
     "status": "completed"
    },
    "tags": []
   },
   "outputs": [],
   "source": [
    "X_train['native.country']=X_train['native.country'].fillna('United-States')\n",
    "X_test['native.country']=X_test['native.country'].fillna('United-States')"
   ]
  },
  {
   "cell_type": "code",
   "execution_count": 13,
   "id": "76d7f894",
   "metadata": {
    "execution": {
     "iopub.execute_input": "2022-11-28T06:25:51.425007Z",
     "iopub.status.busy": "2022-11-28T06:25:51.423604Z",
     "iopub.status.idle": "2022-11-28T06:25:51.432007Z",
     "shell.execute_reply": "2022-11-28T06:25:51.432516Z",
     "shell.execute_reply.started": "2022-11-28T06:24:40.277403Z"
    },
    "papermill": {
     "duration": 0.076984,
     "end_time": "2022-11-28T06:25:51.432796",
     "exception": false,
     "start_time": "2022-11-28T06:25:51.355812",
     "status": "completed"
    },
    "tags": []
   },
   "outputs": [
    {
     "data": {
      "text/plain": [
       "age               0\n",
       "workclass         0\n",
       "fnlwgt            0\n",
       "education         0\n",
       "education.num     0\n",
       "marital.status    0\n",
       "occupation        0\n",
       "relationship      0\n",
       "race              0\n",
       "sex               0\n",
       "capital.gain      0\n",
       "capital.loss      0\n",
       "hours.per.week    0\n",
       "native.country    0\n",
       "dtype: int64"
      ]
     },
     "execution_count": 13,
     "metadata": {},
     "output_type": "execute_result"
    }
   ],
   "source": [
    "X_train.isnull().sum()"
   ]
  },
  {
   "cell_type": "code",
   "execution_count": 14,
   "id": "314964a7",
   "metadata": {
    "execution": {
     "iopub.execute_input": "2022-11-28T06:25:51.546571Z",
     "iopub.status.busy": "2022-11-28T06:25:51.545883Z",
     "iopub.status.idle": "2022-11-28T06:25:51.557323Z",
     "shell.execute_reply": "2022-11-28T06:25:51.556460Z",
     "shell.execute_reply.started": "2022-11-28T06:24:40.298080Z"
    },
    "papermill": {
     "duration": 0.069237,
     "end_time": "2022-11-28T06:25:51.557498",
     "exception": false,
     "start_time": "2022-11-28T06:25:51.488261",
     "status": "completed"
    },
    "tags": []
   },
   "outputs": [],
   "source": [
    "X_train.drop(columns='education',inplace=True)\n",
    "X_test.drop(columns='education',inplace=True)"
   ]
  },
  {
   "cell_type": "code",
   "execution_count": 15,
   "id": "fc189ed9",
   "metadata": {
    "execution": {
     "iopub.execute_input": "2022-11-28T06:25:51.671277Z",
     "iopub.status.busy": "2022-11-28T06:25:51.670520Z",
     "iopub.status.idle": "2022-11-28T06:25:51.676938Z",
     "shell.execute_reply": "2022-11-28T06:25:51.677517Z",
     "shell.execute_reply.started": "2022-11-28T06:24:40.309224Z"
    },
    "papermill": {
     "duration": 0.066386,
     "end_time": "2022-11-28T06:25:51.677736",
     "exception": false,
     "start_time": "2022-11-28T06:25:51.611350",
     "status": "completed"
    },
    "tags": []
   },
   "outputs": [
    {
     "data": {
      "text/plain": [
       "Married-civ-spouse       11987\n",
       "Never-married             8506\n",
       "Divorced                  3563\n",
       "Separated                  824\n",
       "Widowed                    804\n",
       "Married-spouse-absent      345\n",
       "Married-AF-spouse           19\n",
       "Name: marital.status, dtype: int64"
      ]
     },
     "execution_count": 15,
     "metadata": {},
     "output_type": "execute_result"
    }
   ],
   "source": [
    "X_train['marital.status'].value_counts()"
   ]
  },
  {
   "cell_type": "code",
   "execution_count": 16,
   "id": "d1790a27",
   "metadata": {
    "execution": {
     "iopub.execute_input": "2022-11-28T06:25:51.795875Z",
     "iopub.status.busy": "2022-11-28T06:25:51.795073Z",
     "iopub.status.idle": "2022-11-28T06:25:51.800987Z",
     "shell.execute_reply": "2022-11-28T06:25:51.801535Z",
     "shell.execute_reply.started": "2022-11-28T06:24:40.319007Z"
    },
    "papermill": {
     "duration": 0.068673,
     "end_time": "2022-11-28T06:25:51.801772",
     "exception": false,
     "start_time": "2022-11-28T06:25:51.733099",
     "status": "completed"
    },
    "tags": []
   },
   "outputs": [],
   "source": [
    "X_train.loc[X_train['marital.status'].isin(['Married-civ-spouse','Separated','Widowed','Married-spouse-absent','Married-AF-spouse']),'marital.status']='Married-civ-spouse'\n",
    "X_test.loc[X_test['marital.status'].isin(['Married-civ-spouse','Separated','Widowed','Married-spouse-absent','Married-AF-spouse']),'marital.status']='Married-civ-spouse'"
   ]
  },
  {
   "cell_type": "code",
   "execution_count": 17,
   "id": "2f3546a2",
   "metadata": {
    "execution": {
     "iopub.execute_input": "2022-11-28T06:25:51.916571Z",
     "iopub.status.busy": "2022-11-28T06:25:51.915823Z",
     "iopub.status.idle": "2022-11-28T06:25:51.925848Z",
     "shell.execute_reply": "2022-11-28T06:25:51.925044Z",
     "shell.execute_reply.started": "2022-11-28T06:24:40.332121Z"
    },
    "papermill": {
     "duration": 0.068175,
     "end_time": "2022-11-28T06:25:51.926023",
     "exception": false,
     "start_time": "2022-11-28T06:25:51.857848",
     "status": "completed"
    },
    "tags": []
   },
   "outputs": [
    {
     "data": {
      "text/plain": [
       "Married-civ-spouse    13979\n",
       "Never-married          8506\n",
       "Divorced               3563\n",
       "Name: marital.status, dtype: int64"
      ]
     },
     "execution_count": 17,
     "metadata": {},
     "output_type": "execute_result"
    }
   ],
   "source": [
    "X_train['marital.status'].value_counts()"
   ]
  },
  {
   "cell_type": "code",
   "execution_count": 18,
   "id": "c5eff4a7",
   "metadata": {
    "execution": {
     "iopub.execute_input": "2022-11-28T06:25:52.049841Z",
     "iopub.status.busy": "2022-11-28T06:25:52.048996Z",
     "iopub.status.idle": "2022-11-28T06:25:52.052190Z",
     "shell.execute_reply": "2022-11-28T06:25:52.052731Z",
     "shell.execute_reply.started": "2022-11-28T06:24:40.347005Z"
    },
    "papermill": {
     "duration": 0.068858,
     "end_time": "2022-11-28T06:25:52.052953",
     "exception": false,
     "start_time": "2022-11-28T06:25:51.984095",
     "status": "completed"
    },
    "tags": []
   },
   "outputs": [
    {
     "data": {
      "text/plain": [
       "Husband           10558\n",
       "Not-in-family      6653\n",
       "Own-child          4033\n",
       "Unmarried          2756\n",
       "Wife               1261\n",
       "Other-relative      787\n",
       "Name: relationship, dtype: int64"
      ]
     },
     "execution_count": 18,
     "metadata": {},
     "output_type": "execute_result"
    }
   ],
   "source": [
    "X_train['relationship'].value_counts()"
   ]
  },
  {
   "cell_type": "code",
   "execution_count": 19,
   "id": "0cef231b",
   "metadata": {
    "execution": {
     "iopub.execute_input": "2022-11-28T06:25:52.175142Z",
     "iopub.status.busy": "2022-11-28T06:25:52.174030Z",
     "iopub.status.idle": "2022-11-28T06:25:52.180742Z",
     "shell.execute_reply": "2022-11-28T06:25:52.181267Z",
     "shell.execute_reply.started": "2022-11-28T06:24:40.358214Z"
    },
    "papermill": {
     "duration": 0.071867,
     "end_time": "2022-11-28T06:25:52.181494",
     "exception": false,
     "start_time": "2022-11-28T06:25:52.109627",
     "status": "completed"
    },
    "tags": []
   },
   "outputs": [],
   "source": [
    "X_train.loc[X_train['relationship']!='Not-in-family','relationship']='in-Family'\n",
    "X_test.loc[X_test['relationship']!='Not-in-family','relationship']='in-Family'"
   ]
  },
  {
   "cell_type": "code",
   "execution_count": 20,
   "id": "2859818b",
   "metadata": {
    "execution": {
     "iopub.execute_input": "2022-11-28T06:25:52.298490Z",
     "iopub.status.busy": "2022-11-28T06:25:52.297421Z",
     "iopub.status.idle": "2022-11-28T06:25:52.307116Z",
     "shell.execute_reply": "2022-11-28T06:25:52.307794Z",
     "shell.execute_reply.started": "2022-11-28T06:24:40.372512Z"
    },
    "papermill": {
     "duration": 0.070153,
     "end_time": "2022-11-28T06:25:52.308012",
     "exception": false,
     "start_time": "2022-11-28T06:25:52.237859",
     "status": "completed"
    },
    "tags": []
   },
   "outputs": [
    {
     "data": {
      "text/plain": [
       "in-Family        19395\n",
       "Not-in-family     6653\n",
       "Name: relationship, dtype: int64"
      ]
     },
     "execution_count": 20,
     "metadata": {},
     "output_type": "execute_result"
    }
   ],
   "source": [
    "X_train['relationship'].value_counts()"
   ]
  },
  {
   "cell_type": "code",
   "execution_count": 21,
   "id": "798be37f",
   "metadata": {
    "execution": {
     "iopub.execute_input": "2022-11-28T06:25:52.424412Z",
     "iopub.status.busy": "2022-11-28T06:25:52.423369Z",
     "iopub.status.idle": "2022-11-28T06:25:52.485616Z",
     "shell.execute_reply": "2022-11-28T06:25:52.486246Z",
     "shell.execute_reply.started": "2022-11-28T06:24:40.384664Z"
    },
    "papermill": {
     "duration": 0.121871,
     "end_time": "2022-11-28T06:25:52.486466",
     "exception": false,
     "start_time": "2022-11-28T06:25:52.364595",
     "status": "completed"
    },
    "tags": []
   },
   "outputs": [],
   "source": [
    "from sklearn.preprocessing import LabelEncoder\n",
    "value=['race','sex','workclass','occupation','relationship','native.country','marital.status']\n",
    "encoder=LabelEncoder()\n",
    "for i in value:\n",
    "    X_train[i]=encoder.fit_transform(X_train[i])\n",
    "    X_test[i]=encoder.fit_transform(X_test[i])"
   ]
  },
  {
   "cell_type": "code",
   "execution_count": 22,
   "id": "03043240",
   "metadata": {
    "execution": {
     "iopub.execute_input": "2022-11-28T06:25:52.603653Z",
     "iopub.status.busy": "2022-11-28T06:25:52.602603Z",
     "iopub.status.idle": "2022-11-28T06:25:52.616438Z",
     "shell.execute_reply": "2022-11-28T06:25:52.615796Z",
     "shell.execute_reply.started": "2022-11-28T06:24:40.444477Z"
    },
    "papermill": {
     "duration": 0.073678,
     "end_time": "2022-11-28T06:25:52.616603",
     "exception": false,
     "start_time": "2022-11-28T06:25:52.542925",
     "status": "completed"
    },
    "tags": []
   },
   "outputs": [],
   "source": [
    "X_train['age']=pd.qcut(X_train['age'],5,labels=False)\n",
    "X_test['age']=pd.qcut(X_test['age'],5,labels=False)"
   ]
  },
  {
   "cell_type": "code",
   "execution_count": 23,
   "id": "20ce37fe",
   "metadata": {
    "execution": {
     "iopub.execute_input": "2022-11-28T06:25:52.739367Z",
     "iopub.status.busy": "2022-11-28T06:25:52.738529Z",
     "iopub.status.idle": "2022-11-28T06:25:52.746826Z",
     "shell.execute_reply": "2022-11-28T06:25:52.747399Z",
     "shell.execute_reply.started": "2022-11-28T06:24:40.455181Z"
    },
    "papermill": {
     "duration": 0.074823,
     "end_time": "2022-11-28T06:25:52.747622",
     "exception": false,
     "start_time": "2022-11-28T06:25:52.672799",
     "status": "completed"
    },
    "tags": []
   },
   "outputs": [
    {
     "data": {
      "text/html": [
       "<div>\n",
       "<style scoped>\n",
       "    .dataframe tbody tr th:only-of-type {\n",
       "        vertical-align: middle;\n",
       "    }\n",
       "\n",
       "    .dataframe tbody tr th {\n",
       "        vertical-align: top;\n",
       "    }\n",
       "\n",
       "    .dataframe thead th {\n",
       "        text-align: right;\n",
       "    }\n",
       "</style>\n",
       "<table border=\"1\" class=\"dataframe\">\n",
       "  <thead>\n",
       "    <tr style=\"text-align: right;\">\n",
       "      <th></th>\n",
       "      <th>age</th>\n",
       "      <th>workclass</th>\n",
       "      <th>fnlwgt</th>\n",
       "      <th>education.num</th>\n",
       "      <th>marital.status</th>\n",
       "      <th>occupation</th>\n",
       "      <th>relationship</th>\n",
       "      <th>race</th>\n",
       "      <th>sex</th>\n",
       "      <th>capital.gain</th>\n",
       "      <th>capital.loss</th>\n",
       "      <th>hours.per.week</th>\n",
       "      <th>native.country</th>\n",
       "    </tr>\n",
       "  </thead>\n",
       "  <tbody>\n",
       "    <tr>\n",
       "      <th>21851</th>\n",
       "      <td>2</td>\n",
       "      <td>3</td>\n",
       "      <td>241998</td>\n",
       "      <td>13</td>\n",
       "      <td>1</td>\n",
       "      <td>2</td>\n",
       "      <td>1</td>\n",
       "      <td>4</td>\n",
       "      <td>1</td>\n",
       "      <td>0</td>\n",
       "      <td>0</td>\n",
       "      <td>50</td>\n",
       "      <td>38</td>\n",
       "    </tr>\n",
       "    <tr>\n",
       "      <th>7632</th>\n",
       "      <td>4</td>\n",
       "      <td>3</td>\n",
       "      <td>103950</td>\n",
       "      <td>14</td>\n",
       "      <td>0</td>\n",
       "      <td>9</td>\n",
       "      <td>0</td>\n",
       "      <td>4</td>\n",
       "      <td>0</td>\n",
       "      <td>0</td>\n",
       "      <td>0</td>\n",
       "      <td>40</td>\n",
       "      <td>38</td>\n",
       "    </tr>\n",
       "    <tr>\n",
       "      <th>27878</th>\n",
       "      <td>0</td>\n",
       "      <td>3</td>\n",
       "      <td>203061</td>\n",
       "      <td>10</td>\n",
       "      <td>2</td>\n",
       "      <td>12</td>\n",
       "      <td>0</td>\n",
       "      <td>4</td>\n",
       "      <td>0</td>\n",
       "      <td>0</td>\n",
       "      <td>0</td>\n",
       "      <td>25</td>\n",
       "      <td>38</td>\n",
       "    </tr>\n",
       "    <tr>\n",
       "      <th>14121</th>\n",
       "      <td>0</td>\n",
       "      <td>3</td>\n",
       "      <td>102607</td>\n",
       "      <td>9</td>\n",
       "      <td>2</td>\n",
       "      <td>5</td>\n",
       "      <td>1</td>\n",
       "      <td>4</td>\n",
       "      <td>1</td>\n",
       "      <td>0</td>\n",
       "      <td>0</td>\n",
       "      <td>30</td>\n",
       "      <td>38</td>\n",
       "    </tr>\n",
       "    <tr>\n",
       "      <th>32345</th>\n",
       "      <td>4</td>\n",
       "      <td>6</td>\n",
       "      <td>138852</td>\n",
       "      <td>9</td>\n",
       "      <td>1</td>\n",
       "      <td>9</td>\n",
       "      <td>1</td>\n",
       "      <td>4</td>\n",
       "      <td>1</td>\n",
       "      <td>0</td>\n",
       "      <td>0</td>\n",
       "      <td>40</td>\n",
       "      <td>38</td>\n",
       "    </tr>\n",
       "  </tbody>\n",
       "</table>\n",
       "</div>"
      ],
      "text/plain": [
       "       age  workclass  fnlwgt  education.num  marital.status  occupation  \\\n",
       "21851    2          3  241998             13               1           2   \n",
       "7632     4          3  103950             14               0           9   \n",
       "27878    0          3  203061             10               2          12   \n",
       "14121    0          3  102607              9               2           5   \n",
       "32345    4          6  138852              9               1           9   \n",
       "\n",
       "       relationship  race  sex  capital.gain  capital.loss  hours.per.week  \\\n",
       "21851             1     4    1             0             0              50   \n",
       "7632              0     4    0             0             0              40   \n",
       "27878             0     4    0             0             0              25   \n",
       "14121             1     4    1             0             0              30   \n",
       "32345             1     4    1             0             0              40   \n",
       "\n",
       "       native.country  \n",
       "21851              38  \n",
       "7632               38  \n",
       "27878              38  \n",
       "14121              38  \n",
       "32345              38  "
      ]
     },
     "execution_count": 23,
     "metadata": {},
     "output_type": "execute_result"
    }
   ],
   "source": [
    "X_train.head()"
   ]
  },
  {
   "cell_type": "code",
   "execution_count": 24,
   "id": "ba285662",
   "metadata": {
    "execution": {
     "iopub.execute_input": "2022-11-28T06:25:52.865346Z",
     "iopub.status.busy": "2022-11-28T06:25:52.864588Z",
     "iopub.status.idle": "2022-11-28T06:25:52.893605Z",
     "shell.execute_reply": "2022-11-28T06:25:52.892845Z",
     "shell.execute_reply.started": "2022-11-28T06:24:40.468818Z"
    },
    "papermill": {
     "duration": 0.088984,
     "end_time": "2022-11-28T06:25:52.893806",
     "exception": false,
     "start_time": "2022-11-28T06:25:52.804822",
     "status": "completed"
    },
    "tags": []
   },
   "outputs": [],
   "source": [
    "X_train[['marital.status','occupation','relationship','race','sex']]=X_train[['marital.status','occupation','relationship','race','sex']].astype('category')\n",
    "X_test[['marital.status','occupation','relationship','race','sex']]=X_test[['marital.status','occupation','relationship','race','sex']].astype('category')"
   ]
  },
  {
   "cell_type": "code",
   "execution_count": 25,
   "id": "eff24e10",
   "metadata": {
    "execution": {
     "iopub.execute_input": "2022-11-28T06:25:53.019904Z",
     "iopub.status.busy": "2022-11-28T06:25:53.019089Z",
     "iopub.status.idle": "2022-11-28T06:25:53.035047Z",
     "shell.execute_reply": "2022-11-28T06:25:53.035687Z",
     "shell.execute_reply.started": "2022-11-28T06:24:40.493058Z"
    },
    "papermill": {
     "duration": 0.086166,
     "end_time": "2022-11-28T06:25:53.035909",
     "exception": false,
     "start_time": "2022-11-28T06:25:52.949743",
     "status": "completed"
    },
    "tags": []
   },
   "outputs": [],
   "source": [
    "X_train=pd.get_dummies(X_train)\n",
    "X_test=pd.get_dummies(X_test)"
   ]
  },
  {
   "cell_type": "code",
   "execution_count": 26,
   "id": "d19c7ed6",
   "metadata": {
    "execution": {
     "iopub.execute_input": "2022-11-28T06:25:53.155447Z",
     "iopub.status.busy": "2022-11-28T06:25:53.154733Z",
     "iopub.status.idle": "2022-11-28T06:25:53.170526Z",
     "shell.execute_reply": "2022-11-28T06:25:53.169868Z",
     "shell.execute_reply.started": "2022-11-28T06:24:40.509756Z"
    },
    "papermill": {
     "duration": 0.078241,
     "end_time": "2022-11-28T06:25:53.170711",
     "exception": false,
     "start_time": "2022-11-28T06:25:53.092470",
     "status": "completed"
    },
    "tags": []
   },
   "outputs": [],
   "source": [
    "from sklearn.preprocessing import StandardScaler\n",
    "value=['fnlwgt','hours.per.week']\n",
    "scaler=StandardScaler()\n",
    "X_train[value]=scaler.fit_transform(X_train[value])\n",
    "X_test[value]=scaler.fit_transform(X_test[value])"
   ]
  },
  {
   "cell_type": "code",
   "execution_count": 27,
   "id": "601e06cb",
   "metadata": {
    "execution": {
     "iopub.execute_input": "2022-11-28T06:25:53.288591Z",
     "iopub.status.busy": "2022-11-28T06:25:53.287533Z",
     "iopub.status.idle": "2022-11-28T06:25:53.310781Z",
     "shell.execute_reply": "2022-11-28T06:25:53.310214Z",
     "shell.execute_reply.started": "2022-11-28T06:24:40.527916Z"
    },
    "papermill": {
     "duration": 0.083793,
     "end_time": "2022-11-28T06:25:53.310955",
     "exception": false,
     "start_time": "2022-11-28T06:25:53.227162",
     "status": "completed"
    },
    "tags": []
   },
   "outputs": [
    {
     "data": {
      "text/html": [
       "<div>\n",
       "<style scoped>\n",
       "    .dataframe tbody tr th:only-of-type {\n",
       "        vertical-align: middle;\n",
       "    }\n",
       "\n",
       "    .dataframe tbody tr th {\n",
       "        vertical-align: top;\n",
       "    }\n",
       "\n",
       "    .dataframe thead th {\n",
       "        text-align: right;\n",
       "    }\n",
       "</style>\n",
       "<table border=\"1\" class=\"dataframe\">\n",
       "  <thead>\n",
       "    <tr style=\"text-align: right;\">\n",
       "      <th></th>\n",
       "      <th>age</th>\n",
       "      <th>workclass</th>\n",
       "      <th>fnlwgt</th>\n",
       "      <th>education.num</th>\n",
       "      <th>capital.gain</th>\n",
       "      <th>capital.loss</th>\n",
       "      <th>hours.per.week</th>\n",
       "      <th>native.country</th>\n",
       "      <th>marital.status_0</th>\n",
       "      <th>marital.status_1</th>\n",
       "      <th>...</th>\n",
       "      <th>occupation_13</th>\n",
       "      <th>relationship_0</th>\n",
       "      <th>relationship_1</th>\n",
       "      <th>race_0</th>\n",
       "      <th>race_1</th>\n",
       "      <th>race_2</th>\n",
       "      <th>race_3</th>\n",
       "      <th>race_4</th>\n",
       "      <th>sex_0</th>\n",
       "      <th>sex_1</th>\n",
       "    </tr>\n",
       "  </thead>\n",
       "  <tbody>\n",
       "    <tr>\n",
       "      <th>21851</th>\n",
       "      <td>2</td>\n",
       "      <td>3</td>\n",
       "      <td>0.502227</td>\n",
       "      <td>13</td>\n",
       "      <td>0</td>\n",
       "      <td>0</td>\n",
       "      <td>0.775410</td>\n",
       "      <td>38</td>\n",
       "      <td>0</td>\n",
       "      <td>1</td>\n",
       "      <td>...</td>\n",
       "      <td>0</td>\n",
       "      <td>0</td>\n",
       "      <td>1</td>\n",
       "      <td>0</td>\n",
       "      <td>0</td>\n",
       "      <td>0</td>\n",
       "      <td>0</td>\n",
       "      <td>1</td>\n",
       "      <td>0</td>\n",
       "      <td>1</td>\n",
       "    </tr>\n",
       "    <tr>\n",
       "      <th>7632</th>\n",
       "      <td>4</td>\n",
       "      <td>3</td>\n",
       "      <td>-0.820289</td>\n",
       "      <td>14</td>\n",
       "      <td>0</td>\n",
       "      <td>0</td>\n",
       "      <td>-0.034014</td>\n",
       "      <td>38</td>\n",
       "      <td>1</td>\n",
       "      <td>0</td>\n",
       "      <td>...</td>\n",
       "      <td>0</td>\n",
       "      <td>1</td>\n",
       "      <td>0</td>\n",
       "      <td>0</td>\n",
       "      <td>0</td>\n",
       "      <td>0</td>\n",
       "      <td>0</td>\n",
       "      <td>1</td>\n",
       "      <td>1</td>\n",
       "      <td>0</td>\n",
       "    </tr>\n",
       "    <tr>\n",
       "      <th>27878</th>\n",
       "      <td>0</td>\n",
       "      <td>3</td>\n",
       "      <td>0.129206</td>\n",
       "      <td>10</td>\n",
       "      <td>0</td>\n",
       "      <td>0</td>\n",
       "      <td>-1.248149</td>\n",
       "      <td>38</td>\n",
       "      <td>0</td>\n",
       "      <td>0</td>\n",
       "      <td>...</td>\n",
       "      <td>0</td>\n",
       "      <td>1</td>\n",
       "      <td>0</td>\n",
       "      <td>0</td>\n",
       "      <td>0</td>\n",
       "      <td>0</td>\n",
       "      <td>0</td>\n",
       "      <td>1</td>\n",
       "      <td>1</td>\n",
       "      <td>0</td>\n",
       "    </tr>\n",
       "    <tr>\n",
       "      <th>14121</th>\n",
       "      <td>0</td>\n",
       "      <td>3</td>\n",
       "      <td>-0.833155</td>\n",
       "      <td>9</td>\n",
       "      <td>0</td>\n",
       "      <td>0</td>\n",
       "      <td>-0.843438</td>\n",
       "      <td>38</td>\n",
       "      <td>0</td>\n",
       "      <td>0</td>\n",
       "      <td>...</td>\n",
       "      <td>0</td>\n",
       "      <td>0</td>\n",
       "      <td>1</td>\n",
       "      <td>0</td>\n",
       "      <td>0</td>\n",
       "      <td>0</td>\n",
       "      <td>0</td>\n",
       "      <td>1</td>\n",
       "      <td>0</td>\n",
       "      <td>1</td>\n",
       "    </tr>\n",
       "    <tr>\n",
       "      <th>32345</th>\n",
       "      <td>4</td>\n",
       "      <td>6</td>\n",
       "      <td>-0.485924</td>\n",
       "      <td>9</td>\n",
       "      <td>0</td>\n",
       "      <td>0</td>\n",
       "      <td>-0.034014</td>\n",
       "      <td>38</td>\n",
       "      <td>0</td>\n",
       "      <td>1</td>\n",
       "      <td>...</td>\n",
       "      <td>0</td>\n",
       "      <td>0</td>\n",
       "      <td>1</td>\n",
       "      <td>0</td>\n",
       "      <td>0</td>\n",
       "      <td>0</td>\n",
       "      <td>0</td>\n",
       "      <td>1</td>\n",
       "      <td>0</td>\n",
       "      <td>1</td>\n",
       "    </tr>\n",
       "  </tbody>\n",
       "</table>\n",
       "<p>5 rows × 34 columns</p>\n",
       "</div>"
      ],
      "text/plain": [
       "       age  workclass    fnlwgt  education.num  capital.gain  capital.loss  \\\n",
       "21851    2          3  0.502227             13             0             0   \n",
       "7632     4          3 -0.820289             14             0             0   \n",
       "27878    0          3  0.129206             10             0             0   \n",
       "14121    0          3 -0.833155              9             0             0   \n",
       "32345    4          6 -0.485924              9             0             0   \n",
       "\n",
       "       hours.per.week  native.country  marital.status_0  marital.status_1  \\\n",
       "21851        0.775410              38                 0                 1   \n",
       "7632        -0.034014              38                 1                 0   \n",
       "27878       -1.248149              38                 0                 0   \n",
       "14121       -0.843438              38                 0                 0   \n",
       "32345       -0.034014              38                 0                 1   \n",
       "\n",
       "       ...  occupation_13  relationship_0  relationship_1  race_0  race_1  \\\n",
       "21851  ...              0               0               1       0       0   \n",
       "7632   ...              0               1               0       0       0   \n",
       "27878  ...              0               1               0       0       0   \n",
       "14121  ...              0               0               1       0       0   \n",
       "32345  ...              0               0               1       0       0   \n",
       "\n",
       "       race_2  race_3  race_4  sex_0  sex_1  \n",
       "21851       0       0       1      0      1  \n",
       "7632        0       0       1      1      0  \n",
       "27878       0       0       1      1      0  \n",
       "14121       0       0       1      0      1  \n",
       "32345       0       0       1      0      1  \n",
       "\n",
       "[5 rows x 34 columns]"
      ]
     },
     "execution_count": 27,
     "metadata": {},
     "output_type": "execute_result"
    }
   ],
   "source": [
    "X_train.head()"
   ]
  },
  {
   "cell_type": "code",
   "execution_count": 28,
   "id": "33343fb6",
   "metadata": {
    "execution": {
     "iopub.execute_input": "2022-11-28T06:25:53.437162Z",
     "iopub.status.busy": "2022-11-28T06:25:53.434922Z",
     "iopub.status.idle": "2022-11-28T06:25:53.454886Z",
     "shell.execute_reply": "2022-11-28T06:25:53.455459Z",
     "shell.execute_reply.started": "2022-11-28T06:24:40.547953Z"
    },
    "papermill": {
     "duration": 0.087468,
     "end_time": "2022-11-28T06:25:53.455726",
     "exception": false,
     "start_time": "2022-11-28T06:25:53.368258",
     "status": "completed"
    },
    "tags": []
   },
   "outputs": [
    {
     "data": {
      "text/html": [
       "<div>\n",
       "<style scoped>\n",
       "    .dataframe tbody tr th:only-of-type {\n",
       "        vertical-align: middle;\n",
       "    }\n",
       "\n",
       "    .dataframe tbody tr th {\n",
       "        vertical-align: top;\n",
       "    }\n",
       "\n",
       "    .dataframe thead th {\n",
       "        text-align: right;\n",
       "    }\n",
       "</style>\n",
       "<table border=\"1\" class=\"dataframe\">\n",
       "  <thead>\n",
       "    <tr style=\"text-align: right;\">\n",
       "      <th></th>\n",
       "      <th>age</th>\n",
       "      <th>workclass</th>\n",
       "      <th>fnlwgt</th>\n",
       "      <th>education.num</th>\n",
       "      <th>capital.gain</th>\n",
       "      <th>capital.loss</th>\n",
       "      <th>hours.per.week</th>\n",
       "      <th>native.country</th>\n",
       "      <th>marital.status_0</th>\n",
       "      <th>marital.status_1</th>\n",
       "      <th>...</th>\n",
       "      <th>occupation_13</th>\n",
       "      <th>relationship_0</th>\n",
       "      <th>relationship_1</th>\n",
       "      <th>race_0</th>\n",
       "      <th>race_1</th>\n",
       "      <th>race_2</th>\n",
       "      <th>race_3</th>\n",
       "      <th>race_4</th>\n",
       "      <th>sex_0</th>\n",
       "      <th>sex_1</th>\n",
       "    </tr>\n",
       "  </thead>\n",
       "  <tbody>\n",
       "    <tr>\n",
       "      <th>20901</th>\n",
       "      <td>4</td>\n",
       "      <td>2</td>\n",
       "      <td>-0.691301</td>\n",
       "      <td>9</td>\n",
       "      <td>0</td>\n",
       "      <td>0</td>\n",
       "      <td>-0.041108</td>\n",
       "      <td>37</td>\n",
       "      <td>0</td>\n",
       "      <td>1</td>\n",
       "      <td>...</td>\n",
       "      <td>0</td>\n",
       "      <td>0</td>\n",
       "      <td>1</td>\n",
       "      <td>0</td>\n",
       "      <td>0</td>\n",
       "      <td>0</td>\n",
       "      <td>0</td>\n",
       "      <td>1</td>\n",
       "      <td>0</td>\n",
       "      <td>1</td>\n",
       "    </tr>\n",
       "    <tr>\n",
       "      <th>14170</th>\n",
       "      <td>3</td>\n",
       "      <td>2</td>\n",
       "      <td>0.512776</td>\n",
       "      <td>9</td>\n",
       "      <td>0</td>\n",
       "      <td>0</td>\n",
       "      <td>-0.041108</td>\n",
       "      <td>37</td>\n",
       "      <td>0</td>\n",
       "      <td>1</td>\n",
       "      <td>...</td>\n",
       "      <td>1</td>\n",
       "      <td>0</td>\n",
       "      <td>1</td>\n",
       "      <td>0</td>\n",
       "      <td>0</td>\n",
       "      <td>0</td>\n",
       "      <td>0</td>\n",
       "      <td>1</td>\n",
       "      <td>0</td>\n",
       "      <td>1</td>\n",
       "    </tr>\n",
       "    <tr>\n",
       "      <th>1776</th>\n",
       "      <td>4</td>\n",
       "      <td>1</td>\n",
       "      <td>-0.792861</td>\n",
       "      <td>14</td>\n",
       "      <td>15831</td>\n",
       "      <td>0</td>\n",
       "      <td>2.556708</td>\n",
       "      <td>37</td>\n",
       "      <td>0</td>\n",
       "      <td>0</td>\n",
       "      <td>...</td>\n",
       "      <td>0</td>\n",
       "      <td>0</td>\n",
       "      <td>1</td>\n",
       "      <td>0</td>\n",
       "      <td>0</td>\n",
       "      <td>0</td>\n",
       "      <td>0</td>\n",
       "      <td>1</td>\n",
       "      <td>1</td>\n",
       "      <td>0</td>\n",
       "    </tr>\n",
       "    <tr>\n",
       "      <th>30428</th>\n",
       "      <td>0</td>\n",
       "      <td>2</td>\n",
       "      <td>-0.227676</td>\n",
       "      <td>10</td>\n",
       "      <td>0</td>\n",
       "      <td>0</td>\n",
       "      <td>-2.070652</td>\n",
       "      <td>37</td>\n",
       "      <td>0</td>\n",
       "      <td>0</td>\n",
       "      <td>...</td>\n",
       "      <td>0</td>\n",
       "      <td>0</td>\n",
       "      <td>1</td>\n",
       "      <td>0</td>\n",
       "      <td>0</td>\n",
       "      <td>0</td>\n",
       "      <td>0</td>\n",
       "      <td>1</td>\n",
       "      <td>0</td>\n",
       "      <td>1</td>\n",
       "    </tr>\n",
       "    <tr>\n",
       "      <th>8602</th>\n",
       "      <td>0</td>\n",
       "      <td>5</td>\n",
       "      <td>-1.204152</td>\n",
       "      <td>10</td>\n",
       "      <td>0</td>\n",
       "      <td>0</td>\n",
       "      <td>-0.041108</td>\n",
       "      <td>37</td>\n",
       "      <td>0</td>\n",
       "      <td>1</td>\n",
       "      <td>...</td>\n",
       "      <td>0</td>\n",
       "      <td>0</td>\n",
       "      <td>1</td>\n",
       "      <td>0</td>\n",
       "      <td>0</td>\n",
       "      <td>0</td>\n",
       "      <td>0</td>\n",
       "      <td>1</td>\n",
       "      <td>0</td>\n",
       "      <td>1</td>\n",
       "    </tr>\n",
       "  </tbody>\n",
       "</table>\n",
       "<p>5 rows × 34 columns</p>\n",
       "</div>"
      ],
      "text/plain": [
       "       age  workclass    fnlwgt  education.num  capital.gain  capital.loss  \\\n",
       "20901    4          2 -0.691301              9             0             0   \n",
       "14170    3          2  0.512776              9             0             0   \n",
       "1776     4          1 -0.792861             14         15831             0   \n",
       "30428    0          2 -0.227676             10             0             0   \n",
       "8602     0          5 -1.204152             10             0             0   \n",
       "\n",
       "       hours.per.week  native.country  marital.status_0  marital.status_1  \\\n",
       "20901       -0.041108              37                 0                 1   \n",
       "14170       -0.041108              37                 0                 1   \n",
       "1776         2.556708              37                 0                 0   \n",
       "30428       -2.070652              37                 0                 0   \n",
       "8602        -0.041108              37                 0                 1   \n",
       "\n",
       "       ...  occupation_13  relationship_0  relationship_1  race_0  race_1  \\\n",
       "20901  ...              0               0               1       0       0   \n",
       "14170  ...              1               0               1       0       0   \n",
       "1776   ...              0               0               1       0       0   \n",
       "30428  ...              0               0               1       0       0   \n",
       "8602   ...              0               0               1       0       0   \n",
       "\n",
       "       race_2  race_3  race_4  sex_0  sex_1  \n",
       "20901       0       0       1      0      1  \n",
       "14170       0       0       1      0      1  \n",
       "1776        0       0       1      1      0  \n",
       "30428       0       0       1      0      1  \n",
       "8602        0       0       1      0      1  \n",
       "\n",
       "[5 rows x 34 columns]"
      ]
     },
     "execution_count": 28,
     "metadata": {},
     "output_type": "execute_result"
    }
   ],
   "source": [
    "X_test.head()"
   ]
  },
  {
   "cell_type": "code",
   "execution_count": 29,
   "id": "6394d492",
   "metadata": {
    "execution": {
     "iopub.execute_input": "2022-11-28T06:25:53.576390Z",
     "iopub.status.busy": "2022-11-28T06:25:53.575558Z",
     "iopub.status.idle": "2022-11-28T06:25:57.632924Z",
     "shell.execute_reply": "2022-11-28T06:25:57.632174Z",
     "shell.execute_reply.started": "2022-11-28T06:24:40.568867Z"
    },
    "papermill": {
     "duration": 4.119182,
     "end_time": "2022-11-28T06:25:57.633104",
     "exception": false,
     "start_time": "2022-11-28T06:25:53.513922",
     "status": "completed"
    },
    "tags": []
   },
   "outputs": [
    {
     "name": "stderr",
     "output_type": "stream",
     "text": [
      "/opt/conda/lib/python3.7/site-packages/ipykernel_launcher.py:3: DataConversionWarning: A column-vector y was passed when a 1d array was expected. Please change the shape of y to (n_samples,), for example using ravel().\n",
      "  This is separate from the ipykernel package so we can avoid doing imports until\n"
     ]
    }
   ],
   "source": [
    "from sklearn.ensemble import RandomForestClassifier\n",
    "model1=RandomForestClassifier()\n",
    "model1.fit(X_train,y_train)\n",
    "pred1=model1.predict(X_test)"
   ]
  },
  {
   "cell_type": "code",
   "execution_count": 30,
   "id": "2147af08",
   "metadata": {
    "execution": {
     "iopub.execute_input": "2022-11-28T06:25:57.754444Z",
     "iopub.status.busy": "2022-11-28T06:25:57.753510Z",
     "iopub.status.idle": "2022-11-28T06:26:00.665316Z",
     "shell.execute_reply": "2022-11-28T06:26:00.666000Z",
     "shell.execute_reply.started": "2022-11-28T06:24:43.813467Z"
    },
    "papermill": {
     "duration": 2.975478,
     "end_time": "2022-11-28T06:26:00.666234",
     "exception": false,
     "start_time": "2022-11-28T06:25:57.690756",
     "status": "completed"
    },
    "tags": []
   },
   "outputs": [
    {
     "name": "stderr",
     "output_type": "stream",
     "text": [
      "/opt/conda/lib/python3.7/site-packages/xgboost/sklearn.py:1224: UserWarning: The use of label encoder in XGBClassifier is deprecated and will be removed in a future release. To remove this warning, do the following: 1) Pass option use_label_encoder=False when constructing XGBClassifier object; and 2) Encode your labels (y) as integers starting with 0, i.e. 0, 1, 2, ..., [num_class - 1].\n",
      "  warnings.warn(label_encoder_deprecation_msg, UserWarning)\n",
      "/opt/conda/lib/python3.7/site-packages/sklearn/utils/validation.py:72: DataConversionWarning: A column-vector y was passed when a 1d array was expected. Please change the shape of y to (n_samples, ), for example using ravel().\n",
      "  return f(**kwargs)\n"
     ]
    },
    {
     "name": "stdout",
     "output_type": "stream",
     "text": [
      "[06:25:57] WARNING: ../src/learner.cc:1115: Starting in XGBoost 1.3.0, the default evaluation metric used with the objective 'binary:logistic' was changed from 'error' to 'logloss'. Explicitly set eval_metric if you'd like to restore the old behavior.\n"
     ]
    }
   ],
   "source": [
    "from xgboost import XGBClassifier\n",
    "model2=XGBClassifier()\n",
    "model2.fit(X_train,y_train)\n",
    "pred2=model2.predict(X_test)"
   ]
  },
  {
   "cell_type": "code",
   "execution_count": 31,
   "id": "c5d247bc",
   "metadata": {
    "execution": {
     "iopub.execute_input": "2022-11-28T06:26:00.792189Z",
     "iopub.status.busy": "2022-11-28T06:26:00.791070Z",
     "iopub.status.idle": "2022-11-28T06:26:00.821957Z",
     "shell.execute_reply": "2022-11-28T06:26:00.820732Z",
     "shell.execute_reply.started": "2022-11-28T06:24:45.890447Z"
    },
    "papermill": {
     "duration": 0.095125,
     "end_time": "2022-11-28T06:26:00.822202",
     "exception": false,
     "start_time": "2022-11-28T06:26:00.727077",
     "status": "completed"
    },
    "tags": []
   },
   "outputs": [
    {
     "name": "stdout",
     "output_type": "stream",
     "text": [
      "0.8490710885920467\n",
      "0.8671886995240289\n"
     ]
    }
   ],
   "source": [
    "from sklearn.metrics import accuracy_score\n",
    "print(accuracy_score(y_test,pred1))\n",
    "print(accuracy_score(y_test,pred2))"
   ]
  },
  {
   "cell_type": "code",
   "execution_count": 32,
   "id": "8437c6f3",
   "metadata": {
    "execution": {
     "iopub.execute_input": "2022-11-28T06:26:00.947569Z",
     "iopub.status.busy": "2022-11-28T06:26:00.945948Z",
     "iopub.status.idle": "2022-11-28T06:26:00.961520Z",
     "shell.execute_reply": "2022-11-28T06:26:00.962114Z",
     "shell.execute_reply.started": "2022-11-28T06:24:45.918106Z"
    },
    "papermill": {
     "duration": 0.080906,
     "end_time": "2022-11-28T06:26:00.962338",
     "exception": false,
     "start_time": "2022-11-28T06:26:00.881432",
     "status": "completed"
    },
    "tags": []
   },
   "outputs": [],
   "source": [
    "pd.DataFrame({'id':id,'income':pred2}).to_csv('00300000.csv',index=False)"
   ]
  },
  {
   "cell_type": "code",
   "execution_count": 33,
   "id": "3ea94414",
   "metadata": {
    "execution": {
     "iopub.execute_input": "2022-11-28T06:26:01.086945Z",
     "iopub.status.busy": "2022-11-28T06:26:01.086194Z",
     "iopub.status.idle": "2022-11-28T06:26:01.102198Z",
     "shell.execute_reply": "2022-11-28T06:26:01.102706Z",
     "shell.execute_reply.started": "2022-11-28T06:24:45.933722Z"
    },
    "papermill": {
     "duration": 0.078487,
     "end_time": "2022-11-28T06:26:01.102929",
     "exception": false,
     "start_time": "2022-11-28T06:26:01.024442",
     "status": "completed"
    },
    "tags": []
   },
   "outputs": [
    {
     "data": {
      "text/html": [
       "<div>\n",
       "<style scoped>\n",
       "    .dataframe tbody tr th:only-of-type {\n",
       "        vertical-align: middle;\n",
       "    }\n",
       "\n",
       "    .dataframe tbody tr th {\n",
       "        vertical-align: top;\n",
       "    }\n",
       "\n",
       "    .dataframe thead th {\n",
       "        text-align: right;\n",
       "    }\n",
       "</style>\n",
       "<table border=\"1\" class=\"dataframe\">\n",
       "  <thead>\n",
       "    <tr style=\"text-align: right;\">\n",
       "      <th></th>\n",
       "      <th>id</th>\n",
       "      <th>income</th>\n",
       "    </tr>\n",
       "  </thead>\n",
       "  <tbody>\n",
       "    <tr>\n",
       "      <th>0</th>\n",
       "      <td>20901</td>\n",
       "      <td>&gt;50K</td>\n",
       "    </tr>\n",
       "    <tr>\n",
       "      <th>1</th>\n",
       "      <td>14170</td>\n",
       "      <td>&lt;=50K</td>\n",
       "    </tr>\n",
       "    <tr>\n",
       "      <th>2</th>\n",
       "      <td>1776</td>\n",
       "      <td>&gt;50K</td>\n",
       "    </tr>\n",
       "    <tr>\n",
       "      <th>3</th>\n",
       "      <td>30428</td>\n",
       "      <td>&lt;=50K</td>\n",
       "    </tr>\n",
       "    <tr>\n",
       "      <th>4</th>\n",
       "      <td>8602</td>\n",
       "      <td>&lt;=50K</td>\n",
       "    </tr>\n",
       "    <tr>\n",
       "      <th>...</th>\n",
       "      <td>...</td>\n",
       "      <td>...</td>\n",
       "    </tr>\n",
       "    <tr>\n",
       "      <th>6508</th>\n",
       "      <td>31222</td>\n",
       "      <td>&lt;=50K</td>\n",
       "    </tr>\n",
       "    <tr>\n",
       "      <th>6509</th>\n",
       "      <td>10861</td>\n",
       "      <td>&lt;=50K</td>\n",
       "    </tr>\n",
       "    <tr>\n",
       "      <th>6510</th>\n",
       "      <td>8929</td>\n",
       "      <td>&lt;=50K</td>\n",
       "    </tr>\n",
       "    <tr>\n",
       "      <th>6511</th>\n",
       "      <td>2066</td>\n",
       "      <td>&gt;50K</td>\n",
       "    </tr>\n",
       "    <tr>\n",
       "      <th>6512</th>\n",
       "      <td>25782</td>\n",
       "      <td>&gt;50K</td>\n",
       "    </tr>\n",
       "  </tbody>\n",
       "</table>\n",
       "<p>6513 rows × 2 columns</p>\n",
       "</div>"
      ],
      "text/plain": [
       "         id income\n",
       "0     20901   >50K\n",
       "1     14170  <=50K\n",
       "2      1776   >50K\n",
       "3     30428  <=50K\n",
       "4      8602  <=50K\n",
       "...     ...    ...\n",
       "6508  31222  <=50K\n",
       "6509  10861  <=50K\n",
       "6510   8929  <=50K\n",
       "6511   2066   >50K\n",
       "6512  25782   >50K\n",
       "\n",
       "[6513 rows x 2 columns]"
      ]
     },
     "execution_count": 33,
     "metadata": {},
     "output_type": "execute_result"
    }
   ],
   "source": [
    "pd.read_csv('00300000.csv')"
   ]
  },
  {
   "cell_type": "markdown",
   "id": "495bf123",
   "metadata": {
    "papermill": {
     "duration": 0.058507,
     "end_time": "2022-11-28T06:26:01.220637",
     "exception": false,
     "start_time": "2022-11-28T06:26:01.162130",
     "status": "completed"
    },
    "tags": []
   },
   "source": [
    "# 사용자 코딩"
   ]
  },
  {
   "cell_type": "code",
   "execution_count": 34,
   "id": "2b2f8619",
   "metadata": {
    "execution": {
     "iopub.execute_input": "2022-11-28T06:26:01.348508Z",
     "iopub.status.busy": "2022-11-28T06:26:01.342457Z",
     "iopub.status.idle": "2022-11-28T06:26:01.501039Z",
     "shell.execute_reply": "2022-11-28T06:26:01.500283Z",
     "shell.execute_reply.started": "2022-11-28T06:24:45.950416Z"
    },
    "papermill": {
     "duration": 0.22145,
     "end_time": "2022-11-28T06:26:01.501227",
     "exception": false,
     "start_time": "2022-11-28T06:26:01.279777",
     "status": "completed"
    },
    "tags": []
   },
   "outputs": [
    {
     "data": {
      "text/plain": [
       "((26048, 15), (6513, 15), (26048, 2), (6513, 2))"
      ]
     },
     "execution_count": 34,
     "metadata": {},
     "output_type": "execute_result"
    }
   ],
   "source": [
    "# 시험환경 세팅 (코드 변경 X)\n",
    "import pandas as pd\n",
    "import numpy as np\n",
    "from sklearn.model_selection import train_test_split\n",
    "\n",
    "def exam_data_load(df, target, id_name=\"\", null_name=\"\"):\n",
    "    if id_name == \"\":\n",
    "        df = df.reset_index().rename(columns={\"index\": \"id\"})\n",
    "        id_name = 'id'\n",
    "    else:\n",
    "        id_name = id_name\n",
    "    \n",
    "    if null_name != \"\":\n",
    "        df[df == null_name] = np.nan\n",
    "    \n",
    "    X_train, X_test = train_test_split(df, test_size=0.2, random_state=2021)\n",
    "    \n",
    "    y_train = X_train[[id_name, target]]\n",
    "    X_train = X_train.drop(columns=[target])\n",
    "\n",
    "    \n",
    "    y_test = X_test[[id_name, target]]\n",
    "    X_test = X_test.drop(columns=[target])\n",
    "    return X_train, X_test, y_train, y_test \n",
    "    \n",
    "df = pd.read_csv(\"../input/adult-census-income/adult.csv\")\n",
    "X_train, X_test, y_train, y_test = exam_data_load(df, target='income', null_name='?')\n",
    "\n",
    "X_train.shape, X_test.shape, y_train.shape, y_test.shape"
   ]
  },
  {
   "cell_type": "markdown",
   "id": "6ed1a6f7",
   "metadata": {
    "papermill": {
     "duration": 0.060083,
     "end_time": "2022-11-28T06:26:01.621385",
     "exception": false,
     "start_time": "2022-11-28T06:26:01.561302",
     "status": "completed"
    },
    "tags": []
   },
   "source": [
    "## 라이브러리 불러오기"
   ]
  },
  {
   "cell_type": "code",
   "execution_count": 35,
   "id": "f004e142",
   "metadata": {
    "execution": {
     "iopub.execute_input": "2022-11-28T06:26:01.745213Z",
     "iopub.status.busy": "2022-11-28T06:26:01.744132Z",
     "iopub.status.idle": "2022-11-28T06:26:01.747468Z",
     "shell.execute_reply": "2022-11-28T06:26:01.748120Z",
     "shell.execute_reply.started": "2022-11-28T06:24:46.056979Z"
    },
    "papermill": {
     "duration": 0.067399,
     "end_time": "2022-11-28T06:26:01.748329",
     "exception": false,
     "start_time": "2022-11-28T06:26:01.680930",
     "status": "completed"
    },
    "tags": []
   },
   "outputs": [],
   "source": [
    "import pandas as pd\n",
    "import numpy as np"
   ]
  },
  {
   "cell_type": "markdown",
   "id": "58f16c59",
   "metadata": {
    "papermill": {
     "duration": 0.059201,
     "end_time": "2022-11-28T06:26:01.867563",
     "exception": false,
     "start_time": "2022-11-28T06:26:01.808362",
     "status": "completed"
    },
    "tags": []
   },
   "source": [
    "## 데이터 불러오기(생략)"
   ]
  },
  {
   "cell_type": "code",
   "execution_count": 36,
   "id": "cf4015ec",
   "metadata": {
    "execution": {
     "iopub.execute_input": "2022-11-28T06:26:01.991564Z",
     "iopub.status.busy": "2022-11-28T06:26:01.990524Z",
     "iopub.status.idle": "2022-11-28T06:26:01.994006Z",
     "shell.execute_reply": "2022-11-28T06:26:01.994629Z",
     "shell.execute_reply.started": "2022-11-28T06:24:46.061634Z"
    },
    "papermill": {
     "duration": 0.067514,
     "end_time": "2022-11-28T06:26:01.994852",
     "exception": false,
     "start_time": "2022-11-28T06:26:01.927338",
     "status": "completed"
    },
    "tags": []
   },
   "outputs": [],
   "source": [
    "# 시험환경에서는 아래와 같이 제공된다고 함\n",
    "# import pandas as pd\n",
    "# X_test = pd.read_csv(\"data/X_test.csv\")\n",
    "# X_train = pd.read_csv(\"data/X_train.csv\")\n",
    "# y_train = pd.read_csv(\"data/y_train.csv\")"
   ]
  },
  {
   "cell_type": "markdown",
   "id": "1fdcc9dd",
   "metadata": {
    "papermill": {
     "duration": 0.05896,
     "end_time": "2022-11-28T06:26:02.115886",
     "exception": false,
     "start_time": "2022-11-28T06:26:02.056926",
     "status": "completed"
    },
    "tags": []
   },
   "source": [
    "## EDA"
   ]
  },
  {
   "cell_type": "code",
   "execution_count": 37,
   "id": "523e9d65",
   "metadata": {
    "execution": {
     "iopub.execute_input": "2022-11-28T06:26:02.240536Z",
     "iopub.status.busy": "2022-11-28T06:26:02.239502Z",
     "iopub.status.idle": "2022-11-28T06:26:02.245344Z",
     "shell.execute_reply": "2022-11-28T06:26:02.245852Z",
     "shell.execute_reply.started": "2022-11-28T06:24:46.073681Z"
    },
    "papermill": {
     "duration": 0.070826,
     "end_time": "2022-11-28T06:26:02.246076",
     "exception": false,
     "start_time": "2022-11-28T06:26:02.175250",
     "status": "completed"
    },
    "tags": []
   },
   "outputs": [
    {
     "data": {
      "text/plain": [
       "((26048, 15), (6513, 15), (26048, 2))"
      ]
     },
     "execution_count": 37,
     "metadata": {},
     "output_type": "execute_result"
    }
   ],
   "source": [
    "# 데이터 크기 확인\n",
    "X_train.shape, X_test.shape, y_train.shape"
   ]
  },
  {
   "cell_type": "code",
   "execution_count": 38,
   "id": "07c9e963",
   "metadata": {
    "execution": {
     "iopub.execute_input": "2022-11-28T06:26:02.377228Z",
     "iopub.status.busy": "2022-11-28T06:26:02.369652Z",
     "iopub.status.idle": "2022-11-28T06:26:02.387868Z",
     "shell.execute_reply": "2022-11-28T06:26:02.387305Z",
     "shell.execute_reply.started": "2022-11-28T06:24:46.085797Z"
    },
    "papermill": {
     "duration": 0.081441,
     "end_time": "2022-11-28T06:26:02.388040",
     "exception": false,
     "start_time": "2022-11-28T06:26:02.306599",
     "status": "completed"
    },
    "tags": []
   },
   "outputs": [
    {
     "data": {
      "text/html": [
       "<div>\n",
       "<style scoped>\n",
       "    .dataframe tbody tr th:only-of-type {\n",
       "        vertical-align: middle;\n",
       "    }\n",
       "\n",
       "    .dataframe tbody tr th {\n",
       "        vertical-align: top;\n",
       "    }\n",
       "\n",
       "    .dataframe thead th {\n",
       "        text-align: right;\n",
       "    }\n",
       "</style>\n",
       "<table border=\"1\" class=\"dataframe\">\n",
       "  <thead>\n",
       "    <tr style=\"text-align: right;\">\n",
       "      <th></th>\n",
       "      <th>id</th>\n",
       "      <th>age</th>\n",
       "      <th>workclass</th>\n",
       "      <th>fnlwgt</th>\n",
       "      <th>education</th>\n",
       "      <th>education.num</th>\n",
       "      <th>marital.status</th>\n",
       "      <th>occupation</th>\n",
       "      <th>relationship</th>\n",
       "      <th>race</th>\n",
       "      <th>sex</th>\n",
       "      <th>capital.gain</th>\n",
       "      <th>capital.loss</th>\n",
       "      <th>hours.per.week</th>\n",
       "      <th>native.country</th>\n",
       "    </tr>\n",
       "  </thead>\n",
       "  <tbody>\n",
       "    <tr>\n",
       "      <th>21851</th>\n",
       "      <td>21851</td>\n",
       "      <td>36</td>\n",
       "      <td>Private</td>\n",
       "      <td>241998</td>\n",
       "      <td>Bachelors</td>\n",
       "      <td>13</td>\n",
       "      <td>Married-civ-spouse</td>\n",
       "      <td>Craft-repair</td>\n",
       "      <td>Husband</td>\n",
       "      <td>White</td>\n",
       "      <td>Male</td>\n",
       "      <td>0</td>\n",
       "      <td>0</td>\n",
       "      <td>50</td>\n",
       "      <td>United-States</td>\n",
       "    </tr>\n",
       "    <tr>\n",
       "      <th>7632</th>\n",
       "      <td>7632</td>\n",
       "      <td>53</td>\n",
       "      <td>Private</td>\n",
       "      <td>103950</td>\n",
       "      <td>Masters</td>\n",
       "      <td>14</td>\n",
       "      <td>Divorced</td>\n",
       "      <td>Prof-specialty</td>\n",
       "      <td>Not-in-family</td>\n",
       "      <td>White</td>\n",
       "      <td>Female</td>\n",
       "      <td>0</td>\n",
       "      <td>0</td>\n",
       "      <td>40</td>\n",
       "      <td>United-States</td>\n",
       "    </tr>\n",
       "    <tr>\n",
       "      <th>27878</th>\n",
       "      <td>27878</td>\n",
       "      <td>19</td>\n",
       "      <td>Private</td>\n",
       "      <td>203061</td>\n",
       "      <td>Some-college</td>\n",
       "      <td>10</td>\n",
       "      <td>Never-married</td>\n",
       "      <td>Tech-support</td>\n",
       "      <td>Not-in-family</td>\n",
       "      <td>White</td>\n",
       "      <td>Female</td>\n",
       "      <td>0</td>\n",
       "      <td>0</td>\n",
       "      <td>25</td>\n",
       "      <td>United-States</td>\n",
       "    </tr>\n",
       "    <tr>\n",
       "      <th>14121</th>\n",
       "      <td>14121</td>\n",
       "      <td>20</td>\n",
       "      <td>Private</td>\n",
       "      <td>102607</td>\n",
       "      <td>HS-grad</td>\n",
       "      <td>9</td>\n",
       "      <td>Never-married</td>\n",
       "      <td>Handlers-cleaners</td>\n",
       "      <td>Own-child</td>\n",
       "      <td>White</td>\n",
       "      <td>Male</td>\n",
       "      <td>0</td>\n",
       "      <td>0</td>\n",
       "      <td>30</td>\n",
       "      <td>United-States</td>\n",
       "    </tr>\n",
       "    <tr>\n",
       "      <th>32345</th>\n",
       "      <td>32345</td>\n",
       "      <td>54</td>\n",
       "      <td>State-gov</td>\n",
       "      <td>138852</td>\n",
       "      <td>HS-grad</td>\n",
       "      <td>9</td>\n",
       "      <td>Married-civ-spouse</td>\n",
       "      <td>Prof-specialty</td>\n",
       "      <td>Husband</td>\n",
       "      <td>White</td>\n",
       "      <td>Male</td>\n",
       "      <td>0</td>\n",
       "      <td>0</td>\n",
       "      <td>40</td>\n",
       "      <td>United-States</td>\n",
       "    </tr>\n",
       "  </tbody>\n",
       "</table>\n",
       "</div>"
      ],
      "text/plain": [
       "          id  age  workclass  fnlwgt     education  education.num  \\\n",
       "21851  21851   36    Private  241998     Bachelors             13   \n",
       "7632    7632   53    Private  103950       Masters             14   \n",
       "27878  27878   19    Private  203061  Some-college             10   \n",
       "14121  14121   20    Private  102607       HS-grad              9   \n",
       "32345  32345   54  State-gov  138852       HS-grad              9   \n",
       "\n",
       "           marital.status         occupation   relationship   race     sex  \\\n",
       "21851  Married-civ-spouse       Craft-repair        Husband  White    Male   \n",
       "7632             Divorced     Prof-specialty  Not-in-family  White  Female   \n",
       "27878       Never-married       Tech-support  Not-in-family  White  Female   \n",
       "14121       Never-married  Handlers-cleaners      Own-child  White    Male   \n",
       "32345  Married-civ-spouse     Prof-specialty        Husband  White    Male   \n",
       "\n",
       "       capital.gain  capital.loss  hours.per.week native.country  \n",
       "21851             0             0              50  United-States  \n",
       "7632              0             0              40  United-States  \n",
       "27878             0             0              25  United-States  \n",
       "14121             0             0              30  United-States  \n",
       "32345             0             0              40  United-States  "
      ]
     },
     "execution_count": 38,
     "metadata": {},
     "output_type": "execute_result"
    }
   ],
   "source": [
    "# 데이터 확인\n",
    "X_train.head()"
   ]
  },
  {
   "cell_type": "code",
   "execution_count": 39,
   "id": "fff01f7c",
   "metadata": {
    "execution": {
     "iopub.execute_input": "2022-11-28T06:26:02.518434Z",
     "iopub.status.busy": "2022-11-28T06:26:02.517706Z",
     "iopub.status.idle": "2022-11-28T06:26:02.521599Z",
     "shell.execute_reply": "2022-11-28T06:26:02.522107Z",
     "shell.execute_reply.started": "2022-11-28T06:24:46.107238Z"
    },
    "papermill": {
     "duration": 0.073845,
     "end_time": "2022-11-28T06:26:02.522317",
     "exception": false,
     "start_time": "2022-11-28T06:26:02.448472",
     "status": "completed"
    },
    "tags": []
   },
   "outputs": [
    {
     "data": {
      "text/plain": [
       "<=50K    19756\n",
       ">50K      6292\n",
       "Name: income, dtype: int64"
      ]
     },
     "execution_count": 39,
     "metadata": {},
     "output_type": "execute_result"
    }
   ],
   "source": [
    "# 타겟 수 확인\n",
    "y_train['income'].value_counts()"
   ]
  },
  {
   "cell_type": "code",
   "execution_count": 40,
   "id": "852158b6",
   "metadata": {
    "execution": {
     "iopub.execute_input": "2022-11-28T06:26:02.660041Z",
     "iopub.status.busy": "2022-11-28T06:26:02.659251Z",
     "iopub.status.idle": "2022-11-28T06:26:02.670797Z",
     "shell.execute_reply": "2022-11-28T06:26:02.671888Z",
     "shell.execute_reply.started": "2022-11-28T06:24:46.117583Z"
    },
    "papermill": {
     "duration": 0.088356,
     "end_time": "2022-11-28T06:26:02.672167",
     "exception": false,
     "start_time": "2022-11-28T06:26:02.583811",
     "status": "completed"
    },
    "tags": []
   },
   "outputs": [
    {
     "name": "stdout",
     "output_type": "stream",
     "text": [
      "<class 'pandas.core.frame.DataFrame'>\n",
      "Int64Index: 26048 entries, 21851 to 25716\n",
      "Data columns (total 15 columns):\n",
      " #   Column          Non-Null Count  Dtype \n",
      "---  ------          --------------  ----- \n",
      " 0   id              26048 non-null  int64 \n",
      " 1   age             26048 non-null  int64 \n",
      " 2   workclass       24592 non-null  object\n",
      " 3   fnlwgt          26048 non-null  int64 \n",
      " 4   education       26048 non-null  object\n",
      " 5   education.num   26048 non-null  int64 \n",
      " 6   marital.status  26048 non-null  object\n",
      " 7   occupation      24585 non-null  object\n",
      " 8   relationship    26048 non-null  object\n",
      " 9   race            26048 non-null  object\n",
      " 10  sex             26048 non-null  object\n",
      " 11  capital.gain    26048 non-null  int64 \n",
      " 12  capital.loss    26048 non-null  int64 \n",
      " 13  hours.per.week  26048 non-null  int64 \n",
      " 14  native.country  25587 non-null  object\n",
      "dtypes: int64(7), object(8)\n",
      "memory usage: 3.2+ MB\n"
     ]
    }
   ],
   "source": [
    "# type확인\n",
    "X_train.info()"
   ]
  },
  {
   "cell_type": "code",
   "execution_count": 41,
   "id": "b8115d37",
   "metadata": {
    "execution": {
     "iopub.execute_input": "2022-11-28T06:26:02.804586Z",
     "iopub.status.busy": "2022-11-28T06:26:02.803520Z",
     "iopub.status.idle": "2022-11-28T06:26:02.808680Z",
     "shell.execute_reply": "2022-11-28T06:26:02.809179Z",
     "shell.execute_reply.started": "2022-11-28T06:24:46.136424Z"
    },
    "papermill": {
     "duration": 0.072092,
     "end_time": "2022-11-28T06:26:02.809395",
     "exception": false,
     "start_time": "2022-11-28T06:26:02.737303",
     "status": "completed"
    },
    "tags": []
   },
   "outputs": [],
   "source": [
    "# 피처 구분\n",
    "# Numeric features\n",
    "numeric_features = [\n",
    "                    'age',\n",
    "                    'fnlwgt', \n",
    "                    'education.num',\n",
    "                    'capital.gain', \n",
    "                    'capital.loss', \n",
    "                    'hours.per.week',                     \n",
    "                   ]\n",
    "\n",
    "# Categorical features\n",
    "cat_features = [\n",
    "                 'workclass',              \n",
    "                 'education',            \n",
    "                 'marital.status', \n",
    "                 'occupation', \n",
    "                 'relationship', \n",
    "                 'race', \n",
    "                 'sex',\n",
    "                 'native.country'\n",
    "]"
   ]
  },
  {
   "cell_type": "code",
   "execution_count": 42,
   "id": "2ddc8553",
   "metadata": {
    "execution": {
     "iopub.execute_input": "2022-11-28T06:26:02.935803Z",
     "iopub.status.busy": "2022-11-28T06:26:02.934786Z",
     "iopub.status.idle": "2022-11-28T06:26:02.971300Z",
     "shell.execute_reply": "2022-11-28T06:26:02.971838Z",
     "shell.execute_reply.started": "2022-11-28T06:24:46.141344Z"
    },
    "papermill": {
     "duration": 0.101691,
     "end_time": "2022-11-28T06:26:02.972059",
     "exception": false,
     "start_time": "2022-11-28T06:26:02.870368",
     "status": "completed"
    },
    "tags": []
   },
   "outputs": [
    {
     "data": {
      "text/html": [
       "<div>\n",
       "<style scoped>\n",
       "    .dataframe tbody tr th:only-of-type {\n",
       "        vertical-align: middle;\n",
       "    }\n",
       "\n",
       "    .dataframe tbody tr th {\n",
       "        vertical-align: top;\n",
       "    }\n",
       "\n",
       "    .dataframe thead th {\n",
       "        text-align: right;\n",
       "    }\n",
       "</style>\n",
       "<table border=\"1\" class=\"dataframe\">\n",
       "  <thead>\n",
       "    <tr style=\"text-align: right;\">\n",
       "      <th></th>\n",
       "      <th>age</th>\n",
       "      <th>fnlwgt</th>\n",
       "      <th>education.num</th>\n",
       "      <th>capital.gain</th>\n",
       "      <th>capital.loss</th>\n",
       "      <th>hours.per.week</th>\n",
       "    </tr>\n",
       "  </thead>\n",
       "  <tbody>\n",
       "    <tr>\n",
       "      <th>count</th>\n",
       "      <td>26048.000000</td>\n",
       "      <td>2.604800e+04</td>\n",
       "      <td>26048.000000</td>\n",
       "      <td>26048.000000</td>\n",
       "      <td>26048.000000</td>\n",
       "      <td>26048.000000</td>\n",
       "    </tr>\n",
       "    <tr>\n",
       "      <th>mean</th>\n",
       "      <td>38.610335</td>\n",
       "      <td>1.895741e+05</td>\n",
       "      <td>10.082118</td>\n",
       "      <td>1081.193796</td>\n",
       "      <td>88.477695</td>\n",
       "      <td>40.420224</td>\n",
       "    </tr>\n",
       "    <tr>\n",
       "      <th>std</th>\n",
       "      <td>13.628346</td>\n",
       "      <td>1.043848e+05</td>\n",
       "      <td>2.574608</td>\n",
       "      <td>7404.962675</td>\n",
       "      <td>404.689981</td>\n",
       "      <td>12.354707</td>\n",
       "    </tr>\n",
       "    <tr>\n",
       "      <th>min</th>\n",
       "      <td>17.000000</td>\n",
       "      <td>1.228500e+04</td>\n",
       "      <td>1.000000</td>\n",
       "      <td>0.000000</td>\n",
       "      <td>0.000000</td>\n",
       "      <td>1.000000</td>\n",
       "    </tr>\n",
       "    <tr>\n",
       "      <th>25%</th>\n",
       "      <td>28.000000</td>\n",
       "      <td>1.182472e+05</td>\n",
       "      <td>9.000000</td>\n",
       "      <td>0.000000</td>\n",
       "      <td>0.000000</td>\n",
       "      <td>40.000000</td>\n",
       "    </tr>\n",
       "    <tr>\n",
       "      <th>50%</th>\n",
       "      <td>37.000000</td>\n",
       "      <td>1.785755e+05</td>\n",
       "      <td>10.000000</td>\n",
       "      <td>0.000000</td>\n",
       "      <td>0.000000</td>\n",
       "      <td>40.000000</td>\n",
       "    </tr>\n",
       "    <tr>\n",
       "      <th>75%</th>\n",
       "      <td>48.000000</td>\n",
       "      <td>2.365968e+05</td>\n",
       "      <td>12.000000</td>\n",
       "      <td>0.000000</td>\n",
       "      <td>0.000000</td>\n",
       "      <td>45.000000</td>\n",
       "    </tr>\n",
       "    <tr>\n",
       "      <th>max</th>\n",
       "      <td>90.000000</td>\n",
       "      <td>1.484705e+06</td>\n",
       "      <td>16.000000</td>\n",
       "      <td>99999.000000</td>\n",
       "      <td>4356.000000</td>\n",
       "      <td>99.000000</td>\n",
       "    </tr>\n",
       "  </tbody>\n",
       "</table>\n",
       "</div>"
      ],
      "text/plain": [
       "                age        fnlwgt  education.num  capital.gain  capital.loss  \\\n",
       "count  26048.000000  2.604800e+04   26048.000000  26048.000000  26048.000000   \n",
       "mean      38.610335  1.895741e+05      10.082118   1081.193796     88.477695   \n",
       "std       13.628346  1.043848e+05       2.574608   7404.962675    404.689981   \n",
       "min       17.000000  1.228500e+04       1.000000      0.000000      0.000000   \n",
       "25%       28.000000  1.182472e+05       9.000000      0.000000      0.000000   \n",
       "50%       37.000000  1.785755e+05      10.000000      0.000000      0.000000   \n",
       "75%       48.000000  2.365968e+05      12.000000      0.000000      0.000000   \n",
       "max       90.000000  1.484705e+06      16.000000  99999.000000   4356.000000   \n",
       "\n",
       "       hours.per.week  \n",
       "count    26048.000000  \n",
       "mean        40.420224  \n",
       "std         12.354707  \n",
       "min          1.000000  \n",
       "25%         40.000000  \n",
       "50%         40.000000  \n",
       "75%         45.000000  \n",
       "max         99.000000  "
      ]
     },
     "execution_count": 42,
     "metadata": {},
     "output_type": "execute_result"
    }
   ],
   "source": [
    "X_train[numeric_features].describe()"
   ]
  },
  {
   "cell_type": "code",
   "execution_count": 43,
   "id": "f95afcc5",
   "metadata": {
    "execution": {
     "iopub.execute_input": "2022-11-28T06:26:03.104440Z",
     "iopub.status.busy": "2022-11-28T06:26:03.103321Z",
     "iopub.status.idle": "2022-11-28T06:26:03.149792Z",
     "shell.execute_reply": "2022-11-28T06:26:03.150336Z",
     "shell.execute_reply.started": "2022-11-28T06:24:46.177844Z"
    },
    "papermill": {
     "duration": 0.116504,
     "end_time": "2022-11-28T06:26:03.150544",
     "exception": false,
     "start_time": "2022-11-28T06:26:03.034040",
     "status": "completed"
    },
    "tags": []
   },
   "outputs": [
    {
     "data": {
      "text/html": [
       "<div>\n",
       "<style scoped>\n",
       "    .dataframe tbody tr th:only-of-type {\n",
       "        vertical-align: middle;\n",
       "    }\n",
       "\n",
       "    .dataframe tbody tr th {\n",
       "        vertical-align: top;\n",
       "    }\n",
       "\n",
       "    .dataframe thead th {\n",
       "        text-align: right;\n",
       "    }\n",
       "</style>\n",
       "<table border=\"1\" class=\"dataframe\">\n",
       "  <thead>\n",
       "    <tr style=\"text-align: right;\">\n",
       "      <th></th>\n",
       "      <th>workclass</th>\n",
       "      <th>education</th>\n",
       "      <th>marital.status</th>\n",
       "      <th>occupation</th>\n",
       "      <th>relationship</th>\n",
       "      <th>race</th>\n",
       "      <th>sex</th>\n",
       "      <th>native.country</th>\n",
       "    </tr>\n",
       "  </thead>\n",
       "  <tbody>\n",
       "    <tr>\n",
       "      <th>count</th>\n",
       "      <td>24592</td>\n",
       "      <td>26048</td>\n",
       "      <td>26048</td>\n",
       "      <td>24585</td>\n",
       "      <td>26048</td>\n",
       "      <td>26048</td>\n",
       "      <td>26048</td>\n",
       "      <td>25587</td>\n",
       "    </tr>\n",
       "    <tr>\n",
       "      <th>unique</th>\n",
       "      <td>8</td>\n",
       "      <td>16</td>\n",
       "      <td>7</td>\n",
       "      <td>14</td>\n",
       "      <td>6</td>\n",
       "      <td>5</td>\n",
       "      <td>2</td>\n",
       "      <td>41</td>\n",
       "    </tr>\n",
       "    <tr>\n",
       "      <th>top</th>\n",
       "      <td>Private</td>\n",
       "      <td>HS-grad</td>\n",
       "      <td>Married-civ-spouse</td>\n",
       "      <td>Exec-managerial</td>\n",
       "      <td>Husband</td>\n",
       "      <td>White</td>\n",
       "      <td>Male</td>\n",
       "      <td>United-States</td>\n",
       "    </tr>\n",
       "    <tr>\n",
       "      <th>freq</th>\n",
       "      <td>18160</td>\n",
       "      <td>8408</td>\n",
       "      <td>11987</td>\n",
       "      <td>3323</td>\n",
       "      <td>10558</td>\n",
       "      <td>22270</td>\n",
       "      <td>17400</td>\n",
       "      <td>23381</td>\n",
       "    </tr>\n",
       "  </tbody>\n",
       "</table>\n",
       "</div>"
      ],
      "text/plain": [
       "       workclass education      marital.status       occupation relationship  \\\n",
       "count      24592     26048               26048            24585        26048   \n",
       "unique         8        16                   7               14            6   \n",
       "top      Private   HS-grad  Married-civ-spouse  Exec-managerial      Husband   \n",
       "freq       18160      8408               11987             3323        10558   \n",
       "\n",
       "         race    sex native.country  \n",
       "count   26048  26048          25587  \n",
       "unique      5      2             41  \n",
       "top     White   Male  United-States  \n",
       "freq    22270  17400          23381  "
      ]
     },
     "execution_count": 43,
     "metadata": {},
     "output_type": "execute_result"
    }
   ],
   "source": [
    "X_train[cat_features].describe()"
   ]
  },
  {
   "cell_type": "markdown",
   "id": "fbcf4b52",
   "metadata": {
    "papermill": {
     "duration": 0.063322,
     "end_time": "2022-11-28T06:26:03.276128",
     "exception": false,
     "start_time": "2022-11-28T06:26:03.212806",
     "status": "completed"
    },
    "tags": []
   },
   "source": [
    "## 결측치 처리"
   ]
  },
  {
   "cell_type": "code",
   "execution_count": 44,
   "id": "c04d7794",
   "metadata": {
    "execution": {
     "iopub.execute_input": "2022-11-28T06:26:03.408170Z",
     "iopub.status.busy": "2022-11-28T06:26:03.407408Z",
     "iopub.status.idle": "2022-11-28T06:26:03.426972Z",
     "shell.execute_reply": "2022-11-28T06:26:03.426210Z",
     "shell.execute_reply.started": "2022-11-28T06:24:46.217697Z"
    },
    "papermill": {
     "duration": 0.086161,
     "end_time": "2022-11-28T06:26:03.427175",
     "exception": false,
     "start_time": "2022-11-28T06:26:03.341014",
     "status": "completed"
    },
    "tags": []
   },
   "outputs": [
    {
     "data": {
      "text/plain": [
       "id                   0\n",
       "age                  0\n",
       "workclass         1456\n",
       "fnlwgt               0\n",
       "education            0\n",
       "education.num        0\n",
       "marital.status       0\n",
       "occupation        1463\n",
       "relationship         0\n",
       "race                 0\n",
       "sex                  0\n",
       "capital.gain         0\n",
       "capital.loss         0\n",
       "hours.per.week       0\n",
       "native.country     461\n",
       "dtype: int64"
      ]
     },
     "execution_count": 44,
     "metadata": {},
     "output_type": "execute_result"
    }
   ],
   "source": [
    "X_train.isnull().sum()"
   ]
  },
  {
   "cell_type": "code",
   "execution_count": 45,
   "id": "7b077f14",
   "metadata": {
    "execution": {
     "iopub.execute_input": "2022-11-28T06:26:03.564527Z",
     "iopub.status.busy": "2022-11-28T06:26:03.563651Z",
     "iopub.status.idle": "2022-11-28T06:26:03.571622Z",
     "shell.execute_reply": "2022-11-28T06:26:03.570913Z",
     "shell.execute_reply.started": "2022-11-28T06:24:46.234266Z"
    },
    "papermill": {
     "duration": 0.078945,
     "end_time": "2022-11-28T06:26:03.571812",
     "exception": false,
     "start_time": "2022-11-28T06:26:03.492867",
     "status": "completed"
    },
    "tags": []
   },
   "outputs": [
    {
     "data": {
      "text/plain": [
       "id                  0\n",
       "age                 0\n",
       "workclass         380\n",
       "fnlwgt              0\n",
       "education           0\n",
       "education.num       0\n",
       "marital.status      0\n",
       "occupation        380\n",
       "relationship        0\n",
       "race                0\n",
       "sex                 0\n",
       "capital.gain        0\n",
       "capital.loss        0\n",
       "hours.per.week      0\n",
       "native.country    122\n",
       "dtype: int64"
      ]
     },
     "execution_count": 45,
     "metadata": {},
     "output_type": "execute_result"
    }
   ],
   "source": [
    "X_test.isnull().sum()"
   ]
  },
  {
   "cell_type": "code",
   "execution_count": 46,
   "id": "b2597c10",
   "metadata": {
    "execution": {
     "iopub.execute_input": "2022-11-28T06:26:03.708975Z",
     "iopub.status.busy": "2022-11-28T06:26:03.708188Z",
     "iopub.status.idle": "2022-11-28T06:26:03.711015Z",
     "shell.execute_reply": "2022-11-28T06:26:03.711527Z",
     "shell.execute_reply.started": "2022-11-28T06:24:46.245939Z"
    },
    "papermill": {
     "duration": 0.075618,
     "end_time": "2022-11-28T06:26:03.711768",
     "exception": false,
     "start_time": "2022-11-28T06:26:03.636150",
     "status": "completed"
    },
    "tags": []
   },
   "outputs": [
    {
     "data": {
      "text/plain": [
       "Private             18160\n",
       "Self-emp-not-inc     2049\n",
       "Local-gov            1648\n",
       "State-gov            1037\n",
       "Self-emp-inc          909\n",
       "Federal-gov           770\n",
       "Without-pay            12\n",
       "Never-worked            7\n",
       "Name: workclass, dtype: int64"
      ]
     },
     "execution_count": 46,
     "metadata": {},
     "output_type": "execute_result"
    }
   ],
   "source": [
    "X_train['workclass'].value_counts()"
   ]
  },
  {
   "cell_type": "code",
   "execution_count": 47,
   "id": "82181767",
   "metadata": {
    "execution": {
     "iopub.execute_input": "2022-11-28T06:26:03.849889Z",
     "iopub.status.busy": "2022-11-28T06:26:03.849062Z",
     "iopub.status.idle": "2022-11-28T06:26:03.852033Z",
     "shell.execute_reply": "2022-11-28T06:26:03.852549Z",
     "shell.execute_reply.started": "2022-11-28T06:24:46.256892Z"
    },
    "papermill": {
     "duration": 0.07638,
     "end_time": "2022-11-28T06:26:03.852773",
     "exception": false,
     "start_time": "2022-11-28T06:26:03.776393",
     "status": "completed"
    },
    "tags": []
   },
   "outputs": [
    {
     "data": {
      "text/plain": [
       "Exec-managerial      3323\n",
       "Prof-specialty       3306\n",
       "Craft-repair         3296\n",
       "Adm-clerical         3037\n",
       "Sales                2898\n",
       "Other-service        2624\n",
       "Machine-op-inspct    1584\n",
       "Transport-moving     1257\n",
       "Handlers-cleaners    1080\n",
       "Farming-fishing       786\n",
       "Tech-support          746\n",
       "Protective-serv       521\n",
       "Priv-house-serv       119\n",
       "Armed-Forces            8\n",
       "Name: occupation, dtype: int64"
      ]
     },
     "execution_count": 47,
     "metadata": {},
     "output_type": "execute_result"
    }
   ],
   "source": [
    "X_train['occupation'].value_counts()"
   ]
  },
  {
   "cell_type": "code",
   "execution_count": 48,
   "id": "e4335b65",
   "metadata": {
    "execution": {
     "iopub.execute_input": "2022-11-28T06:26:03.985840Z",
     "iopub.status.busy": "2022-11-28T06:26:03.985073Z",
     "iopub.status.idle": "2022-11-28T06:26:03.993464Z",
     "shell.execute_reply": "2022-11-28T06:26:03.994016Z",
     "shell.execute_reply.started": "2022-11-28T06:24:46.270906Z"
    },
    "papermill": {
     "duration": 0.077143,
     "end_time": "2022-11-28T06:26:03.994239",
     "exception": false,
     "start_time": "2022-11-28T06:26:03.917096",
     "status": "completed"
    },
    "tags": []
   },
   "outputs": [
    {
     "data": {
      "text/plain": [
       "United-States                 23381\n",
       "Mexico                          516\n",
       "Philippines                     158\n",
       "Germany                         108\n",
       "Canada                           88\n",
       "Puerto-Rico                      87\n",
       "El-Salvador                      76\n",
       "India                            73\n",
       "Cuba                             73\n",
       "England                          69\n",
       "Italy                            63\n",
       "South                            62\n",
       "Jamaica                          59\n",
       "Vietnam                          57\n",
       "China                            57\n",
       "Guatemala                        54\n",
       "Dominican-Republic               51\n",
       "Japan                            49\n",
       "Poland                           47\n",
       "Columbia                         44\n",
       "Taiwan                           37\n",
       "Haiti                            37\n",
       "Iran                             34\n",
       "Portugal                         32\n",
       "Peru                             29\n",
       "Nicaragua                        27\n",
       "Ecuador                          25\n",
       "Greece                           24\n",
       "France                           23\n",
       "Ireland                          19\n",
       "Cambodia                         18\n",
       "Hong                             17\n",
       "Trinadad&Tobago                  17\n",
       "Thailand                         16\n",
       "Laos                             13\n",
       "Outlying-US(Guam-USVI-etc)       11\n",
       "Yugoslavia                       11\n",
       "Honduras                          9\n",
       "Hungary                           8\n",
       "Scotland                          7\n",
       "Holand-Netherlands                1\n",
       "Name: native.country, dtype: int64"
      ]
     },
     "execution_count": 48,
     "metadata": {},
     "output_type": "execute_result"
    }
   ],
   "source": [
    "X_train['native.country'].value_counts()"
   ]
  },
  {
   "cell_type": "markdown",
   "id": "9f78bd74",
   "metadata": {
    "papermill": {
     "duration": 0.06404,
     "end_time": "2022-11-28T06:26:04.124558",
     "exception": false,
     "start_time": "2022-11-28T06:26:04.060518",
     "status": "completed"
    },
    "tags": []
   },
   "source": [
    "- 결측치는 최빈값과 차이가 크면 최빈값으로 값이 비슷하면 별도의 값으로 대체함"
   ]
  },
  {
   "cell_type": "code",
   "execution_count": 49,
   "id": "7c58821b",
   "metadata": {
    "execution": {
     "iopub.execute_input": "2022-11-28T06:26:04.258936Z",
     "iopub.status.busy": "2022-11-28T06:26:04.258208Z",
     "iopub.status.idle": "2022-11-28T06:26:04.292257Z",
     "shell.execute_reply": "2022-11-28T06:26:04.292803Z",
     "shell.execute_reply.started": "2022-11-28T06:24:46.285123Z"
    },
    "papermill": {
     "duration": 0.103651,
     "end_time": "2022-11-28T06:26:04.293014",
     "exception": false,
     "start_time": "2022-11-28T06:26:04.189363",
     "status": "completed"
    },
    "tags": []
   },
   "outputs": [
    {
     "data": {
      "text/plain": [
       "id                0\n",
       "age               0\n",
       "workclass         0\n",
       "fnlwgt            0\n",
       "education         0\n",
       "education.num     0\n",
       "marital.status    0\n",
       "occupation        0\n",
       "relationship      0\n",
       "race              0\n",
       "sex               0\n",
       "capital.gain      0\n",
       "capital.loss      0\n",
       "hours.per.week    0\n",
       "native.country    0\n",
       "dtype: int64"
      ]
     },
     "execution_count": 49,
     "metadata": {},
     "output_type": "execute_result"
    }
   ],
   "source": [
    "def data_fillna(df):\n",
    "    df['workclass'] = df['workclass'].fillna(df['workclass'].mode()[0])\n",
    "    df['occupation'] = df['occupation'].fillna(\"null\")\n",
    "    df['native.country'] = df[\"native.country\"].fillna(df['native.country'].mode()[0])\n",
    "    return df\n",
    "\n",
    "X_train = data_fillna(X_train)\n",
    "X_test = data_fillna(X_test)\n",
    "\n",
    "X_train.isnull().sum()"
   ]
  },
  {
   "cell_type": "markdown",
   "id": "aedc3066",
   "metadata": {
    "papermill": {
     "duration": 0.064342,
     "end_time": "2022-11-28T06:26:04.421579",
     "exception": false,
     "start_time": "2022-11-28T06:26:04.357237",
     "status": "completed"
    },
    "tags": []
   },
   "source": [
    "## 피처엔지니어링"
   ]
  },
  {
   "cell_type": "code",
   "execution_count": 50,
   "id": "f0e17f00",
   "metadata": {
    "execution": {
     "iopub.execute_input": "2022-11-28T06:26:04.559516Z",
     "iopub.status.busy": "2022-11-28T06:26:04.558755Z",
     "iopub.status.idle": "2022-11-28T06:26:04.689518Z",
     "shell.execute_reply": "2022-11-28T06:26:04.688878Z",
     "shell.execute_reply.started": "2022-11-28T06:24:46.314210Z"
    },
    "papermill": {
     "duration": 0.203177,
     "end_time": "2022-11-28T06:26:04.689716",
     "exception": false,
     "start_time": "2022-11-28T06:26:04.486539",
     "status": "completed"
    },
    "tags": []
   },
   "outputs": [
    {
     "data": {
      "text/html": [
       "<div>\n",
       "<style scoped>\n",
       "    .dataframe tbody tr th:only-of-type {\n",
       "        vertical-align: middle;\n",
       "    }\n",
       "\n",
       "    .dataframe tbody tr th {\n",
       "        vertical-align: top;\n",
       "    }\n",
       "\n",
       "    .dataframe thead th {\n",
       "        text-align: right;\n",
       "    }\n",
       "</style>\n",
       "<table border=\"1\" class=\"dataframe\">\n",
       "  <thead>\n",
       "    <tr style=\"text-align: right;\">\n",
       "      <th></th>\n",
       "      <th>id</th>\n",
       "      <th>age</th>\n",
       "      <th>workclass</th>\n",
       "      <th>fnlwgt</th>\n",
       "      <th>education</th>\n",
       "      <th>education.num</th>\n",
       "      <th>marital.status</th>\n",
       "      <th>occupation</th>\n",
       "      <th>relationship</th>\n",
       "      <th>race</th>\n",
       "      <th>sex</th>\n",
       "      <th>capital.gain</th>\n",
       "      <th>capital.loss</th>\n",
       "      <th>hours.per.week</th>\n",
       "      <th>native.country</th>\n",
       "    </tr>\n",
       "  </thead>\n",
       "  <tbody>\n",
       "    <tr>\n",
       "      <th>20901</th>\n",
       "      <td>20901</td>\n",
       "      <td>58</td>\n",
       "      <td>3</td>\n",
       "      <td>114495</td>\n",
       "      <td>11</td>\n",
       "      <td>9</td>\n",
       "      <td>2</td>\n",
       "      <td>3</td>\n",
       "      <td>0</td>\n",
       "      <td>4</td>\n",
       "      <td>1</td>\n",
       "      <td>0</td>\n",
       "      <td>0</td>\n",
       "      <td>40</td>\n",
       "      <td>38</td>\n",
       "    </tr>\n",
       "    <tr>\n",
       "      <th>14170</th>\n",
       "      <td>14170</td>\n",
       "      <td>46</td>\n",
       "      <td>3</td>\n",
       "      <td>247043</td>\n",
       "      <td>11</td>\n",
       "      <td>9</td>\n",
       "      <td>2</td>\n",
       "      <td>13</td>\n",
       "      <td>0</td>\n",
       "      <td>4</td>\n",
       "      <td>1</td>\n",
       "      <td>0</td>\n",
       "      <td>0</td>\n",
       "      <td>40</td>\n",
       "      <td>38</td>\n",
       "    </tr>\n",
       "    <tr>\n",
       "      <th>1776</th>\n",
       "      <td>1776</td>\n",
       "      <td>67</td>\n",
       "      <td>1</td>\n",
       "      <td>103315</td>\n",
       "      <td>12</td>\n",
       "      <td>14</td>\n",
       "      <td>4</td>\n",
       "      <td>3</td>\n",
       "      <td>2</td>\n",
       "      <td>4</td>\n",
       "      <td>0</td>\n",
       "      <td>15831</td>\n",
       "      <td>0</td>\n",
       "      <td>72</td>\n",
       "      <td>38</td>\n",
       "    </tr>\n",
       "    <tr>\n",
       "      <th>30428</th>\n",
       "      <td>30428</td>\n",
       "      <td>18</td>\n",
       "      <td>3</td>\n",
       "      <td>165532</td>\n",
       "      <td>15</td>\n",
       "      <td>10</td>\n",
       "      <td>4</td>\n",
       "      <td>11</td>\n",
       "      <td>3</td>\n",
       "      <td>4</td>\n",
       "      <td>1</td>\n",
       "      <td>0</td>\n",
       "      <td>0</td>\n",
       "      <td>15</td>\n",
       "      <td>38</td>\n",
       "    </tr>\n",
       "    <tr>\n",
       "      <th>8602</th>\n",
       "      <td>8602</td>\n",
       "      <td>26</td>\n",
       "      <td>6</td>\n",
       "      <td>58039</td>\n",
       "      <td>15</td>\n",
       "      <td>10</td>\n",
       "      <td>2</td>\n",
       "      <td>7</td>\n",
       "      <td>0</td>\n",
       "      <td>4</td>\n",
       "      <td>1</td>\n",
       "      <td>0</td>\n",
       "      <td>0</td>\n",
       "      <td>40</td>\n",
       "      <td>38</td>\n",
       "    </tr>\n",
       "    <tr>\n",
       "      <th>...</th>\n",
       "      <td>...</td>\n",
       "      <td>...</td>\n",
       "      <td>...</td>\n",
       "      <td>...</td>\n",
       "      <td>...</td>\n",
       "      <td>...</td>\n",
       "      <td>...</td>\n",
       "      <td>...</td>\n",
       "      <td>...</td>\n",
       "      <td>...</td>\n",
       "      <td>...</td>\n",
       "      <td>...</td>\n",
       "      <td>...</td>\n",
       "      <td>...</td>\n",
       "      <td>...</td>\n",
       "    </tr>\n",
       "    <tr>\n",
       "      <th>31222</th>\n",
       "      <td>31222</td>\n",
       "      <td>22</td>\n",
       "      <td>3</td>\n",
       "      <td>199426</td>\n",
       "      <td>15</td>\n",
       "      <td>10</td>\n",
       "      <td>4</td>\n",
       "      <td>14</td>\n",
       "      <td>1</td>\n",
       "      <td>4</td>\n",
       "      <td>0</td>\n",
       "      <td>0</td>\n",
       "      <td>0</td>\n",
       "      <td>40</td>\n",
       "      <td>38</td>\n",
       "    </tr>\n",
       "    <tr>\n",
       "      <th>10861</th>\n",
       "      <td>10861</td>\n",
       "      <td>41</td>\n",
       "      <td>3</td>\n",
       "      <td>155106</td>\n",
       "      <td>11</td>\n",
       "      <td>9</td>\n",
       "      <td>2</td>\n",
       "      <td>5</td>\n",
       "      <td>0</td>\n",
       "      <td>4</td>\n",
       "      <td>1</td>\n",
       "      <td>0</td>\n",
       "      <td>0</td>\n",
       "      <td>40</td>\n",
       "      <td>38</td>\n",
       "    </tr>\n",
       "    <tr>\n",
       "      <th>8929</th>\n",
       "      <td>8929</td>\n",
       "      <td>32</td>\n",
       "      <td>3</td>\n",
       "      <td>153078</td>\n",
       "      <td>9</td>\n",
       "      <td>13</td>\n",
       "      <td>4</td>\n",
       "      <td>7</td>\n",
       "      <td>1</td>\n",
       "      <td>1</td>\n",
       "      <td>1</td>\n",
       "      <td>0</td>\n",
       "      <td>0</td>\n",
       "      <td>40</td>\n",
       "      <td>34</td>\n",
       "    </tr>\n",
       "    <tr>\n",
       "      <th>2066</th>\n",
       "      <td>2066</td>\n",
       "      <td>48</td>\n",
       "      <td>6</td>\n",
       "      <td>171926</td>\n",
       "      <td>14</td>\n",
       "      <td>15</td>\n",
       "      <td>2</td>\n",
       "      <td>9</td>\n",
       "      <td>0</td>\n",
       "      <td>4</td>\n",
       "      <td>1</td>\n",
       "      <td>15024</td>\n",
       "      <td>0</td>\n",
       "      <td>50</td>\n",
       "      <td>38</td>\n",
       "    </tr>\n",
       "    <tr>\n",
       "      <th>25782</th>\n",
       "      <td>25782</td>\n",
       "      <td>42</td>\n",
       "      <td>3</td>\n",
       "      <td>433170</td>\n",
       "      <td>15</td>\n",
       "      <td>10</td>\n",
       "      <td>2</td>\n",
       "      <td>2</td>\n",
       "      <td>0</td>\n",
       "      <td>4</td>\n",
       "      <td>1</td>\n",
       "      <td>0</td>\n",
       "      <td>0</td>\n",
       "      <td>60</td>\n",
       "      <td>38</td>\n",
       "    </tr>\n",
       "  </tbody>\n",
       "</table>\n",
       "<p>6513 rows × 15 columns</p>\n",
       "</div>"
      ],
      "text/plain": [
       "          id  age  workclass  fnlwgt  education  education.num  \\\n",
       "20901  20901   58          3  114495         11              9   \n",
       "14170  14170   46          3  247043         11              9   \n",
       "1776    1776   67          1  103315         12             14   \n",
       "30428  30428   18          3  165532         15             10   \n",
       "8602    8602   26          6   58039         15             10   \n",
       "...      ...  ...        ...     ...        ...            ...   \n",
       "31222  31222   22          3  199426         15             10   \n",
       "10861  10861   41          3  155106         11              9   \n",
       "8929    8929   32          3  153078          9             13   \n",
       "2066    2066   48          6  171926         14             15   \n",
       "25782  25782   42          3  433170         15             10   \n",
       "\n",
       "       marital.status  occupation  relationship  race  sex  capital.gain  \\\n",
       "20901               2           3             0     4    1             0   \n",
       "14170               2          13             0     4    1             0   \n",
       "1776                4           3             2     4    0         15831   \n",
       "30428               4          11             3     4    1             0   \n",
       "8602                2           7             0     4    1             0   \n",
       "...               ...         ...           ...   ...  ...           ...   \n",
       "31222               4          14             1     4    0             0   \n",
       "10861               2           5             0     4    1             0   \n",
       "8929                4           7             1     1    1             0   \n",
       "2066                2           9             0     4    1         15024   \n",
       "25782               2           2             0     4    1             0   \n",
       "\n",
       "       capital.loss  hours.per.week  native.country  \n",
       "20901             0              40              38  \n",
       "14170             0              40              38  \n",
       "1776              0              72              38  \n",
       "30428             0              15              38  \n",
       "8602              0              40              38  \n",
       "...             ...             ...             ...  \n",
       "31222             0              40              38  \n",
       "10861             0              40              38  \n",
       "8929              0              40              34  \n",
       "2066              0              50              38  \n",
       "25782             0              60              38  \n",
       "\n",
       "[6513 rows x 15 columns]"
      ]
     },
     "execution_count": 50,
     "metadata": {},
     "output_type": "execute_result"
    }
   ],
   "source": [
    "# 라벨인코딩\n",
    "from sklearn.preprocessing import LabelEncoder\n",
    "\n",
    "all_df = pd.concat([X_train.assign(ind=\"train\"), X_test.assign(ind=\"test\")])\n",
    "le = LabelEncoder()\n",
    "all_df[cat_features] = all_df[cat_features].apply(le.fit_transform)\n",
    "\n",
    "X_train = all_df[all_df['ind'] == 'train']\n",
    "X_train = X_train.drop('ind',axis=1)\n",
    "X_train\n",
    "\n",
    "X_test = all_df[all_df['ind'] == 'test']\n",
    "X_test = X_test.drop('ind',axis=1)\n",
    "X_test"
   ]
  },
  {
   "cell_type": "code",
   "execution_count": 51,
   "id": "8d945f52",
   "metadata": {
    "execution": {
     "iopub.execute_input": "2022-11-28T06:26:04.826080Z",
     "iopub.status.busy": "2022-11-28T06:26:04.825001Z",
     "iopub.status.idle": "2022-11-28T06:26:04.865913Z",
     "shell.execute_reply": "2022-11-28T06:26:04.865265Z",
     "shell.execute_reply.started": "2022-11-28T06:24:46.413007Z"
    },
    "papermill": {
     "duration": 0.110461,
     "end_time": "2022-11-28T06:26:04.866093",
     "exception": false,
     "start_time": "2022-11-28T06:26:04.755632",
     "status": "completed"
    },
    "tags": []
   },
   "outputs": [
    {
     "data": {
      "text/html": [
       "<div>\n",
       "<style scoped>\n",
       "    .dataframe tbody tr th:only-of-type {\n",
       "        vertical-align: middle;\n",
       "    }\n",
       "\n",
       "    .dataframe tbody tr th {\n",
       "        vertical-align: top;\n",
       "    }\n",
       "\n",
       "    .dataframe thead th {\n",
       "        text-align: right;\n",
       "    }\n",
       "</style>\n",
       "<table border=\"1\" class=\"dataframe\">\n",
       "  <thead>\n",
       "    <tr style=\"text-align: right;\">\n",
       "      <th></th>\n",
       "      <th>id</th>\n",
       "      <th>age</th>\n",
       "      <th>workclass</th>\n",
       "      <th>fnlwgt</th>\n",
       "      <th>education</th>\n",
       "      <th>education.num</th>\n",
       "      <th>marital.status</th>\n",
       "      <th>occupation</th>\n",
       "      <th>relationship</th>\n",
       "      <th>race</th>\n",
       "      <th>sex</th>\n",
       "      <th>capital.gain</th>\n",
       "      <th>capital.loss</th>\n",
       "      <th>hours.per.week</th>\n",
       "      <th>native.country</th>\n",
       "    </tr>\n",
       "  </thead>\n",
       "  <tbody>\n",
       "    <tr>\n",
       "      <th>21851</th>\n",
       "      <td>21851</td>\n",
       "      <td>0.260274</td>\n",
       "      <td>3</td>\n",
       "      <td>0.156011</td>\n",
       "      <td>9</td>\n",
       "      <td>0.800000</td>\n",
       "      <td>2</td>\n",
       "      <td>2</td>\n",
       "      <td>0</td>\n",
       "      <td>4</td>\n",
       "      <td>1</td>\n",
       "      <td>0.000000</td>\n",
       "      <td>0.0</td>\n",
       "      <td>0.500000</td>\n",
       "      <td>38</td>\n",
       "    </tr>\n",
       "    <tr>\n",
       "      <th>7632</th>\n",
       "      <td>7632</td>\n",
       "      <td>0.493151</td>\n",
       "      <td>3</td>\n",
       "      <td>0.062255</td>\n",
       "      <td>12</td>\n",
       "      <td>0.866667</td>\n",
       "      <td>0</td>\n",
       "      <td>9</td>\n",
       "      <td>1</td>\n",
       "      <td>4</td>\n",
       "      <td>0</td>\n",
       "      <td>0.000000</td>\n",
       "      <td>0.0</td>\n",
       "      <td>0.397959</td>\n",
       "      <td>38</td>\n",
       "    </tr>\n",
       "    <tr>\n",
       "      <th>27878</th>\n",
       "      <td>27878</td>\n",
       "      <td>0.027397</td>\n",
       "      <td>3</td>\n",
       "      <td>0.129566</td>\n",
       "      <td>15</td>\n",
       "      <td>0.600000</td>\n",
       "      <td>4</td>\n",
       "      <td>12</td>\n",
       "      <td>1</td>\n",
       "      <td>4</td>\n",
       "      <td>0</td>\n",
       "      <td>0.000000</td>\n",
       "      <td>0.0</td>\n",
       "      <td>0.244898</td>\n",
       "      <td>38</td>\n",
       "    </tr>\n",
       "    <tr>\n",
       "      <th>14121</th>\n",
       "      <td>14121</td>\n",
       "      <td>0.041096</td>\n",
       "      <td>3</td>\n",
       "      <td>0.061343</td>\n",
       "      <td>11</td>\n",
       "      <td>0.533333</td>\n",
       "      <td>4</td>\n",
       "      <td>5</td>\n",
       "      <td>3</td>\n",
       "      <td>4</td>\n",
       "      <td>1</td>\n",
       "      <td>0.000000</td>\n",
       "      <td>0.0</td>\n",
       "      <td>0.295918</td>\n",
       "      <td>38</td>\n",
       "    </tr>\n",
       "    <tr>\n",
       "      <th>32345</th>\n",
       "      <td>32345</td>\n",
       "      <td>0.506849</td>\n",
       "      <td>6</td>\n",
       "      <td>0.085958</td>\n",
       "      <td>11</td>\n",
       "      <td>0.533333</td>\n",
       "      <td>2</td>\n",
       "      <td>9</td>\n",
       "      <td>0</td>\n",
       "      <td>4</td>\n",
       "      <td>1</td>\n",
       "      <td>0.000000</td>\n",
       "      <td>0.0</td>\n",
       "      <td>0.397959</td>\n",
       "      <td>38</td>\n",
       "    </tr>\n",
       "    <tr>\n",
       "      <th>...</th>\n",
       "      <td>...</td>\n",
       "      <td>...</td>\n",
       "      <td>...</td>\n",
       "      <td>...</td>\n",
       "      <td>...</td>\n",
       "      <td>...</td>\n",
       "      <td>...</td>\n",
       "      <td>...</td>\n",
       "      <td>...</td>\n",
       "      <td>...</td>\n",
       "      <td>...</td>\n",
       "      <td>...</td>\n",
       "      <td>...</td>\n",
       "      <td>...</td>\n",
       "      <td>...</td>\n",
       "    </tr>\n",
       "    <tr>\n",
       "      <th>2669</th>\n",
       "      <td>2669</td>\n",
       "      <td>0.383562</td>\n",
       "      <td>3</td>\n",
       "      <td>0.118910</td>\n",
       "      <td>12</td>\n",
       "      <td>0.866667</td>\n",
       "      <td>0</td>\n",
       "      <td>3</td>\n",
       "      <td>4</td>\n",
       "      <td>4</td>\n",
       "      <td>1</td>\n",
       "      <td>0.074301</td>\n",
       "      <td>0.0</td>\n",
       "      <td>0.704082</td>\n",
       "      <td>38</td>\n",
       "    </tr>\n",
       "    <tr>\n",
       "      <th>17536</th>\n",
       "      <td>17536</td>\n",
       "      <td>0.260274</td>\n",
       "      <td>3</td>\n",
       "      <td>0.110039</td>\n",
       "      <td>1</td>\n",
       "      <td>0.400000</td>\n",
       "      <td>0</td>\n",
       "      <td>13</td>\n",
       "      <td>1</td>\n",
       "      <td>4</td>\n",
       "      <td>1</td>\n",
       "      <td>0.000000</td>\n",
       "      <td>0.0</td>\n",
       "      <td>0.397959</td>\n",
       "      <td>38</td>\n",
       "    </tr>\n",
       "    <tr>\n",
       "      <th>6201</th>\n",
       "      <td>6201</td>\n",
       "      <td>0.410959</td>\n",
       "      <td>3</td>\n",
       "      <td>0.178669</td>\n",
       "      <td>7</td>\n",
       "      <td>0.733333</td>\n",
       "      <td>6</td>\n",
       "      <td>7</td>\n",
       "      <td>3</td>\n",
       "      <td>4</td>\n",
       "      <td>0</td>\n",
       "      <td>0.000000</td>\n",
       "      <td>0.0</td>\n",
       "      <td>0.346939</td>\n",
       "      <td>38</td>\n",
       "    </tr>\n",
       "    <tr>\n",
       "      <th>27989</th>\n",
       "      <td>27989</td>\n",
       "      <td>0.452055</td>\n",
       "      <td>5</td>\n",
       "      <td>0.125113</td>\n",
       "      <td>10</td>\n",
       "      <td>1.000000</td>\n",
       "      <td>2</td>\n",
       "      <td>9</td>\n",
       "      <td>0</td>\n",
       "      <td>4</td>\n",
       "      <td>1</td>\n",
       "      <td>0.000000</td>\n",
       "      <td>0.0</td>\n",
       "      <td>0.224490</td>\n",
       "      <td>38</td>\n",
       "    </tr>\n",
       "    <tr>\n",
       "      <th>25716</th>\n",
       "      <td>25716</td>\n",
       "      <td>0.027397</td>\n",
       "      <td>3</td>\n",
       "      <td>0.270479</td>\n",
       "      <td>11</td>\n",
       "      <td>0.533333</td>\n",
       "      <td>4</td>\n",
       "      <td>0</td>\n",
       "      <td>1</td>\n",
       "      <td>4</td>\n",
       "      <td>0</td>\n",
       "      <td>0.000000</td>\n",
       "      <td>0.0</td>\n",
       "      <td>0.397959</td>\n",
       "      <td>38</td>\n",
       "    </tr>\n",
       "  </tbody>\n",
       "</table>\n",
       "<p>26048 rows × 15 columns</p>\n",
       "</div>"
      ],
      "text/plain": [
       "          id       age  workclass    fnlwgt  education  education.num  \\\n",
       "21851  21851  0.260274          3  0.156011          9       0.800000   \n",
       "7632    7632  0.493151          3  0.062255         12       0.866667   \n",
       "27878  27878  0.027397          3  0.129566         15       0.600000   \n",
       "14121  14121  0.041096          3  0.061343         11       0.533333   \n",
       "32345  32345  0.506849          6  0.085958         11       0.533333   \n",
       "...      ...       ...        ...       ...        ...            ...   \n",
       "2669    2669  0.383562          3  0.118910         12       0.866667   \n",
       "17536  17536  0.260274          3  0.110039          1       0.400000   \n",
       "6201    6201  0.410959          3  0.178669          7       0.733333   \n",
       "27989  27989  0.452055          5  0.125113         10       1.000000   \n",
       "25716  25716  0.027397          3  0.270479         11       0.533333   \n",
       "\n",
       "       marital.status  occupation  relationship  race  sex  capital.gain  \\\n",
       "21851               2           2             0     4    1      0.000000   \n",
       "7632                0           9             1     4    0      0.000000   \n",
       "27878               4          12             1     4    0      0.000000   \n",
       "14121               4           5             3     4    1      0.000000   \n",
       "32345               2           9             0     4    1      0.000000   \n",
       "...               ...         ...           ...   ...  ...           ...   \n",
       "2669                0           3             4     4    1      0.074301   \n",
       "17536               0          13             1     4    1      0.000000   \n",
       "6201                6           7             3     4    0      0.000000   \n",
       "27989               2           9             0     4    1      0.000000   \n",
       "25716               4           0             1     4    0      0.000000   \n",
       "\n",
       "       capital.loss  hours.per.week  native.country  \n",
       "21851           0.0        0.500000              38  \n",
       "7632            0.0        0.397959              38  \n",
       "27878           0.0        0.244898              38  \n",
       "14121           0.0        0.295918              38  \n",
       "32345           0.0        0.397959              38  \n",
       "...             ...             ...             ...  \n",
       "2669            0.0        0.704082              38  \n",
       "17536           0.0        0.397959              38  \n",
       "6201            0.0        0.346939              38  \n",
       "27989           0.0        0.224490              38  \n",
       "25716           0.0        0.397959              38  \n",
       "\n",
       "[26048 rows x 15 columns]"
      ]
     },
     "execution_count": 51,
     "metadata": {},
     "output_type": "execute_result"
    }
   ],
   "source": [
    "# 스케일링\n",
    "from sklearn.preprocessing import MinMaxScaler\n",
    "\n",
    "scaler = MinMaxScaler()\n",
    "X_train[numeric_features] = scaler.fit_transform(X_train[numeric_features])\n",
    "X_test[numeric_features] = scaler.transform(X_test[numeric_features])\n",
    "X_train"
   ]
  },
  {
   "cell_type": "code",
   "execution_count": 52,
   "id": "5898b74c",
   "metadata": {
    "execution": {
     "iopub.execute_input": "2022-11-28T06:26:05.006285Z",
     "iopub.status.busy": "2022-11-28T06:26:05.005509Z",
     "iopub.status.idle": "2022-11-28T06:26:05.011564Z",
     "shell.execute_reply": "2022-11-28T06:26:05.010965Z",
     "shell.execute_reply.started": "2022-11-28T06:24:46.441977Z"
    },
    "papermill": {
     "duration": 0.079687,
     "end_time": "2022-11-28T06:26:05.011764",
     "exception": false,
     "start_time": "2022-11-28T06:26:04.932077",
     "status": "completed"
    },
    "tags": []
   },
   "outputs": [
    {
     "data": {
      "text/plain": [
       "21851    1\n",
       "7632     0\n",
       "27878    0\n",
       "14121    0\n",
       "32345    0\n",
       "Name: income, dtype: int64"
      ]
     },
     "execution_count": 52,
     "metadata": {},
     "output_type": "execute_result"
    }
   ],
   "source": [
    "# target값 변경\n",
    "y = (y_train['income'] != '<=50K').astype(int)\n",
    "y[:5]"
   ]
  },
  {
   "cell_type": "markdown",
   "id": "ce4141c1",
   "metadata": {
    "papermill": {
     "duration": 0.067826,
     "end_time": "2022-11-28T06:26:05.146985",
     "exception": false,
     "start_time": "2022-11-28T06:26:05.079159",
     "status": "completed"
    },
    "tags": []
   },
   "source": [
    "## 검증용 데이터 분리"
   ]
  },
  {
   "cell_type": "code",
   "execution_count": 53,
   "id": "e2d598ec",
   "metadata": {
    "execution": {
     "iopub.execute_input": "2022-11-28T06:26:05.286595Z",
     "iopub.status.busy": "2022-11-28T06:26:05.285849Z",
     "iopub.status.idle": "2022-11-28T06:26:05.300281Z",
     "shell.execute_reply": "2022-11-28T06:26:05.301004Z",
     "shell.execute_reply.started": "2022-11-28T06:24:46.450569Z"
    },
    "papermill": {
     "duration": 0.08598,
     "end_time": "2022-11-28T06:26:05.301292",
     "exception": false,
     "start_time": "2022-11-28T06:26:05.215312",
     "status": "completed"
    },
    "tags": []
   },
   "outputs": [
    {
     "data": {
      "text/plain": [
       "((22140, 15), (3908, 15), (22140,), (3908,))"
      ]
     },
     "execution_count": 53,
     "metadata": {},
     "output_type": "execute_result"
    }
   ],
   "source": [
    "# 학습용 데이터와 검증용 데이터로 구분\n",
    "from sklearn.model_selection import train_test_split\n",
    "X_tr, X_val, y_tr, y_val = train_test_split(X_train, y, test_size=0.15, random_state=2021)\n",
    "X_tr.shape, X_val.shape, y_tr.shape, y_val.shape"
   ]
  },
  {
   "cell_type": "code",
   "execution_count": 54,
   "id": "9af6f8f4",
   "metadata": {
    "execution": {
     "iopub.execute_input": "2022-11-28T06:26:05.441253Z",
     "iopub.status.busy": "2022-11-28T06:26:05.440521Z",
     "iopub.status.idle": "2022-11-28T06:26:05.459271Z",
     "shell.execute_reply": "2022-11-28T06:26:05.459829Z",
     "shell.execute_reply.started": "2022-11-28T06:24:46.467256Z"
    },
    "papermill": {
     "duration": 0.089828,
     "end_time": "2022-11-28T06:26:05.460050",
     "exception": false,
     "start_time": "2022-11-28T06:26:05.370222",
     "status": "completed"
    },
    "tags": []
   },
   "outputs": [
    {
     "data": {
      "text/html": [
       "<div>\n",
       "<style scoped>\n",
       "    .dataframe tbody tr th:only-of-type {\n",
       "        vertical-align: middle;\n",
       "    }\n",
       "\n",
       "    .dataframe tbody tr th {\n",
       "        vertical-align: top;\n",
       "    }\n",
       "\n",
       "    .dataframe thead th {\n",
       "        text-align: right;\n",
       "    }\n",
       "</style>\n",
       "<table border=\"1\" class=\"dataframe\">\n",
       "  <thead>\n",
       "    <tr style=\"text-align: right;\">\n",
       "      <th></th>\n",
       "      <th>id</th>\n",
       "      <th>age</th>\n",
       "      <th>workclass</th>\n",
       "      <th>fnlwgt</th>\n",
       "      <th>education</th>\n",
       "      <th>education.num</th>\n",
       "      <th>marital.status</th>\n",
       "      <th>occupation</th>\n",
       "      <th>relationship</th>\n",
       "      <th>race</th>\n",
       "      <th>sex</th>\n",
       "      <th>capital.gain</th>\n",
       "      <th>capital.loss</th>\n",
       "      <th>hours.per.week</th>\n",
       "      <th>native.country</th>\n",
       "    </tr>\n",
       "  </thead>\n",
       "  <tbody>\n",
       "    <tr>\n",
       "      <th>1437</th>\n",
       "      <td>1437</td>\n",
       "      <td>0.191781</td>\n",
       "      <td>3</td>\n",
       "      <td>0.216501</td>\n",
       "      <td>9</td>\n",
       "      <td>0.800000</td>\n",
       "      <td>4</td>\n",
       "      <td>3</td>\n",
       "      <td>1</td>\n",
       "      <td>4</td>\n",
       "      <td>0</td>\n",
       "      <td>0.0</td>\n",
       "      <td>0.323232</td>\n",
       "      <td>0.397959</td>\n",
       "      <td>38</td>\n",
       "    </tr>\n",
       "    <tr>\n",
       "      <th>7151</th>\n",
       "      <td>7151</td>\n",
       "      <td>0.287671</td>\n",
       "      <td>5</td>\n",
       "      <td>0.127591</td>\n",
       "      <td>11</td>\n",
       "      <td>0.533333</td>\n",
       "      <td>2</td>\n",
       "      <td>2</td>\n",
       "      <td>0</td>\n",
       "      <td>4</td>\n",
       "      <td>1</td>\n",
       "      <td>0.0</td>\n",
       "      <td>0.000000</td>\n",
       "      <td>0.602041</td>\n",
       "      <td>38</td>\n",
       "    </tr>\n",
       "    <tr>\n",
       "      <th>30296</th>\n",
       "      <td>30296</td>\n",
       "      <td>0.424658</td>\n",
       "      <td>3</td>\n",
       "      <td>0.217452</td>\n",
       "      <td>9</td>\n",
       "      <td>0.800000</td>\n",
       "      <td>2</td>\n",
       "      <td>9</td>\n",
       "      <td>0</td>\n",
       "      <td>4</td>\n",
       "      <td>1</td>\n",
       "      <td>0.0</td>\n",
       "      <td>0.000000</td>\n",
       "      <td>0.346939</td>\n",
       "      <td>38</td>\n",
       "    </tr>\n",
       "    <tr>\n",
       "      <th>15372</th>\n",
       "      <td>15372</td>\n",
       "      <td>0.452055</td>\n",
       "      <td>3</td>\n",
       "      <td>0.142442</td>\n",
       "      <td>11</td>\n",
       "      <td>0.533333</td>\n",
       "      <td>2</td>\n",
       "      <td>2</td>\n",
       "      <td>0</td>\n",
       "      <td>4</td>\n",
       "      <td>1</td>\n",
       "      <td>0.0</td>\n",
       "      <td>0.000000</td>\n",
       "      <td>0.397959</td>\n",
       "      <td>38</td>\n",
       "    </tr>\n",
       "    <tr>\n",
       "      <th>13800</th>\n",
       "      <td>13800</td>\n",
       "      <td>0.178082</td>\n",
       "      <td>3</td>\n",
       "      <td>0.187243</td>\n",
       "      <td>15</td>\n",
       "      <td>0.600000</td>\n",
       "      <td>4</td>\n",
       "      <td>5</td>\n",
       "      <td>1</td>\n",
       "      <td>4</td>\n",
       "      <td>1</td>\n",
       "      <td>0.0</td>\n",
       "      <td>0.000000</td>\n",
       "      <td>0.397959</td>\n",
       "      <td>38</td>\n",
       "    </tr>\n",
       "  </tbody>\n",
       "</table>\n",
       "</div>"
      ],
      "text/plain": [
       "          id       age  workclass    fnlwgt  education  education.num  \\\n",
       "1437    1437  0.191781          3  0.216501          9       0.800000   \n",
       "7151    7151  0.287671          5  0.127591         11       0.533333   \n",
       "30296  30296  0.424658          3  0.217452          9       0.800000   \n",
       "15372  15372  0.452055          3  0.142442         11       0.533333   \n",
       "13800  13800  0.178082          3  0.187243         15       0.600000   \n",
       "\n",
       "       marital.status  occupation  relationship  race  sex  capital.gain  \\\n",
       "1437                4           3             1     4    0           0.0   \n",
       "7151                2           2             0     4    1           0.0   \n",
       "30296               2           9             0     4    1           0.0   \n",
       "15372               2           2             0     4    1           0.0   \n",
       "13800               4           5             1     4    1           0.0   \n",
       "\n",
       "       capital.loss  hours.per.week  native.country  \n",
       "1437       0.323232        0.397959              38  \n",
       "7151       0.000000        0.602041              38  \n",
       "30296      0.000000        0.346939              38  \n",
       "15372      0.000000        0.397959              38  \n",
       "13800      0.000000        0.397959              38  "
      ]
     },
     "execution_count": 54,
     "metadata": {},
     "output_type": "execute_result"
    }
   ],
   "source": [
    "X_tr.head()"
   ]
  },
  {
   "cell_type": "code",
   "execution_count": 55,
   "id": "7009de8f",
   "metadata": {
    "execution": {
     "iopub.execute_input": "2022-11-28T06:26:05.601895Z",
     "iopub.status.busy": "2022-11-28T06:26:05.601123Z",
     "iopub.status.idle": "2022-11-28T06:26:05.608107Z",
     "shell.execute_reply": "2022-11-28T06:26:05.608715Z",
     "shell.execute_reply.started": "2022-11-28T06:24:46.483414Z"
    },
    "papermill": {
     "duration": 0.079,
     "end_time": "2022-11-28T06:26:05.608933",
     "exception": false,
     "start_time": "2022-11-28T06:26:05.529933",
     "status": "completed"
    },
    "tags": []
   },
   "outputs": [],
   "source": [
    "# id 삭제\n",
    "X_tr = X_tr.drop('id', axis=1)\n",
    "X_val = X_val.drop('id', axis=1)"
   ]
  },
  {
   "cell_type": "code",
   "execution_count": 56,
   "id": "ae23374d",
   "metadata": {
    "execution": {
     "iopub.execute_input": "2022-11-28T06:26:05.755096Z",
     "iopub.status.busy": "2022-11-28T06:26:05.754266Z",
     "iopub.status.idle": "2022-11-28T06:26:05.763521Z",
     "shell.execute_reply": "2022-11-28T06:26:05.762982Z",
     "shell.execute_reply.started": "2022-11-28T06:24:46.494664Z"
    },
    "papermill": {
     "duration": 0.085883,
     "end_time": "2022-11-28T06:26:05.763715",
     "exception": false,
     "start_time": "2022-11-28T06:26:05.677832",
     "status": "completed"
    },
    "tags": []
   },
   "outputs": [
    {
     "data": {
      "text/html": [
       "<div>\n",
       "<style scoped>\n",
       "    .dataframe tbody tr th:only-of-type {\n",
       "        vertical-align: middle;\n",
       "    }\n",
       "\n",
       "    .dataframe tbody tr th {\n",
       "        vertical-align: top;\n",
       "    }\n",
       "\n",
       "    .dataframe thead th {\n",
       "        text-align: right;\n",
       "    }\n",
       "</style>\n",
       "<table border=\"1\" class=\"dataframe\">\n",
       "  <thead>\n",
       "    <tr style=\"text-align: right;\">\n",
       "      <th></th>\n",
       "      <th>age</th>\n",
       "      <th>workclass</th>\n",
       "      <th>fnlwgt</th>\n",
       "      <th>education</th>\n",
       "      <th>education.num</th>\n",
       "      <th>marital.status</th>\n",
       "      <th>occupation</th>\n",
       "      <th>relationship</th>\n",
       "      <th>race</th>\n",
       "      <th>sex</th>\n",
       "      <th>capital.gain</th>\n",
       "      <th>capital.loss</th>\n",
       "      <th>hours.per.week</th>\n",
       "      <th>native.country</th>\n",
       "    </tr>\n",
       "  </thead>\n",
       "  <tbody>\n",
       "    <tr>\n",
       "      <th>1437</th>\n",
       "      <td>0.191781</td>\n",
       "      <td>3</td>\n",
       "      <td>0.216501</td>\n",
       "      <td>9</td>\n",
       "      <td>0.8</td>\n",
       "      <td>4</td>\n",
       "      <td>3</td>\n",
       "      <td>1</td>\n",
       "      <td>4</td>\n",
       "      <td>0</td>\n",
       "      <td>0.0</td>\n",
       "      <td>0.323232</td>\n",
       "      <td>0.397959</td>\n",
       "      <td>38</td>\n",
       "    </tr>\n",
       "  </tbody>\n",
       "</table>\n",
       "</div>"
      ],
      "text/plain": [
       "           age  workclass    fnlwgt  education  education.num  marital.status  \\\n",
       "1437  0.191781          3  0.216501          9            0.8               4   \n",
       "\n",
       "      occupation  relationship  race  sex  capital.gain  capital.loss  \\\n",
       "1437           3             1     4    0           0.0      0.323232   \n",
       "\n",
       "      hours.per.week  native.country  \n",
       "1437        0.397959              38  "
      ]
     },
     "execution_count": 56,
     "metadata": {},
     "output_type": "execute_result"
    }
   ],
   "source": [
    "# id 삭제된 것 확인\n",
    "X_tr.head(1)"
   ]
  },
  {
   "cell_type": "markdown",
   "id": "ffde5940",
   "metadata": {
    "papermill": {
     "duration": 0.066949,
     "end_time": "2022-11-28T06:26:05.898205",
     "exception": false,
     "start_time": "2022-11-28T06:26:05.831256",
     "status": "completed"
    },
    "tags": []
   },
   "source": [
    "## 모델 & 평가"
   ]
  },
  {
   "cell_type": "code",
   "execution_count": 57,
   "id": "ecdc1ff9",
   "metadata": {
    "execution": {
     "iopub.execute_input": "2022-11-28T06:26:06.036928Z",
     "iopub.status.busy": "2022-11-28T06:26:06.035904Z",
     "iopub.status.idle": "2022-11-28T06:26:06.188922Z",
     "shell.execute_reply": "2022-11-28T06:26:06.188204Z",
     "shell.execute_reply.started": "2022-11-28T06:24:46.513628Z"
    },
    "papermill": {
     "duration": 0.223526,
     "end_time": "2022-11-28T06:26:06.189098",
     "exception": false,
     "start_time": "2022-11-28T06:26:05.965572",
     "status": "completed"
    },
    "tags": []
   },
   "outputs": [
    {
     "name": "stdout",
     "output_type": "stream",
     "text": [
      "accuracy score: 0.8119242579324463\n"
     ]
    }
   ],
   "source": [
    "# 의사결정나무\n",
    "from sklearn.tree import DecisionTreeClassifier\n",
    "from sklearn.metrics import accuracy_score\n",
    "\n",
    "model = DecisionTreeClassifier(random_state = 2022)\n",
    "model.fit(X_tr, y_tr)\n",
    "pred = model.predict(X_val)\n",
    "print('accuracy score:', (accuracy_score(y_val, pred)))"
   ]
  },
  {
   "cell_type": "code",
   "execution_count": 58,
   "id": "106c1f2b",
   "metadata": {
    "execution": {
     "iopub.execute_input": "2022-11-28T06:26:06.334265Z",
     "iopub.status.busy": "2022-11-28T06:26:06.333480Z",
     "iopub.status.idle": "2022-11-28T06:26:09.434869Z",
     "shell.execute_reply": "2022-11-28T06:26:09.434188Z",
     "shell.execute_reply.started": "2022-11-28T06:24:46.653989Z"
    },
    "papermill": {
     "duration": 3.178175,
     "end_time": "2022-11-28T06:26:09.435044",
     "exception": false,
     "start_time": "2022-11-28T06:26:06.256869",
     "status": "completed"
    },
    "tags": []
   },
   "outputs": [
    {
     "name": "stdout",
     "output_type": "stream",
     "text": [
      "accuracy score: 0.8480040941658137\n"
     ]
    }
   ],
   "source": [
    "# 랜덤포레스트\n",
    "from sklearn.ensemble import RandomForestClassifier\n",
    "\n",
    "model = RandomForestClassifier(random_state = 2022)\n",
    "model.fit(X_tr, y_tr)\n",
    "pred = model.predict(X_val)\n",
    "print('accuracy score:', (accuracy_score(y_val, pred)))"
   ]
  },
  {
   "cell_type": "code",
   "execution_count": 59,
   "id": "88782efb",
   "metadata": {
    "execution": {
     "iopub.execute_input": "2022-11-28T06:26:09.580633Z",
     "iopub.status.busy": "2022-11-28T06:26:09.579854Z",
     "iopub.status.idle": "2022-11-28T06:26:09.736553Z",
     "shell.execute_reply": "2022-11-28T06:26:09.737245Z",
     "shell.execute_reply.started": "2022-11-28T06:24:49.345809Z"
    },
    "papermill": {
     "duration": 0.233689,
     "end_time": "2022-11-28T06:26:09.737476",
     "exception": false,
     "start_time": "2022-11-28T06:26:09.503787",
     "status": "completed"
    },
    "tags": []
   },
   "outputs": [],
   "source": [
    "# test데이터 예측 (pop을 활용하면 값을 넘겨주고 삭제 됨)\n",
    "X_test_id = X_test.pop('id')\n",
    "pred = model.predict(X_test)"
   ]
  },
  {
   "cell_type": "code",
   "execution_count": 60,
   "id": "9674936c",
   "metadata": {
    "execution": {
     "iopub.execute_input": "2022-11-28T06:26:09.886716Z",
     "iopub.status.busy": "2022-11-28T06:26:09.882633Z",
     "iopub.status.idle": "2022-11-28T06:26:09.897979Z",
     "shell.execute_reply": "2022-11-28T06:26:09.898637Z",
     "shell.execute_reply.started": "2022-11-28T06:24:49.467689Z"
    },
    "papermill": {
     "duration": 0.092551,
     "end_time": "2022-11-28T06:26:09.898879",
     "exception": false,
     "start_time": "2022-11-28T06:26:09.806328",
     "status": "completed"
    },
    "tags": []
   },
   "outputs": [
    {
     "data": {
      "text/html": [
       "<div>\n",
       "<style scoped>\n",
       "    .dataframe tbody tr th:only-of-type {\n",
       "        vertical-align: middle;\n",
       "    }\n",
       "\n",
       "    .dataframe tbody tr th {\n",
       "        vertical-align: top;\n",
       "    }\n",
       "\n",
       "    .dataframe thead th {\n",
       "        text-align: right;\n",
       "    }\n",
       "</style>\n",
       "<table border=\"1\" class=\"dataframe\">\n",
       "  <thead>\n",
       "    <tr style=\"text-align: right;\">\n",
       "      <th></th>\n",
       "      <th>id</th>\n",
       "      <th>income</th>\n",
       "    </tr>\n",
       "  </thead>\n",
       "  <tbody>\n",
       "    <tr>\n",
       "      <th>20901</th>\n",
       "      <td>20901</td>\n",
       "      <td>0</td>\n",
       "    </tr>\n",
       "    <tr>\n",
       "      <th>14170</th>\n",
       "      <td>14170</td>\n",
       "      <td>0</td>\n",
       "    </tr>\n",
       "    <tr>\n",
       "      <th>1776</th>\n",
       "      <td>1776</td>\n",
       "      <td>1</td>\n",
       "    </tr>\n",
       "    <tr>\n",
       "      <th>30428</th>\n",
       "      <td>30428</td>\n",
       "      <td>0</td>\n",
       "    </tr>\n",
       "    <tr>\n",
       "      <th>8602</th>\n",
       "      <td>8602</td>\n",
       "      <td>0</td>\n",
       "    </tr>\n",
       "  </tbody>\n",
       "</table>\n",
       "</div>"
      ],
      "text/plain": [
       "          id  income\n",
       "20901  20901       0\n",
       "14170  14170       0\n",
       "1776    1776       1\n",
       "30428  30428       0\n",
       "8602    8602       0"
      ]
     },
     "execution_count": 60,
     "metadata": {},
     "output_type": "execute_result"
    }
   ],
   "source": [
    "# csv생성\n",
    "output = pd.DataFrame({'id': X_test_id, 'income':pred})\n",
    "output.to_csv(\"000000.csv\", index=False)\n",
    "output.head()"
   ]
  },
  {
   "cell_type": "markdown",
   "id": "012dae82",
   "metadata": {
    "papermill": {
     "duration": 0.067929,
     "end_time": "2022-11-28T06:26:10.037529",
     "exception": false,
     "start_time": "2022-11-28T06:26:09.969600",
     "status": "completed"
    },
    "tags": []
   },
   "source": [
    "## 채점 (수험자는 확인 불가)"
   ]
  },
  {
   "cell_type": "code",
   "execution_count": 61,
   "id": "acb8addf",
   "metadata": {
    "execution": {
     "iopub.execute_input": "2022-11-28T06:26:10.179920Z",
     "iopub.status.busy": "2022-11-28T06:26:10.179141Z",
     "iopub.status.idle": "2022-11-28T06:26:10.188145Z",
     "shell.execute_reply": "2022-11-28T06:26:10.187398Z",
     "shell.execute_reply.started": "2022-11-28T06:24:49.484633Z"
    },
    "papermill": {
     "duration": 0.081159,
     "end_time": "2022-11-28T06:26:10.188316",
     "exception": false,
     "start_time": "2022-11-28T06:26:10.107157",
     "status": "completed"
    },
    "tags": []
   },
   "outputs": [
    {
     "name": "stdout",
     "output_type": "stream",
     "text": [
      "accuracy score: 0.8569015814524796\n"
     ]
    }
   ],
   "source": [
    "y_test = (y_test['income'] != '<=50K').astype(int)\n",
    "from sklearn.metrics import accuracy_score\n",
    "print('accuracy score:', (accuracy_score(y_test, pred)))"
   ]
  }
 ],
 "metadata": {
  "kernelspec": {
   "display_name": "Python 3",
   "language": "python",
   "name": "python3"
  },
  "language_info": {
   "codemirror_mode": {
    "name": "ipython",
    "version": 3
   },
   "file_extension": ".py",
   "mimetype": "text/x-python",
   "name": "python",
   "nbconvert_exporter": "python",
   "pygments_lexer": "ipython3",
   "version": "3.7.10"
  },
  "papermill": {
   "default_parameters": {},
   "duration": 31.901722,
   "end_time": "2022-11-28T06:26:11.170345",
   "environment_variables": {},
   "exception": null,
   "input_path": "__notebook__.ipynb",
   "output_path": "__notebook__.ipynb",
   "parameters": {},
   "start_time": "2022-11-28T06:25:39.268623",
   "version": "2.3.3"
  }
 },
 "nbformat": 4,
 "nbformat_minor": 5
}
