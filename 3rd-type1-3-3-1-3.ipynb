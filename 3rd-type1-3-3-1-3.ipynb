{
 "cells": [
  {
   "cell_type": "markdown",
   "id": "0a77ef97",
   "metadata": {
    "papermill": {
     "duration": 0.003801,
     "end_time": "2022-12-01T11:52:01.595380",
     "exception": false,
     "start_time": "2022-12-01T11:52:01.591579",
     "status": "completed"
    },
    "tags": []
   },
   "source": [
    "### 풀이 영상: https://youtu.be/QpNufh_ZV7A?t=181"
   ]
  },
  {
   "cell_type": "markdown",
   "id": "8de07ad2",
   "metadata": {
    "papermill": {
     "duration": 0.002536,
     "end_time": "2022-12-01T11:52:01.600943",
     "exception": false,
     "start_time": "2022-12-01T11:52:01.598407",
     "status": "completed"
    },
    "tags": []
   },
   "source": [
    "# Q. 결측치가 제일 큰 값의 컬럼명을 구하시오\n",
    "- data: t1-data1.csv"
   ]
  },
  {
   "cell_type": "code",
   "execution_count": 1,
   "id": "6689da21",
   "metadata": {
    "execution": {
     "iopub.execute_input": "2022-12-01T11:52:01.608925Z",
     "iopub.status.busy": "2022-12-01T11:52:01.607978Z",
     "iopub.status.idle": "2022-12-01T11:52:01.656095Z",
     "shell.execute_reply": "2022-12-01T11:52:01.655106Z"
    },
    "papermill": {
     "duration": 0.055346,
     "end_time": "2022-12-01T11:52:01.658953",
     "exception": false,
     "start_time": "2022-12-01T11:52:01.603607",
     "status": "completed"
    },
    "tags": []
   },
   "outputs": [
    {
     "data": {
      "text/html": [
       "<div>\n",
       "<style scoped>\n",
       "    .dataframe tbody tr th:only-of-type {\n",
       "        vertical-align: middle;\n",
       "    }\n",
       "\n",
       "    .dataframe tbody tr th {\n",
       "        vertical-align: top;\n",
       "    }\n",
       "\n",
       "    .dataframe thead th {\n",
       "        text-align: right;\n",
       "    }\n",
       "</style>\n",
       "<table border=\"1\" class=\"dataframe\">\n",
       "  <thead>\n",
       "    <tr style=\"text-align: right;\">\n",
       "      <th></th>\n",
       "      <th>id</th>\n",
       "      <th>age</th>\n",
       "      <th>city</th>\n",
       "      <th>f1</th>\n",
       "      <th>f2</th>\n",
       "      <th>f4</th>\n",
       "      <th>f5</th>\n",
       "    </tr>\n",
       "  </thead>\n",
       "  <tbody>\n",
       "    <tr>\n",
       "      <th>0</th>\n",
       "      <td>id01</td>\n",
       "      <td>2.0</td>\n",
       "      <td>서울</td>\n",
       "      <td>NaN</td>\n",
       "      <td>0</td>\n",
       "      <td>ENFJ</td>\n",
       "      <td>91.297791</td>\n",
       "    </tr>\n",
       "    <tr>\n",
       "      <th>1</th>\n",
       "      <td>id02</td>\n",
       "      <td>9.0</td>\n",
       "      <td>서울</td>\n",
       "      <td>70.0</td>\n",
       "      <td>1</td>\n",
       "      <td>ENFJ</td>\n",
       "      <td>60.339826</td>\n",
       "    </tr>\n",
       "    <tr>\n",
       "      <th>2</th>\n",
       "      <td>id03</td>\n",
       "      <td>27.0</td>\n",
       "      <td>서울</td>\n",
       "      <td>61.0</td>\n",
       "      <td>1</td>\n",
       "      <td>ISTJ</td>\n",
       "      <td>17.252986</td>\n",
       "    </tr>\n",
       "    <tr>\n",
       "      <th>3</th>\n",
       "      <td>id04</td>\n",
       "      <td>75.0</td>\n",
       "      <td>서울</td>\n",
       "      <td>NaN</td>\n",
       "      <td>2</td>\n",
       "      <td>INFP</td>\n",
       "      <td>52.667078</td>\n",
       "    </tr>\n",
       "    <tr>\n",
       "      <th>4</th>\n",
       "      <td>id05</td>\n",
       "      <td>24.0</td>\n",
       "      <td>서울</td>\n",
       "      <td>85.0</td>\n",
       "      <td>2</td>\n",
       "      <td>ISFJ</td>\n",
       "      <td>29.269869</td>\n",
       "    </tr>\n",
       "  </tbody>\n",
       "</table>\n",
       "</div>"
      ],
      "text/plain": [
       "     id   age city    f1  f2    f4         f5\n",
       "0  id01   2.0   서울   NaN   0  ENFJ  91.297791\n",
       "1  id02   9.0   서울  70.0   1  ENFJ  60.339826\n",
       "2  id03  27.0   서울  61.0   1  ISTJ  17.252986\n",
       "3  id04  75.0   서울   NaN   2  INFP  52.667078\n",
       "4  id05  24.0   서울  85.0   2  ISFJ  29.269869"
      ]
     },
     "execution_count": 1,
     "metadata": {},
     "output_type": "execute_result"
    }
   ],
   "source": [
    "import pandas as pd\n",
    "df = pd.read_csv(\"../input/big-data-analytics-certification/t1-data1.csv\")\n",
    "df.head()"
   ]
  },
  {
   "cell_type": "markdown",
   "id": "9dadbb11",
   "metadata": {
    "papermill": {
     "duration": 0.002506,
     "end_time": "2022-12-01T11:52:01.664418",
     "exception": false,
     "start_time": "2022-12-01T11:52:01.661912",
     "status": "completed"
    },
    "tags": []
   },
   "source": [
    "# Your Code"
   ]
  },
  {
   "cell_type": "code",
   "execution_count": 2,
   "id": "56957cf5",
   "metadata": {
    "execution": {
     "iopub.execute_input": "2022-12-01T11:52:01.674890Z",
     "iopub.status.busy": "2022-12-01T11:52:01.673917Z",
     "iopub.status.idle": "2022-12-01T11:52:01.692254Z",
     "shell.execute_reply": "2022-12-01T11:52:01.691224Z"
    },
    "papermill": {
     "duration": 0.027225,
     "end_time": "2022-12-01T11:52:01.694370",
     "exception": false,
     "start_time": "2022-12-01T11:52:01.667145",
     "status": "completed"
    },
    "tags": []
   },
   "outputs": [
    {
     "name": "stdout",
     "output_type": "stream",
     "text": [
      "f1\n"
     ]
    }
   ],
   "source": [
    "import pandas as pd\n",
    "\n",
    "df = pd.read_csv(\"../input/big-data-analytics-certification/t1-data1.csv\")\n",
    "\n",
    "# df.isnull().sum() # 결측치 확인\n",
    "df_null=pd.DataFrame(df.isnull().sum(),columns=['null'])\n",
    "\n",
    "# df_null[df_null['null_count']==df_null['null_count'].max()].index # Index(['f1'], dtype='object')\n",
    "print(df_null[df_null['null']==df_null['null'].max()].index[0])"
   ]
  },
  {
   "cell_type": "markdown",
   "id": "fde49e1f",
   "metadata": {
    "papermill": {
     "duration": 0.002621,
     "end_time": "2022-12-01T11:52:01.700081",
     "exception": false,
     "start_time": "2022-12-01T11:52:01.697460",
     "status": "completed"
    },
    "tags": []
   },
   "source": [
    "# solution"
   ]
  },
  {
   "cell_type": "code",
   "execution_count": 3,
   "id": "07dd6861",
   "metadata": {
    "execution": {
     "iopub.execute_input": "2022-12-01T11:52:01.707885Z",
     "iopub.status.busy": "2022-12-01T11:52:01.707332Z",
     "iopub.status.idle": "2022-12-01T11:52:01.721588Z",
     "shell.execute_reply": "2022-12-01T11:52:01.720339Z"
    },
    "papermill": {
     "duration": 0.020958,
     "end_time": "2022-12-01T11:52:01.724010",
     "exception": false,
     "start_time": "2022-12-01T11:52:01.703052",
     "status": "completed"
    },
    "tags": []
   },
   "outputs": [
    {
     "name": "stdout",
     "output_type": "stream",
     "text": [
      "f1\n"
     ]
    }
   ],
   "source": [
    "import pandas as pd\n",
    "df = pd.read_csv(\"../input/big-data-analytics-certification/t1-data1.csv\")\n",
    "\n",
    "df = pd.DataFrame(df.isnull().sum(), columns=['cnt_null'])\n",
    "df = df['cnt_null'].sort_values(ascending=False)\n",
    "print(df.index[0])"
   ]
  },
  {
   "cell_type": "code",
   "execution_count": 4,
   "id": "2223dd24",
   "metadata": {
    "execution": {
     "iopub.execute_input": "2022-12-01T11:52:01.732786Z",
     "iopub.status.busy": "2022-12-01T11:52:01.732181Z",
     "iopub.status.idle": "2022-12-01T11:52:01.743255Z",
     "shell.execute_reply": "2022-12-01T11:52:01.742269Z"
    },
    "papermill": {
     "duration": 0.018281,
     "end_time": "2022-12-01T11:52:01.745765",
     "exception": false,
     "start_time": "2022-12-01T11:52:01.727484",
     "status": "completed"
    },
    "tags": []
   },
   "outputs": [
    {
     "name": "stdout",
     "output_type": "stream",
     "text": [
      "f1\n"
     ]
    }
   ],
   "source": [
    "# 풀이2\n",
    "df = pd.read_csv(\"../input/big-data-analytics-certification/t1-data1.csv\")\n",
    "df = df.isnull().sum()\n",
    "print(df.index[3])"
   ]
  }
 ],
 "metadata": {
  "kernelspec": {
   "display_name": "Python 3",
   "language": "python",
   "name": "python3"
  },
  "language_info": {
   "codemirror_mode": {
    "name": "ipython",
    "version": 3
   },
   "file_extension": ".py",
   "mimetype": "text/x-python",
   "name": "python",
   "nbconvert_exporter": "python",
   "pygments_lexer": "ipython3",
   "version": "3.7.12"
  },
  "papermill": {
   "default_parameters": {},
   "duration": 11.437086,
   "end_time": "2022-12-01T11:52:02.472417",
   "environment_variables": {},
   "exception": null,
   "input_path": "__notebook__.ipynb",
   "output_path": "__notebook__.ipynb",
   "parameters": {},
   "start_time": "2022-12-01T11:51:51.035331",
   "version": "2.3.4"
  }
 },
 "nbformat": 4,
 "nbformat_minor": 5
}
