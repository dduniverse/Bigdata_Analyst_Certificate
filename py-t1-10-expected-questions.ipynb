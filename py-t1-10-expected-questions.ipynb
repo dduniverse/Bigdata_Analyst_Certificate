{
 "cells": [
  {
   "cell_type": "markdown",
   "id": "4e2ecd5f",
   "metadata": {
    "papermill": {
     "duration": 0.02177,
     "end_time": "2022-11-17T11:39:44.664016",
     "exception": false,
     "start_time": "2022-11-17T11:39:44.642246",
     "status": "completed"
    },
    "tags": []
   },
   "source": [
    "# 수치형 변수 변환하기\n",
    "\n",
    "\n",
    "### 주어진 데이터에서 20세 이상인 데이터를 추출하고 'f1'컬럼을 결측치를 최빈값으로 채운 후, f1 컬럼의 여-존슨과 박스콕스 변환 값을 구하고, 두 값의 차이를 절대값으로 구한다음 모두 더해 소수점 둘째 자리까지 출력(반올림)하시오\n",
    "- 데이터셋 : basic1.csv\n",
    "- 오른쪽 상단 copy&edit 클릭 -> 예상문제 풀이 시작"
   ]
  },
  {
   "cell_type": "markdown",
   "id": "5fbf5622",
   "metadata": {
    "papermill": {
     "duration": 0.016338,
     "end_time": "2022-11-17T11:39:44.700184",
     "exception": false,
     "start_time": "2022-11-17T11:39:44.683846",
     "status": "completed"
    },
    "tags": []
   },
   "source": [
    "### 박스-콕스\n",
    "![박스-콕스](https://wikimedia.org/api/rest_v1/media/math/render/svg/b565ae8f1cce1e4035e2a36213b8c9ce34b5029d)\n",
    "\n",
    "### 여-존슨\n",
    "![여-존슨](https://wikimedia.org/api/rest_v1/media/math/render/svg/2a99e24c81226f3d0547c471281197ea265553c5)"
   ]
  },
  {
   "cell_type": "code",
   "execution_count": 1,
   "id": "2eb5082e",
   "metadata": {
    "execution": {
     "iopub.execute_input": "2022-11-17T11:39:44.747892Z",
     "iopub.status.busy": "2022-11-17T11:39:44.747167Z",
     "iopub.status.idle": "2022-11-17T11:39:44.796877Z",
     "shell.execute_reply": "2022-11-17T11:39:44.795976Z",
     "shell.execute_reply.started": "2022-11-17T11:39:10.130131Z"
    },
    "papermill": {
     "duration": 0.079858,
     "end_time": "2022-11-17T11:39:44.797111",
     "exception": false,
     "start_time": "2022-11-17T11:39:44.717253",
     "status": "completed"
    },
    "tags": []
   },
   "outputs": [
    {
     "data": {
      "text/html": [
       "<div>\n",
       "<style scoped>\n",
       "    .dataframe tbody tr th:only-of-type {\n",
       "        vertical-align: middle;\n",
       "    }\n",
       "\n",
       "    .dataframe tbody tr th {\n",
       "        vertical-align: top;\n",
       "    }\n",
       "\n",
       "    .dataframe thead th {\n",
       "        text-align: right;\n",
       "    }\n",
       "</style>\n",
       "<table border=\"1\" class=\"dataframe\">\n",
       "  <thead>\n",
       "    <tr style=\"text-align: right;\">\n",
       "      <th></th>\n",
       "      <th>id</th>\n",
       "      <th>age</th>\n",
       "      <th>city</th>\n",
       "      <th>f1</th>\n",
       "      <th>f2</th>\n",
       "      <th>f3</th>\n",
       "      <th>f4</th>\n",
       "      <th>f5</th>\n",
       "    </tr>\n",
       "  </thead>\n",
       "  <tbody>\n",
       "    <tr>\n",
       "      <th>0</th>\n",
       "      <td>id01</td>\n",
       "      <td>2.0</td>\n",
       "      <td>서울</td>\n",
       "      <td>NaN</td>\n",
       "      <td>0</td>\n",
       "      <td>NaN</td>\n",
       "      <td>ENFJ</td>\n",
       "      <td>91.297791</td>\n",
       "    </tr>\n",
       "    <tr>\n",
       "      <th>1</th>\n",
       "      <td>id02</td>\n",
       "      <td>9.0</td>\n",
       "      <td>서울</td>\n",
       "      <td>70.0</td>\n",
       "      <td>1</td>\n",
       "      <td>NaN</td>\n",
       "      <td>ENFJ</td>\n",
       "      <td>60.339826</td>\n",
       "    </tr>\n",
       "    <tr>\n",
       "      <th>2</th>\n",
       "      <td>id03</td>\n",
       "      <td>27.0</td>\n",
       "      <td>서울</td>\n",
       "      <td>61.0</td>\n",
       "      <td>1</td>\n",
       "      <td>NaN</td>\n",
       "      <td>ISTJ</td>\n",
       "      <td>17.252986</td>\n",
       "    </tr>\n",
       "    <tr>\n",
       "      <th>3</th>\n",
       "      <td>id04</td>\n",
       "      <td>75.0</td>\n",
       "      <td>서울</td>\n",
       "      <td>NaN</td>\n",
       "      <td>2</td>\n",
       "      <td>NaN</td>\n",
       "      <td>INFP</td>\n",
       "      <td>52.667078</td>\n",
       "    </tr>\n",
       "    <tr>\n",
       "      <th>4</th>\n",
       "      <td>id05</td>\n",
       "      <td>24.0</td>\n",
       "      <td>서울</td>\n",
       "      <td>85.0</td>\n",
       "      <td>2</td>\n",
       "      <td>NaN</td>\n",
       "      <td>ISFJ</td>\n",
       "      <td>29.269869</td>\n",
       "    </tr>\n",
       "    <tr>\n",
       "      <th>...</th>\n",
       "      <td>...</td>\n",
       "      <td>...</td>\n",
       "      <td>...</td>\n",
       "      <td>...</td>\n",
       "      <td>...</td>\n",
       "      <td>...</td>\n",
       "      <td>...</td>\n",
       "      <td>...</td>\n",
       "    </tr>\n",
       "    <tr>\n",
       "      <th>95</th>\n",
       "      <td>id96</td>\n",
       "      <td>92.0</td>\n",
       "      <td>경기</td>\n",
       "      <td>53.0</td>\n",
       "      <td>1</td>\n",
       "      <td>NaN</td>\n",
       "      <td>ENTJ</td>\n",
       "      <td>52.667078</td>\n",
       "    </tr>\n",
       "    <tr>\n",
       "      <th>96</th>\n",
       "      <td>id97</td>\n",
       "      <td>100.0</td>\n",
       "      <td>경기</td>\n",
       "      <td>NaN</td>\n",
       "      <td>0</td>\n",
       "      <td>NaN</td>\n",
       "      <td>INFP</td>\n",
       "      <td>67.886373</td>\n",
       "    </tr>\n",
       "    <tr>\n",
       "      <th>97</th>\n",
       "      <td>id98</td>\n",
       "      <td>39.0</td>\n",
       "      <td>경기</td>\n",
       "      <td>58.0</td>\n",
       "      <td>2</td>\n",
       "      <td>NaN</td>\n",
       "      <td>INFP</td>\n",
       "      <td>98.429899</td>\n",
       "    </tr>\n",
       "    <tr>\n",
       "      <th>98</th>\n",
       "      <td>id99</td>\n",
       "      <td>1.0</td>\n",
       "      <td>경기</td>\n",
       "      <td>47.0</td>\n",
       "      <td>0</td>\n",
       "      <td>NaN</td>\n",
       "      <td>ESFJ</td>\n",
       "      <td>97.381034</td>\n",
       "    </tr>\n",
       "    <tr>\n",
       "      <th>99</th>\n",
       "      <td>id100</td>\n",
       "      <td>47.0</td>\n",
       "      <td>경기</td>\n",
       "      <td>53.0</td>\n",
       "      <td>0</td>\n",
       "      <td>vip</td>\n",
       "      <td>ESFP</td>\n",
       "      <td>33.308999</td>\n",
       "    </tr>\n",
       "  </tbody>\n",
       "</table>\n",
       "<p>100 rows × 8 columns</p>\n",
       "</div>"
      ],
      "text/plain": [
       "       id    age city    f1  f2   f3    f4         f5\n",
       "0    id01    2.0   서울   NaN   0  NaN  ENFJ  91.297791\n",
       "1    id02    9.0   서울  70.0   1  NaN  ENFJ  60.339826\n",
       "2    id03   27.0   서울  61.0   1  NaN  ISTJ  17.252986\n",
       "3    id04   75.0   서울   NaN   2  NaN  INFP  52.667078\n",
       "4    id05   24.0   서울  85.0   2  NaN  ISFJ  29.269869\n",
       "..    ...    ...  ...   ...  ..  ...   ...        ...\n",
       "95   id96   92.0   경기  53.0   1  NaN  ENTJ  52.667078\n",
       "96   id97  100.0   경기   NaN   0  NaN  INFP  67.886373\n",
       "97   id98   39.0   경기  58.0   2  NaN  INFP  98.429899\n",
       "98   id99    1.0   경기  47.0   0  NaN  ESFJ  97.381034\n",
       "99  id100   47.0   경기  53.0   0  vip  ESFP  33.308999\n",
       "\n",
       "[100 rows x 8 columns]"
      ]
     },
     "execution_count": 1,
     "metadata": {},
     "output_type": "execute_result"
    }
   ],
   "source": [
    "# 라이브러리 및 데이터 불러오기\n",
    "import pandas as pd\n",
    "\n",
    "df=pd.read_csv(\"../input/bigdatacertificationkr/basic1.csv\")\n",
    "df"
   ]
  },
  {
   "cell_type": "code",
   "execution_count": 2,
   "id": "e1ba4e98",
   "metadata": {
    "execution": {
     "iopub.execute_input": "2022-11-17T11:39:44.841364Z",
     "iopub.status.busy": "2022-11-17T11:39:44.839841Z",
     "iopub.status.idle": "2022-11-17T11:39:44.862253Z",
     "shell.execute_reply": "2022-11-17T11:39:44.861151Z",
     "shell.execute_reply.started": "2022-11-17T11:39:10.169125Z"
    },
    "papermill": {
     "duration": 0.047477,
     "end_time": "2022-11-17T11:39:44.862470",
     "exception": false,
     "start_time": "2022-11-17T11:39:44.814993",
     "status": "completed"
    },
    "tags": []
   },
   "outputs": [
    {
     "data": {
      "text/html": [
       "<div>\n",
       "<style scoped>\n",
       "    .dataframe tbody tr th:only-of-type {\n",
       "        vertical-align: middle;\n",
       "    }\n",
       "\n",
       "    .dataframe tbody tr th {\n",
       "        vertical-align: top;\n",
       "    }\n",
       "\n",
       "    .dataframe thead th {\n",
       "        text-align: right;\n",
       "    }\n",
       "</style>\n",
       "<table border=\"1\" class=\"dataframe\">\n",
       "  <thead>\n",
       "    <tr style=\"text-align: right;\">\n",
       "      <th></th>\n",
       "      <th>id</th>\n",
       "      <th>age</th>\n",
       "      <th>city</th>\n",
       "      <th>f1</th>\n",
       "      <th>f2</th>\n",
       "      <th>f3</th>\n",
       "      <th>f4</th>\n",
       "      <th>f5</th>\n",
       "    </tr>\n",
       "  </thead>\n",
       "  <tbody>\n",
       "    <tr>\n",
       "      <th>2</th>\n",
       "      <td>id03</td>\n",
       "      <td>27.0</td>\n",
       "      <td>서울</td>\n",
       "      <td>61.0</td>\n",
       "      <td>1</td>\n",
       "      <td>NaN</td>\n",
       "      <td>ISTJ</td>\n",
       "      <td>17.252986</td>\n",
       "    </tr>\n",
       "    <tr>\n",
       "      <th>3</th>\n",
       "      <td>id04</td>\n",
       "      <td>75.0</td>\n",
       "      <td>서울</td>\n",
       "      <td>NaN</td>\n",
       "      <td>2</td>\n",
       "      <td>NaN</td>\n",
       "      <td>INFP</td>\n",
       "      <td>52.667078</td>\n",
       "    </tr>\n",
       "    <tr>\n",
       "      <th>4</th>\n",
       "      <td>id05</td>\n",
       "      <td>24.0</td>\n",
       "      <td>서울</td>\n",
       "      <td>85.0</td>\n",
       "      <td>2</td>\n",
       "      <td>NaN</td>\n",
       "      <td>ISFJ</td>\n",
       "      <td>29.269869</td>\n",
       "    </tr>\n",
       "    <tr>\n",
       "      <th>5</th>\n",
       "      <td>id06</td>\n",
       "      <td>22.0</td>\n",
       "      <td>서울</td>\n",
       "      <td>57.0</td>\n",
       "      <td>0</td>\n",
       "      <td>vip</td>\n",
       "      <td>INTP</td>\n",
       "      <td>20.129444</td>\n",
       "    </tr>\n",
       "    <tr>\n",
       "      <th>6</th>\n",
       "      <td>id07</td>\n",
       "      <td>36.3</td>\n",
       "      <td>서울</td>\n",
       "      <td>60.0</td>\n",
       "      <td>1</td>\n",
       "      <td>NaN</td>\n",
       "      <td>ISFJ</td>\n",
       "      <td>9.796378</td>\n",
       "    </tr>\n",
       "    <tr>\n",
       "      <th>...</th>\n",
       "      <td>...</td>\n",
       "      <td>...</td>\n",
       "      <td>...</td>\n",
       "      <td>...</td>\n",
       "      <td>...</td>\n",
       "      <td>...</td>\n",
       "      <td>...</td>\n",
       "      <td>...</td>\n",
       "    </tr>\n",
       "    <tr>\n",
       "      <th>94</th>\n",
       "      <td>id95</td>\n",
       "      <td>77.0</td>\n",
       "      <td>경기</td>\n",
       "      <td>43.0</td>\n",
       "      <td>1</td>\n",
       "      <td>NaN</td>\n",
       "      <td>INTJ</td>\n",
       "      <td>91.297791</td>\n",
       "    </tr>\n",
       "    <tr>\n",
       "      <th>95</th>\n",
       "      <td>id96</td>\n",
       "      <td>92.0</td>\n",
       "      <td>경기</td>\n",
       "      <td>53.0</td>\n",
       "      <td>1</td>\n",
       "      <td>NaN</td>\n",
       "      <td>ENTJ</td>\n",
       "      <td>52.667078</td>\n",
       "    </tr>\n",
       "    <tr>\n",
       "      <th>96</th>\n",
       "      <td>id97</td>\n",
       "      <td>100.0</td>\n",
       "      <td>경기</td>\n",
       "      <td>NaN</td>\n",
       "      <td>0</td>\n",
       "      <td>NaN</td>\n",
       "      <td>INFP</td>\n",
       "      <td>67.886373</td>\n",
       "    </tr>\n",
       "    <tr>\n",
       "      <th>97</th>\n",
       "      <td>id98</td>\n",
       "      <td>39.0</td>\n",
       "      <td>경기</td>\n",
       "      <td>58.0</td>\n",
       "      <td>2</td>\n",
       "      <td>NaN</td>\n",
       "      <td>INFP</td>\n",
       "      <td>98.429899</td>\n",
       "    </tr>\n",
       "    <tr>\n",
       "      <th>99</th>\n",
       "      <td>id100</td>\n",
       "      <td>47.0</td>\n",
       "      <td>경기</td>\n",
       "      <td>53.0</td>\n",
       "      <td>0</td>\n",
       "      <td>vip</td>\n",
       "      <td>ESFP</td>\n",
       "      <td>33.308999</td>\n",
       "    </tr>\n",
       "  </tbody>\n",
       "</table>\n",
       "<p>83 rows × 8 columns</p>\n",
       "</div>"
      ],
      "text/plain": [
       "       id    age city    f1  f2   f3    f4         f5\n",
       "2    id03   27.0   서울  61.0   1  NaN  ISTJ  17.252986\n",
       "3    id04   75.0   서울   NaN   2  NaN  INFP  52.667078\n",
       "4    id05   24.0   서울  85.0   2  NaN  ISFJ  29.269869\n",
       "5    id06   22.0   서울  57.0   0  vip  INTP  20.129444\n",
       "6    id07   36.3   서울  60.0   1  NaN  ISFJ   9.796378\n",
       "..    ...    ...  ...   ...  ..  ...   ...        ...\n",
       "94   id95   77.0   경기  43.0   1  NaN  INTJ  91.297791\n",
       "95   id96   92.0   경기  53.0   1  NaN  ENTJ  52.667078\n",
       "96   id97  100.0   경기   NaN   0  NaN  INFP  67.886373\n",
       "97   id98   39.0   경기  58.0   2  NaN  INFP  98.429899\n",
       "99  id100   47.0   경기  53.0   0  vip  ESFP  33.308999\n",
       "\n",
       "[83 rows x 8 columns]"
      ]
     },
     "execution_count": 2,
     "metadata": {},
     "output_type": "execute_result"
    }
   ],
   "source": [
    "# 20세 이상 데이터를 df_over로 저장\n",
    "df_over20=df[df['age']>=20]\n",
    "df_over20"
   ]
  },
  {
   "cell_type": "code",
   "execution_count": 3,
   "id": "e7ed07b5",
   "metadata": {
    "execution": {
     "iopub.execute_input": "2022-11-17T11:39:44.906048Z",
     "iopub.status.busy": "2022-11-17T11:39:44.905059Z",
     "iopub.status.idle": "2022-11-17T11:39:44.909217Z",
     "shell.execute_reply": "2022-11-17T11:39:44.908569Z",
     "shell.execute_reply.started": "2022-11-17T11:39:10.190574Z"
    },
    "papermill": {
     "duration": 0.028526,
     "end_time": "2022-11-17T11:39:44.909378",
     "exception": false,
     "start_time": "2022-11-17T11:39:44.880852",
     "status": "completed"
    },
    "tags": []
   },
   "outputs": [
    {
     "data": {
      "text/plain": [
       "26"
      ]
     },
     "execution_count": 3,
     "metadata": {},
     "output_type": "execute_result"
    }
   ],
   "source": [
    "# df_over20의 'f1' 컬럼의 결측치 개수\n",
    "df_over20['f1'].isnull().sum()"
   ]
  },
  {
   "cell_type": "code",
   "execution_count": 4,
   "id": "1173413e",
   "metadata": {
    "execution": {
     "iopub.execute_input": "2022-11-17T11:39:44.958692Z",
     "iopub.status.busy": "2022-11-17T11:39:44.956292Z",
     "iopub.status.idle": "2022-11-17T11:39:44.962833Z",
     "shell.execute_reply": "2022-11-17T11:39:44.962136Z",
     "shell.execute_reply.started": "2022-11-17T11:39:10.200283Z"
    },
    "papermill": {
     "duration": 0.035019,
     "end_time": "2022-11-17T11:39:44.962985",
     "exception": false,
     "start_time": "2022-11-17T11:39:44.927966",
     "status": "completed"
    },
    "tags": []
   },
   "outputs": [
    {
     "data": {
      "text/plain": [
       "50.0"
      ]
     },
     "execution_count": 4,
     "metadata": {},
     "output_type": "execute_result"
    }
   ],
   "source": [
    "# df_over20의 'f1' 컬럼의 최빈값\n",
    "df_over20['f1'].mode()[0]"
   ]
  },
  {
   "cell_type": "code",
   "execution_count": 5,
   "id": "aa07687d",
   "metadata": {
    "execution": {
     "iopub.execute_input": "2022-11-17T11:39:45.007317Z",
     "iopub.status.busy": "2022-11-17T11:39:45.006373Z",
     "iopub.status.idle": "2022-11-17T11:39:45.011856Z",
     "shell.execute_reply": "2022-11-17T11:39:45.010801Z",
     "shell.execute_reply.started": "2022-11-17T11:39:10.209662Z"
    },
    "papermill": {
     "duration": 0.030669,
     "end_time": "2022-11-17T11:39:45.012172",
     "exception": false,
     "start_time": "2022-11-17T11:39:44.981503",
     "status": "completed"
    },
    "tags": []
   },
   "outputs": [
    {
     "name": "stderr",
     "output_type": "stream",
     "text": [
      "/opt/conda/lib/python3.7/site-packages/ipykernel_launcher.py:2: SettingWithCopyWarning: \n",
      "A value is trying to be set on a copy of a slice from a DataFrame.\n",
      "Try using .loc[row_indexer,col_indexer] = value instead\n",
      "\n",
      "See the caveats in the documentation: https://pandas.pydata.org/pandas-docs/stable/user_guide/indexing.html#returning-a-view-versus-a-copy\n",
      "  \n"
     ]
    }
   ],
   "source": [
    "# 최빈값으로 'f1' 컬럼 결측치 대체\n",
    "df_over20['f1']=df_over20['f1'].fillna(df_over20['f1'].mode()[0])"
   ]
  },
  {
   "cell_type": "code",
   "execution_count": 6,
   "id": "a6487dca",
   "metadata": {
    "execution": {
     "iopub.execute_input": "2022-11-17T11:39:45.062153Z",
     "iopub.status.busy": "2022-11-17T11:39:45.061294Z",
     "iopub.status.idle": "2022-11-17T11:39:45.064951Z",
     "shell.execute_reply": "2022-11-17T11:39:45.064312Z",
     "shell.execute_reply.started": "2022-11-17T11:39:10.220217Z"
    },
    "papermill": {
     "duration": 0.031834,
     "end_time": "2022-11-17T11:39:45.065109",
     "exception": false,
     "start_time": "2022-11-17T11:39:45.033275",
     "status": "completed"
    },
    "tags": []
   },
   "outputs": [
    {
     "data": {
      "text/plain": [
       "0"
      ]
     },
     "execution_count": 6,
     "metadata": {},
     "output_type": "execute_result"
    }
   ],
   "source": [
    "# 결측치 대체 후 결측치 개수 확인\n",
    "df_over20['f1'].isnull().sum()"
   ]
  },
  {
   "cell_type": "code",
   "execution_count": 7,
   "id": "b3e6bc9d",
   "metadata": {
    "execution": {
     "iopub.execute_input": "2022-11-17T11:39:45.112549Z",
     "iopub.status.busy": "2022-11-17T11:39:45.111540Z",
     "iopub.status.idle": "2022-11-17T11:39:46.161815Z",
     "shell.execute_reply": "2022-11-17T11:39:46.161007Z",
     "shell.execute_reply.started": "2022-11-17T11:39:10.231297Z"
    },
    "papermill": {
     "duration": 1.075986,
     "end_time": "2022-11-17T11:39:46.161999",
     "exception": false,
     "start_time": "2022-11-17T11:39:45.086013",
     "status": "completed"
    },
    "tags": []
   },
   "outputs": [
    {
     "name": "stderr",
     "output_type": "stream",
     "text": [
      "/opt/conda/lib/python3.7/site-packages/ipykernel_launcher.py:4: SettingWithCopyWarning: \n",
      "A value is trying to be set on a copy of a slice from a DataFrame.\n",
      "Try using .loc[row_indexer,col_indexer] = value instead\n",
      "\n",
      "See the caveats in the documentation: https://pandas.pydata.org/pandas-docs/stable/user_guide/indexing.html#returning-a-view-versus-a-copy\n",
      "  after removing the cwd from sys.path.\n"
     ]
    },
    {
     "data": {
      "text/plain": [
       "2     20.583423\n",
       "3     17.968081\n",
       "4     25.773745\n",
       "5     19.653167\n",
       "6     20.352915\n",
       "        ...    \n",
       "94    16.198225\n",
       "95    18.699749\n",
       "96    17.968081\n",
       "97    19.887818\n",
       "99    18.699749\n",
       "Name: y, Length: 83, dtype: float64"
      ]
     },
     "execution_count": 7,
     "metadata": {},
     "output_type": "execute_result"
    }
   ],
   "source": [
    "# 'f1'데이터 여-존슨 yeo-johnson 값 구하기\n",
    "from sklearn.preprocessing import power_transform\n",
    "\n",
    "df_over20['y']=power_transform(df_over20[['f1']],standardize=False) # method='yeo-johnson' 기본값 / standardize=False 정규화 X\n",
    "df_over20['y']"
   ]
  },
  {
   "cell_type": "code",
   "execution_count": 8,
   "id": "c6894450",
   "metadata": {
    "execution": {
     "iopub.execute_input": "2022-11-17T11:39:46.220419Z",
     "iopub.status.busy": "2022-11-17T11:39:46.219686Z",
     "iopub.status.idle": "2022-11-17T11:39:46.226706Z",
     "shell.execute_reply": "2022-11-17T11:39:46.225576Z",
     "shell.execute_reply.started": "2022-11-17T11:39:10.484239Z"
    },
    "papermill": {
     "duration": 0.042485,
     "end_time": "2022-11-17T11:39:46.227036",
     "exception": false,
     "start_time": "2022-11-17T11:39:46.184551",
     "status": "completed"
    },
    "tags": []
   },
   "outputs": [
    {
     "name": "stderr",
     "output_type": "stream",
     "text": [
      "/opt/conda/lib/python3.7/site-packages/ipykernel_launcher.py:4: SettingWithCopyWarning: \n",
      "A value is trying to be set on a copy of a slice from a DataFrame.\n",
      "Try using .loc[row_indexer,col_indexer] = value instead\n",
      "\n",
      "See the caveats in the documentation: https://pandas.pydata.org/pandas-docs/stable/user_guide/indexing.html#returning-a-view-versus-a-copy\n",
      "  after removing the cwd from sys.path.\n"
     ]
    },
    {
     "data": {
      "text/plain": [
       "2     21.067090\n",
       "3     18.305263\n",
       "4     26.557680\n",
       "5     20.084373\n",
       "6     20.823545\n",
       "        ...    \n",
       "94    16.437954\n",
       "95    19.077601\n",
       "96    18.305263\n",
       "97    20.332219\n",
       "99    19.077601\n",
       "Name: b, Length: 83, dtype: float64"
      ]
     },
     "execution_count": 8,
     "metadata": {},
     "output_type": "execute_result"
    }
   ],
   "source": [
    "# 'f1'데이터 박스-콕스 box-cox 값 구하기\n",
    "from sklearn.preprocessing import power_transform\n",
    "\n",
    "df_over20['b']=power_transform(df_over20[['f1']],method='box-cox',standardize=False)\n",
    "df_over20['b']"
   ]
  },
  {
   "cell_type": "code",
   "execution_count": 9,
   "id": "6fbd034e",
   "metadata": {
    "execution": {
     "iopub.execute_input": "2022-11-17T11:39:46.279166Z",
     "iopub.status.busy": "2022-11-17T11:39:46.278051Z",
     "iopub.status.idle": "2022-11-17T11:39:46.282812Z",
     "shell.execute_reply": "2022-11-17T11:39:46.282117Z",
     "shell.execute_reply.started": "2022-11-17T11:39:10.498395Z"
    },
    "papermill": {
     "duration": 0.034268,
     "end_time": "2022-11-17T11:39:46.282966",
     "exception": false,
     "start_time": "2022-11-17T11:39:46.248698",
     "status": "completed"
    },
    "tags": []
   },
   "outputs": [
    {
     "data": {
      "text/plain": [
       "39.17"
      ]
     },
     "execution_count": 9,
     "metadata": {},
     "output_type": "execute_result"
    }
   ],
   "source": [
    "# 두 값의 차이를 절대값으로 구한다음 모두 더해 소수점 둘째 자리까지 출력(반올림)\n",
    "round(abs(df_over20['y']-df_over20['b']).sum(),2)"
   ]
  },
  {
   "cell_type": "markdown",
   "id": "0f1142f9",
   "metadata": {
    "papermill": {
     "duration": 0.020957,
     "end_time": "2022-11-17T11:39:46.326500",
     "exception": false,
     "start_time": "2022-11-17T11:39:46.305543",
     "status": "completed"
    },
    "tags": []
   },
   "source": [
    "## Hint\n",
    "- https://scikit-learn.org/stable/modules/generated/sklearn.preprocessing.power_transform.html"
   ]
  },
  {
   "cell_type": "code",
   "execution_count": 10,
   "id": "8b163cbc",
   "metadata": {
    "execution": {
     "iopub.execute_input": "2022-11-17T11:39:46.381801Z",
     "iopub.status.busy": "2022-11-17T11:39:46.381037Z",
     "iopub.status.idle": "2022-11-17T11:39:46.390711Z",
     "shell.execute_reply": "2022-11-17T11:39:46.391224Z",
     "shell.execute_reply.started": "2022-11-17T11:39:10.506784Z"
    },
    "papermill": {
     "duration": 0.04191,
     "end_time": "2022-11-17T11:39:46.391419",
     "exception": false,
     "start_time": "2022-11-17T11:39:46.349509",
     "status": "completed"
    },
    "tags": []
   },
   "outputs": [
    {
     "name": "stdout",
     "output_type": "stream",
     "text": [
      "[[-1.27332767 -1.24414502]\n",
      " [ 0.10376846  0.03976901]\n",
      " [ 1.16955921  1.20437601]]\n",
      "[[-1.27548765 -1.24611441]\n",
      " [ 0.1087368   0.04392064]\n",
      " [ 1.16675085  1.20219377]]\n"
     ]
    }
   ],
   "source": [
    "from sklearn.preprocessing import power_transform\n",
    "data = [[11, 12], [23, 22], [34, 35]]\n",
    "print(power_transform(data)) # method 디폴트 값은 여-존슨’yeo-johnson’\n",
    "print(power_transform(data, method='box-cox'))"
   ]
  },
  {
   "cell_type": "markdown",
   "id": "6cc1c750",
   "metadata": {
    "papermill": {
     "duration": 0.022529,
     "end_time": "2022-11-17T11:39:46.435551",
     "exception": false,
     "start_time": "2022-11-17T11:39:46.413022",
     "status": "completed"
    },
    "tags": []
   },
   "source": [
    "## 풀이"
   ]
  },
  {
   "cell_type": "code",
   "execution_count": 11,
   "id": "0336609e",
   "metadata": {
    "_cell_guid": "b1076dfc-b9ad-4769-8c92-a6c4dae69d19",
    "_uuid": "8f2839f25d086af736a60e9eeb907d3b93b6e0e5",
    "execution": {
     "iopub.execute_input": "2022-11-17T11:39:46.487218Z",
     "iopub.status.busy": "2022-11-17T11:39:46.486440Z",
     "iopub.status.idle": "2022-11-17T11:39:46.503065Z",
     "shell.execute_reply": "2022-11-17T11:39:46.502328Z",
     "shell.execute_reply.started": "2022-11-17T11:39:10.528370Z"
    },
    "papermill": {
     "duration": 0.044372,
     "end_time": "2022-11-17T11:39:46.503214",
     "exception": false,
     "start_time": "2022-11-17T11:39:46.458842",
     "status": "completed"
    },
    "tags": []
   },
   "outputs": [
    {
     "data": {
      "text/html": [
       "<div>\n",
       "<style scoped>\n",
       "    .dataframe tbody tr th:only-of-type {\n",
       "        vertical-align: middle;\n",
       "    }\n",
       "\n",
       "    .dataframe tbody tr th {\n",
       "        vertical-align: top;\n",
       "    }\n",
       "\n",
       "    .dataframe thead th {\n",
       "        text-align: right;\n",
       "    }\n",
       "</style>\n",
       "<table border=\"1\" class=\"dataframe\">\n",
       "  <thead>\n",
       "    <tr style=\"text-align: right;\">\n",
       "      <th></th>\n",
       "      <th>id</th>\n",
       "      <th>age</th>\n",
       "      <th>city</th>\n",
       "      <th>f1</th>\n",
       "      <th>f2</th>\n",
       "      <th>f3</th>\n",
       "      <th>f4</th>\n",
       "      <th>f5</th>\n",
       "    </tr>\n",
       "  </thead>\n",
       "  <tbody>\n",
       "    <tr>\n",
       "      <th>0</th>\n",
       "      <td>id01</td>\n",
       "      <td>2.0</td>\n",
       "      <td>서울</td>\n",
       "      <td>NaN</td>\n",
       "      <td>0</td>\n",
       "      <td>NaN</td>\n",
       "      <td>ENFJ</td>\n",
       "      <td>91.297791</td>\n",
       "    </tr>\n",
       "    <tr>\n",
       "      <th>1</th>\n",
       "      <td>id02</td>\n",
       "      <td>9.0</td>\n",
       "      <td>서울</td>\n",
       "      <td>70.0</td>\n",
       "      <td>1</td>\n",
       "      <td>NaN</td>\n",
       "      <td>ENFJ</td>\n",
       "      <td>60.339826</td>\n",
       "    </tr>\n",
       "    <tr>\n",
       "      <th>2</th>\n",
       "      <td>id03</td>\n",
       "      <td>27.0</td>\n",
       "      <td>서울</td>\n",
       "      <td>61.0</td>\n",
       "      <td>1</td>\n",
       "      <td>NaN</td>\n",
       "      <td>ISTJ</td>\n",
       "      <td>17.252986</td>\n",
       "    </tr>\n",
       "    <tr>\n",
       "      <th>3</th>\n",
       "      <td>id04</td>\n",
       "      <td>75.0</td>\n",
       "      <td>서울</td>\n",
       "      <td>NaN</td>\n",
       "      <td>2</td>\n",
       "      <td>NaN</td>\n",
       "      <td>INFP</td>\n",
       "      <td>52.667078</td>\n",
       "    </tr>\n",
       "    <tr>\n",
       "      <th>4</th>\n",
       "      <td>id05</td>\n",
       "      <td>24.0</td>\n",
       "      <td>서울</td>\n",
       "      <td>85.0</td>\n",
       "      <td>2</td>\n",
       "      <td>NaN</td>\n",
       "      <td>ISFJ</td>\n",
       "      <td>29.269869</td>\n",
       "    </tr>\n",
       "  </tbody>\n",
       "</table>\n",
       "</div>"
      ],
      "text/plain": [
       "     id   age city    f1  f2   f3    f4         f5\n",
       "0  id01   2.0   서울   NaN   0  NaN  ENFJ  91.297791\n",
       "1  id02   9.0   서울  70.0   1  NaN  ENFJ  60.339826\n",
       "2  id03  27.0   서울  61.0   1  NaN  ISTJ  17.252986\n",
       "3  id04  75.0   서울   NaN   2  NaN  INFP  52.667078\n",
       "4  id05  24.0   서울  85.0   2  NaN  ISFJ  29.269869"
      ]
     },
     "execution_count": 11,
     "metadata": {},
     "output_type": "execute_result"
    }
   ],
   "source": [
    "# 라이브러리 및 데이터 불러오기\n",
    "import pandas as pd\n",
    "import numpy as np\n",
    "from sklearn.preprocessing import power_transform\n",
    "\n",
    "df = pd.read_csv('../input/bigdatacertificationkr/basic1.csv')\n",
    "df.head(5)"
   ]
  },
  {
   "cell_type": "code",
   "execution_count": 12,
   "id": "950bfc37",
   "metadata": {
    "execution": {
     "iopub.execute_input": "2022-11-17T11:39:46.557147Z",
     "iopub.status.busy": "2022-11-17T11:39:46.555988Z",
     "iopub.status.idle": "2022-11-17T11:39:46.561893Z",
     "shell.execute_reply": "2022-11-17T11:39:46.561241Z",
     "shell.execute_reply.started": "2022-11-17T11:39:10.555863Z"
    },
    "papermill": {
     "duration": 0.034758,
     "end_time": "2022-11-17T11:39:46.562187",
     "exception": false,
     "start_time": "2022-11-17T11:39:46.527429",
     "status": "completed"
    },
    "tags": []
   },
   "outputs": [
    {
     "name": "stdout",
     "output_type": "stream",
     "text": [
      "조건 적용 전: (100, 8)\n",
      "조건 적용 후: (83, 8)\n"
     ]
    }
   ],
   "source": [
    "# 조건에 맞는 데이터\n",
    "print(\"조건 적용 전:\", df.shape)\n",
    "df = df[df['age']>=20]\n",
    "print(\"조건 적용 후:\", df.shape)"
   ]
  },
  {
   "cell_type": "code",
   "execution_count": 13,
   "id": "ca1a0563",
   "metadata": {
    "execution": {
     "iopub.execute_input": "2022-11-17T11:39:46.622411Z",
     "iopub.status.busy": "2022-11-17T11:39:46.621571Z",
     "iopub.status.idle": "2022-11-17T11:39:46.625700Z",
     "shell.execute_reply": "2022-11-17T11:39:46.626490Z",
     "shell.execute_reply.started": "2022-11-17T11:39:10.565901Z"
    },
    "papermill": {
     "duration": 0.040559,
     "end_time": "2022-11-17T11:39:46.626803",
     "exception": false,
     "start_time": "2022-11-17T11:39:46.586244",
     "status": "completed"
    },
    "tags": []
   },
   "outputs": [
    {
     "name": "stdout",
     "output_type": "stream",
     "text": [
      "결측치 처리 전: \n",
      " id       0\n",
      "age      0\n",
      "city     0\n",
      "f1      26\n",
      "f2       0\n",
      "f3      78\n",
      "f4       0\n",
      "f5       0\n",
      "dtype: int64\n",
      "최빈값:  50.0\n",
      "결측치 처리 후: \n",
      " id       0\n",
      "age      0\n",
      "city     0\n",
      "f1       0\n",
      "f2       0\n",
      "f3      78\n",
      "f4       0\n",
      "f5       0\n",
      "dtype: int64\n"
     ]
    }
   ],
   "source": [
    "# 최빈값으로 'f1' 컬럼 결측치 대체\n",
    "print(\"결측치 처리 전: \\n\", df.isnull().sum())\n",
    "print(\"최빈값: \",df['f1'].mode()[0])\n",
    "df['f1'] = df['f1'].fillna(df['f1'].mode()[0])\n",
    "print(\"결측치 처리 후: \\n\", df.isnull().sum())   "
   ]
  },
  {
   "cell_type": "code",
   "execution_count": 14,
   "id": "cf2d86c2",
   "metadata": {
    "execution": {
     "iopub.execute_input": "2022-11-17T11:39:46.687044Z",
     "iopub.status.busy": "2022-11-17T11:39:46.686185Z",
     "iopub.status.idle": "2022-11-17T11:39:46.690469Z",
     "shell.execute_reply": "2022-11-17T11:39:46.689898Z",
     "shell.execute_reply.started": "2022-11-17T11:39:10.580223Z"
    },
    "papermill": {
     "duration": 0.040935,
     "end_time": "2022-11-17T11:39:46.690623",
     "exception": false,
     "start_time": "2022-11-17T11:39:46.649688",
     "status": "completed"
    },
    "tags": []
   },
   "outputs": [
    {
     "data": {
      "text/plain": [
       "2    0.101083\n",
       "3   -0.585402\n",
       "4    1.463459\n",
       "5   -0.143094\n",
       "6    0.040578\n",
       "Name: y, dtype: float64"
      ]
     },
     "execution_count": 14,
     "metadata": {},
     "output_type": "execute_result"
    }
   ],
   "source": [
    "# 'f1'데이터 여-존슨 yeo-johnson 값 구하기\n",
    "df['y'] = power_transform(df[['f1']]) # method 디폴트 값은 여-존슨’yeo-johnson’\n",
    "df['y'].head()"
   ]
  },
  {
   "cell_type": "code",
   "execution_count": 15,
   "id": "450bf401",
   "metadata": {
    "execution": {
     "iopub.execute_input": "2022-11-17T11:39:46.752294Z",
     "iopub.status.busy": "2022-11-17T11:39:46.751327Z",
     "iopub.status.idle": "2022-11-17T11:39:46.755770Z",
     "shell.execute_reply": "2022-11-17T11:39:46.755199Z",
     "shell.execute_reply.started": "2022-11-17T11:39:10.595552Z"
    },
    "papermill": {
     "duration": 0.0407,
     "end_time": "2022-11-17T11:39:46.755919",
     "exception": false,
     "start_time": "2022-11-17T11:39:46.715219",
     "status": "completed"
    },
    "tags": []
   },
   "outputs": [
    {
     "data": {
      "text/plain": [
       "2    20.583423\n",
       "3    17.968081\n",
       "4    25.773745\n",
       "5    19.653167\n",
       "6    20.352915\n",
       "Name: y, dtype: float64"
      ]
     },
     "execution_count": 15,
     "metadata": {},
     "output_type": "execute_result"
    }
   ],
   "source": [
    "# 'f1'데이터 여-존슨 yeo-johnson 값 구하기\n",
    "df['y'] = power_transform(df[['f1']],standardize=False) # method 디폴트 값은 여-존슨’yeo-johnson’\n",
    "df['y'].head()"
   ]
  },
  {
   "cell_type": "code",
   "execution_count": 16,
   "id": "0f99f511",
   "metadata": {
    "execution": {
     "iopub.execute_input": "2022-11-17T11:39:46.816261Z",
     "iopub.status.busy": "2022-11-17T11:39:46.812612Z",
     "iopub.status.idle": "2022-11-17T11:39:46.821008Z",
     "shell.execute_reply": "2022-11-17T11:39:46.820308Z",
     "shell.execute_reply.started": "2022-11-17T11:39:10.609426Z"
    },
    "papermill": {
     "duration": 0.042192,
     "end_time": "2022-11-17T11:39:46.821168",
     "exception": false,
     "start_time": "2022-11-17T11:39:46.778976",
     "status": "completed"
    },
    "tags": []
   },
   "outputs": [
    {
     "data": {
      "text/plain": [
       "2    0.100290\n",
       "3   -0.585656\n",
       "4    1.463969\n",
       "5   -0.143784\n",
       "6    0.039801\n",
       "Name: b, dtype: float64"
      ]
     },
     "execution_count": 16,
     "metadata": {},
     "output_type": "execute_result"
    }
   ],
   "source": [
    "# 'f1'데이터 박스-콕스 box-cox 값 구하기\n",
    "df['b'] = power_transform(df[['f1']], method='box-cox')\n",
    "df['b'].head()"
   ]
  },
  {
   "cell_type": "code",
   "execution_count": 17,
   "id": "91a3aa92",
   "metadata": {
    "execution": {
     "iopub.execute_input": "2022-11-17T11:39:46.880622Z",
     "iopub.status.busy": "2022-11-17T11:39:46.875850Z",
     "iopub.status.idle": "2022-11-17T11:39:46.884400Z",
     "shell.execute_reply": "2022-11-17T11:39:46.883734Z",
     "shell.execute_reply.started": "2022-11-17T11:39:10.620857Z"
    },
    "papermill": {
     "duration": 0.039765,
     "end_time": "2022-11-17T11:39:46.884544",
     "exception": false,
     "start_time": "2022-11-17T11:39:46.844779",
     "status": "completed"
    },
    "tags": []
   },
   "outputs": [
    {
     "data": {
      "text/plain": [
       "2    21.067090\n",
       "3    18.305263\n",
       "4    26.557680\n",
       "5    20.084373\n",
       "6    20.823545\n",
       "Name: b, dtype: float64"
      ]
     },
     "execution_count": 17,
     "metadata": {},
     "output_type": "execute_result"
    }
   ],
   "source": [
    "# 'f1'데이터 박스-콕스 box-cox 값 구하기\n",
    "# 추가 2022.6.21 \n",
    "# standardize=False는 python과 R의 디폴트가 달라 결과를 맞추기 위함이었어요! 이번 문제는 출제 가능성이 낮아 보여요 (이미 풀이한 분들이 있어 그대로 두었습니다.)\n",
    "df['b'] = power_transform(df[['f1']], method='box-cox', standardize=False)\n",
    "df['b'].head()"
   ]
  },
  {
   "cell_type": "code",
   "execution_count": 18,
   "id": "1758800b",
   "metadata": {
    "execution": {
     "iopub.execute_input": "2022-11-17T11:39:46.942740Z",
     "iopub.status.busy": "2022-11-17T11:39:46.941568Z",
     "iopub.status.idle": "2022-11-17T11:39:46.946309Z",
     "shell.execute_reply": "2022-11-17T11:39:46.946860Z",
     "shell.execute_reply.started": "2022-11-17T11:39:10.641195Z"
    },
    "papermill": {
     "duration": 0.038486,
     "end_time": "2022-11-17T11:39:46.947045",
     "exception": false,
     "start_time": "2022-11-17T11:39:46.908559",
     "status": "completed"
    },
    "tags": []
   },
   "outputs": [
    {
     "data": {
      "text/plain": [
       "(array([21.06708953, 18.3052633 , 26.5576802 , 20.08437298, 20.82354507,\n",
       "        29.92014513, 24.11822132, 22.73510562, 18.3052633 , 18.3052633 ,\n",
       "        22.50057055, 26.5576802 , 18.3052633 , 26.9892231 , 18.3052633 ,\n",
       "        18.3052633 , 24.34492271, 16.71079147, 18.3052633 , 20.08437298,\n",
       "        20.82354507, 13.87430348, 24.79522889, 21.78961583, 28.47348918,\n",
       "        18.3052633 , 18.3052633 , 24.79522889, 18.3052633 , 18.3052633 ,\n",
       "        18.3052633 , 24.34492271, 19.58413896, 17.78149164, 20.82354507,\n",
       "        18.3052633 , 27.20371216, 18.3052633 , 24.34492271, 27.20371216,\n",
       "        25.01886978, 18.3052633 , 25.90374843, 18.3052633 , 18.3052633 ,\n",
       "        21.55009581, 18.3052633 , 18.3052633 , 18.3052633 , 21.30926323,\n",
       "        18.3052633 , 26.77388356, 21.30926323, 18.3052633 , 18.3052633 ,\n",
       "        18.82186921, 16.9815023 , 26.5576802 , 26.34059934, 18.3052633 ,\n",
       "        29.30451924, 17.51679379,  6.25392521, 12.96923726, 28.89049447,\n",
       "        18.3052633 , 20.82354507, 18.3052633 , 18.3052633 , 18.3052633 ,\n",
       "        16.71079147, 19.58413896, 24.34492271, 22.26482716, 18.3052633 ,\n",
       "        25.01886978, 20.08437298, 18.3052633 , 16.43795391, 19.07760136,\n",
       "        18.3052633 , 20.33221948, 19.07760136]),\n",
       " 0.6557192658257479)"
      ]
     },
     "execution_count": 18,
     "metadata": {},
     "output_type": "execute_result"
    }
   ],
   "source": [
    "## 박스콕스 방법2\n",
    "from scipy import stats\n",
    "x = stats.boxcox(df['f1'])\n",
    "x"
   ]
  },
  {
   "cell_type": "code",
   "execution_count": 19,
   "id": "caa67019",
   "metadata": {
    "execution": {
     "iopub.execute_input": "2022-11-17T11:39:46.999296Z",
     "iopub.status.busy": "2022-11-17T11:39:46.998274Z",
     "iopub.status.idle": "2022-11-17T11:39:47.005237Z",
     "shell.execute_reply": "2022-11-17T11:39:47.005770Z",
     "shell.execute_reply.started": "2022-11-17T11:39:10.653675Z"
    },
    "papermill": {
     "duration": 0.035145,
     "end_time": "2022-11-17T11:39:47.005968",
     "exception": false,
     "start_time": "2022-11-17T11:39:46.970823",
     "status": "completed"
    },
    "tags": []
   },
   "outputs": [
    {
     "data": {
      "text/plain": [
       "39.17"
      ]
     },
     "execution_count": 19,
     "metadata": {},
     "output_type": "execute_result"
    }
   ],
   "source": [
    "# 두 값의 차이를 절대값으로 구한다음 모두 더해 소수점 둘째 자리까지 출력(반올림)\n",
    "round(sum(np.abs(df['y'] - df['b'])),2)"
   ]
  }
 ],
 "metadata": {
  "kernelspec": {
   "display_name": "Python 3",
   "language": "python",
   "name": "python3"
  },
  "language_info": {
   "codemirror_mode": {
    "name": "ipython",
    "version": 3
   },
   "file_extension": ".py",
   "mimetype": "text/x-python",
   "name": "python",
   "nbconvert_exporter": "python",
   "pygments_lexer": "ipython3",
   "version": "3.7.10"
  },
  "papermill": {
   "default_parameters": {},
   "duration": 13.753176,
   "end_time": "2022-11-17T11:39:47.743767",
   "environment_variables": {},
   "exception": null,
   "input_path": "__notebook__.ipynb",
   "output_path": "__notebook__.ipynb",
   "parameters": {},
   "start_time": "2022-11-17T11:39:33.990591",
   "version": "2.3.3"
  }
 },
 "nbformat": 4,
 "nbformat_minor": 5
}
