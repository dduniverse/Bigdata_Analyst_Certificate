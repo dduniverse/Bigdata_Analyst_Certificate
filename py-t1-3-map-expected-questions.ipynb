{
 "cells": [
  {
   "cell_type": "markdown",
   "id": "1f6b53fb",
   "metadata": {
    "papermill": {
     "duration": 0.015833,
     "end_time": "2022-11-16T09:55:09.222475",
     "exception": false,
     "start_time": "2022-11-16T09:55:09.206642",
     "status": "completed"
    },
    "tags": []
   },
   "source": [
    "## 결측치 처리\n",
    "-  주어진 데이터에서 결측치가 80%이상 되는 컬럼은(변수는) 삭제하고, 80% 미만인 결측치가 있는 컬럼은 'city'별 중앙값으로 값을 대체하고 'f1'컬럼의 평균값을 출력하세요!\n",
    "- 데이터셋 : basic1.csv 오른쪽 상단 copy&edit 클릭 -> 예상문제 풀이 시작\n",
    "- 강의 영상 : https://youtu.be/WqlpqBRn7x4"
   ]
  },
  {
   "cell_type": "code",
   "execution_count": 1,
   "id": "9ee1ca75",
   "metadata": {
    "execution": {
     "iopub.execute_input": "2022-11-16T09:55:09.263519Z",
     "iopub.status.busy": "2022-11-16T09:55:09.262879Z",
     "iopub.status.idle": "2022-11-16T09:55:09.305019Z",
     "shell.execute_reply": "2022-11-16T09:55:09.305585Z",
     "shell.execute_reply.started": "2022-11-16T09:54:34.791273Z"
    },
    "papermill": {
     "duration": 0.068039,
     "end_time": "2022-11-16T09:55:09.305879",
     "exception": false,
     "start_time": "2022-11-16T09:55:09.237840",
     "status": "completed"
    },
    "tags": []
   },
   "outputs": [
    {
     "data": {
      "text/html": [
       "<div>\n",
       "<style scoped>\n",
       "    .dataframe tbody tr th:only-of-type {\n",
       "        vertical-align: middle;\n",
       "    }\n",
       "\n",
       "    .dataframe tbody tr th {\n",
       "        vertical-align: top;\n",
       "    }\n",
       "\n",
       "    .dataframe thead th {\n",
       "        text-align: right;\n",
       "    }\n",
       "</style>\n",
       "<table border=\"1\" class=\"dataframe\">\n",
       "  <thead>\n",
       "    <tr style=\"text-align: right;\">\n",
       "      <th></th>\n",
       "      <th>id</th>\n",
       "      <th>age</th>\n",
       "      <th>city</th>\n",
       "      <th>f1</th>\n",
       "      <th>f2</th>\n",
       "      <th>f3</th>\n",
       "      <th>f4</th>\n",
       "      <th>f5</th>\n",
       "    </tr>\n",
       "  </thead>\n",
       "  <tbody>\n",
       "    <tr>\n",
       "      <th>0</th>\n",
       "      <td>id01</td>\n",
       "      <td>2.0</td>\n",
       "      <td>서울</td>\n",
       "      <td>NaN</td>\n",
       "      <td>0</td>\n",
       "      <td>NaN</td>\n",
       "      <td>ENFJ</td>\n",
       "      <td>91.297791</td>\n",
       "    </tr>\n",
       "    <tr>\n",
       "      <th>1</th>\n",
       "      <td>id02</td>\n",
       "      <td>9.0</td>\n",
       "      <td>서울</td>\n",
       "      <td>70.0</td>\n",
       "      <td>1</td>\n",
       "      <td>NaN</td>\n",
       "      <td>ENFJ</td>\n",
       "      <td>60.339826</td>\n",
       "    </tr>\n",
       "    <tr>\n",
       "      <th>2</th>\n",
       "      <td>id03</td>\n",
       "      <td>27.0</td>\n",
       "      <td>서울</td>\n",
       "      <td>61.0</td>\n",
       "      <td>1</td>\n",
       "      <td>NaN</td>\n",
       "      <td>ISTJ</td>\n",
       "      <td>17.252986</td>\n",
       "    </tr>\n",
       "    <tr>\n",
       "      <th>3</th>\n",
       "      <td>id04</td>\n",
       "      <td>75.0</td>\n",
       "      <td>서울</td>\n",
       "      <td>NaN</td>\n",
       "      <td>2</td>\n",
       "      <td>NaN</td>\n",
       "      <td>INFP</td>\n",
       "      <td>52.667078</td>\n",
       "    </tr>\n",
       "    <tr>\n",
       "      <th>4</th>\n",
       "      <td>id05</td>\n",
       "      <td>24.0</td>\n",
       "      <td>서울</td>\n",
       "      <td>85.0</td>\n",
       "      <td>2</td>\n",
       "      <td>NaN</td>\n",
       "      <td>ISFJ</td>\n",
       "      <td>29.269869</td>\n",
       "    </tr>\n",
       "    <tr>\n",
       "      <th>...</th>\n",
       "      <td>...</td>\n",
       "      <td>...</td>\n",
       "      <td>...</td>\n",
       "      <td>...</td>\n",
       "      <td>...</td>\n",
       "      <td>...</td>\n",
       "      <td>...</td>\n",
       "      <td>...</td>\n",
       "    </tr>\n",
       "    <tr>\n",
       "      <th>95</th>\n",
       "      <td>id96</td>\n",
       "      <td>92.0</td>\n",
       "      <td>경기</td>\n",
       "      <td>53.0</td>\n",
       "      <td>1</td>\n",
       "      <td>NaN</td>\n",
       "      <td>ENTJ</td>\n",
       "      <td>52.667078</td>\n",
       "    </tr>\n",
       "    <tr>\n",
       "      <th>96</th>\n",
       "      <td>id97</td>\n",
       "      <td>100.0</td>\n",
       "      <td>경기</td>\n",
       "      <td>NaN</td>\n",
       "      <td>0</td>\n",
       "      <td>NaN</td>\n",
       "      <td>INFP</td>\n",
       "      <td>67.886373</td>\n",
       "    </tr>\n",
       "    <tr>\n",
       "      <th>97</th>\n",
       "      <td>id98</td>\n",
       "      <td>39.0</td>\n",
       "      <td>경기</td>\n",
       "      <td>58.0</td>\n",
       "      <td>2</td>\n",
       "      <td>NaN</td>\n",
       "      <td>INFP</td>\n",
       "      <td>98.429899</td>\n",
       "    </tr>\n",
       "    <tr>\n",
       "      <th>98</th>\n",
       "      <td>id99</td>\n",
       "      <td>1.0</td>\n",
       "      <td>경기</td>\n",
       "      <td>47.0</td>\n",
       "      <td>0</td>\n",
       "      <td>NaN</td>\n",
       "      <td>ESFJ</td>\n",
       "      <td>97.381034</td>\n",
       "    </tr>\n",
       "    <tr>\n",
       "      <th>99</th>\n",
       "      <td>id100</td>\n",
       "      <td>47.0</td>\n",
       "      <td>경기</td>\n",
       "      <td>53.0</td>\n",
       "      <td>0</td>\n",
       "      <td>vip</td>\n",
       "      <td>ESFP</td>\n",
       "      <td>33.308999</td>\n",
       "    </tr>\n",
       "  </tbody>\n",
       "</table>\n",
       "<p>100 rows × 8 columns</p>\n",
       "</div>"
      ],
      "text/plain": [
       "       id    age city    f1  f2   f3    f4         f5\n",
       "0    id01    2.0   서울   NaN   0  NaN  ENFJ  91.297791\n",
       "1    id02    9.0   서울  70.0   1  NaN  ENFJ  60.339826\n",
       "2    id03   27.0   서울  61.0   1  NaN  ISTJ  17.252986\n",
       "3    id04   75.0   서울   NaN   2  NaN  INFP  52.667078\n",
       "4    id05   24.0   서울  85.0   2  NaN  ISFJ  29.269869\n",
       "..    ...    ...  ...   ...  ..  ...   ...        ...\n",
       "95   id96   92.0   경기  53.0   1  NaN  ENTJ  52.667078\n",
       "96   id97  100.0   경기   NaN   0  NaN  INFP  67.886373\n",
       "97   id98   39.0   경기  58.0   2  NaN  INFP  98.429899\n",
       "98   id99    1.0   경기  47.0   0  NaN  ESFJ  97.381034\n",
       "99  id100   47.0   경기  53.0   0  vip  ESFP  33.308999\n",
       "\n",
       "[100 rows x 8 columns]"
      ]
     },
     "execution_count": 1,
     "metadata": {},
     "output_type": "execute_result"
    }
   ],
   "source": [
    "# 라이브러리 및 데이터 불러오기\n",
    "import pandas as pd\n",
    "import numpy as np\n",
    "\n",
    "df=pd.read_csv('../input/bigdatacertificationkr/basic1.csv')\n",
    "df"
   ]
  },
  {
   "cell_type": "code",
   "execution_count": 2,
   "id": "75906108",
   "metadata": {
    "execution": {
     "iopub.execute_input": "2022-11-16T09:55:09.341672Z",
     "iopub.status.busy": "2022-11-16T09:55:09.341130Z",
     "iopub.status.idle": "2022-11-16T09:55:09.362404Z",
     "shell.execute_reply": "2022-11-16T09:55:09.361833Z",
     "shell.execute_reply.started": "2022-11-16T09:54:34.831344Z"
    },
    "papermill": {
     "duration": 0.039988,
     "end_time": "2022-11-16T09:55:09.362533",
     "exception": false,
     "start_time": "2022-11-16T09:55:09.322545",
     "status": "completed"
    },
    "tags": []
   },
   "outputs": [
    {
     "name": "stdout",
     "output_type": "stream",
     "text": [
      "<class 'pandas.core.frame.DataFrame'>\n",
      "RangeIndex: 100 entries, 0 to 99\n",
      "Data columns (total 8 columns):\n",
      " #   Column  Non-Null Count  Dtype  \n",
      "---  ------  --------------  -----  \n",
      " 0   id      100 non-null    object \n",
      " 1   age     100 non-null    float64\n",
      " 2   city    100 non-null    object \n",
      " 3   f1      69 non-null     float64\n",
      " 4   f2      100 non-null    int64  \n",
      " 5   f3      5 non-null      object \n",
      " 6   f4      100 non-null    object \n",
      " 7   f5      100 non-null    float64\n",
      "dtypes: float64(3), int64(1), object(4)\n",
      "memory usage: 6.4+ KB\n"
     ]
    }
   ],
   "source": [
    "# EDA - 결측값 확인(비율 확인)\n",
    "df.info()"
   ]
  },
  {
   "cell_type": "code",
   "execution_count": 3,
   "id": "817751d1",
   "metadata": {
    "execution": {
     "iopub.execute_input": "2022-11-16T09:55:09.402748Z",
     "iopub.status.busy": "2022-11-16T09:55:09.402145Z",
     "iopub.status.idle": "2022-11-16T09:55:09.404687Z",
     "shell.execute_reply": "2022-11-16T09:55:09.405143Z",
     "shell.execute_reply.started": "2022-11-16T09:54:34.848108Z"
    },
    "papermill": {
     "duration": 0.026648,
     "end_time": "2022-11-16T09:55:09.405293",
     "exception": false,
     "start_time": "2022-11-16T09:55:09.378645",
     "status": "completed"
    },
    "tags": []
   },
   "outputs": [
    {
     "data": {
      "text/plain": [
       "id       0\n",
       "age      0\n",
       "city     0\n",
       "f1      31\n",
       "f2       0\n",
       "f3      95\n",
       "f4       0\n",
       "f5       0\n",
       "dtype: int64"
      ]
     },
     "execution_count": 3,
     "metadata": {},
     "output_type": "execute_result"
    }
   ],
   "source": [
    "# 컬럼별 결측치 개수\n",
    "df.isnull().sum()"
   ]
  },
  {
   "cell_type": "code",
   "execution_count": 4,
   "id": "a91057e0",
   "metadata": {
    "execution": {
     "iopub.execute_input": "2022-11-16T09:55:09.441849Z",
     "iopub.status.busy": "2022-11-16T09:55:09.441122Z",
     "iopub.status.idle": "2022-11-16T09:55:09.450061Z",
     "shell.execute_reply": "2022-11-16T09:55:09.450569Z",
     "shell.execute_reply.started": "2022-11-16T09:54:34.861330Z"
    },
    "papermill": {
     "duration": 0.028892,
     "end_time": "2022-11-16T09:55:09.450783",
     "exception": false,
     "start_time": "2022-11-16T09:55:09.421891",
     "status": "completed"
    },
    "tags": []
   },
   "outputs": [
    {
     "data": {
      "text/plain": [
       "id      0.00\n",
       "age     0.00\n",
       "city    0.00\n",
       "f1      0.31\n",
       "f2      0.00\n",
       "f3      0.95\n",
       "f4      0.00\n",
       "f5      0.00\n",
       "dtype: float64"
      ]
     },
     "execution_count": 4,
     "metadata": {},
     "output_type": "execute_result"
    }
   ],
   "source": [
    "# 컬럼별 결측치 비율\n",
    "df.isnull().sum()/len(df)"
   ]
  },
  {
   "cell_type": "code",
   "execution_count": 5,
   "id": "9e753f37",
   "metadata": {
    "execution": {
     "iopub.execute_input": "2022-11-16T09:55:09.490384Z",
     "iopub.status.busy": "2022-11-16T09:55:09.487503Z",
     "iopub.status.idle": "2022-11-16T09:55:09.509756Z",
     "shell.execute_reply": "2022-11-16T09:55:09.509182Z",
     "shell.execute_reply.started": "2022-11-16T09:54:34.878521Z"
    },
    "papermill": {
     "duration": 0.041857,
     "end_time": "2022-11-16T09:55:09.509884",
     "exception": false,
     "start_time": "2022-11-16T09:55:09.468027",
     "status": "completed"
    },
    "tags": []
   },
   "outputs": [
    {
     "data": {
      "text/html": [
       "<div>\n",
       "<style scoped>\n",
       "    .dataframe tbody tr th:only-of-type {\n",
       "        vertical-align: middle;\n",
       "    }\n",
       "\n",
       "    .dataframe tbody tr th {\n",
       "        vertical-align: top;\n",
       "    }\n",
       "\n",
       "    .dataframe thead th {\n",
       "        text-align: right;\n",
       "    }\n",
       "</style>\n",
       "<table border=\"1\" class=\"dataframe\">\n",
       "  <thead>\n",
       "    <tr style=\"text-align: right;\">\n",
       "      <th></th>\n",
       "      <th>id</th>\n",
       "      <th>age</th>\n",
       "      <th>city</th>\n",
       "      <th>f1</th>\n",
       "      <th>f2</th>\n",
       "      <th>f4</th>\n",
       "      <th>f5</th>\n",
       "    </tr>\n",
       "  </thead>\n",
       "  <tbody>\n",
       "    <tr>\n",
       "      <th>0</th>\n",
       "      <td>id01</td>\n",
       "      <td>2.0</td>\n",
       "      <td>서울</td>\n",
       "      <td>NaN</td>\n",
       "      <td>0</td>\n",
       "      <td>ENFJ</td>\n",
       "      <td>91.297791</td>\n",
       "    </tr>\n",
       "    <tr>\n",
       "      <th>1</th>\n",
       "      <td>id02</td>\n",
       "      <td>9.0</td>\n",
       "      <td>서울</td>\n",
       "      <td>70.0</td>\n",
       "      <td>1</td>\n",
       "      <td>ENFJ</td>\n",
       "      <td>60.339826</td>\n",
       "    </tr>\n",
       "    <tr>\n",
       "      <th>2</th>\n",
       "      <td>id03</td>\n",
       "      <td>27.0</td>\n",
       "      <td>서울</td>\n",
       "      <td>61.0</td>\n",
       "      <td>1</td>\n",
       "      <td>ISTJ</td>\n",
       "      <td>17.252986</td>\n",
       "    </tr>\n",
       "    <tr>\n",
       "      <th>3</th>\n",
       "      <td>id04</td>\n",
       "      <td>75.0</td>\n",
       "      <td>서울</td>\n",
       "      <td>NaN</td>\n",
       "      <td>2</td>\n",
       "      <td>INFP</td>\n",
       "      <td>52.667078</td>\n",
       "    </tr>\n",
       "    <tr>\n",
       "      <th>4</th>\n",
       "      <td>id05</td>\n",
       "      <td>24.0</td>\n",
       "      <td>서울</td>\n",
       "      <td>85.0</td>\n",
       "      <td>2</td>\n",
       "      <td>ISFJ</td>\n",
       "      <td>29.269869</td>\n",
       "    </tr>\n",
       "    <tr>\n",
       "      <th>...</th>\n",
       "      <td>...</td>\n",
       "      <td>...</td>\n",
       "      <td>...</td>\n",
       "      <td>...</td>\n",
       "      <td>...</td>\n",
       "      <td>...</td>\n",
       "      <td>...</td>\n",
       "    </tr>\n",
       "    <tr>\n",
       "      <th>95</th>\n",
       "      <td>id96</td>\n",
       "      <td>92.0</td>\n",
       "      <td>경기</td>\n",
       "      <td>53.0</td>\n",
       "      <td>1</td>\n",
       "      <td>ENTJ</td>\n",
       "      <td>52.667078</td>\n",
       "    </tr>\n",
       "    <tr>\n",
       "      <th>96</th>\n",
       "      <td>id97</td>\n",
       "      <td>100.0</td>\n",
       "      <td>경기</td>\n",
       "      <td>NaN</td>\n",
       "      <td>0</td>\n",
       "      <td>INFP</td>\n",
       "      <td>67.886373</td>\n",
       "    </tr>\n",
       "    <tr>\n",
       "      <th>97</th>\n",
       "      <td>id98</td>\n",
       "      <td>39.0</td>\n",
       "      <td>경기</td>\n",
       "      <td>58.0</td>\n",
       "      <td>2</td>\n",
       "      <td>INFP</td>\n",
       "      <td>98.429899</td>\n",
       "    </tr>\n",
       "    <tr>\n",
       "      <th>98</th>\n",
       "      <td>id99</td>\n",
       "      <td>1.0</td>\n",
       "      <td>경기</td>\n",
       "      <td>47.0</td>\n",
       "      <td>0</td>\n",
       "      <td>ESFJ</td>\n",
       "      <td>97.381034</td>\n",
       "    </tr>\n",
       "    <tr>\n",
       "      <th>99</th>\n",
       "      <td>id100</td>\n",
       "      <td>47.0</td>\n",
       "      <td>경기</td>\n",
       "      <td>53.0</td>\n",
       "      <td>0</td>\n",
       "      <td>ESFP</td>\n",
       "      <td>33.308999</td>\n",
       "    </tr>\n",
       "  </tbody>\n",
       "</table>\n",
       "<p>100 rows × 7 columns</p>\n",
       "</div>"
      ],
      "text/plain": [
       "       id    age city    f1  f2    f4         f5\n",
       "0    id01    2.0   서울   NaN   0  ENFJ  91.297791\n",
       "1    id02    9.0   서울  70.0   1  ENFJ  60.339826\n",
       "2    id03   27.0   서울  61.0   1  ISTJ  17.252986\n",
       "3    id04   75.0   서울   NaN   2  INFP  52.667078\n",
       "4    id05   24.0   서울  85.0   2  ISFJ  29.269869\n",
       "..    ...    ...  ...   ...  ..   ...        ...\n",
       "95   id96   92.0   경기  53.0   1  ENTJ  52.667078\n",
       "96   id97  100.0   경기   NaN   0  INFP  67.886373\n",
       "97   id98   39.0   경기  58.0   2  INFP  98.429899\n",
       "98   id99    1.0   경기  47.0   0  ESFJ  97.381034\n",
       "99  id100   47.0   경기  53.0   0  ESFP  33.308999\n",
       "\n",
       "[100 rows x 7 columns]"
      ]
     },
     "execution_count": 5,
     "metadata": {},
     "output_type": "execute_result"
    }
   ],
   "source": [
    "# 80%이상 결측치 컬럼 삭제\n",
    "df.drop('f3',axis=1,inplace=True)\n",
    "df"
   ]
  },
  {
   "cell_type": "code",
   "execution_count": 6,
   "id": "fcd25b90",
   "metadata": {
    "execution": {
     "iopub.execute_input": "2022-11-16T09:55:09.553423Z",
     "iopub.status.busy": "2022-11-16T09:55:09.552782Z",
     "iopub.status.idle": "2022-11-16T09:55:09.556152Z",
     "shell.execute_reply": "2022-11-16T09:55:09.555622Z",
     "shell.execute_reply.started": "2022-11-16T09:54:34.912016Z"
    },
    "papermill": {
     "duration": 0.02953,
     "end_time": "2022-11-16T09:55:09.556273",
     "exception": false,
     "start_time": "2022-11-16T09:55:09.526743",
     "status": "completed"
    },
    "tags": []
   },
   "outputs": [
    {
     "data": {
      "text/plain": [
       "city\n",
       "경기    58.0\n",
       "대구    75.0\n",
       "부산    62.0\n",
       "서울    68.0\n",
       "Name: f1, dtype: float64"
      ]
     },
     "execution_count": 6,
     "metadata": {},
     "output_type": "execute_result"
    }
   ],
   "source": [
    "# 80%미만 결측치 컬럼, city별 중앙값으로 대체\n",
    "df.groupby('city')['f1'].median()"
   ]
  },
  {
   "cell_type": "code",
   "execution_count": 7,
   "id": "97af4b69",
   "metadata": {
    "execution": {
     "iopub.execute_input": "2022-11-16T09:55:09.601104Z",
     "iopub.status.busy": "2022-11-16T09:55:09.600455Z",
     "iopub.status.idle": "2022-11-16T09:55:09.610160Z",
     "shell.execute_reply": "2022-11-16T09:55:09.610728Z",
     "shell.execute_reply.started": "2022-11-16T09:54:34.923734Z"
    },
    "papermill": {
     "duration": 0.035516,
     "end_time": "2022-11-16T09:55:09.610893",
     "exception": false,
     "start_time": "2022-11-16T09:55:09.575377",
     "status": "completed"
    },
    "tags": []
   },
   "outputs": [
    {
     "data": {
      "text/plain": [
       "0     68.0\n",
       "1     70.0\n",
       "2     61.0\n",
       "3     68.0\n",
       "4     85.0\n",
       "      ... \n",
       "95    53.0\n",
       "96    58.0\n",
       "97    58.0\n",
       "98    47.0\n",
       "99    53.0\n",
       "Name: f1, Length: 100, dtype: float64"
      ]
     },
     "execution_count": 7,
     "metadata": {},
     "output_type": "execute_result"
    }
   ],
   "source": [
    "g=df.groupby('city')['f1'].median()[0]\n",
    "d=df.groupby('city')['f1'].median()[1]\n",
    "b=df.groupby('city')['f1'].median()[2]\n",
    "s=df.groupby('city')['f1'].median()[3]\n",
    "\n",
    "f1city={\n",
    "    '경기':g,\n",
    "    '서울':s,\n",
    "    '부산':b,\n",
    "    '대구':d\n",
    "}\n",
    "\n",
    "df['f1'].fillna(df['city'].map(f1city),inplace=True)\n",
    "df['f1']"
   ]
  },
  {
   "cell_type": "code",
   "execution_count": 8,
   "id": "17bc8744",
   "metadata": {
    "execution": {
     "iopub.execute_input": "2022-11-16T09:55:09.648949Z",
     "iopub.status.busy": "2022-11-16T09:55:09.648375Z",
     "iopub.status.idle": "2022-11-16T09:55:09.654177Z",
     "shell.execute_reply": "2022-11-16T09:55:09.653627Z",
     "shell.execute_reply.started": "2022-11-16T09:54:34.943525Z"
    },
    "papermill": {
     "duration": 0.025833,
     "end_time": "2022-11-16T09:55:09.654327",
     "exception": false,
     "start_time": "2022-11-16T09:55:09.628494",
     "status": "completed"
    },
    "tags": []
   },
   "outputs": [
    {
     "data": {
      "text/plain": [
       "65.52"
      ]
     },
     "execution_count": 8,
     "metadata": {},
     "output_type": "execute_result"
    }
   ],
   "source": [
    "# f1 평균값 결과 출력\n",
    "df['f1'].mean()"
   ]
  },
  {
   "cell_type": "markdown",
   "id": "e46b641e",
   "metadata": {
    "papermill": {
     "duration": 0.017299,
     "end_time": "2022-11-16T09:55:09.689919",
     "exception": false,
     "start_time": "2022-11-16T09:55:09.672620",
     "status": "completed"
    },
    "tags": []
   },
   "source": [
    "## Hint\n",
    "- city별 중앙값으로 대체에서는 map함수 활용"
   ]
  },
  {
   "cell_type": "markdown",
   "id": "a7f55b99",
   "metadata": {
    "papermill": {
     "duration": 0.017453,
     "end_time": "2022-11-16T09:55:09.725030",
     "exception": false,
     "start_time": "2022-11-16T09:55:09.707577",
     "status": "completed"
    },
    "tags": []
   },
   "source": [
    "## 풀이"
   ]
  },
  {
   "cell_type": "code",
   "execution_count": 9,
   "id": "94299ac8",
   "metadata": {
    "execution": {
     "iopub.execute_input": "2022-11-16T09:55:09.764086Z",
     "iopub.status.busy": "2022-11-16T09:55:09.763374Z",
     "iopub.status.idle": "2022-11-16T09:55:09.779358Z",
     "shell.execute_reply": "2022-11-16T09:55:09.779905Z",
     "shell.execute_reply.started": "2022-11-16T09:54:34.950417Z"
    },
    "papermill": {
     "duration": 0.036723,
     "end_time": "2022-11-16T09:55:09.780054",
     "exception": false,
     "start_time": "2022-11-16T09:55:09.743331",
     "status": "completed"
    },
    "tags": []
   },
   "outputs": [
    {
     "data": {
      "text/html": [
       "<div>\n",
       "<style scoped>\n",
       "    .dataframe tbody tr th:only-of-type {\n",
       "        vertical-align: middle;\n",
       "    }\n",
       "\n",
       "    .dataframe tbody tr th {\n",
       "        vertical-align: top;\n",
       "    }\n",
       "\n",
       "    .dataframe thead th {\n",
       "        text-align: right;\n",
       "    }\n",
       "</style>\n",
       "<table border=\"1\" class=\"dataframe\">\n",
       "  <thead>\n",
       "    <tr style=\"text-align: right;\">\n",
       "      <th></th>\n",
       "      <th>id</th>\n",
       "      <th>age</th>\n",
       "      <th>city</th>\n",
       "      <th>f1</th>\n",
       "      <th>f2</th>\n",
       "      <th>f3</th>\n",
       "      <th>f4</th>\n",
       "      <th>f5</th>\n",
       "    </tr>\n",
       "  </thead>\n",
       "  <tbody>\n",
       "    <tr>\n",
       "      <th>0</th>\n",
       "      <td>id01</td>\n",
       "      <td>2.0</td>\n",
       "      <td>서울</td>\n",
       "      <td>NaN</td>\n",
       "      <td>0</td>\n",
       "      <td>NaN</td>\n",
       "      <td>ENFJ</td>\n",
       "      <td>91.297791</td>\n",
       "    </tr>\n",
       "    <tr>\n",
       "      <th>1</th>\n",
       "      <td>id02</td>\n",
       "      <td>9.0</td>\n",
       "      <td>서울</td>\n",
       "      <td>70.0</td>\n",
       "      <td>1</td>\n",
       "      <td>NaN</td>\n",
       "      <td>ENFJ</td>\n",
       "      <td>60.339826</td>\n",
       "    </tr>\n",
       "    <tr>\n",
       "      <th>2</th>\n",
       "      <td>id03</td>\n",
       "      <td>27.0</td>\n",
       "      <td>서울</td>\n",
       "      <td>61.0</td>\n",
       "      <td>1</td>\n",
       "      <td>NaN</td>\n",
       "      <td>ISTJ</td>\n",
       "      <td>17.252986</td>\n",
       "    </tr>\n",
       "    <tr>\n",
       "      <th>3</th>\n",
       "      <td>id04</td>\n",
       "      <td>75.0</td>\n",
       "      <td>서울</td>\n",
       "      <td>NaN</td>\n",
       "      <td>2</td>\n",
       "      <td>NaN</td>\n",
       "      <td>INFP</td>\n",
       "      <td>52.667078</td>\n",
       "    </tr>\n",
       "    <tr>\n",
       "      <th>4</th>\n",
       "      <td>id05</td>\n",
       "      <td>24.0</td>\n",
       "      <td>서울</td>\n",
       "      <td>85.0</td>\n",
       "      <td>2</td>\n",
       "      <td>NaN</td>\n",
       "      <td>ISFJ</td>\n",
       "      <td>29.269869</td>\n",
       "    </tr>\n",
       "  </tbody>\n",
       "</table>\n",
       "</div>"
      ],
      "text/plain": [
       "     id   age city    f1  f2   f3    f4         f5\n",
       "0  id01   2.0   서울   NaN   0  NaN  ENFJ  91.297791\n",
       "1  id02   9.0   서울  70.0   1  NaN  ENFJ  60.339826\n",
       "2  id03  27.0   서울  61.0   1  NaN  ISTJ  17.252986\n",
       "3  id04  75.0   서울   NaN   2  NaN  INFP  52.667078\n",
       "4  id05  24.0   서울  85.0   2  NaN  ISFJ  29.269869"
      ]
     },
     "execution_count": 9,
     "metadata": {},
     "output_type": "execute_result"
    }
   ],
   "source": [
    "# 라이브러리 및 데이터 불러오기\n",
    "import pandas as pd\n",
    "import numpy as np\n",
    "\n",
    "df = pd.read_csv('../input/bigdatacertificationkr/basic1.csv')\n",
    "df.head()"
   ]
  },
  {
   "cell_type": "code",
   "execution_count": 10,
   "id": "cb078de7",
   "metadata": {
    "_cell_guid": "b1076dfc-b9ad-4769-8c92-a6c4dae69d19",
    "_uuid": "8f2839f25d086af736a60e9eeb907d3b93b6e0e5",
    "execution": {
     "iopub.execute_input": "2022-11-16T09:55:09.821055Z",
     "iopub.status.busy": "2022-11-16T09:55:09.820387Z",
     "iopub.status.idle": "2022-11-16T09:55:09.827001Z",
     "shell.execute_reply": "2022-11-16T09:55:09.827567Z",
     "shell.execute_reply.started": "2022-11-16T09:54:34.975022Z"
    },
    "papermill": {
     "duration": 0.029231,
     "end_time": "2022-11-16T09:55:09.827770",
     "exception": false,
     "start_time": "2022-11-16T09:55:09.798539",
     "status": "completed"
    },
    "tags": []
   },
   "outputs": [
    {
     "data": {
      "text/plain": [
       "id       0\n",
       "age      0\n",
       "city     0\n",
       "f1      31\n",
       "f2       0\n",
       "f3      95\n",
       "f4       0\n",
       "f5       0\n",
       "dtype: int64"
      ]
     },
     "execution_count": 10,
     "metadata": {},
     "output_type": "execute_result"
    }
   ],
   "source": [
    "# EDA - 결측값 확인\n",
    "df.isnull().sum()"
   ]
  },
  {
   "cell_type": "code",
   "execution_count": 11,
   "id": "260113d1",
   "metadata": {
    "execution": {
     "iopub.execute_input": "2022-11-16T09:55:09.869495Z",
     "iopub.status.busy": "2022-11-16T09:55:09.868181Z",
     "iopub.status.idle": "2022-11-16T09:55:09.873614Z",
     "shell.execute_reply": "2022-11-16T09:55:09.873189Z",
     "shell.execute_reply.started": "2022-11-16T09:54:35.043905Z"
    },
    "papermill": {
     "duration": 0.027439,
     "end_time": "2022-11-16T09:55:09.873779",
     "exception": false,
     "start_time": "2022-11-16T09:55:09.846340",
     "status": "completed"
    },
    "tags": []
   },
   "outputs": [
    {
     "data": {
      "text/plain": [
       "(100, 8)"
      ]
     },
     "execution_count": 11,
     "metadata": {},
     "output_type": "execute_result"
    }
   ],
   "source": [
    "# 데이터 shape\n",
    "df.shape"
   ]
  },
  {
   "cell_type": "code",
   "execution_count": 12,
   "id": "7f54db6c",
   "metadata": {
    "execution": {
     "iopub.execute_input": "2022-11-16T09:55:09.919910Z",
     "iopub.status.busy": "2022-11-16T09:55:09.919041Z",
     "iopub.status.idle": "2022-11-16T09:55:09.923645Z",
     "shell.execute_reply": "2022-11-16T09:55:09.923096Z",
     "shell.execute_reply.started": "2022-11-16T09:54:35.052322Z"
    },
    "papermill": {
     "duration": 0.031246,
     "end_time": "2022-11-16T09:55:09.923811",
     "exception": false,
     "start_time": "2022-11-16T09:55:09.892565",
     "status": "completed"
    },
    "tags": []
   },
   "outputs": [
    {
     "data": {
      "text/plain": [
       "id      0.00\n",
       "age     0.00\n",
       "city    0.00\n",
       "f1      0.31\n",
       "f2      0.00\n",
       "f3      0.95\n",
       "f4      0.00\n",
       "f5      0.00\n",
       "dtype: float64"
      ]
     },
     "execution_count": 12,
     "metadata": {},
     "output_type": "execute_result"
    }
   ],
   "source": [
    "# EDA - 결측비율 확인\n",
    "df.isnull().sum()/df.shape[0]"
   ]
  },
  {
   "cell_type": "code",
   "execution_count": 13,
   "id": "be336c68",
   "metadata": {
    "execution": {
     "iopub.execute_input": "2022-11-16T09:55:09.971509Z",
     "iopub.status.busy": "2022-11-16T09:55:09.970850Z",
     "iopub.status.idle": "2022-11-16T09:55:09.974947Z",
     "shell.execute_reply": "2022-11-16T09:55:09.974340Z",
     "shell.execute_reply.started": "2022-11-16T09:54:35.066683Z"
    },
    "papermill": {
     "duration": 0.031773,
     "end_time": "2022-11-16T09:55:09.975087",
     "exception": false,
     "start_time": "2022-11-16T09:55:09.943314",
     "status": "completed"
    },
    "tags": []
   },
   "outputs": [
    {
     "name": "stdout",
     "output_type": "stream",
     "text": [
      "삭제 전: (100, 8)\n",
      "삭제 후: (100, 7)\n"
     ]
    }
   ],
   "source": [
    "# f3 컬럼 삭제\n",
    "print(\"삭제 전:\", df.shape)\n",
    "df = df.drop(['f3'], axis=1)\n",
    "print(\"삭제 후:\", df.shape)\n",
    "\n",
    "# 결측치가 있는 컬럼을 제거하는 2가지 방법\n",
    "# df.drop(['B', 'C'], axis=1)\n",
    "# df.drop(columns=['B', 'C'])"
   ]
  },
  {
   "cell_type": "code",
   "execution_count": 14,
   "id": "6b636c95",
   "metadata": {
    "execution": {
     "iopub.execute_input": "2022-11-16T09:55:10.019365Z",
     "iopub.status.busy": "2022-11-16T09:55:10.018799Z",
     "iopub.status.idle": "2022-11-16T09:55:10.023418Z",
     "shell.execute_reply": "2022-11-16T09:55:10.022934Z",
     "shell.execute_reply.started": "2022-11-16T09:54:35.076257Z"
    },
    "papermill": {
     "duration": 0.029221,
     "end_time": "2022-11-16T09:55:10.023556",
     "exception": false,
     "start_time": "2022-11-16T09:55:09.994335",
     "status": "completed"
    },
    "tags": []
   },
   "outputs": [
    {
     "data": {
      "text/plain": [
       "array(['서울', '부산', '대구', '경기'], dtype=object)"
      ]
     },
     "execution_count": 14,
     "metadata": {},
     "output_type": "execute_result"
    }
   ],
   "source": [
    "# 도시 확인\n",
    "df['city'].unique()"
   ]
  },
  {
   "cell_type": "code",
   "execution_count": 15,
   "id": "337734e8",
   "metadata": {
    "execution": {
     "iopub.execute_input": "2022-11-16T09:55:10.072680Z",
     "iopub.status.busy": "2022-11-16T09:55:10.065110Z",
     "iopub.status.idle": "2022-11-16T09:55:10.075785Z",
     "shell.execute_reply": "2022-11-16T09:55:10.076322Z",
     "shell.execute_reply.started": "2022-11-16T09:54:35.086932Z"
    },
    "papermill": {
     "duration": 0.032919,
     "end_time": "2022-11-16T09:55:10.076484",
     "exception": false,
     "start_time": "2022-11-16T09:55:10.043565",
     "status": "completed"
    },
    "tags": []
   },
   "outputs": [
    {
     "data": {
      "text/plain": [
       "(68.0, 58.0, 62.0, 75.0)"
      ]
     },
     "execution_count": 15,
     "metadata": {},
     "output_type": "execute_result"
    }
   ],
   "source": [
    "# 도시별 중앙값 계산\n",
    "s=df[df['city']=='서울']['f1'].median()\n",
    "k=df[df['city']=='경기']['f1'].median()\n",
    "b=df[df['city']=='부산']['f1'].median()\n",
    "d=df[df['city']=='대구']['f1'].median()\n",
    "s, k, b, d\n",
    "\n",
    "#방법2\n",
    "# k, d, b, s = df.groupby('city')['f1'].median()"
   ]
  },
  {
   "cell_type": "code",
   "execution_count": 16,
   "id": "9e3c6506",
   "metadata": {
    "execution": {
     "iopub.execute_input": "2022-11-16T09:55:10.124144Z",
     "iopub.status.busy": "2022-11-16T09:55:10.120275Z",
     "iopub.status.idle": "2022-11-16T09:55:10.134520Z",
     "shell.execute_reply": "2022-11-16T09:55:10.134978Z",
     "shell.execute_reply.started": "2022-11-16T09:54:35.105706Z"
    },
    "papermill": {
     "duration": 0.038458,
     "end_time": "2022-11-16T09:55:10.135144",
     "exception": false,
     "start_time": "2022-11-16T09:55:10.096686",
     "status": "completed"
    },
    "tags": []
   },
   "outputs": [
    {
     "data": {
      "text/html": [
       "<div>\n",
       "<style scoped>\n",
       "    .dataframe tbody tr th:only-of-type {\n",
       "        vertical-align: middle;\n",
       "    }\n",
       "\n",
       "    .dataframe tbody tr th {\n",
       "        vertical-align: top;\n",
       "    }\n",
       "\n",
       "    .dataframe thead th {\n",
       "        text-align: right;\n",
       "    }\n",
       "</style>\n",
       "<table border=\"1\" class=\"dataframe\">\n",
       "  <thead>\n",
       "    <tr style=\"text-align: right;\">\n",
       "      <th></th>\n",
       "      <th>id</th>\n",
       "      <th>age</th>\n",
       "      <th>city</th>\n",
       "      <th>f1</th>\n",
       "      <th>f2</th>\n",
       "      <th>f4</th>\n",
       "      <th>f5</th>\n",
       "    </tr>\n",
       "  </thead>\n",
       "  <tbody>\n",
       "    <tr>\n",
       "      <th>18</th>\n",
       "      <td>id19</td>\n",
       "      <td>53.0</td>\n",
       "      <td>서울</td>\n",
       "      <td>NaN</td>\n",
       "      <td>0</td>\n",
       "      <td>ISFP</td>\n",
       "      <td>83.685380</td>\n",
       "    </tr>\n",
       "    <tr>\n",
       "      <th>19</th>\n",
       "      <td>id20</td>\n",
       "      <td>11.0</td>\n",
       "      <td>서울</td>\n",
       "      <td>51.0</td>\n",
       "      <td>1</td>\n",
       "      <td>INTJ</td>\n",
       "      <td>91.297791</td>\n",
       "    </tr>\n",
       "    <tr>\n",
       "      <th>20</th>\n",
       "      <td>id21</td>\n",
       "      <td>90.0</td>\n",
       "      <td>부산</td>\n",
       "      <td>NaN</td>\n",
       "      <td>1</td>\n",
       "      <td>ISFP</td>\n",
       "      <td>29.269869</td>\n",
       "    </tr>\n",
       "  </tbody>\n",
       "</table>\n",
       "</div>"
      ],
      "text/plain": [
       "      id   age city    f1  f2    f4         f5\n",
       "18  id19  53.0   서울   NaN   0  ISFP  83.685380\n",
       "19  id20  11.0   서울  51.0   1  INTJ  91.297791\n",
       "20  id21  90.0   부산   NaN   1  ISFP  29.269869"
      ]
     },
     "execution_count": 16,
     "metadata": {},
     "output_type": "execute_result"
    }
   ],
   "source": [
    "# 대체 전 데이터 샘플 출력\n",
    "df[18:21]"
   ]
  },
  {
   "cell_type": "code",
   "execution_count": 17,
   "id": "d69942b7",
   "metadata": {
    "execution": {
     "iopub.execute_input": "2022-11-16T09:55:10.184785Z",
     "iopub.status.busy": "2022-11-16T09:55:10.184225Z",
     "iopub.status.idle": "2022-11-16T09:55:10.190277Z",
     "shell.execute_reply": "2022-11-16T09:55:10.189750Z",
     "shell.execute_reply.started": "2022-11-16T09:54:35.122552Z"
    },
    "papermill": {
     "duration": 0.032694,
     "end_time": "2022-11-16T09:55:10.190393",
     "exception": false,
     "start_time": "2022-11-16T09:55:10.157699",
     "status": "completed"
    },
    "tags": []
   },
   "outputs": [],
   "source": [
    "# f1결측치 city별 중앙값으로 대체\n",
    "df['f1'] = df['f1'].fillna(df['city'].map({'서울':s,'경기':k,'부산':b,'대구':d}))\n",
    "\n",
    "# 만약 그냥 f1 중앙값으로 대체 한다면 \n",
    "# df['f1'] = df['f1'].fillna(df['f1'].median())"
   ]
  },
  {
   "cell_type": "code",
   "execution_count": 18,
   "id": "8170cb61",
   "metadata": {
    "execution": {
     "iopub.execute_input": "2022-11-16T09:55:10.242745Z",
     "iopub.status.busy": "2022-11-16T09:55:10.233368Z",
     "iopub.status.idle": "2022-11-16T09:55:10.246399Z",
     "shell.execute_reply": "2022-11-16T09:55:10.245932Z",
     "shell.execute_reply.started": "2022-11-16T09:54:35.132779Z"
    },
    "papermill": {
     "duration": 0.036068,
     "end_time": "2022-11-16T09:55:10.246528",
     "exception": false,
     "start_time": "2022-11-16T09:55:10.210460",
     "status": "completed"
    },
    "tags": []
   },
   "outputs": [
    {
     "data": {
      "text/html": [
       "<div>\n",
       "<style scoped>\n",
       "    .dataframe tbody tr th:only-of-type {\n",
       "        vertical-align: middle;\n",
       "    }\n",
       "\n",
       "    .dataframe tbody tr th {\n",
       "        vertical-align: top;\n",
       "    }\n",
       "\n",
       "    .dataframe thead th {\n",
       "        text-align: right;\n",
       "    }\n",
       "</style>\n",
       "<table border=\"1\" class=\"dataframe\">\n",
       "  <thead>\n",
       "    <tr style=\"text-align: right;\">\n",
       "      <th></th>\n",
       "      <th>id</th>\n",
       "      <th>age</th>\n",
       "      <th>city</th>\n",
       "      <th>f1</th>\n",
       "      <th>f2</th>\n",
       "      <th>f4</th>\n",
       "      <th>f5</th>\n",
       "    </tr>\n",
       "  </thead>\n",
       "  <tbody>\n",
       "    <tr>\n",
       "      <th>18</th>\n",
       "      <td>id19</td>\n",
       "      <td>53.0</td>\n",
       "      <td>서울</td>\n",
       "      <td>68.0</td>\n",
       "      <td>0</td>\n",
       "      <td>ISFP</td>\n",
       "      <td>83.685380</td>\n",
       "    </tr>\n",
       "    <tr>\n",
       "      <th>19</th>\n",
       "      <td>id20</td>\n",
       "      <td>11.0</td>\n",
       "      <td>서울</td>\n",
       "      <td>51.0</td>\n",
       "      <td>1</td>\n",
       "      <td>INTJ</td>\n",
       "      <td>91.297791</td>\n",
       "    </tr>\n",
       "    <tr>\n",
       "      <th>20</th>\n",
       "      <td>id21</td>\n",
       "      <td>90.0</td>\n",
       "      <td>부산</td>\n",
       "      <td>62.0</td>\n",
       "      <td>1</td>\n",
       "      <td>ISFP</td>\n",
       "      <td>29.269869</td>\n",
       "    </tr>\n",
       "  </tbody>\n",
       "</table>\n",
       "</div>"
      ],
      "text/plain": [
       "      id   age city    f1  f2    f4         f5\n",
       "18  id19  53.0   서울  68.0   0  ISFP  83.685380\n",
       "19  id20  11.0   서울  51.0   1  INTJ  91.297791\n",
       "20  id21  90.0   부산  62.0   1  ISFP  29.269869"
      ]
     },
     "execution_count": 18,
     "metadata": {},
     "output_type": "execute_result"
    }
   ],
   "source": [
    "# 대체 후 데이터 샘플 출력\n",
    "df[18:21]"
   ]
  },
  {
   "cell_type": "code",
   "execution_count": 19,
   "id": "9c8da97a",
   "metadata": {
    "execution": {
     "iopub.execute_input": "2022-11-16T09:55:10.294989Z",
     "iopub.status.busy": "2022-11-16T09:55:10.294346Z",
     "iopub.status.idle": "2022-11-16T09:55:10.296725Z",
     "shell.execute_reply": "2022-11-16T09:55:10.297141Z",
     "shell.execute_reply.started": "2022-11-16T09:54:35.152291Z"
    },
    "papermill": {
     "duration": 0.029073,
     "end_time": "2022-11-16T09:55:10.297296",
     "exception": false,
     "start_time": "2022-11-16T09:55:10.268223",
     "status": "completed"
    },
    "tags": []
   },
   "outputs": [
    {
     "name": "stdout",
     "output_type": "stream",
     "text": [
      "65.52\n"
     ]
    }
   ],
   "source": [
    "#결과 출력\n",
    "print(df['f1'].mean())"
   ]
  }
 ],
 "metadata": {
  "kernelspec": {
   "display_name": "Python 3",
   "language": "python",
   "name": "python3"
  },
  "language_info": {
   "codemirror_mode": {
    "name": "ipython",
    "version": 3
   },
   "file_extension": ".py",
   "mimetype": "text/x-python",
   "name": "python",
   "nbconvert_exporter": "python",
   "pygments_lexer": "ipython3",
   "version": "3.7.10"
  },
  "papermill": {
   "default_parameters": {},
   "duration": 9.713848,
   "end_time": "2022-11-16T09:55:11.797746",
   "environment_variables": {},
   "exception": null,
   "input_path": "__notebook__.ipynb",
   "output_path": "__notebook__.ipynb",
   "parameters": {},
   "start_time": "2022-11-16T09:55:02.083898",
   "version": "2.3.3"
  }
 },
 "nbformat": 4,
 "nbformat_minor": 5
}
