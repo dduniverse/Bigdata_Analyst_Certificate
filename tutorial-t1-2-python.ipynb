{
 "cells": [
  {
   "cell_type": "markdown",
   "id": "a00f2d36",
   "metadata": {
    "_cell_guid": "af4252ad-f822-45d3-b9c2-f26af7608ef4",
    "_uuid": "de34d146-4c69-4b7c-82f6-11d6287f6094",
    "execution": {
     "iopub.execute_input": "2021-10-07T06:47:44.152391Z",
     "iopub.status.busy": "2021-10-07T06:47:44.152048Z",
     "iopub.status.idle": "2021-10-07T06:47:44.18282Z",
     "shell.execute_reply": "2021-10-07T06:47:44.182194Z",
     "shell.execute_reply.started": "2021-10-07T06:47:44.152311Z"
    },
    "jupyter": {
     "outputs_hidden": false
    },
    "papermill": {
     "duration": 0.006225,
     "end_time": "2022-12-01T03:40:04.856328",
     "exception": false,
     "start_time": "2022-12-01T03:40:04.850103",
     "status": "completed"
    },
    "tags": []
   },
   "source": [
    "## 문제1\n",
    "- 데이터셋(basic1.csv)의 'f5' 컬럼을 기준으로 상위 10개의 데이터를 구하고,\n",
    "- 'f5'컬럼 10개 중 최소값으로 데이터를 대체한 후, \n",
    "- 'age'컬럼에서 80 이상인 데이터의'f5 컬럼 평균값 구하기"
   ]
  },
  {
   "cell_type": "code",
   "execution_count": 1,
   "id": "83fe4364",
   "metadata": {
    "execution": {
     "iopub.execute_input": "2022-12-01T03:40:04.871835Z",
     "iopub.status.busy": "2022-12-01T03:40:04.870560Z",
     "iopub.status.idle": "2022-12-01T03:40:04.913060Z",
     "shell.execute_reply": "2022-12-01T03:40:04.909511Z",
     "shell.execute_reply.started": "2022-12-01T03:39:31.275584Z"
    },
    "papermill": {
     "duration": 0.051437,
     "end_time": "2022-12-01T03:40:04.913361",
     "exception": false,
     "start_time": "2022-12-01T03:40:04.861924",
     "status": "completed"
    },
    "tags": []
   },
   "outputs": [
    {
     "name": "stdout",
     "output_type": "stream",
     "text": [
      "62.497747125217394\n"
     ]
    },
    {
     "name": "stderr",
     "output_type": "stream",
     "text": [
      "/opt/conda/lib/python3.7/site-packages/ipykernel_launcher.py:6: SettingWithCopyWarning: \n",
      "A value is trying to be set on a copy of a slice from a DataFrame.\n",
      "Try using .loc[row_indexer,col_indexer] = value instead\n",
      "\n",
      "See the caveats in the documentation: https://pandas.pydata.org/pandas-docs/stable/user_guide/indexing.html#returning-a-view-versus-a-copy\n",
      "  \n"
     ]
    }
   ],
   "source": [
    "import pandas as pd\n",
    "\n",
    "df=pd.read_csv('/kaggle/input/bigdatacertificationkr/basic1.csv')\n",
    "\n",
    "df=df.sort_values('f5',ascending=False)\n",
    "df[:10]['f5']=df[:10]['f5'].min()\n",
    "\n",
    "print(df.loc[df['age']>=80,'f5'].mean())"
   ]
  },
  {
   "cell_type": "markdown",
   "id": "4d3d6930",
   "metadata": {
    "papermill": {
     "duration": 0.006866,
     "end_time": "2022-12-01T03:40:04.928305",
     "exception": false,
     "start_time": "2022-12-01T03:40:04.921439",
     "status": "completed"
    },
    "tags": []
   },
   "source": [
    "## 문제2\n",
    "- 데이터셋(basic1.csv)의 앞에서 순서대로 70% 데이터만 활용해서,\n",
    "- 'f1'컬럼 결측치를 중앙값으로 채우기 전후의 표준편차를 구하고\n",
    "- 두 표준편차 차이 계산하기"
   ]
  },
  {
   "cell_type": "code",
   "execution_count": 2,
   "id": "9b547282",
   "metadata": {
    "execution": {
     "iopub.execute_input": "2022-12-01T03:40:04.944361Z",
     "iopub.status.busy": "2022-12-01T03:40:04.943332Z",
     "iopub.status.idle": "2022-12-01T03:40:04.961797Z",
     "shell.execute_reply": "2022-12-01T03:40:04.962294Z",
     "shell.execute_reply.started": "2022-12-01T03:39:31.298409Z"
    },
    "papermill": {
     "duration": 0.027906,
     "end_time": "2022-12-01T03:40:04.962484",
     "exception": false,
     "start_time": "2022-12-01T03:40:04.934578",
     "status": "completed"
    },
    "tags": []
   },
   "outputs": [
    {
     "name": "stdout",
     "output_type": "stream",
     "text": [
      "3.2965018033960725\n"
     ]
    },
    {
     "name": "stderr",
     "output_type": "stream",
     "text": [
      "/opt/conda/lib/python3.7/site-packages/ipykernel_launcher.py:9: SettingWithCopyWarning: \n",
      "A value is trying to be set on a copy of a slice from a DataFrame.\n",
      "Try using .loc[row_indexer,col_indexer] = value instead\n",
      "\n",
      "See the caveats in the documentation: https://pandas.pydata.org/pandas-docs/stable/user_guide/indexing.html#returning-a-view-versus-a-copy\n",
      "  if __name__ == '__main__':\n"
     ]
    }
   ],
   "source": [
    "import pandas as pd\n",
    "\n",
    "df=pd.read_csv('/kaggle/input/bigdatacertificationkr/basic1.csv')\n",
    "# df.shape  # (100,8)\n",
    "\n",
    "df_new=df[:70]\n",
    "std1=df_new['f1'].std()\n",
    "\n",
    "df_new['f1']=df_new['f1'].fillna(df_new['f1'].median())\n",
    "std2=df_new['f1'].std()\n",
    "\n",
    "print(abs(std2-std1))"
   ]
  },
  {
   "cell_type": "markdown",
   "id": "e85f963d",
   "metadata": {
    "papermill": {
     "duration": 0.00658,
     "end_time": "2022-12-01T03:40:04.975546",
     "exception": false,
     "start_time": "2022-12-01T03:40:04.968966",
     "status": "completed"
    },
    "tags": []
   },
   "source": [
    "## 문제3\n",
    "- 데이터셋(basic1.csv)의 'age'컬럼의 이상치를 더하시오!\n",
    "- 단, 평균으로부터 '표준편차*1.5'를 벗어나는 영역을 이상치라고 판단함"
   ]
  },
  {
   "cell_type": "code",
   "execution_count": 3,
   "id": "04da75b3",
   "metadata": {
    "execution": {
     "iopub.execute_input": "2022-12-01T03:40:04.991753Z",
     "iopub.status.busy": "2022-12-01T03:40:04.991091Z",
     "iopub.status.idle": "2022-12-01T03:40:05.003340Z",
     "shell.execute_reply": "2022-12-01T03:40:05.002640Z",
     "shell.execute_reply.started": "2022-12-01T03:39:31.314462Z"
    },
    "papermill": {
     "duration": 0.021366,
     "end_time": "2022-12-01T03:40:05.003489",
     "exception": false,
     "start_time": "2022-12-01T03:40:04.982123",
     "status": "completed"
    },
    "tags": []
   },
   "outputs": [
    {
     "name": "stdout",
     "output_type": "stream",
     "text": [
      "473.5\n"
     ]
    }
   ],
   "source": [
    "import pandas as pd\n",
    "\n",
    "df=pd.read_csv('/kaggle/input/bigdatacertificationkr/basic1.csv')\n",
    "\n",
    "high=df.loc[df['age']>(df['age'].mean()+df['age'].std()*1.5),'age'].sum()\n",
    "low=df.loc[df['age']<(df['age'].mean()-df['age'].std()*1.5),'age'].sum()\n",
    "\n",
    "print(high+low)"
   ]
  }
 ],
 "metadata": {
  "kernelspec": {
   "display_name": "Python 3",
   "language": "python",
   "name": "python3"
  },
  "language_info": {
   "codemirror_mode": {
    "name": "ipython",
    "version": 3
   },
   "file_extension": ".py",
   "mimetype": "text/x-python",
   "name": "python",
   "nbconvert_exporter": "python",
   "pygments_lexer": "ipython3",
   "version": "3.7.10"
  },
  "papermill": {
   "default_parameters": {},
   "duration": 9.78643,
   "end_time": "2022-12-01T03:40:06.491624",
   "environment_variables": {},
   "exception": null,
   "input_path": "__notebook__.ipynb",
   "output_path": "__notebook__.ipynb",
   "parameters": {},
   "start_time": "2022-12-01T03:39:56.705194",
   "version": "2.3.3"
  }
 },
 "nbformat": 4,
 "nbformat_minor": 5
}
