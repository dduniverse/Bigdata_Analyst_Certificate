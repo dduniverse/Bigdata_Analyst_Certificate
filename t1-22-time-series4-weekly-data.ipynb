{
 "cells": [
  {
   "cell_type": "markdown",
   "id": "8e441ae3",
   "metadata": {
    "_cell_guid": "b1076dfc-b9ad-4769-8c92-a6c4dae69d19",
    "_uuid": "8f2839f25d086af736a60e9eeb907d3b93b6e0e5",
    "papermill": {
     "duration": 0.020031,
     "end_time": "2022-11-18T11:57:58.838213",
     "exception": false,
     "start_time": "2022-11-18T11:57:58.818182",
     "status": "completed"
    },
    "tags": []
   },
   "source": [
    "### 주어진 데이터(basic2.csv)에서 주 단위 Sales의 합계를 구하고, 가장 큰 값을 가진 주와 작은 값을 가진 주의 차이를 구하시오(절대값)\n",
    "- 데이터셋 : basic2.csv\n",
    "- 오른쪽 상단 copy&edit 클릭 -> 예상문제 풀이 시작"
   ]
  },
  {
   "cell_type": "code",
   "execution_count": 1,
   "id": "fe2c8402",
   "metadata": {
    "execution": {
     "iopub.execute_input": "2022-11-18T11:57:58.883797Z",
     "iopub.status.busy": "2022-11-18T11:57:58.882552Z",
     "iopub.status.idle": "2022-11-18T11:57:58.937096Z",
     "shell.execute_reply": "2022-11-18T11:57:58.937765Z",
     "shell.execute_reply.started": "2022-11-18T11:57:34.796264Z"
    },
    "papermill": {
     "duration": 0.079191,
     "end_time": "2022-11-18T11:57:58.938093",
     "exception": false,
     "start_time": "2022-11-18T11:57:58.858902",
     "status": "completed"
    },
    "tags": []
   },
   "outputs": [
    {
     "data": {
      "text/html": [
       "<div>\n",
       "<style scoped>\n",
       "    .dataframe tbody tr th:only-of-type {\n",
       "        vertical-align: middle;\n",
       "    }\n",
       "\n",
       "    .dataframe tbody tr th {\n",
       "        vertical-align: top;\n",
       "    }\n",
       "\n",
       "    .dataframe thead th {\n",
       "        text-align: right;\n",
       "    }\n",
       "</style>\n",
       "<table border=\"1\" class=\"dataframe\">\n",
       "  <thead>\n",
       "    <tr style=\"text-align: right;\">\n",
       "      <th></th>\n",
       "      <th>Date</th>\n",
       "      <th>Sales</th>\n",
       "      <th>PV</th>\n",
       "      <th>UV</th>\n",
       "      <th>Events</th>\n",
       "    </tr>\n",
       "  </thead>\n",
       "  <tbody>\n",
       "    <tr>\n",
       "      <th>0</th>\n",
       "      <td>2022-01-01</td>\n",
       "      <td>22711525</td>\n",
       "      <td>397349</td>\n",
       "      <td>4421.0</td>\n",
       "      <td>1</td>\n",
       "    </tr>\n",
       "    <tr>\n",
       "      <th>1</th>\n",
       "      <td>2022-01-02</td>\n",
       "      <td>36779</td>\n",
       "      <td>3969</td>\n",
       "      <td>2289.0</td>\n",
       "      <td>0</td>\n",
       "    </tr>\n",
       "    <tr>\n",
       "      <th>2</th>\n",
       "      <td>2022-01-03</td>\n",
       "      <td>13943875</td>\n",
       "      <td>373890</td>\n",
       "      <td>NaN</td>\n",
       "      <td>1</td>\n",
       "    </tr>\n",
       "    <tr>\n",
       "      <th>3</th>\n",
       "      <td>2022-01-04</td>\n",
       "      <td>8088593</td>\n",
       "      <td>142054</td>\n",
       "      <td>2157.0</td>\n",
       "      <td>0</td>\n",
       "    </tr>\n",
       "    <tr>\n",
       "      <th>4</th>\n",
       "      <td>2022-01-05</td>\n",
       "      <td>2395374</td>\n",
       "      <td>190684</td>\n",
       "      <td>NaN</td>\n",
       "      <td>0</td>\n",
       "    </tr>\n",
       "    <tr>\n",
       "      <th>...</th>\n",
       "      <td>...</td>\n",
       "      <td>...</td>\n",
       "      <td>...</td>\n",
       "      <td>...</td>\n",
       "      <td>...</td>\n",
       "    </tr>\n",
       "    <tr>\n",
       "      <th>725</th>\n",
       "      <td>2023-12-27</td>\n",
       "      <td>33846609</td>\n",
       "      <td>415067</td>\n",
       "      <td>7360.0</td>\n",
       "      <td>1</td>\n",
       "    </tr>\n",
       "    <tr>\n",
       "      <th>726</th>\n",
       "      <td>2023-12-28</td>\n",
       "      <td>3659566</td>\n",
       "      <td>208601</td>\n",
       "      <td>2262.0</td>\n",
       "      <td>1</td>\n",
       "    </tr>\n",
       "    <tr>\n",
       "      <th>727</th>\n",
       "      <td>2023-12-29</td>\n",
       "      <td>1164008</td>\n",
       "      <td>14309</td>\n",
       "      <td>193.0</td>\n",
       "      <td>0</td>\n",
       "    </tr>\n",
       "    <tr>\n",
       "      <th>728</th>\n",
       "      <td>2023-12-30</td>\n",
       "      <td>3977696</td>\n",
       "      <td>60935</td>\n",
       "      <td>NaN</td>\n",
       "      <td>0</td>\n",
       "    </tr>\n",
       "    <tr>\n",
       "      <th>729</th>\n",
       "      <td>2023-12-31</td>\n",
       "      <td>3719764</td>\n",
       "      <td>60963</td>\n",
       "      <td>1507.0</td>\n",
       "      <td>0</td>\n",
       "    </tr>\n",
       "  </tbody>\n",
       "</table>\n",
       "<p>730 rows × 5 columns</p>\n",
       "</div>"
      ],
      "text/plain": [
       "           Date     Sales      PV      UV  Events\n",
       "0    2022-01-01  22711525  397349  4421.0       1\n",
       "1    2022-01-02     36779    3969  2289.0       0\n",
       "2    2022-01-03  13943875  373890     NaN       1\n",
       "3    2022-01-04   8088593  142054  2157.0       0\n",
       "4    2022-01-05   2395374  190684     NaN       0\n",
       "..          ...       ...     ...     ...     ...\n",
       "725  2023-12-27  33846609  415067  7360.0       1\n",
       "726  2023-12-28   3659566  208601  2262.0       1\n",
       "727  2023-12-29   1164008   14309   193.0       0\n",
       "728  2023-12-30   3977696   60935     NaN       0\n",
       "729  2023-12-31   3719764   60963  1507.0       0\n",
       "\n",
       "[730 rows x 5 columns]"
      ]
     },
     "execution_count": 1,
     "metadata": {},
     "output_type": "execute_result"
    }
   ],
   "source": [
    "import pandas as pd\n",
    "\n",
    "df=pd.read_csv('../input/bigdatacertificationkr/basic2.csv')\n",
    "df"
   ]
  },
  {
   "cell_type": "code",
   "execution_count": 2,
   "id": "1e4d93d1",
   "metadata": {
    "execution": {
     "iopub.execute_input": "2022-11-18T11:57:58.983771Z",
     "iopub.status.busy": "2022-11-18T11:57:58.983018Z",
     "iopub.status.idle": "2022-11-18T11:57:59.005002Z",
     "shell.execute_reply": "2022-11-18T11:57:59.005766Z",
     "shell.execute_reply.started": "2022-11-18T11:57:34.846386Z"
    },
    "papermill": {
     "duration": 0.045086,
     "end_time": "2022-11-18T11:57:59.006020",
     "exception": false,
     "start_time": "2022-11-18T11:57:58.960934",
     "status": "completed"
    },
    "tags": []
   },
   "outputs": [
    {
     "name": "stdout",
     "output_type": "stream",
     "text": [
      "<class 'pandas.core.frame.DataFrame'>\n",
      "RangeIndex: 730 entries, 0 to 729\n",
      "Data columns (total 5 columns):\n",
      " #   Column  Non-Null Count  Dtype  \n",
      "---  ------  --------------  -----  \n",
      " 0   Date    730 non-null    object \n",
      " 1   Sales   730 non-null    int64  \n",
      " 2   PV      730 non-null    int64  \n",
      " 3   UV      684 non-null    float64\n",
      " 4   Events  730 non-null    int64  \n",
      "dtypes: float64(1), int64(3), object(1)\n",
      "memory usage: 28.6+ KB\n"
     ]
    }
   ],
   "source": [
    "# df 기본정보 확인\n",
    "df.info()"
   ]
  },
  {
   "cell_type": "code",
   "execution_count": 3,
   "id": "25dc6486",
   "metadata": {
    "execution": {
     "iopub.execute_input": "2022-11-18T11:57:59.066845Z",
     "iopub.status.busy": "2022-11-18T11:57:59.060372Z",
     "iopub.status.idle": "2022-11-18T11:57:59.068807Z",
     "shell.execute_reply": "2022-11-18T11:57:59.069328Z",
     "shell.execute_reply.started": "2022-11-18T11:57:34.864074Z"
    },
    "papermill": {
     "duration": 0.036816,
     "end_time": "2022-11-18T11:57:59.069511",
     "exception": false,
     "start_time": "2022-11-18T11:57:59.032695",
     "status": "completed"
    },
    "tags": []
   },
   "outputs": [
    {
     "name": "stdout",
     "output_type": "stream",
     "text": [
      "<class 'pandas.core.frame.DataFrame'>\n",
      "RangeIndex: 730 entries, 0 to 729\n",
      "Data columns (total 5 columns):\n",
      " #   Column  Non-Null Count  Dtype         \n",
      "---  ------  --------------  -----         \n",
      " 0   Date    730 non-null    datetime64[ns]\n",
      " 1   Sales   730 non-null    int64         \n",
      " 2   PV      730 non-null    int64         \n",
      " 3   UV      684 non-null    float64       \n",
      " 4   Events  730 non-null    int64         \n",
      "dtypes: datetime64[ns](1), float64(1), int64(3)\n",
      "memory usage: 28.6 KB\n"
     ]
    }
   ],
   "source": [
    "# 'Date' 컬럼을 datetime 형식으로 변경\n",
    "df['Date']=pd.to_datetime(df['Date'])\n",
    "\n",
    "df.info()"
   ]
  },
  {
   "cell_type": "code",
   "execution_count": 4,
   "id": "e585ff68",
   "metadata": {
    "execution": {
     "iopub.execute_input": "2022-11-18T11:57:59.110952Z",
     "iopub.status.busy": "2022-11-18T11:57:59.110270Z",
     "iopub.status.idle": "2022-11-18T11:57:59.128056Z",
     "shell.execute_reply": "2022-11-18T11:57:59.128566Z",
     "shell.execute_reply.started": "2022-11-18T11:57:34.892651Z"
    },
    "papermill": {
     "duration": 0.040204,
     "end_time": "2022-11-18T11:57:59.128764",
     "exception": false,
     "start_time": "2022-11-18T11:57:59.088560",
     "status": "completed"
    },
    "tags": []
   },
   "outputs": [
    {
     "name": "stderr",
     "output_type": "stream",
     "text": [
      "/opt/conda/lib/python3.7/site-packages/ipykernel_launcher.py:2: FutureWarning: Series.dt.weekofyear and Series.dt.week have been deprecated.  Please use Series.dt.isocalendar().week instead.\n",
      "  \n"
     ]
    },
    {
     "data": {
      "text/html": [
       "<div>\n",
       "<style scoped>\n",
       "    .dataframe tbody tr th:only-of-type {\n",
       "        vertical-align: middle;\n",
       "    }\n",
       "\n",
       "    .dataframe tbody tr th {\n",
       "        vertical-align: top;\n",
       "    }\n",
       "\n",
       "    .dataframe thead th {\n",
       "        text-align: right;\n",
       "    }\n",
       "</style>\n",
       "<table border=\"1\" class=\"dataframe\">\n",
       "  <thead>\n",
       "    <tr style=\"text-align: right;\">\n",
       "      <th></th>\n",
       "      <th>Date</th>\n",
       "      <th>Sales</th>\n",
       "      <th>PV</th>\n",
       "      <th>UV</th>\n",
       "      <th>Events</th>\n",
       "      <th>week</th>\n",
       "    </tr>\n",
       "  </thead>\n",
       "  <tbody>\n",
       "    <tr>\n",
       "      <th>0</th>\n",
       "      <td>2022-01-01</td>\n",
       "      <td>22711525</td>\n",
       "      <td>397349</td>\n",
       "      <td>4421.0</td>\n",
       "      <td>1</td>\n",
       "      <td>52</td>\n",
       "    </tr>\n",
       "    <tr>\n",
       "      <th>1</th>\n",
       "      <td>2022-01-02</td>\n",
       "      <td>36779</td>\n",
       "      <td>3969</td>\n",
       "      <td>2289.0</td>\n",
       "      <td>0</td>\n",
       "      <td>52</td>\n",
       "    </tr>\n",
       "    <tr>\n",
       "      <th>2</th>\n",
       "      <td>2022-01-03</td>\n",
       "      <td>13943875</td>\n",
       "      <td>373890</td>\n",
       "      <td>NaN</td>\n",
       "      <td>1</td>\n",
       "      <td>1</td>\n",
       "    </tr>\n",
       "    <tr>\n",
       "      <th>3</th>\n",
       "      <td>2022-01-04</td>\n",
       "      <td>8088593</td>\n",
       "      <td>142054</td>\n",
       "      <td>2157.0</td>\n",
       "      <td>0</td>\n",
       "      <td>1</td>\n",
       "    </tr>\n",
       "    <tr>\n",
       "      <th>4</th>\n",
       "      <td>2022-01-05</td>\n",
       "      <td>2395374</td>\n",
       "      <td>190684</td>\n",
       "      <td>NaN</td>\n",
       "      <td>0</td>\n",
       "      <td>1</td>\n",
       "    </tr>\n",
       "  </tbody>\n",
       "</table>\n",
       "</div>"
      ],
      "text/plain": [
       "        Date     Sales      PV      UV  Events  week\n",
       "0 2022-01-01  22711525  397349  4421.0       1    52\n",
       "1 2022-01-02     36779    3969  2289.0       0    52\n",
       "2 2022-01-03  13943875  373890     NaN       1     1\n",
       "3 2022-01-04   8088593  142054  2157.0       0     1\n",
       "4 2022-01-05   2395374  190684     NaN       0     1"
      ]
     },
     "execution_count": 4,
     "metadata": {},
     "output_type": "execute_result"
    }
   ],
   "source": [
    "# Date 컬럼에서 주 추출\n",
    "df['week']=df['Date'].dt.weekofyear\n",
    "df.head()"
   ]
  },
  {
   "cell_type": "code",
   "execution_count": 5,
   "id": "b0ae2fae",
   "metadata": {
    "execution": {
     "iopub.execute_input": "2022-11-18T11:57:59.172058Z",
     "iopub.status.busy": "2022-11-18T11:57:59.171366Z",
     "iopub.status.idle": "2022-11-18T11:57:59.178610Z",
     "shell.execute_reply": "2022-11-18T11:57:59.179155Z",
     "shell.execute_reply.started": "2022-11-18T11:57:34.919017Z"
    },
    "papermill": {
     "duration": 0.030674,
     "end_time": "2022-11-18T11:57:59.179341",
     "exception": false,
     "start_time": "2022-11-18T11:57:59.148667",
     "status": "completed"
    },
    "tags": []
   },
   "outputs": [
    {
     "data": {
      "text/plain": [
       "week\n",
       "1      44781664\n",
       "2     101144216\n",
       "3      68704030\n",
       "4      54746134\n",
       "5      69440264\n",
       "6      84482917\n",
       "7     116577583\n",
       "8      76459421\n",
       "9      78315195\n",
       "10    119887827\n",
       "11    123452616\n",
       "12     98327637\n",
       "13     37839960\n",
       "14     48213553\n",
       "15     73508813\n",
       "16     79438207\n",
       "17     51794447\n",
       "18     26205369\n",
       "19    117984320\n",
       "20     56582999\n",
       "21     84446592\n",
       "22     65168503\n",
       "23     84144236\n",
       "24     52083756\n",
       "25    120710663\n",
       "26     39354815\n",
       "27     93566747\n",
       "28     79914419\n",
       "29     90433087\n",
       "30     93677637\n",
       "31     73097072\n",
       "32     53126596\n",
       "33     60109624\n",
       "34     64414770\n",
       "35     67817496\n",
       "36     78090753\n",
       "37     85150166\n",
       "38    101654917\n",
       "39    186775279\n",
       "40     50445888\n",
       "41     92103093\n",
       "42    122234629\n",
       "43     62172896\n",
       "44     63501376\n",
       "45     87850240\n",
       "46     79381183\n",
       "47    103175924\n",
       "48     59288782\n",
       "49    124466629\n",
       "50     78108692\n",
       "51     78600456\n",
       "52    147570567\n",
       "Name: Sales, dtype: int64"
      ]
     },
     "execution_count": 5,
     "metadata": {},
     "output_type": "execute_result"
    }
   ],
   "source": [
    "# week 기준 그룹핑 후 'Sales' 합계 구하기\n",
    "df.groupby('week')['Sales'].sum()"
   ]
  },
  {
   "cell_type": "code",
   "execution_count": 6,
   "id": "142eb602",
   "metadata": {
    "execution": {
     "iopub.execute_input": "2022-11-18T11:57:59.222504Z",
     "iopub.status.busy": "2022-11-18T11:57:59.221843Z",
     "iopub.status.idle": "2022-11-18T11:57:59.228539Z",
     "shell.execute_reply": "2022-11-18T11:57:59.229161Z",
     "shell.execute_reply.started": "2022-11-18T11:57:34.939044Z"
    },
    "papermill": {
     "duration": 0.029917,
     "end_time": "2022-11-18T11:57:59.229343",
     "exception": false,
     "start_time": "2022-11-18T11:57:59.199426",
     "status": "completed"
    },
    "tags": []
   },
   "outputs": [
    {
     "data": {
      "text/plain": [
       "186775279"
      ]
     },
     "execution_count": 6,
     "metadata": {},
     "output_type": "execute_result"
    }
   ],
   "source": [
    "# 'Sales' 합의 최댓값\n",
    "df.groupby('week')['Sales'].sum().max()"
   ]
  },
  {
   "cell_type": "code",
   "execution_count": 7,
   "id": "4ae2c662",
   "metadata": {
    "execution": {
     "iopub.execute_input": "2022-11-18T11:57:59.273713Z",
     "iopub.status.busy": "2022-11-18T11:57:59.273042Z",
     "iopub.status.idle": "2022-11-18T11:57:59.279139Z",
     "shell.execute_reply": "2022-11-18T11:57:59.279861Z",
     "shell.execute_reply.started": "2022-11-18T11:57:34.951224Z"
    },
    "papermill": {
     "duration": 0.030101,
     "end_time": "2022-11-18T11:57:59.280129",
     "exception": false,
     "start_time": "2022-11-18T11:57:59.250028",
     "status": "completed"
    },
    "tags": []
   },
   "outputs": [
    {
     "data": {
      "text/plain": [
       "26205369"
      ]
     },
     "execution_count": 7,
     "metadata": {},
     "output_type": "execute_result"
    }
   ],
   "source": [
    "# 'Sales' 합의 최솟값\n",
    "df.groupby('week')['Sales'].sum().min()"
   ]
  },
  {
   "cell_type": "code",
   "execution_count": 8,
   "id": "4e1f557c",
   "metadata": {
    "execution": {
     "iopub.execute_input": "2022-11-18T11:57:59.326216Z",
     "iopub.status.busy": "2022-11-18T11:57:59.325504Z",
     "iopub.status.idle": "2022-11-18T11:57:59.333030Z",
     "shell.execute_reply": "2022-11-18T11:57:59.333604Z",
     "shell.execute_reply.started": "2022-11-18T11:57:34.962469Z"
    },
    "papermill": {
     "duration": 0.031947,
     "end_time": "2022-11-18T11:57:59.333788",
     "exception": false,
     "start_time": "2022-11-18T11:57:59.301841",
     "status": "completed"
    },
    "tags": []
   },
   "outputs": [
    {
     "data": {
      "text/plain": [
       "160569910"
      ]
     },
     "execution_count": 8,
     "metadata": {},
     "output_type": "execute_result"
    }
   ],
   "source": [
    "# 최댓값 최솟값 차이\n",
    "abs(df.groupby('week')['Sales'].sum().max() - df.groupby('week')['Sales'].sum().min())"
   ]
  },
  {
   "cell_type": "code",
   "execution_count": 9,
   "id": "7cc5fa11",
   "metadata": {
    "execution": {
     "iopub.execute_input": "2022-11-18T11:57:59.392491Z",
     "iopub.status.busy": "2022-11-18T11:57:59.391819Z",
     "iopub.status.idle": "2022-11-18T11:57:59.412759Z",
     "shell.execute_reply": "2022-11-18T11:57:59.412103Z",
     "shell.execute_reply.started": "2022-11-18T11:57:34.981028Z"
    },
    "papermill": {
     "duration": 0.053158,
     "end_time": "2022-11-18T11:57:59.412914",
     "exception": false,
     "start_time": "2022-11-18T11:57:59.359756",
     "status": "completed"
    },
    "tags": []
   },
   "outputs": [
    {
     "data": {
      "text/html": [
       "<div>\n",
       "<style scoped>\n",
       "    .dataframe tbody tr th:only-of-type {\n",
       "        vertical-align: middle;\n",
       "    }\n",
       "\n",
       "    .dataframe tbody tr th {\n",
       "        vertical-align: top;\n",
       "    }\n",
       "\n",
       "    .dataframe thead th {\n",
       "        text-align: right;\n",
       "    }\n",
       "</style>\n",
       "<table border=\"1\" class=\"dataframe\">\n",
       "  <thead>\n",
       "    <tr style=\"text-align: right;\">\n",
       "      <th></th>\n",
       "      <th>Sales</th>\n",
       "      <th>PV</th>\n",
       "      <th>UV</th>\n",
       "      <th>Events</th>\n",
       "      <th>week</th>\n",
       "    </tr>\n",
       "    <tr>\n",
       "      <th>Date</th>\n",
       "      <th></th>\n",
       "      <th></th>\n",
       "      <th></th>\n",
       "      <th></th>\n",
       "      <th></th>\n",
       "    </tr>\n",
       "  </thead>\n",
       "  <tbody>\n",
       "    <tr>\n",
       "      <th>2022-01-01</th>\n",
       "      <td>22711525</td>\n",
       "      <td>397349</td>\n",
       "      <td>4421.0</td>\n",
       "      <td>1</td>\n",
       "      <td>52</td>\n",
       "    </tr>\n",
       "    <tr>\n",
       "      <th>2022-01-02</th>\n",
       "      <td>36779</td>\n",
       "      <td>3969</td>\n",
       "      <td>2289.0</td>\n",
       "      <td>0</td>\n",
       "      <td>52</td>\n",
       "    </tr>\n",
       "    <tr>\n",
       "      <th>2022-01-03</th>\n",
       "      <td>13943875</td>\n",
       "      <td>373890</td>\n",
       "      <td>NaN</td>\n",
       "      <td>1</td>\n",
       "      <td>1</td>\n",
       "    </tr>\n",
       "    <tr>\n",
       "      <th>2022-01-04</th>\n",
       "      <td>8088593</td>\n",
       "      <td>142054</td>\n",
       "      <td>2157.0</td>\n",
       "      <td>0</td>\n",
       "      <td>1</td>\n",
       "    </tr>\n",
       "    <tr>\n",
       "      <th>2022-01-05</th>\n",
       "      <td>2395374</td>\n",
       "      <td>190684</td>\n",
       "      <td>NaN</td>\n",
       "      <td>0</td>\n",
       "      <td>1</td>\n",
       "    </tr>\n",
       "    <tr>\n",
       "      <th>...</th>\n",
       "      <td>...</td>\n",
       "      <td>...</td>\n",
       "      <td>...</td>\n",
       "      <td>...</td>\n",
       "      <td>...</td>\n",
       "    </tr>\n",
       "    <tr>\n",
       "      <th>2023-12-27</th>\n",
       "      <td>33846609</td>\n",
       "      <td>415067</td>\n",
       "      <td>7360.0</td>\n",
       "      <td>1</td>\n",
       "      <td>52</td>\n",
       "    </tr>\n",
       "    <tr>\n",
       "      <th>2023-12-28</th>\n",
       "      <td>3659566</td>\n",
       "      <td>208601</td>\n",
       "      <td>2262.0</td>\n",
       "      <td>1</td>\n",
       "      <td>52</td>\n",
       "    </tr>\n",
       "    <tr>\n",
       "      <th>2023-12-29</th>\n",
       "      <td>1164008</td>\n",
       "      <td>14309</td>\n",
       "      <td>193.0</td>\n",
       "      <td>0</td>\n",
       "      <td>52</td>\n",
       "    </tr>\n",
       "    <tr>\n",
       "      <th>2023-12-30</th>\n",
       "      <td>3977696</td>\n",
       "      <td>60935</td>\n",
       "      <td>NaN</td>\n",
       "      <td>0</td>\n",
       "      <td>52</td>\n",
       "    </tr>\n",
       "    <tr>\n",
       "      <th>2023-12-31</th>\n",
       "      <td>3719764</td>\n",
       "      <td>60963</td>\n",
       "      <td>1507.0</td>\n",
       "      <td>0</td>\n",
       "      <td>52</td>\n",
       "    </tr>\n",
       "  </tbody>\n",
       "</table>\n",
       "<p>730 rows × 5 columns</p>\n",
       "</div>"
      ],
      "text/plain": [
       "               Sales      PV      UV  Events  week\n",
       "Date                                              \n",
       "2022-01-01  22711525  397349  4421.0       1    52\n",
       "2022-01-02     36779    3969  2289.0       0    52\n",
       "2022-01-03  13943875  373890     NaN       1     1\n",
       "2022-01-04   8088593  142054  2157.0       0     1\n",
       "2022-01-05   2395374  190684     NaN       0     1\n",
       "...              ...     ...     ...     ...   ...\n",
       "2023-12-27  33846609  415067  7360.0       1    52\n",
       "2023-12-28   3659566  208601  2262.0       1    52\n",
       "2023-12-29   1164008   14309   193.0       0    52\n",
       "2023-12-30   3977696   60935     NaN       0    52\n",
       "2023-12-31   3719764   60963  1507.0       0    52\n",
       "\n",
       "[730 rows x 5 columns]"
      ]
     },
     "execution_count": 9,
     "metadata": {},
     "output_type": "execute_result"
    }
   ],
   "source": [
    "# 'Date'를 인덱스로 설정\n",
    "df2=df.set_index('Date')\n",
    "df2"
   ]
  },
  {
   "cell_type": "code",
   "execution_count": 10,
   "id": "8d87c818",
   "metadata": {
    "execution": {
     "iopub.execute_input": "2022-11-18T11:57:59.464334Z",
     "iopub.status.busy": "2022-11-18T11:57:59.463386Z",
     "iopub.status.idle": "2022-11-18T11:57:59.491946Z",
     "shell.execute_reply": "2022-11-18T11:57:59.492410Z",
     "shell.execute_reply.started": "2022-11-18T11:57:35.006417Z"
    },
    "papermill": {
     "duration": 0.055655,
     "end_time": "2022-11-18T11:57:59.492605",
     "exception": false,
     "start_time": "2022-11-18T11:57:59.436950",
     "status": "completed"
    },
    "tags": []
   },
   "outputs": [
    {
     "data": {
      "text/html": [
       "<div>\n",
       "<style scoped>\n",
       "    .dataframe tbody tr th:only-of-type {\n",
       "        vertical-align: middle;\n",
       "    }\n",
       "\n",
       "    .dataframe tbody tr th {\n",
       "        vertical-align: top;\n",
       "    }\n",
       "\n",
       "    .dataframe thead th {\n",
       "        text-align: right;\n",
       "    }\n",
       "</style>\n",
       "<table border=\"1\" class=\"dataframe\">\n",
       "  <thead>\n",
       "    <tr style=\"text-align: right;\">\n",
       "      <th></th>\n",
       "      <th>Sales</th>\n",
       "      <th>PV</th>\n",
       "      <th>UV</th>\n",
       "      <th>Events</th>\n",
       "      <th>week</th>\n",
       "    </tr>\n",
       "    <tr>\n",
       "      <th>Date</th>\n",
       "      <th></th>\n",
       "      <th></th>\n",
       "      <th></th>\n",
       "      <th></th>\n",
       "      <th></th>\n",
       "    </tr>\n",
       "  </thead>\n",
       "  <tbody>\n",
       "    <tr>\n",
       "      <th>2022-01-02</th>\n",
       "      <td>22748304</td>\n",
       "      <td>401318</td>\n",
       "      <td>6710.0</td>\n",
       "      <td>1</td>\n",
       "      <td>104</td>\n",
       "    </tr>\n",
       "    <tr>\n",
       "      <th>2022-01-09</th>\n",
       "      <td>33373822</td>\n",
       "      <td>1148464</td>\n",
       "      <td>15189.0</td>\n",
       "      <td>2</td>\n",
       "      <td>7</td>\n",
       "    </tr>\n",
       "    <tr>\n",
       "      <th>2022-01-16</th>\n",
       "      <td>20754519</td>\n",
       "      <td>283773</td>\n",
       "      <td>9344.0</td>\n",
       "      <td>0</td>\n",
       "      <td>14</td>\n",
       "    </tr>\n",
       "    <tr>\n",
       "      <th>2022-01-23</th>\n",
       "      <td>21880751</td>\n",
       "      <td>538633</td>\n",
       "      <td>9841.0</td>\n",
       "      <td>1</td>\n",
       "      <td>21</td>\n",
       "    </tr>\n",
       "    <tr>\n",
       "      <th>2022-01-30</th>\n",
       "      <td>28878452</td>\n",
       "      <td>560814</td>\n",
       "      <td>7808.0</td>\n",
       "      <td>1</td>\n",
       "      <td>28</td>\n",
       "    </tr>\n",
       "    <tr>\n",
       "      <th>...</th>\n",
       "      <td>...</td>\n",
       "      <td>...</td>\n",
       "      <td>...</td>\n",
       "      <td>...</td>\n",
       "      <td>...</td>\n",
       "    </tr>\n",
       "    <tr>\n",
       "      <th>2023-12-03</th>\n",
       "      <td>47120909</td>\n",
       "      <td>884734</td>\n",
       "      <td>12086.0</td>\n",
       "      <td>2</td>\n",
       "      <td>336</td>\n",
       "    </tr>\n",
       "    <tr>\n",
       "      <th>2023-12-10</th>\n",
       "      <td>46398053</td>\n",
       "      <td>975024</td>\n",
       "      <td>21872.0</td>\n",
       "      <td>3</td>\n",
       "      <td>343</td>\n",
       "    </tr>\n",
       "    <tr>\n",
       "      <th>2023-12-17</th>\n",
       "      <td>20763518</td>\n",
       "      <td>291261</td>\n",
       "      <td>17221.0</td>\n",
       "      <td>0</td>\n",
       "      <td>350</td>\n",
       "    </tr>\n",
       "    <tr>\n",
       "      <th>2023-12-24</th>\n",
       "      <td>34528035</td>\n",
       "      <td>901451</td>\n",
       "      <td>11732.0</td>\n",
       "      <td>2</td>\n",
       "      <td>357</td>\n",
       "    </tr>\n",
       "    <tr>\n",
       "      <th>2023-12-31</th>\n",
       "      <td>51435189</td>\n",
       "      <td>813019</td>\n",
       "      <td>12168.0</td>\n",
       "      <td>2</td>\n",
       "      <td>364</td>\n",
       "    </tr>\n",
       "  </tbody>\n",
       "</table>\n",
       "<p>105 rows × 5 columns</p>\n",
       "</div>"
      ],
      "text/plain": [
       "               Sales       PV       UV  Events  week\n",
       "Date                                                \n",
       "2022-01-02  22748304   401318   6710.0       1   104\n",
       "2022-01-09  33373822  1148464  15189.0       2     7\n",
       "2022-01-16  20754519   283773   9344.0       0    14\n",
       "2022-01-23  21880751   538633   9841.0       1    21\n",
       "2022-01-30  28878452   560814   7808.0       1    28\n",
       "...              ...      ...      ...     ...   ...\n",
       "2023-12-03  47120909   884734  12086.0       2   336\n",
       "2023-12-10  46398053   975024  21872.0       3   343\n",
       "2023-12-17  20763518   291261  17221.0       0   350\n",
       "2023-12-24  34528035   901451  11732.0       2   357\n",
       "2023-12-31  51435189   813019  12168.0       2   364\n",
       "\n",
       "[105 rows x 5 columns]"
      ]
     },
     "execution_count": 10,
     "metadata": {},
     "output_type": "execute_result"
    }
   ],
   "source": [
    "# 주 단위로 resample후 합계 구하기\n",
    "df2.resample('W').sum()"
   ]
  },
  {
   "cell_type": "code",
   "execution_count": 11,
   "id": "e34a8ff2",
   "metadata": {
    "execution": {
     "iopub.execute_input": "2022-11-18T11:57:59.548733Z",
     "iopub.status.busy": "2022-11-18T11:57:59.548029Z",
     "iopub.status.idle": "2022-11-18T11:57:59.551628Z",
     "shell.execute_reply": "2022-11-18T11:57:59.550918Z",
     "shell.execute_reply.started": "2022-11-18T11:57:35.035889Z"
    },
    "papermill": {
     "duration": 0.037064,
     "end_time": "2022-11-18T11:57:59.551787",
     "exception": false,
     "start_time": "2022-11-18T11:57:59.514723",
     "status": "completed"
    },
    "tags": []
   },
   "outputs": [
    {
     "data": {
      "text/plain": [
       "99165648"
      ]
     },
     "execution_count": 11,
     "metadata": {},
     "output_type": "execute_result"
    }
   ],
   "source": [
    "# 'Sales'의 최댓값\n",
    "df2.resample('W').sum()['Sales'].max()"
   ]
  },
  {
   "cell_type": "code",
   "execution_count": 12,
   "id": "446aedfd",
   "metadata": {
    "execution": {
     "iopub.execute_input": "2022-11-18T11:57:59.600553Z",
     "iopub.status.busy": "2022-11-18T11:57:59.599571Z",
     "iopub.status.idle": "2022-11-18T11:57:59.610726Z",
     "shell.execute_reply": "2022-11-18T11:57:59.610181Z",
     "shell.execute_reply.started": "2022-11-18T11:57:35.050385Z"
    },
    "papermill": {
     "duration": 0.0367,
     "end_time": "2022-11-18T11:57:59.610876",
     "exception": false,
     "start_time": "2022-11-18T11:57:59.574176",
     "status": "completed"
    },
    "tags": []
   },
   "outputs": [
    {
     "data": {
      "text/plain": [
       "7526598"
      ]
     },
     "execution_count": 12,
     "metadata": {},
     "output_type": "execute_result"
    }
   ],
   "source": [
    "# 'Sales'의 최솟값\n",
    "df2.resample('W').sum()['Sales'].min()"
   ]
  },
  {
   "cell_type": "code",
   "execution_count": 13,
   "id": "da7e7c33",
   "metadata": {
    "execution": {
     "iopub.execute_input": "2022-11-18T11:57:59.668873Z",
     "iopub.status.busy": "2022-11-18T11:57:59.665630Z",
     "iopub.status.idle": "2022-11-18T11:57:59.674375Z",
     "shell.execute_reply": "2022-11-18T11:57:59.674956Z",
     "shell.execute_reply.started": "2022-11-18T11:57:35.072967Z"
    },
    "papermill": {
     "duration": 0.041528,
     "end_time": "2022-11-18T11:57:59.675137",
     "exception": false,
     "start_time": "2022-11-18T11:57:59.633609",
     "status": "completed"
    },
    "tags": []
   },
   "outputs": [
    {
     "data": {
      "text/plain": [
       "91639050"
      ]
     },
     "execution_count": 13,
     "metadata": {},
     "output_type": "execute_result"
    }
   ],
   "source": [
    "# 최댓값과 최솟값의 차\n",
    "abs(df2.resample('W').sum()['Sales'].max() - df2.resample('W').sum()['Sales'].min())"
   ]
  },
  {
   "cell_type": "code",
   "execution_count": null,
   "id": "f8874299",
   "metadata": {
    "papermill": {
     "duration": 0.022897,
     "end_time": "2022-11-18T11:57:59.721087",
     "exception": false,
     "start_time": "2022-11-18T11:57:59.698190",
     "status": "completed"
    },
    "tags": []
   },
   "outputs": [],
   "source": []
  },
  {
   "cell_type": "code",
   "execution_count": 14,
   "id": "1ed29a1b",
   "metadata": {
    "execution": {
     "iopub.execute_input": "2022-11-18T11:57:59.772530Z",
     "iopub.status.busy": "2022-11-18T11:57:59.771500Z",
     "iopub.status.idle": "2022-11-18T11:57:59.774196Z",
     "shell.execute_reply": "2022-11-18T11:57:59.773632Z",
     "shell.execute_reply.started": "2022-11-18T11:57:35.091234Z"
    },
    "papermill": {
     "duration": 0.030175,
     "end_time": "2022-11-18T11:57:59.774351",
     "exception": false,
     "start_time": "2022-11-18T11:57:59.744176",
     "status": "completed"
    },
    "tags": []
   },
   "outputs": [],
   "source": [
    "import pandas as pd"
   ]
  },
  {
   "cell_type": "code",
   "execution_count": 15,
   "id": "832d45de",
   "metadata": {
    "execution": {
     "iopub.execute_input": "2022-11-18T11:57:59.825371Z",
     "iopub.status.busy": "2022-11-18T11:57:59.823380Z",
     "iopub.status.idle": "2022-11-18T11:57:59.832967Z",
     "shell.execute_reply": "2022-11-18T11:57:59.832369Z",
     "shell.execute_reply.started": "2022-11-18T11:57:35.098252Z"
    },
    "papermill": {
     "duration": 0.035679,
     "end_time": "2022-11-18T11:57:59.833118",
     "exception": false,
     "start_time": "2022-11-18T11:57:59.797439",
     "status": "completed"
    },
    "tags": []
   },
   "outputs": [],
   "source": [
    "df = pd.read_csv(\"../input/bigdatacertificationkr/basic2.csv\", parse_dates=['Date'], index_col=0)\n",
    "\n",
    "# 아래 코드를 한줄로 표현함\n",
    "# df = pd.read_csv(\"../input/bigdatacertificationkr/basic2.csv\")\n",
    "# df['Date'] = pd.to_datetime(df['Date'])\n",
    "# df = df.set_index('Date')"
   ]
  },
  {
   "cell_type": "code",
   "execution_count": 16,
   "id": "09d336d9",
   "metadata": {
    "execution": {
     "iopub.execute_input": "2022-11-18T11:57:59.883187Z",
     "iopub.status.busy": "2022-11-18T11:57:59.882211Z",
     "iopub.status.idle": "2022-11-18T11:57:59.894417Z",
     "shell.execute_reply": "2022-11-18T11:57:59.893883Z",
     "shell.execute_reply.started": "2022-11-18T11:57:35.117709Z"
    },
    "papermill": {
     "duration": 0.038413,
     "end_time": "2022-11-18T11:57:59.894557",
     "exception": false,
     "start_time": "2022-11-18T11:57:59.856144",
     "status": "completed"
    },
    "tags": []
   },
   "outputs": [
    {
     "name": "stdout",
     "output_type": "stream",
     "text": [
      "(730, 4)\n"
     ]
    },
    {
     "data": {
      "text/html": [
       "<div>\n",
       "<style scoped>\n",
       "    .dataframe tbody tr th:only-of-type {\n",
       "        vertical-align: middle;\n",
       "    }\n",
       "\n",
       "    .dataframe tbody tr th {\n",
       "        vertical-align: top;\n",
       "    }\n",
       "\n",
       "    .dataframe thead th {\n",
       "        text-align: right;\n",
       "    }\n",
       "</style>\n",
       "<table border=\"1\" class=\"dataframe\">\n",
       "  <thead>\n",
       "    <tr style=\"text-align: right;\">\n",
       "      <th></th>\n",
       "      <th>Sales</th>\n",
       "      <th>PV</th>\n",
       "      <th>UV</th>\n",
       "      <th>Events</th>\n",
       "    </tr>\n",
       "    <tr>\n",
       "      <th>Date</th>\n",
       "      <th></th>\n",
       "      <th></th>\n",
       "      <th></th>\n",
       "      <th></th>\n",
       "    </tr>\n",
       "  </thead>\n",
       "  <tbody>\n",
       "    <tr>\n",
       "      <th>2022-01-01</th>\n",
       "      <td>22711525</td>\n",
       "      <td>397349</td>\n",
       "      <td>4421.0</td>\n",
       "      <td>1</td>\n",
       "    </tr>\n",
       "    <tr>\n",
       "      <th>2022-01-02</th>\n",
       "      <td>36779</td>\n",
       "      <td>3969</td>\n",
       "      <td>2289.0</td>\n",
       "      <td>0</td>\n",
       "    </tr>\n",
       "    <tr>\n",
       "      <th>2022-01-03</th>\n",
       "      <td>13943875</td>\n",
       "      <td>373890</td>\n",
       "      <td>NaN</td>\n",
       "      <td>1</td>\n",
       "    </tr>\n",
       "  </tbody>\n",
       "</table>\n",
       "</div>"
      ],
      "text/plain": [
       "               Sales      PV      UV  Events\n",
       "Date                                        \n",
       "2022-01-01  22711525  397349  4421.0       1\n",
       "2022-01-02     36779    3969  2289.0       0\n",
       "2022-01-03  13943875  373890     NaN       1"
      ]
     },
     "execution_count": 16,
     "metadata": {},
     "output_type": "execute_result"
    }
   ],
   "source": [
    "print(df.shape)\n",
    "df.head(3)"
   ]
  },
  {
   "cell_type": "code",
   "execution_count": 17,
   "id": "41ad3190",
   "metadata": {
    "execution": {
     "iopub.execute_input": "2022-11-18T11:57:59.953212Z",
     "iopub.status.busy": "2022-11-18T11:57:59.952102Z",
     "iopub.status.idle": "2022-11-18T11:57:59.955571Z",
     "shell.execute_reply": "2022-11-18T11:57:59.956106Z",
     "shell.execute_reply.started": "2022-11-18T11:57:35.135059Z"
    },
    "papermill": {
     "duration": 0.037824,
     "end_time": "2022-11-18T11:57:59.956280",
     "exception": false,
     "start_time": "2022-11-18T11:57:59.918456",
     "status": "completed"
    },
    "tags": []
   },
   "outputs": [
    {
     "data": {
      "text/html": [
       "<div>\n",
       "<style scoped>\n",
       "    .dataframe tbody tr th:only-of-type {\n",
       "        vertical-align: middle;\n",
       "    }\n",
       "\n",
       "    .dataframe tbody tr th {\n",
       "        vertical-align: top;\n",
       "    }\n",
       "\n",
       "    .dataframe thead th {\n",
       "        text-align: right;\n",
       "    }\n",
       "</style>\n",
       "<table border=\"1\" class=\"dataframe\">\n",
       "  <thead>\n",
       "    <tr style=\"text-align: right;\">\n",
       "      <th></th>\n",
       "      <th>Sales</th>\n",
       "      <th>PV</th>\n",
       "      <th>UV</th>\n",
       "      <th>Events</th>\n",
       "    </tr>\n",
       "    <tr>\n",
       "      <th>Date</th>\n",
       "      <th></th>\n",
       "      <th></th>\n",
       "      <th></th>\n",
       "      <th></th>\n",
       "    </tr>\n",
       "  </thead>\n",
       "  <tbody>\n",
       "    <tr>\n",
       "      <th>2023-12-29</th>\n",
       "      <td>1164008</td>\n",
       "      <td>14309</td>\n",
       "      <td>193.0</td>\n",
       "      <td>0</td>\n",
       "    </tr>\n",
       "    <tr>\n",
       "      <th>2023-12-30</th>\n",
       "      <td>3977696</td>\n",
       "      <td>60935</td>\n",
       "      <td>NaN</td>\n",
       "      <td>0</td>\n",
       "    </tr>\n",
       "    <tr>\n",
       "      <th>2023-12-31</th>\n",
       "      <td>3719764</td>\n",
       "      <td>60963</td>\n",
       "      <td>1507.0</td>\n",
       "      <td>0</td>\n",
       "    </tr>\n",
       "  </tbody>\n",
       "</table>\n",
       "</div>"
      ],
      "text/plain": [
       "              Sales     PV      UV  Events\n",
       "Date                                      \n",
       "2023-12-29  1164008  14309   193.0       0\n",
       "2023-12-30  3977696  60935     NaN       0\n",
       "2023-12-31  3719764  60963  1507.0       0"
      ]
     },
     "execution_count": 17,
     "metadata": {},
     "output_type": "execute_result"
    }
   ],
   "source": [
    "df.tail(3)"
   ]
  },
  {
   "cell_type": "markdown",
   "id": "b59764f7",
   "metadata": {
    "papermill": {
     "duration": 0.024304,
     "end_time": "2022-11-18T11:58:00.005020",
     "exception": false,
     "start_time": "2022-11-18T11:57:59.980716",
     "status": "completed"
    },
    "tags": []
   },
   "source": [
    "### 단위 \n",
    "- 주 단위 W\n",
    "- 2주 단위 2W\n",
    "- 월 단위 M"
   ]
  },
  {
   "cell_type": "code",
   "execution_count": 18,
   "id": "0208a253",
   "metadata": {
    "execution": {
     "iopub.execute_input": "2022-11-18T11:58:00.057413Z",
     "iopub.status.busy": "2022-11-18T11:58:00.056678Z",
     "iopub.status.idle": "2022-11-18T11:58:00.072022Z",
     "shell.execute_reply": "2022-11-18T11:58:00.071447Z",
     "shell.execute_reply.started": "2022-11-18T11:57:35.151799Z"
    },
    "papermill": {
     "duration": 0.042495,
     "end_time": "2022-11-18T11:58:00.072168",
     "exception": false,
     "start_time": "2022-11-18T11:58:00.029673",
     "status": "completed"
    },
    "tags": []
   },
   "outputs": [
    {
     "data": {
      "text/html": [
       "<div>\n",
       "<style scoped>\n",
       "    .dataframe tbody tr th:only-of-type {\n",
       "        vertical-align: middle;\n",
       "    }\n",
       "\n",
       "    .dataframe tbody tr th {\n",
       "        vertical-align: top;\n",
       "    }\n",
       "\n",
       "    .dataframe thead th {\n",
       "        text-align: right;\n",
       "    }\n",
       "</style>\n",
       "<table border=\"1\" class=\"dataframe\">\n",
       "  <thead>\n",
       "    <tr style=\"text-align: right;\">\n",
       "      <th></th>\n",
       "      <th>Sales</th>\n",
       "      <th>PV</th>\n",
       "      <th>UV</th>\n",
       "      <th>Events</th>\n",
       "    </tr>\n",
       "    <tr>\n",
       "      <th>Date</th>\n",
       "      <th></th>\n",
       "      <th></th>\n",
       "      <th></th>\n",
       "      <th></th>\n",
       "    </tr>\n",
       "  </thead>\n",
       "  <tbody>\n",
       "    <tr>\n",
       "      <th>2022-01-02</th>\n",
       "      <td>22748304</td>\n",
       "      <td>401318</td>\n",
       "      <td>6710.0</td>\n",
       "      <td>1</td>\n",
       "    </tr>\n",
       "    <tr>\n",
       "      <th>2022-01-09</th>\n",
       "      <td>33373822</td>\n",
       "      <td>1148464</td>\n",
       "      <td>15189.0</td>\n",
       "      <td>2</td>\n",
       "    </tr>\n",
       "    <tr>\n",
       "      <th>2022-01-16</th>\n",
       "      <td>20754519</td>\n",
       "      <td>283773</td>\n",
       "      <td>9344.0</td>\n",
       "      <td>0</td>\n",
       "    </tr>\n",
       "    <tr>\n",
       "      <th>2022-01-23</th>\n",
       "      <td>21880751</td>\n",
       "      <td>538633</td>\n",
       "      <td>9841.0</td>\n",
       "      <td>1</td>\n",
       "    </tr>\n",
       "    <tr>\n",
       "      <th>2022-01-30</th>\n",
       "      <td>28878452</td>\n",
       "      <td>560814</td>\n",
       "      <td>7808.0</td>\n",
       "      <td>1</td>\n",
       "    </tr>\n",
       "  </tbody>\n",
       "</table>\n",
       "</div>"
      ],
      "text/plain": [
       "               Sales       PV       UV  Events\n",
       "Date                                          \n",
       "2022-01-02  22748304   401318   6710.0       1\n",
       "2022-01-09  33373822  1148464  15189.0       2\n",
       "2022-01-16  20754519   283773   9344.0       0\n",
       "2022-01-23  21880751   538633   9841.0       1\n",
       "2022-01-30  28878452   560814   7808.0       1"
      ]
     },
     "execution_count": 18,
     "metadata": {},
     "output_type": "execute_result"
    }
   ],
   "source": [
    "df_w = df.resample('W').sum()\n",
    "df_w.head()"
   ]
  },
  {
   "cell_type": "code",
   "execution_count": 19,
   "id": "e1067b06",
   "metadata": {
    "execution": {
     "iopub.execute_input": "2022-11-18T11:58:00.126090Z",
     "iopub.status.busy": "2022-11-18T11:58:00.125372Z",
     "iopub.status.idle": "2022-11-18T11:58:00.130101Z",
     "shell.execute_reply": "2022-11-18T11:58:00.130649Z",
     "shell.execute_reply.started": "2022-11-18T11:57:35.173538Z"
    },
    "papermill": {
     "duration": 0.033629,
     "end_time": "2022-11-18T11:58:00.130832",
     "exception": false,
     "start_time": "2022-11-18T11:58:00.097203",
     "status": "completed"
    },
    "tags": []
   },
   "outputs": [
    {
     "data": {
      "text/plain": [
       "99165648"
      ]
     },
     "execution_count": 19,
     "metadata": {},
     "output_type": "execute_result"
    }
   ],
   "source": [
    "ma = df_w['Sales'].max()\n",
    "ma"
   ]
  },
  {
   "cell_type": "code",
   "execution_count": 20,
   "id": "2e5b73bd",
   "metadata": {
    "execution": {
     "iopub.execute_input": "2022-11-18T11:58:00.187389Z",
     "iopub.status.busy": "2022-11-18T11:58:00.184409Z",
     "iopub.status.idle": "2022-11-18T11:58:00.190643Z",
     "shell.execute_reply": "2022-11-18T11:58:00.190097Z",
     "shell.execute_reply.started": "2022-11-18T11:57:35.184748Z"
    },
    "papermill": {
     "duration": 0.034714,
     "end_time": "2022-11-18T11:58:00.190796",
     "exception": false,
     "start_time": "2022-11-18T11:58:00.156082",
     "status": "completed"
    },
    "tags": []
   },
   "outputs": [
    {
     "data": {
      "text/plain": [
       "7526598"
      ]
     },
     "execution_count": 20,
     "metadata": {},
     "output_type": "execute_result"
    }
   ],
   "source": [
    "mi = df_w['Sales'].min()\n",
    "mi"
   ]
  },
  {
   "cell_type": "code",
   "execution_count": 21,
   "id": "4661f3c9",
   "metadata": {
    "execution": {
     "iopub.execute_input": "2022-11-18T11:58:00.246146Z",
     "iopub.status.busy": "2022-11-18T11:58:00.245449Z",
     "iopub.status.idle": "2022-11-18T11:58:00.248104Z",
     "shell.execute_reply": "2022-11-18T11:58:00.248938Z",
     "shell.execute_reply.started": "2022-11-18T11:57:35.197321Z"
    },
    "papermill": {
     "duration": 0.033072,
     "end_time": "2022-11-18T11:58:00.249147",
     "exception": false,
     "start_time": "2022-11-18T11:58:00.216075",
     "status": "completed"
    },
    "tags": []
   },
   "outputs": [
    {
     "name": "stdout",
     "output_type": "stream",
     "text": [
      "91639050\n"
     ]
    }
   ],
   "source": [
    "print(ma - mi)"
   ]
  },
  {
   "cell_type": "code",
   "execution_count": null,
   "id": "f3050851",
   "metadata": {
    "papermill": {
     "duration": 0.025574,
     "end_time": "2022-11-18T11:58:00.301867",
     "exception": false,
     "start_time": "2022-11-18T11:58:00.276293",
     "status": "completed"
    },
    "tags": []
   },
   "outputs": [],
   "source": []
  }
 ],
 "metadata": {
  "kernelspec": {
   "display_name": "Python 3",
   "language": "python",
   "name": "python3"
  },
  "language_info": {
   "codemirror_mode": {
    "name": "ipython",
    "version": 3
   },
   "file_extension": ".py",
   "mimetype": "text/x-python",
   "name": "python",
   "nbconvert_exporter": "python",
   "pygments_lexer": "ipython3",
   "version": "3.7.10"
  },
  "papermill": {
   "default_parameters": {},
   "duration": 11.059038,
   "end_time": "2022-11-18T11:58:00.937718",
   "environment_variables": {},
   "exception": null,
   "input_path": "__notebook__.ipynb",
   "output_path": "__notebook__.ipynb",
   "parameters": {},
   "start_time": "2022-11-18T11:57:49.878680",
   "version": "2.3.3"
  }
 },
 "nbformat": 4,
 "nbformat_minor": 5
}
